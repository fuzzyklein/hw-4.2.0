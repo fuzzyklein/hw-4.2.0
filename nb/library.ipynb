{
 "cells": [
  {
   "cell_type": "markdown",
   "id": "7840d6e0-cd57-4f87-b706-effbd30ac584",
   "metadata": {},
   "source": [
    "# Library"
   ]
  },
  {
   "cell_type": "code",
   "execution_count": 1,
   "id": "8f10389b-b27b-4322-9849-3266f9186d93",
   "metadata": {},
   "outputs": [
    {
     "name": "stdout",
     "output_type": "stream",
     "text": [
      "Current working directory: /home/fuzzy/Projects/develop-4.2.0/hw-4.2.0\n"
     ]
    }
   ],
   "source": [
    "with open('startup.py') as f:\n",
    "    exec(f.read())"
   ]
  },
  {
   "cell_type": "markdown",
   "id": "56228eab-ba10-4812-aa19-bd2a0602c756",
   "metadata": {},
   "source": [
    "Maintain an online database of books in PDF format and enable the user to view them online."
   ]
  },
  {
   "cell_type": "code",
   "execution_count": 2,
   "id": "38172f3a-7c9f-4eac-9d0c-6073fd070115",
   "metadata": {},
   "outputs": [],
   "source": [
    "from library import Library"
   ]
  },
  {
   "cell_type": "code",
   "execution_count": 4,
   "id": "7b67b139-0196-4a78-b72e-6447d048b78b",
   "metadata": {},
   "outputs": [
    {
     "data": {
      "text/html": [
       "<!-- HTML generated using hilite.me --><div style=\"background: #ffffff; overflow:auto;width:auto;border:solid gray;border-width:.1em .1em .1em .8em;padding:.2em .6em;\"><pre style=\"margin: 0; line-height: 125%\">    <span style=\"color: #008800; font-weight: bold\">def</span> <span style=\"color: #0066BB; font-weight: bold\">__init__</span>(<span style=\"color: #007020\">self</span>):\n",
       "        <span style=\"color: #007020\">super</span>()<span style=\"color: #333333\">.</span>__init__()\n",
       "        <span style=\"color: #007020\">self</span><span style=\"color: #333333\">.</span>program_name <span style=\"color: #333333\">=</span> <span style=\"background-color: #fff0f0\">&#39;library&#39;</span>\n",
       "        <span style=\"color: #007020\">self</span><span style=\"color: #333333\">.</span>results <span style=\"color: #333333\">=</span> <span style=\"color: #007020\">list</span>()\n",
       "        <span style=\"color: #007020\">self</span><span style=\"color: #333333\">.</span>db_connect()\n",
       "        <span style=\"color: #007020\">self</span><span style=\"color: #333333\">.</span>OCLC <span style=\"color: #333333\">=</span> <span style=\"background-color: #fff0f0\">&#39;http://classify.oclc.org&#39;</span>\n",
       "        <span style=\"color: #007020\">self</span><span style=\"color: #333333\">.</span>DDC_FILE <span style=\"color: #333333\">=</span> (<span style=\"color: #007020\">self</span><span style=\"color: #333333\">.</span>BASEDIR <span style=\"color: #333333\">/</span> <span style=\"background-color: #fff0f0\">&#39;data/deweysummaries.txt&#39;</span>)<span style=\"color: #333333\">.</span>read_text()<span style=\"color: #333333\">.</span>split(<span style=\"background-color: #fff0f0\">&#39;</span><span style=\"color: #666666; font-weight: bold; background-color: #fff0f0\">\\n</span><span style=\"background-color: #fff0f0\">&#39;</span>)\n",
       "        <span style=\"color: #888888\"># print(str(self.DDC_FILE))</span>\n",
       "        <span style=\"color: #007020\">self</span><span style=\"color: #333333\">.</span>BOOKS_DIR <span style=\"color: #333333\">=</span> <span style=\"color: #007020\">self</span><span style=\"color: #333333\">.</span>BASEDIR <span style=\"color: #333333\">/</span> <span style=\"background-color: #fff0f0\">&#39;tests/library/books&#39;</span>\n",
       "</pre></div>\n"
      ],
      "text/plain": [
       "<IPython.core.display.HTML object>"
      ]
     },
     "metadata": {},
     "output_type": "display_data"
    }
   ],
   "source": [
    "highlight(Library.__init__)"
   ]
  },
  {
   "cell_type": "code",
   "execution_count": 5,
   "id": "3ad7fe43-7c42-4858-9e9d-b5ea87641d1a",
   "metadata": {},
   "outputs": [
    {
     "data": {
      "text/html": [
       "<!-- HTML generated using hilite.me --><div style=\"background: #ffffff; overflow:auto;width:auto;border:solid gray;border-width:.1em .1em .1em .8em;padding:.2em .6em;\"><pre style=\"margin: 0; line-height: 125%\">    <span style=\"color: #008800; font-weight: bold\">def</span> <span style=\"color: #0066BB; font-weight: bold\">run</span>(<span style=\"color: #007020\">self</span>):\n",
       "        <span style=\"color: #007020\">self</span><span style=\"color: #333333\">.</span>process_args()\n",
       "        <span style=\"color: #007020\">self</span><span style=\"color: #333333\">.</span>shutdown()\n",
       "</pre></div>\n"
      ],
      "text/plain": [
       "<IPython.core.display.HTML object>"
      ]
     },
     "metadata": {},
     "output_type": "display_data"
    }
   ],
   "source": [
    "highlight(Library.run)"
   ]
  },
  {
   "cell_type": "code",
   "execution_count": null,
   "id": "cbec434f-20d6-415c-9d49-cfc9e9752bee",
   "metadata": {},
   "outputs": [],
   "source": []
  }
 ],
 "metadata": {
  "kernelspec": {
   "display_name": "Python 3 (ipykernel)",
   "language": "python",
   "name": "python3"
  },
  "language_info": {
   "codemirror_mode": {
    "name": "ipython",
    "version": 3
   },
   "file_extension": ".py",
   "mimetype": "text/x-python",
   "name": "python",
   "nbconvert_exporter": "python",
   "pygments_lexer": "ipython3",
   "version": "3.8.10"
  }
 },
 "nbformat": 4,
 "nbformat_minor": 5
}
