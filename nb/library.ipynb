{
 "cells": [
  {
   "cell_type": "markdown",
   "metadata": {},
   "source": [
    "# Library"
   ]
  },
  {
   "cell_type": "code",
   "execution_count": 1,
   "metadata": {},
   "outputs": [
    {
     "name": "stdout",
     "output_type": "stream",
     "text": [
      "Current working directory: /home/fuzzy/Projects/develop-4.2.0/hw-4.2.0\n"
     ]
    }
   ],
   "source": [
    "with open('startup.py') as f:\n",
    "    exec(f.read())"
   ]
  },
  {
   "cell_type": "markdown",
   "metadata": {},
   "source": [
    "Maintain an online database of books in PDF format and enable the user to view them online."
   ]
  },
  {
   "cell_type": "code",
   "execution_count": 2,
   "metadata": {},
   "outputs": [],
   "source": [
    "from hw.library import Library"
   ]
  },
  {
   "cell_type": "code",
   "execution_count": 3,
   "metadata": {},
   "outputs": [
    {
     "data": {
      "text/html": [
       "<!-- HTML generated using hilite.me --><div style=\"background: #ffffff; overflow:auto;width:auto;border:solid gray;border-width:.1em .1em .1em .8em;padding:.2em .6em;\"><pre style=\"margin: 0; line-height: 125%\">    <span style=\"color: #008800; font-weight: bold\">def</span> <span style=\"color: #0066BB; font-weight: bold\">__init__</span>(<span style=\"color: #007020\">self</span>, settings<span style=\"color: #333333\">=</span><span style=\"color: #007020\">None</span>):\n",
       "        <span style=\"color: #007020\">super</span>()<span style=\"color: #333333\">.</span>__init__(settings<span style=\"color: #333333\">=</span>settings)\n",
       "        <span style=\"color: #007020\">self</span><span style=\"color: #333333\">.</span>program_name <span style=\"color: #333333\">=</span> <span style=\"background-color: #fff0f0\">&#39;library&#39;</span>\n",
       "        <span style=\"color: #007020\">self</span><span style=\"color: #333333\">.</span>results <span style=\"color: #333333\">=</span> <span style=\"color: #007020\">list</span>()\n",
       "        <span style=\"color: #007020\">self</span><span style=\"color: #333333\">.</span>db_connect()\n",
       "        <span style=\"color: #007020\">self</span><span style=\"color: #333333\">.</span>OCLC <span style=\"color: #333333\">=</span> <span style=\"background-color: #fff0f0\">&#39;http://classify.oclc.org&#39;</span>\n",
       "        <span style=\"color: #007020\">self</span><span style=\"color: #333333\">.</span>DDC_FILE <span style=\"color: #333333\">=</span> (<span style=\"color: #007020\">self</span><span style=\"color: #333333\">.</span>BASEDIR <span style=\"color: #333333\">/</span> <span style=\"background-color: #fff0f0\">&#39;data/deweysummaries.txt&#39;</span>)<span style=\"color: #333333\">.</span>read_text()<span style=\"color: #333333\">.</span>split(<span style=\"background-color: #fff0f0\">&#39;</span><span style=\"color: #666666; font-weight: bold; background-color: #fff0f0\">\\n</span><span style=\"background-color: #fff0f0\">&#39;</span>)\n",
       "        <span style=\"color: #888888\"># print(str(self.DDC_FILE))</span>\n",
       "        <span style=\"color: #007020\">self</span><span style=\"color: #333333\">.</span>BOOKS_DIR <span style=\"color: #333333\">=</span> <span style=\"color: #007020\">self</span><span style=\"color: #333333\">.</span>BASEDIR <span style=\"color: #333333\">/</span> <span style=\"background-color: #fff0f0\">&#39;tests/library/books&#39;</span>\n",
       "        <span style=\"color: #888888\"># sys.exit(0)</span>\n",
       "</pre></div>\n"
      ],
      "text/plain": [
       "<IPython.core.display.HTML object>"
      ]
     },
     "metadata": {},
     "output_type": "display_data"
    }
   ],
   "source": [
    "highlight(Library.__init__)"
   ]
  },
  {
   "cell_type": "code",
   "execution_count": 4,
   "metadata": {},
   "outputs": [
    {
     "data": {
      "text/html": [
       "<!-- HTML generated using hilite.me --><div style=\"background: #ffffff; overflow:auto;width:auto;border:solid gray;border-width:.1em .1em .1em .8em;padding:.2em .6em;\"><pre style=\"margin: 0; line-height: 125%\">    <span style=\"color: #008800; font-weight: bold\">def</span> <span style=\"color: #0066BB; font-weight: bold\">run</span>(<span style=\"color: #007020\">self</span>):\n",
       "        <span style=\"color: #888888\"># self.process_args()</span>\n",
       "\n",
       "        BOOKS_DIR <span style=\"color: #333333\">=</span> Path<span style=\"color: #333333\">.</span>home() <span style=\"color: #333333\">/</span> <span style=\"background-color: #fff0f0\">&#39;Library/Python&#39;</span>\n",
       "        BOOK <span style=\"color: #333333\">=</span> <span style=\"background-color: #fff0f0\">&#39;Doing Math With Python Use Programming To Explore Algebra, Statistics, Calculus, And More!.pdf&#39;</span>\n",
       "        TEST_FILE <span style=\"color: #333333\">=</span> BOOKS_DIR <span style=\"color: #333333\">/</span> BOOK\n",
       "        <span style=\"color: #888888\"># print(f&#39;{type(TEST_FILE)=}&#39;)</span>\n",
       "        <span style=\"color: #008800; font-weight: bold\">print</span>(<span style=\"color: #007020\">self</span><span style=\"color: #333333\">.</span>get_isbn(TEST_FILE))\n",
       "\n",
       "        <span style=\"color: #007020\">self</span><span style=\"color: #333333\">.</span>shutdown()\n",
       "</pre></div>\n"
      ],
      "text/plain": [
       "<IPython.core.display.HTML object>"
      ]
     },
     "metadata": {},
     "output_type": "display_data"
    }
   ],
   "source": [
    "highlight(Library.run)"
   ]
  },
  {
   "cell_type": "code",
   "execution_count": 5,
   "metadata": {},
   "outputs": [
    {
     "data": {
      "text/html": [
       "<!-- HTML generated using hilite.me --><div style=\"background: #ffffff; overflow:auto;width:auto;border:solid gray;border-width:.1em .1em .1em .8em;padding:.2em .6em;\"><pre style=\"margin: 0; line-height: 125%\">    <span style=\"color: #555555; font-weight: bold\">@str2path</span>\n",
       "    <span style=\"color: #008800; font-weight: bold\">def</span> <span style=\"color: #0066BB; font-weight: bold\">process_file</span>(<span style=\"color: #007020\">self</span>, p):\n",
       "        <span style=\"color: #008800; font-weight: bold\">if</span> <span style=\"color: #007020\">self</span><span style=\"color: #333333\">.</span>VERBOSE: <span style=\"color: #007020\">self</span><span style=\"color: #333333\">.</span>info(f<span style=\"background-color: #fff0f0\">&#39;Processing file {str(p)}&#39;</span>)\n",
       "        <span style=\"color: #008800; font-weight: bold\">if</span> p<span style=\"color: #333333\">.</span>name<span style=\"color: #333333\">.</span>endswith(<span style=\"background-color: #fff0f0\">&#39;.pdf&#39;</span>):\n",
       "            isbn <span style=\"color: #333333\">=</span> <span style=\"color: #007020\">self</span><span style=\"color: #333333\">.</span>get_isbn(p)\n",
       "            <span style=\"color: #008800; font-weight: bold\">if</span> isbn:\n",
       "                info <span style=\"color: #333333\">=</span> <span style=\"color: #007020\">self</span><span style=\"color: #333333\">.</span>get_book_info(isbn, p)\n",
       "                <span style=\"color: #008800; font-weight: bold\">if</span> info:\n",
       "                    <span style=\"color: #008800; font-weight: bold\">if</span> <span style=\"color: #007020\">self</span><span style=\"color: #333333\">.</span>VERBOSE:\n",
       "                        <span style=\"color: #008800; font-weight: bold\">print</span>()\n",
       "                        <span style=\"color: #008800; font-weight: bold\">print</span>(f<span style=\"background-color: #fff0f0\">&#39;Info for {str(p)}:&#39;</span>)\n",
       "                        pp(info)\n",
       "                    ddc <span style=\"color: #333333\">=</span> <span style=\"color: #007020\">self</span><span style=\"color: #333333\">.</span>get_dewey_decimal_classification(isbn)\n",
       "                    <span style=\"color: #008800; font-weight: bold\">if</span> <span style=\"color: #007020\">self</span><span style=\"color: #333333\">.</span>VERBOSE:\n",
       "                        <span style=\"color: #008800; font-weight: bold\">print</span>(f<span style=\"background-color: #fff0f0\">&#39;Dewey Decimal Classification for {info[&quot;Title&quot;]}: {ddc}&#39;</span>)\n",
       "\n",
       "                    classdir <span style=\"color: #333333\">=</span> <span style=\"color: #007020\">self</span><span style=\"color: #333333\">.</span>get_full_classification(ddc)\n",
       "                    <span style=\"color: #008800; font-weight: bold\">if</span> <span style=\"color: #007020\">self</span><span style=\"color: #333333\">.</span>VERBOSE:\n",
       "                        <span style=\"color: #008800; font-weight: bold\">print</span>(f<span style=\"background-color: #fff0f0\">&#39;Target directory name: {classdir}&#39;</span>)\n",
       "                    <span style=\"color: #007020\">self</span><span style=\"color: #333333\">.</span>copy_book_2_server(p, classdir)\n",
       "                    <span style=\"color: #008800; font-weight: bold\">if</span> <span style=\"color: #000000; font-weight: bold\">not</span> <span style=\"color: #007020\">self</span><span style=\"color: #333333\">.</span>db_get_book(isbn):\n",
       "                        <span style=\"color: #008800; font-weight: bold\">for</span> author <span style=\"color: #000000; font-weight: bold\">in</span> info[<span style=\"background-color: #fff0f0\">&quot;Authors&quot;</span>]:\n",
       "                            <span style=\"color: #008800; font-weight: bold\">if</span> <span style=\"color: #000000; font-weight: bold\">not</span> <span style=\"color: #007020\">self</span><span style=\"color: #333333\">.</span>db_get_author(author):\n",
       "                                <span style=\"color: #007020\">self</span><span style=\"color: #333333\">.</span>db_add_author(author)\n",
       "                            pub <span style=\"color: #333333\">=</span> info[<span style=\"background-color: #fff0f0\">&#39;Publisher&#39;</span>]\n",
       "                            <span style=\"color: #008800; font-weight: bold\">if</span> <span style=\"color: #000000; font-weight: bold\">not</span> <span style=\"color: #007020\">self</span><span style=\"color: #333333\">.</span>db_get_pub(pub):\n",
       "                                <span style=\"color: #007020\">self</span><span style=\"color: #333333\">.</span>db_add_pub(pub)\n",
       "\n",
       "                        <span style=\"color: #007020\">self</span><span style=\"color: #333333\">.</span>db_add_book(info[<span style=\"background-color: #fff0f0\">&quot;Title&quot;</span>], ddc, p<span style=\"color: #333333\">.</span>name, date(<span style=\"color: #007020\">int</span>(info[<span style=\"background-color: #fff0f0\">&quot;Year&quot;</span>]),<span style=\"color: #0000DD; font-weight: bold\">1</span>,<span style=\"color: #0000DD; font-weight: bold\">1</span>), info[<span style=\"background-color: #fff0f0\">&quot;ISBN-13&quot;</span>])\n",
       "                        <span style=\"color: #007020\">self</span><span style=\"color: #333333\">.</span>cnx<span style=\"color: #333333\">.</span>commit()\n",
       "                        book_id <span style=\"color: #333333\">=</span> <span style=\"color: #007020\">self</span><span style=\"color: #333333\">.</span>db_get_book_id(info[<span style=\"background-color: #fff0f0\">&#39;ISBN-13&#39;</span>])\n",
       "                        <span style=\"color: #008800; font-weight: bold\">if</span> <span style=\"color: #007020\">self</span><span style=\"color: #333333\">.</span>VERBOSE: <span style=\"color: #008800; font-weight: bold\">print</span>(f<span style=\"background-color: #fff0f0\">&#39;{book_id=}&#39;</span>)\n",
       "                        <span style=\"color: #888888\"># if self.DEBUG: trace()</span>\n",
       "                        <span style=\"color: #008800; font-weight: bold\">if</span> book_id:\n",
       "                            <span style=\"color: #888888\"># print(f&#39;Book ID: {book_id}&#39;)</span>\n",
       "                            <span style=\"color: #008800; font-weight: bold\">for</span> i, author <span style=\"color: #000000; font-weight: bold\">in</span> <span style=\"color: #007020\">enumerate</span>(info[<span style=\"background-color: #fff0f0\">&#39;Authors&#39;</span>]):\n",
       "                                author_id <span style=\"color: #333333\">=</span> <span style=\"color: #007020\">self</span><span style=\"color: #333333\">.</span>db_get_author_id(author)\n",
       "                                <span style=\"color: #008800; font-weight: bold\">if</span> <span style=\"color: #007020\">self</span><span style=\"color: #333333\">.</span>VERBOSE: <span style=\"color: #008800; font-weight: bold\">print</span>(f<span style=\"background-color: #fff0f0\">&#39;{author_id=}&#39;</span>)\n",
       "                                <span style=\"color: #008800; font-weight: bold\">if</span> author_id:\n",
       "                                    <span style=\"color: #007020\">self</span><span style=\"color: #333333\">.</span>db_add_contrib(book_id, author_id, i)\n",
       "                                    <span style=\"color: #007020\">self</span><span style=\"color: #333333\">.</span>cnx<span style=\"color: #333333\">.</span>commit()\n",
       "                                <span style=\"color: #008800; font-weight: bold\">else</span>:\n",
       "                                    warn(f<span style=\"background-color: #fff0f0\">&#39;Failed to get author record: Author: {author}&#39;</span>)\n",
       "                        <span style=\"color: #008800; font-weight: bold\">else</span>:\n",
       "                            warn(<span style=\"background-color: #fff0f0\">&#39;Failed to get book record!&#39;</span>)\n",
       "                    <span style=\"color: #008800; font-weight: bold\">else</span>:\n",
       "                        warn(f<span style=\"background-color: #fff0f0\">&#39;Book {info[&quot;Title&quot;]} is already in the database.&#39;</span>)\n",
       "                <span style=\"color: #008800; font-weight: bold\">else</span>:\n",
       "                    warn(f<span style=\"background-color: #fff0f0\">&#39;Failed to get info for {p.name}&#39;</span>)\n",
       "            <span style=\"color: #008800; font-weight: bold\">else</span>:\n",
       "                warn(f<span style=\"background-color: #fff0f0\">&#39;Failed to get ISBN for {p.name}&#39;</span>)\n",
       "        <span style=\"color: #008800; font-weight: bold\">else</span>:\n",
       "            warn(f<span style=\"background-color: #fff0f0\">&#39;File {str(p)} is not a book&#39;</span>)\n",
       "</pre></div>\n"
      ],
      "text/plain": [
       "<IPython.core.display.HTML object>"
      ]
     },
     "metadata": {},
     "output_type": "display_data"
    }
   ],
   "source": [
    "highlight(Library.process_file)"
   ]
  },
  {
   "cell_type": "code",
   "execution_count": 6,
   "metadata": {},
   "outputs": [],
   "source": [
    "l = Library()"
   ]
  },
  {
   "cell_type": "code",
   "execution_count": 7,
   "metadata": {},
   "outputs": [
    {
     "name": "stderr",
     "output_type": "stream",
     "text": [
      "No traceback available to show.\n"
     ]
    }
   ],
   "source": [
    "%tb"
   ]
  },
  {
   "cell_type": "code",
   "execution_count": 8,
   "metadata": {},
   "outputs": [
    {
     "data": {
      "text/html": [
       "<!-- HTML generated using hilite.me --><div style=\"background: #ffffff; overflow:auto;width:auto;border:solid gray;border-width:.1em .1em .1em .8em;padding:.2em .6em;\"><pre style=\"margin: 0; line-height: 125%\">    <span style=\"color: #008800; font-weight: bold\">def</span> <span style=\"color: #0066BB; font-weight: bold\">db_connect</span>(<span style=\"color: #007020\">self</span>):\n",
       "        expected_sql_state <span style=\"color: #333333\">=</span> <span style=\"color: #007020\">None</span>\n",
       "        actual_sql_state <span style=\"color: #333333\">=</span> <span style=\"color: #007020\">None</span>\n",
       "        output <span style=\"color: #333333\">=</span> <span style=\"background-color: #fff0f0\">&#39;&#39;</span>\n",
       "        <span style=\"color: #008800; font-weight: bold\">try</span>:\n",
       "            <span style=\"color: #007020\">self</span><span style=\"color: #333333\">.</span>cnx <span style=\"color: #333333\">=</span> mysql<span style=\"color: #333333\">.</span>connector<span style=\"color: #333333\">.</span>connect(user<span style=\"color: #333333\">=</span>getuser(),\n",
       "                                               password<span style=\"color: #333333\">=</span>(Path<span style=\"color: #333333\">.</span>home()<span style=\"color: #333333\">/</span><span style=\"color: #007020\">self</span><span style=\"color: #333333\">.</span>settings[<span style=\"background-color: #fff0f0\">&#39;pass_file&#39;</span>])<span style=\"color: #333333\">.</span>read_text(),\n",
       "                                               host<span style=\"color: #333333\">=</span><span style=\"color: #007020\">self</span><span style=\"color: #333333\">.</span>settings[<span style=\"background-color: #fff0f0\">&#39;server_ip&#39;</span>],\n",
       "                                               database<span style=\"color: #333333\">=</span><span style=\"color: #007020\">self</span><span style=\"color: #333333\">.</span>program_name)\n",
       "            <span style=\"color: #007020\">self</span><span style=\"color: #333333\">.</span>cursor <span style=\"color: #333333\">=</span> <span style=\"color: #007020\">self</span><span style=\"color: #333333\">.</span>cnx<span style=\"color: #333333\">.</span>cursor()\n",
       "            <span style=\"color: #008800; font-weight: bold\">if</span> <span style=\"color: #007020\">self</span><span style=\"color: #333333\">.</span>settings[<span style=\"background-color: #fff0f0\">&#39;verbose&#39;</span>]: printc(f<span style=\"background-color: #fff0f0\">&#39;Connected to database &lt;green&gt;{self.program_name}&lt;reset&gt; at &lt;green&gt;{self.settings[&quot;server_ip&quot;]}&lt;reset&gt;.&#39;</span>)\n",
       "        <span style=\"color: #008800; font-weight: bold\">except</span> mysql<span style=\"color: #333333\">.</span>connector<span style=\"color: #333333\">.</span>ProgrammingError <span style=\"color: #008800; font-weight: bold\">as</span> e:\n",
       "            <span style=\"color: #888888\"># print(&#39;Caught a ProgrammingError!&#39;)</span>\n",
       "            actual_sql_state <span style=\"color: #333333\">=</span> e<span style=\"color: #333333\">.</span>sqlstate\n",
       "            output <span style=\"color: #333333\">=</span> <span style=\"background-color: #fff0f0\">&#39;&lt;red&gt;Error:&lt;reset&gt;: &#39;</span>\n",
       "            <span style=\"color: #008800; font-weight: bold\">if</span> e<span style=\"color: #333333\">.</span>errno <span style=\"color: #333333\">==</span> <span style=\"color: #0000DD; font-weight: bold\">1049</span>:\n",
       "                output <span style=\"color: #333333\">+=</span> e<span style=\"color: #333333\">.</span>msg\n",
       "                expected_sql_state <span style=\"color: #333333\">=</span> <span style=\"background-color: #fff0f0\">&#39;42000&#39;</span>\n",
       "            <span style=\"color: #008800; font-weight: bold\">elif</span> e<span style=\"color: #333333\">.</span>errno <span style=\"color: #333333\">==</span> <span style=\"color: #0000DD; font-weight: bold\">1045</span>:\n",
       "                output <span style=\"color: #333333\">+=</span> <span style=\"background-color: #fff0f0\">&#39;wrong password&#39;</span>\n",
       "                expected_sql_state <span style=\"color: #333333\">=</span> <span style=\"background-color: #fff0f0\">&#39;28000&#39;</span>\n",
       "            <span style=\"color: #008800; font-weight: bold\">elif</span> e<span style=\"color: #333333\">.</span>errno <span style=\"color: #333333\">==</span> <span style=\"color: #0000DD; font-weight: bold\">1698</span>:\n",
       "                output <span style=\"color: #333333\">+=</span> <span style=\"background-color: #fff0f0\">&#39;bad user name&#39;</span>\n",
       "                expected_sql_state <span style=\"color: #333333\">=</span> <span style=\"background-color: #fff0f0\">&#39;28000&#39;</span>\n",
       "            <span style=\"color: #008800; font-weight: bold\">else</span>:\n",
       "                printc(<span style=\"background-color: #fff0f0\">&#39;&lt;red&gt;Unknown Programming Error!&lt;reset&gt;&#39;</span>)\n",
       "                pp(e)\n",
       "                <span style=\"color: #008800; font-weight: bold\">print</span>(f<span style=\"background-color: #fff0f0\">&#39;{e.errno=}&#39;</span>)\n",
       "                <span style=\"color: #008800; font-weight: bold\">print</span>(f<span style=\"background-color: #fff0f0\">&#39;{e.sqlstate=}&#39;</span>)\n",
       "                <span style=\"color: #008800; font-weight: bold\">print</span>(f<span style=\"background-color: #fff0f0\">&#39;{e.msg=}&#39;</span>)\n",
       "            printc(output)\n",
       "            <span style=\"color: #008800; font-weight: bold\">if</span> actual_sql_state <span style=\"color: #333333\">!=</span> expected_sql_state:\n",
       "                printc(f<span style=\"background-color: #fff0f0\">&#39;&lt;yellow&gt;Unexpected SQL state&lt;reset&gt;: {actual_sql_state}&#39;</span>)\n",
       "            sys<span style=\"color: #333333\">.</span>exit(<span style=\"color: #0000DD; font-weight: bold\">1</span>)\n",
       "        <span style=\"color: #008800; font-weight: bold\">except</span> mysql<span style=\"color: #333333\">.</span>connector<span style=\"color: #333333\">.</span>InterfaceError <span style=\"color: #008800; font-weight: bold\">as</span> e:\n",
       "            actual_sql_state <span style=\"color: #333333\">=</span> e<span style=\"color: #333333\">.</span>sqlstate\n",
       "            output <span style=\"color: #333333\">=</span> <span style=\"background-color: #fff0f0\">&#39;&lt;red&gt;Error&lt;reset&gt;: &#39;</span>\n",
       "            <span style=\"color: #008800; font-weight: bold\">if</span> e<span style=\"color: #333333\">.</span>errno <span style=\"color: #333333\">==</span> <span style=\"color: #0000DD; font-weight: bold\">2003</span>:\n",
       "                output <span style=\"color: #333333\">+=</span> e<span style=\"color: #333333\">.</span>msg\n",
       "            <span style=\"color: #008800; font-weight: bold\">else</span>:\n",
       "                printc(<span style=\"background-color: #fff0f0\">&#39;&lt;red&gt;Unknown Interface Error!&lt;reset&gt;&#39;</span>)\n",
       "                pp(e)\n",
       "                <span style=\"color: #008800; font-weight: bold\">print</span>(f<span style=\"background-color: #fff0f0\">&#39;{e.errno=}&#39;</span>)\n",
       "                <span style=\"color: #008800; font-weight: bold\">print</span>(f<span style=\"background-color: #fff0f0\">&#39;{e.sqlstate=}&#39;</span>)\n",
       "                <span style=\"color: #008800; font-weight: bold\">print</span>(f<span style=\"background-color: #fff0f0\">&#39;{e.msg=}&#39;</span>)\n",
       "            printc(output)\n",
       "            <span style=\"color: #008800; font-weight: bold\">if</span> actual_sql_state <span style=\"color: #333333\">!=</span> expected_sql_state:\n",
       "                printc(f<span style=\"background-color: #fff0f0\">&#39;&lt;yellow&gt;Unexpected SQL state&lt;reset&gt;: {actual_sql_state}&#39;</span>)\n",
       "            sys<span style=\"color: #333333\">.</span>exit(<span style=\"color: #0000DD; font-weight: bold\">1</span>)\n",
       "</pre></div>\n"
      ],
      "text/plain": [
       "<IPython.core.display.HTML object>"
      ]
     },
     "metadata": {},
     "output_type": "display_data"
    }
   ],
   "source": [
    "highlight(l.db_connect)"
   ]
  },
  {
   "cell_type": "code",
   "execution_count": 9,
   "metadata": {},
   "outputs": [],
   "source": [
    "l.db_connect()"
   ]
  },
  {
   "cell_type": "code",
   "execution_count": 13,
   "metadata": {},
   "outputs": [
    {
     "data": {
      "text/html": [
       "<!-- HTML generated using hilite.me --><div style=\"background: #ffffff; overflow:auto;width:auto;border:solid gray;border-width:.1em .1em .1em .8em;padding:.2em .6em;\"><pre style=\"margin: 0; line-height: 125%\"><span style=\"color: #008800; font-weight: bold\">def</span> <span style=\"color: #0066BB; font-weight: bold\">str2path_method</span>(f):\n",
       "    <span style=\"color: #555555; font-weight: bold\">@wraps</span>(f)\n",
       "    <span style=\"color: #008800; font-weight: bold\">def</span> <span style=\"color: #0066BB; font-weight: bold\">wrapper</span>(<span style=\"color: #333333\">*</span>args, <span style=\"color: #333333\">**</span>kwargs):\n",
       "        args <span style=\"color: #333333\">=</span> [args[<span style=\"color: #0000DD; font-weight: bold\">0</span>], <span style=\"color: #333333\">*</span>[Path(a) <span style=\"color: #008800; font-weight: bold\">for</span> a <span style=\"color: #000000; font-weight: bold\">in</span> args[<span style=\"color: #0000DD; font-weight: bold\">1</span>:]]]\n",
       "        <span style=\"color: #008800; font-weight: bold\">return</span> f(<span style=\"color: #333333\">*</span>args, <span style=\"color: #333333\">**</span>kwargs)\n",
       "    <span style=\"color: #008800; font-weight: bold\">return</span> wrapper\n",
       "</pre></div>\n"
      ],
      "text/plain": [
       "<IPython.core.display.HTML object>"
      ]
     },
     "metadata": {},
     "output_type": "display_data"
    }
   ],
   "source": [
    "highlight(str2path_method)"
   ]
  },
  {
   "cell_type": "code",
   "execution_count": 10,
   "metadata": {},
   "outputs": [
    {
     "data": {
      "text/html": [
       "<!-- HTML generated using hilite.me --><div style=\"background: #ffffff; overflow:auto;width:auto;border:solid gray;border-width:.1em .1em .1em .8em;padding:.2em .6em;\"><pre style=\"margin: 0; line-height: 125%\">    <span style=\"color: #555555; font-weight: bold\">@str2path_method</span>\n",
       "    <span style=\"color: #008800; font-weight: bold\">def</span> <span style=\"color: #0066BB; font-weight: bold\">get_isbn</span>(<span style=\"color: #007020\">self</span>, p):\n",
       "        l <span style=\"color: #333333\">=</span> <span style=\"color: #007020\">list</span>()\n",
       "        <span style=\"color: #008800; font-weight: bold\">try</span>:\n",
       "            text <span style=\"color: #333333\">=</span> pdf2txt(p, lines<span style=\"color: #333333\">=</span><span style=\"color: #007020\">True</span>)\n",
       "            <span style=\"color: #008800; font-weight: bold\">if</span> <span style=\"color: #007020\">self</span><span style=\"color: #333333\">.</span>VERBOSE:\n",
       "                <span style=\"color: #008800; font-weight: bold\">print</span>(f<span style=\"background-color: #fff0f0\">&#39;Text length: {len(text)}&#39;</span>)\n",
       "                <span style=\"color: #008800; font-weight: bold\">print</span>(f<span style=\"background-color: #fff0f0\">&#39;Text: {text}&#39;</span>)\n",
       "            <span style=\"color: #008800; font-weight: bold\">if</span> <span style=\"color: #007020\">len</span>(text) <span style=\"color: #333333\">&gt;</span> <span style=\"color: #0000DD; font-weight: bold\">1</span>:\n",
       "                l <span style=\"color: #333333\">=</span> <span style=\"color: #007020\">list</span>(<span style=\"color: #007020\">map</span>(<span style=\"color: #008800; font-weight: bold\">lambda</span> s: <span style=\"color: #007020\">str</span>(s)<span style=\"color: #333333\">.</span>lstrip(<span style=\"background-color: #fff0f0\">&#39;b&#39;</span>)<span style=\"color: #333333\">.</span>strip(<span style=\"background-color: #fff0f0\">&quot;&#39;&quot;</span>),\n",
       "                             [s <span style=\"color: #008800; font-weight: bold\">for</span> s <span style=\"color: #000000; font-weight: bold\">in</span> text <span style=\"color: #008800; font-weight: bold\">if</span> s<span style=\"color: #333333\">.</span>find(<span style=\"background-color: #fff0f0\">&#39;ISBN&#39;</span>) <span style=\"color: #333333\">!=</span> <span style=\"color: #333333\">-</span><span style=\"color: #0000DD; font-weight: bold\">1</span>]))\n",
       "            <span style=\"color: #008800; font-weight: bold\">else</span>:\n",
       "                <span style=\"color: #008800; font-weight: bold\">print</span>(f<span style=\"background-color: #fff0f0\">&#39;File {p} could not be converted to text.&#39;</span>)\n",
       "                <span style=\"color: #008800; font-weight: bold\">print</span>(<span style=\"background-color: #fff0f0\">&quot;You&#39;ll have to find the ISBN yourself. Sorry &#39;bout that.&quot;</span>)\n",
       "                run([PDF_VIEWER, <span style=\"color: #007020\">str</span>(p)])\n",
       "                l <span style=\"color: #333333\">=</span> [<span style=\"color: #007020\">input</span>(f<span style=\"background-color: #fff0f0\">&quot;Enter the ISBN number for {p}: &quot;</span>)]\n",
       "        <span style=\"color: #008800; font-weight: bold\">except</span> subprocess<span style=\"color: #333333\">.</span>CalledProcessError:\n",
       "            warn(<span style=\"background-color: #fff0f0\">&#39;pdf2txt.py returned an error code!&#39;</span>)\n",
       "            <span style=\"color: #008800; font-weight: bold\">return</span> <span style=\"color: #007020\">None</span>\n",
       "        <span style=\"color: #008800; font-weight: bold\">try</span>:\n",
       "            <span style=\"color: #008800; font-weight: bold\">return</span> l[<span style=\"color: #0000DD; font-weight: bold\">0</span>]\n",
       "        <span style=\"color: #008800; font-weight: bold\">except</span> <span style=\"color: #FF0000; font-weight: bold\">IndexError</span>:\n",
       "            <span style=\"color: #008800; font-weight: bold\">return</span> <span style=\"color: #007020\">None</span>\n",
       "</pre></div>\n"
      ],
      "text/plain": [
       "<IPython.core.display.HTML object>"
      ]
     },
     "metadata": {},
     "output_type": "display_data"
    }
   ],
   "source": [
    "highlight(l.get_isbn)"
   ]
  },
  {
   "cell_type": "code",
   "execution_count": 11,
   "metadata": {
    "scrolled": true,
    "tags": []
   },
   "outputs": [
    {
     "name": "stdout",
     "output_type": "stream",
     "text": [
      "Allen_B._Downey_-_Think_Python.pdf\n",
      "Doing Math With Python Use Programming To Explore Algebra, Statistics, Calculus, And More!.pdf\n",
      "Eli_Bressert_-_SciPy_and_NumPy.pdf\n",
      "Fluent Python (2015).pdf\n",
      "Foundations of Python Network Programming Second Edition.pdf\n",
      "Hello World - Computer Programming for Kids and Other Beginners, Fourth printing (2009).pdf\n",
      "Introduction to Computation and Programming Using Python, Revised - Guttag, John V..pdf\n",
      "learn-more-python-3-hard-way.pdf\n",
      "Mark_Lutz_-_Learning_Python_5th.pdf\n",
      "Mark_Lutz_-_Programming_Python_4th_Edition.pdf\n",
      "Mark_Lutz_-_Python_Pocket_Reference_2014.pdf\n",
      "Pro Python System Administration (2010).pdf\n",
      "Python Cookbook 3rd Edition 2013.pdf\n",
      "Python for Unix and Linux System Administration (2008).pdf\n",
      "Python in a Nutshell. A Desktop Quick Reference-O’Reilly (2017).pdf\n",
      "Python Testing - Beginner's Guide (2010).pdf\n",
      "Real World Instrumentation with Python - Automated Data Acquisition and Control Systems (2010).pdf\n",
      "Regular Expressions Cookbook (OReilly 2009).pdf\n",
      "Sage - Beginner's Guide (2011).pdf\n",
      "Statistics and Machine Learning in Python.pdf\n",
      "Zed_Shaw_-_Learn_Python_the_Hard_Way_3rd.pdf\n"
     ]
    }
   ],
   "source": [
    "! ls /home/fuzzy/Library/Python | grep .*\\.pdf"
   ]
  },
  {
   "cell_type": "code",
   "execution_count": 14,
   "metadata": {},
   "outputs": [
    {
     "name": "stdout",
     "output_type": "stream",
     "text": [
      "type(TEST_FILE)=<class 'pathlib.PosixPath'>\n",
      "File /home/fuzzy/Library/Python/Doing Math With Python Use Programming To Explore Algebra, Statistics, Calculus, And More!.pdf could not be converted to text.\n",
      "You'll have to find the ISBN yourself. Sorry 'bout that.\n"
     ]
    },
    {
     "name": "stdin",
     "output_type": "stream",
     "text": [
      "Enter the ISBN number for /home/fuzzy/Library/Python/Doing Math With Python Use Programming To Explore Algebra, Statistics, Calculus, And More!.pdf:  abcd\n"
     ]
    },
    {
     "data": {
      "text/plain": [
       "'abcd'"
      ]
     },
     "execution_count": 14,
     "metadata": {},
     "output_type": "execute_result"
    }
   ],
   "source": [
    "BOOKS_DIR = Path.home() / 'Library/Python'\n",
    "BOOK = 'Doing Math With Python Use Programming To Explore Algebra, Statistics, Calculus, And More!.pdf'\n",
    "TEST_FILE = BOOKS_DIR / BOOK\n",
    "print(f'{type(TEST_FILE)=}')\n",
    "l.get_isbn(TEST_FILE)"
   ]
  },
  {
   "cell_type": "code",
   "execution_count": 56,
   "metadata": {},
   "outputs": [
    {
     "name": "stdout",
     "output_type": "stream",
     "text": [
      "/home/fuzzy/Development/hw-4.2.0/tmp/tmp_iouw748\n"
     ]
    }
   ],
   "source": [
    "from tempfile import TemporaryDirectory\n",
    "tempdir = TemporaryDirectory(dir=BASEDIR/'tmp')\n",
    "print(tempdir.name)"
   ]
  },
  {
   "cell_type": "code",
   "execution_count": 57,
   "metadata": {},
   "outputs": [],
   "source": [
    "cd(tempdir.name)"
   ]
  },
  {
   "cell_type": "code",
   "execution_count": 58,
   "metadata": {},
   "outputs": [
    {
     "name": "stdout",
     "output_type": "stream",
     "text": [
      "/home/fuzzy/Projects/develop-4.2.0/hw-4.2.0/tmp/tmp_iouw748\n"
     ]
    },
    {
     "data": {
      "text/plain": [
       "PosixPath('/home/fuzzy/Projects/develop-4.2.0/hw-4.2.0/tmp/tmp_iouw748')"
      ]
     },
     "execution_count": 58,
     "metadata": {},
     "output_type": "execute_result"
    }
   ],
   "source": [
    "pwd()"
   ]
  },
  {
   "cell_type": "code",
   "execution_count": 59,
   "metadata": {},
   "outputs": [
    {
     "data": {
      "text/plain": [
       "'/home/fuzzy/Development/hw-4.2.0/tmp/tmp_iouw748/Doing Math With Python Use Programming To Explore Algebra, Statistics, Calculus, And More!.pdf'"
      ]
     },
     "execution_count": 59,
     "metadata": {},
     "output_type": "execute_result"
    }
   ],
   "source": [
    "cp(TEST_FILE, tempdir.name)"
   ]
  },
  {
   "cell_type": "code",
   "execution_count": 33,
   "metadata": {},
   "outputs": [
    {
     "data": {
      "text/plain": [
       "'/home/fuzzy/Development/hw-4.2.0/tmp/tmpvtu6ooge/pdf_ocr.sh'"
      ]
     },
     "execution_count": 33,
     "metadata": {},
     "output_type": "execute_result"
    }
   ],
   "source": [
    "cp(Path.home() / 'contrib/scanned_pdf_ocr/pdf_ocr.sh', tempdir.name)"
   ]
  },
  {
   "cell_type": "code",
   "execution_count": 60,
   "metadata": {},
   "outputs": [
    {
     "name": "stdout",
     "output_type": "stream",
     "text": [
      "'Doing Math With Python Use Programming To Explore Algebra, Statistics, Calculus, And More!.pdf'\n"
     ]
    }
   ],
   "source": [
    "! ls"
   ]
  },
  {
   "cell_type": "code",
   "execution_count": 47,
   "metadata": {},
   "outputs": [],
   "source": [
    "import stat\n",
    "p = Path('pdf_ocr.sh')\n",
    "p.chmod(p.stat().st_mode | stat.S_IXUSR)"
   ]
  },
  {
   "cell_type": "code",
   "execution_count": 43,
   "metadata": {},
   "outputs": [],
   "source": [
    "st = os.stat(TEST_FILE)"
   ]
  },
  {
   "cell_type": "code",
   "execution_count": 44,
   "metadata": {},
   "outputs": [
    {
     "data": {
      "text/plain": [
       "os.stat_result(st_mode=33204, st_ino=2770491, st_dev=2054, st_nlink=1, st_uid=1000, st_gid=1000, st_size=7314001, st_atime=1631057006, st_mtime=1627627159, st_ctime=1627627159)"
      ]
     },
     "execution_count": 44,
     "metadata": {},
     "output_type": "execute_result"
    }
   ],
   "source": [
    "st"
   ]
  },
  {
   "cell_type": "code",
   "execution_count": 48,
   "metadata": {},
   "outputs": [
    {
     "name": "stderr",
     "output_type": "stream",
     "text": [
      "convert-im6.q16: attempt to perform an operation not allowed by the security policy `PDF' @ error/constitute.c/IsCoderAuthorized/408.\n",
      "convert-im6.q16: no images defined `Doing Math With Python Use Programming To Explore Algebra, Statistics, Calculus, And More!.tiff' @ error/convert.c/ConvertImageCommand/3258.\n",
      "Error opening data file /usr/share/tesseract-ocr/4.00/tessdata/por.traineddata\n",
      "Please make sure the TESSDATA_PREFIX environment variable is set to your \"tessdata\" directory.\n",
      "Failed loading language 'por'\n",
      "Tesseract couldn't load any languages!\n",
      "Could not initialize tesseract.\n",
      "Error opening data file /usr/share/tesseract-ocr/4.00/tessdata/por.traineddata\n",
      "Please make sure the TESSDATA_PREFIX environment variable is set to your \"tessdata\" directory.\n",
      "Failed loading language 'por'\n",
      "Tesseract couldn't load any languages!\n",
      "Could not initialize tesseract.\n",
      "Error opening data file /usr/share/tesseract-ocr/4.00/tessdata/por.traineddata\n",
      "Please make sure the TESSDATA_PREFIX environment variable is set to your \"tessdata\" directory.\n",
      "Failed loading language 'por'\n",
      "Tesseract couldn't load any languages!\n",
      "Could not initialize tesseract.\n"
     ]
    },
    {
     "data": {
      "text/plain": [
       "'scanned pdf to image: Doing Math With Python Use Programming To Explore Algebra, Statistics, Calculus, And More!.pdf...\\nstatus code: 1\\n\\napply OCR on image (output txt file): Doing Math With Python Use Programming To Explore Algebra, Statistics, Calculus, And More!.tiff...\\nstatus code: 1\\n\\napply OCR on image (output searchable pdf): Doing Math With Python Use Programming To Explore Algebra, Statistics, Calculus, And More!.tiff...\\nstatus code: 1\\n\\napply OCR on image (output hocr): Doing Math With Python Use Programming To Explore Algebra, Statistics, Calculus, And More!.tiff...\\nstatus code: 1\\n\\n'"
      ]
     },
     "execution_count": 48,
     "metadata": {},
     "output_type": "execute_result"
    }
   ],
   "source": [
    "sh(f'./pdf_ocr.sh {TEST_FILE.name}')"
   ]
  },
  {
   "cell_type": "code",
   "execution_count": 1,
   "metadata": {},
   "outputs": [
    {
     "ename": "NameError",
     "evalue": "name 'tempdir' is not defined",
     "output_type": "error",
     "traceback": [
      "\u001b[0;31m---------------------------------------------------------------------------\u001b[0m",
      "\u001b[0;31mNameError\u001b[0m                                 Traceback (most recent call last)",
      "\u001b[0;32m/tmp/ipykernel_92869/1905832480.py\u001b[0m in \u001b[0;36m<module>\u001b[0;34m\u001b[0m\n\u001b[0;32m----> 1\u001b[0;31m \u001b[0mtempdir\u001b[0m\u001b[0;34m.\u001b[0m\u001b[0mcleanup\u001b[0m\u001b[0;34m(\u001b[0m\u001b[0;34m)\u001b[0m\u001b[0;34m\u001b[0m\u001b[0;34m\u001b[0m\u001b[0m\n\u001b[0m",
      "\u001b[0;31mNameError\u001b[0m: name 'tempdir' is not defined"
     ]
    }
   ],
   "source": [
    "tempdir.cleanup()"
   ]
  },
  {
   "cell_type": "code",
   "execution_count": 50,
   "metadata": {},
   "outputs": [],
   "source": [
    "import pypandoc"
   ]
  },
  {
   "cell_type": "code",
   "execution_count": 52,
   "metadata": {
    "scrolled": true,
    "tags": []
   },
   "outputs": [
    {
     "name": "stdout",
     "output_type": "stream",
     "text": [
      "Help on function convert in module pypandoc:\n",
      "\n",
      "convert(source, to, format=None, extra_args=(), encoding='utf-8', outputfile=None, filters=None)\n",
      "    Converts given `source` from `format` to `to` (deprecated).\n",
      "    \n",
      "    :param str source: Unicode string or bytes or a file path (see encoding)\n",
      "    \n",
      "    :param str to: format into which the input should be converted; can be one of\n",
      "            `pypandoc.get_pandoc_formats()[1]`\n",
      "    \n",
      "    :param str format: the format of the inputs; will be inferred if input is a file with an\n",
      "            known filename extension; can be one of `pypandoc.get_pandoc_formats()[1]`\n",
      "            (Default value = None)\n",
      "    \n",
      "    :param list extra_args: extra arguments (list of strings) to be passed to pandoc\n",
      "            (Default value = ())\n",
      "    \n",
      "    :param str encoding: the encoding of the file or the input bytes (Default value = 'utf-8')\n",
      "    \n",
      "    :param str outputfile: output will be written to outfilename or the converted content\n",
      "            returned if None (Default value = None)\n",
      "    \n",
      "    :param list filters: pandoc filters e.g. filters=['pandoc-citeproc']\n",
      "    \n",
      "    :returns: converted string (unicode) or an empty string if an outputfile was given\n",
      "    :rtype: unicode\n",
      "    \n",
      "    :raises RuntimeError: if any of the inputs are not valid of if pandoc fails with an error\n",
      "    :raises OSError: if pandoc is not found; make sure it has been installed and is available at\n",
      "            path.\n",
      "\n"
     ]
    }
   ],
   "source": [
    "help(pypandoc.convert)"
   ]
  },
  {
   "cell_type": "code",
   "execution_count": 61,
   "metadata": {},
   "outputs": [
    {
     "name": "stdout",
     "output_type": "stream",
     "text": [
      "asciidoc    dokuwiki  html   markdown           native        rst       zimwiki\n",
      "beamer      dzslides  html4  markdown_github    odt           rtf     \n",
      "commonmark  epub      html5  markdown_mmd       opendocument  s5      \n",
      "context     epub2     icml   markdown_phpextra  opml          slideous\n",
      "docbook     epub3     jats   markdown_strict    org           slidy   \n",
      "docbook4    fb2       json   mediawiki          plain         tei     \n",
      "docbook5    gfm       latex  ms                 pptx          texinfo \n",
      "docx        haddock   man    muse               revealjs      textile \n"
     ]
    }
   ],
   "source": [
    "columnize(pypandoc.get_pandoc_formats()[1])"
   ]
  },
  {
   "cell_type": "code",
   "execution_count": 65,
   "metadata": {},
   "outputs": [
    {
     "ename": "RuntimeError",
     "evalue": "Invalid input format! Got \"pdf\" but expected one of these: commonmark, creole, docbook, docx, epub, fb2, gfm, haddock, html, jats, json, latex, man, markdown, markdown_github, markdown_mmd, markdown_phpextra, markdown_strict, mediawiki, muse, native, odt, opml, org, rst, t2t, textile, tikiwiki, twiki, vimwiki",
     "output_type": "error",
     "traceback": [
      "\u001b[0;31m---------------------------------------------------------------------------\u001b[0m",
      "\u001b[0;31mRuntimeError\u001b[0m                              Traceback (most recent call last)",
      "\u001b[0;32m/tmp/ipykernel_72571/3931026884.py\u001b[0m in \u001b[0;36m<module>\u001b[0;34m\u001b[0m\n\u001b[0;32m----> 1\u001b[0;31m \u001b[0mpypandoc\u001b[0m\u001b[0;34m.\u001b[0m\u001b[0mconvert_file\u001b[0m\u001b[0;34m(\u001b[0m\u001b[0mos\u001b[0m\u001b[0;34m.\u001b[0m\u001b[0mlistdir\u001b[0m\u001b[0;34m(\u001b[0m\u001b[0;34m)\u001b[0m\u001b[0;34m[\u001b[0m\u001b[0;36m0\u001b[0m\u001b[0;34m]\u001b[0m\u001b[0;34m,\u001b[0m \u001b[0;34m'output.html'\u001b[0m\u001b[0;34m)\u001b[0m\u001b[0;34m\u001b[0m\u001b[0;34m\u001b[0m\u001b[0m\n\u001b[0m",
      "\u001b[0;32m/usr/lib/python3/dist-packages/pypandoc/__init__.py\u001b[0m in \u001b[0;36mconvert_file\u001b[0;34m(source_file, to, format, extra_args, encoding, outputfile, filters)\u001b[0m\n\u001b[1;32m    137\u001b[0m         \u001b[0;32mraise\u001b[0m \u001b[0mRuntimeError\u001b[0m\u001b[0;34m(\u001b[0m\u001b[0;34m\"source_file is not a valid path\"\u001b[0m\u001b[0;34m)\u001b[0m\u001b[0;34m\u001b[0m\u001b[0;34m\u001b[0m\u001b[0m\n\u001b[1;32m    138\u001b[0m     \u001b[0mformat\u001b[0m \u001b[0;34m=\u001b[0m \u001b[0m_identify_format_from_path\u001b[0m\u001b[0;34m(\u001b[0m\u001b[0msource_file\u001b[0m\u001b[0;34m,\u001b[0m \u001b[0mformat\u001b[0m\u001b[0;34m)\u001b[0m\u001b[0;34m\u001b[0m\u001b[0;34m\u001b[0m\u001b[0m\n\u001b[0;32m--> 139\u001b[0;31m     return _convert_input(source_file, format, 'path', to, extra_args=extra_args,\n\u001b[0m\u001b[1;32m    140\u001b[0m                           outputfile=outputfile, filters=filters)\n\u001b[1;32m    141\u001b[0m \u001b[0;34m\u001b[0m\u001b[0m\n",
      "\u001b[0;32m/usr/lib/python3/dist-packages/pypandoc/__init__.py\u001b[0m in \u001b[0;36m_convert_input\u001b[0;34m(source, format, input_type, to, extra_args, outputfile, filters)\u001b[0m\n\u001b[1;32m    259\u001b[0m     \u001b[0m_ensure_pandoc_path\u001b[0m\u001b[0;34m(\u001b[0m\u001b[0;34m)\u001b[0m\u001b[0;34m\u001b[0m\u001b[0;34m\u001b[0m\u001b[0m\n\u001b[1;32m    260\u001b[0m \u001b[0;34m\u001b[0m\u001b[0m\n\u001b[0;32m--> 261\u001b[0;31m     \u001b[0mformat\u001b[0m\u001b[0;34m,\u001b[0m \u001b[0mto\u001b[0m \u001b[0;34m=\u001b[0m \u001b[0m_validate_formats\u001b[0m\u001b[0;34m(\u001b[0m\u001b[0mformat\u001b[0m\u001b[0;34m,\u001b[0m \u001b[0mto\u001b[0m\u001b[0;34m,\u001b[0m \u001b[0moutputfile\u001b[0m\u001b[0;34m)\u001b[0m\u001b[0;34m\u001b[0m\u001b[0;34m\u001b[0m\u001b[0m\n\u001b[0m\u001b[1;32m    262\u001b[0m \u001b[0;34m\u001b[0m\u001b[0m\n\u001b[1;32m    263\u001b[0m     \u001b[0mstring_input\u001b[0m \u001b[0;34m=\u001b[0m \u001b[0minput_type\u001b[0m \u001b[0;34m==\u001b[0m \u001b[0;34m'string'\u001b[0m\u001b[0;34m\u001b[0m\u001b[0;34m\u001b[0m\u001b[0m\n",
      "\u001b[0;32m/usr/lib/python3/dist-packages/pypandoc/__init__.py\u001b[0m in \u001b[0;36m_validate_formats\u001b[0;34m(format, to, outputfile)\u001b[0m\n\u001b[1;32m    218\u001b[0m \u001b[0;34m\u001b[0m\u001b[0m\n\u001b[1;32m    219\u001b[0m     \u001b[0;32mif\u001b[0m \u001b[0m_get_base_format\u001b[0m\u001b[0;34m(\u001b[0m\u001b[0mformat\u001b[0m\u001b[0;34m)\u001b[0m \u001b[0;32mnot\u001b[0m \u001b[0;32min\u001b[0m \u001b[0mfrom_formats\u001b[0m\u001b[0;34m:\u001b[0m\u001b[0;34m\u001b[0m\u001b[0;34m\u001b[0m\u001b[0m\n\u001b[0;32m--> 220\u001b[0;31m         raise RuntimeError(\n\u001b[0m\u001b[1;32m    221\u001b[0m             'Invalid input format! Got \"%s\" but expected one of these: %s' % (\n\u001b[1;32m    222\u001b[0m                 _get_base_format(format), ', '.join(from_formats)))\n",
      "\u001b[0;31mRuntimeError\u001b[0m: Invalid input format! Got \"pdf\" but expected one of these: commonmark, creole, docbook, docx, epub, fb2, gfm, haddock, html, jats, json, latex, man, markdown, markdown_github, markdown_mmd, markdown_phpextra, markdown_strict, mediawiki, muse, native, odt, opml, org, rst, t2t, textile, tikiwiki, twiki, vimwiki"
     ]
    }
   ],
   "source": [
    "pypandoc.convert_file(os.listdir()[0], 'output.html')"
   ]
  },
  {
   "cell_type": "code",
   "execution_count": null,
   "metadata": {},
   "outputs": [],
   "source": [
    "try:\n",
    "    cnx = mysql.connector.connect(user=getuser(), password=(Path.home()/l.settings['pass_file']).read_text(),\n",
    "                                               host='192.168.254.71',\n",
    "                                               database='nonexistent')\n",
    "except mysql.connector.ProgrammingError as e:\n",
    "    print('Caught a ProgrammingError!')\n",
    "    pp(e)\n",
    "    print(\"Public members of e:\")\n",
    "    public(e)\n",
    "    print(f'{type(e.errno)=}')\n",
    "    print(f'{e.errno=}')\n",
    "    print(f'{type(e.sqlstate)=}')\n",
    "    print(f'{e.sqlstate=}')\n",
    "    print(f'{e.msg=}')"
   ]
  },
  {
   "cell_type": "code",
   "execution_count": null,
   "metadata": {},
   "outputs": [],
   "source": [
    "try:\n",
    "    cnx = mysql.connector.connect(user=getuser(), password='idontbelonghereobviously',\n",
    "                                               host=l.settings['server_ip'],\n",
    "                                               database=l.program_name)\n",
    "except mysql.connector.ProgrammingError as e:\n",
    "    print('Caught a ProgrammingError!')\n",
    "    pp(e)\n",
    "    print(\"Public members of e:\")\n",
    "    public(e)\n",
    "    print(f'{e.errno=}')\n",
    "    print(f'{e.sqlstate=}')\n",
    "    print(f'{e.msg=}')"
   ]
  },
  {
   "cell_type": "code",
   "execution_count": null,
   "metadata": {},
   "outputs": [],
   "source": [
    "try:\n",
    "    cnx = mysql.connector.connect(user='fred', password=(Path.home()/l.settings['pass_file']).read_text(),\n",
    "                                               host=l.settings['server_ip'],\n",
    "                                               database=l.program_name)\n",
    "except mysql.connector.ProgrammingError as e:\n",
    "    print('Caught a ProgrammingError!')\n",
    "    pp(e)\n",
    "    print(\"Public members of e:\")\n",
    "    public(e)\n",
    "    print(f'{e.errno=}')\n",
    "    print(f'{e.sqlstate=}')\n",
    "    print(f'{e.msg=}')"
   ]
  },
  {
   "cell_type": "code",
   "execution_count": null,
   "metadata": {},
   "outputs": [],
   "source": [
    "l.settings['server_ip']"
   ]
  },
  {
   "cell_type": "code",
   "execution_count": null,
   "metadata": {},
   "outputs": [],
   "source": [
    "highlight(l.shutdown)"
   ]
  },
  {
   "cell_type": "code",
   "execution_count": null,
   "metadata": {},
   "outputs": [],
   "source": [
    "pp(l.settings)"
   ]
  },
  {
   "cell_type": "code",
   "execution_count": null,
   "metadata": {},
   "outputs": [],
   "source": [
    "PDF_VIEWER = 'atril'"
   ]
  },
  {
   "cell_type": "code",
   "execution_count": null,
   "metadata": {},
   "outputs": [],
   "source": [
    "get_isbn('/home/fuzzy/Library/Python/Allen_B._Downey_-_Think_Python.pdf')"
   ]
  },
  {
   "cell_type": "code",
   "execution_count": null,
   "metadata": {
    "tags": []
   },
   "outputs": [],
   "source": [
    "s = pdf2txt('/home/fuzzy/Library/Python/Doing Math With Python Use Programming To Explore Algebra, Statistics, Calculus, And More!.pdf')"
   ]
  },
  {
   "cell_type": "code",
   "execution_count": null,
   "metadata": {},
   "outputs": [],
   "source": [
    "len(s)"
   ]
  },
  {
   "cell_type": "code",
   "execution_count": null,
   "metadata": {},
   "outputs": [],
   "source": [
    "import pdfminer.image"
   ]
  },
  {
   "cell_type": "code",
   "execution_count": null,
   "metadata": {},
   "outputs": [],
   "source": [
    "public(pdfminer)"
   ]
  },
  {
   "cell_type": "code",
   "execution_count": null,
   "metadata": {
    "tags": []
   },
   "outputs": [],
   "source": [
    "help(pdfminer.image)"
   ]
  },
  {
   "cell_type": "code",
   "execution_count": null,
   "metadata": {},
   "outputs": [],
   "source": [
    "__file__"
   ]
  },
  {
   "cell_type": "code",
   "execution_count": null,
   "metadata": {},
   "outputs": [],
   "source": []
  }
 ],
 "metadata": {
  "kernelspec": {
   "display_name": "Python 3",
   "language": "python",
   "name": "python3"
  },
  "language_info": {
   "codemirror_mode": {
    "name": "ipython",
    "version": 3
   },
   "file_extension": ".py",
   "mimetype": "text/x-python",
   "name": "python",
   "nbconvert_exporter": "python",
   "pygments_lexer": "ipython3",
   "version": "3.8.3"
  }
 },
 "nbformat": 4,
 "nbformat_minor": 5
}
