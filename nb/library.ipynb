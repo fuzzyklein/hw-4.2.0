{
 "cells": [
  {
   "cell_type": "markdown",
   "id": "7840d6e0-cd57-4f87-b706-effbd30ac584",
   "metadata": {},
   "source": [
    "# Library"
   ]
  },
  {
   "cell_type": "markdown",
   "id": "56228eab-ba10-4812-aa19-bd2a0602c756",
   "metadata": {},
   "source": [
    "Maintain an online database of books in PDF format and enable the user to view them online."
   ]
  },
  {
   "cell_type": "code",
   "execution_count": null,
   "id": "38172f3a-7c9f-4eac-9d0c-6073fd070115",
   "metadata": {},
   "outputs": [],
   "source": []
  }
 ],
 "metadata": {
  "kernelspec": {
   "display_name": "Python 3 (ipykernel)",
   "language": "python",
   "name": "python3"
  },
  "language_info": {
   "codemirror_mode": {
    "name": "ipython",
    "version": 3
   },
   "file_extension": ".py",
   "mimetype": "text/x-python",
   "name": "python",
   "nbconvert_exporter": "python",
   "pygments_lexer": "ipython3",
   "version": "3.8.10"
  }
 },
 "nbformat": 4,
 "nbformat_minor": 5
}
