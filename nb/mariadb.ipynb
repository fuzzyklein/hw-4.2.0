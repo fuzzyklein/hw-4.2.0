{
 "cells": [
  {
   "cell_type": "markdown",
   "id": "e0c60211-93d1-4da4-8e83-d3389355871b",
   "metadata": {},
   "source": [
    "# [**MariaDB**](https://mariadb.com/kb/en/documentation/)"
   ]
  },
  {
   "cell_type": "code",
   "execution_count": 8,
   "id": "a19ce463-7981-4e60-8bb7-46dbdc34cb8e",
   "metadata": {},
   "outputs": [],
   "source": [
    "from getpass import getuser\n",
    "from pathlib import Path\n",
    "import site"
   ]
  },
  {
   "cell_type": "code",
   "execution_count": 6,
   "id": "c0d61b7f-a3dc-43b1-b76f-593d231d94d0",
   "metadata": {},
   "outputs": [],
   "source": [
    "import mysql.connector"
   ]
  },
  {
   "cell_type": "code",
   "execution_count": 2,
   "id": "97665749-995d-4320-b91c-0c5c793e05d5",
   "metadata": {
    "tags": []
   },
   "outputs": [],
   "source": [
    "BASEDIR = Path.home() / 'Development/hw-4.2.0'\n",
    "site.addsitedir(str(BASEDIR / 'hw'))"
   ]
  },
  {
   "cell_type": "code",
   "execution_count": 3,
   "id": "b361ae32-b1f4-45a9-9d50-12ed9415c657",
   "metadata": {},
   "outputs": [],
   "source": [
    "from tools import *"
   ]
  },
  {
   "cell_type": "markdown",
   "id": "1a626ecc-3f63-4935-9a96-45a17c83981b",
   "metadata": {},
   "source": [
    "## Configuration File"
   ]
  },
  {
   "cell_type": "code",
   "execution_count": 4,
   "id": "9ef6fa4c-5918-4d4c-9392-4f7d22a0c813",
   "metadata": {
    "scrolled": true,
    "tags": []
   },
   "outputs": [
    {
     "name": "stdout",
     "output_type": "stream",
     "text": [
      "# The following options will be passed to all MariaDB clients\n",
      "[client]\n",
      "# Please note that storing the password in this file is not safe. For this\n",
      "# purpose you can, for example, list your password in the [client] section\n",
      "# of the '~/.my.cnf' configuration file with an access mode set to 400 or 600.\n",
      "# password   = your_password\n",
      "# port       = 3306\n",
      "# socket     = /run/mysql/mysql.sock\n",
      "\n",
      "# The MariaDB server\n",
      "[mysqld]\n",
      "\n",
      "# For security reasons, bind to 127.0.0.1 by default to enable networking\n",
      "# only on the loopback interface.\n",
      "# bind-address    = 127.0.0.1\n",
      "\n",
      "# If log-error is not set, mysqld will write to \"/var/lib/mysql/$HOSTNAME.err\"\n",
      "# which is not beneficial for rotating the log file if it grows in size.\n",
      "log-error       = /var/log/mysql/mysqld.log\n",
      "\n",
      "# Enable the slow query log to see queries with especially long duration\n",
      "# slow_query_log=1\n",
      "# slow_query_log_file = /var/log/mysql/mysqld_slow.log\n",
      "\n",
      "# Operations 'LOAD DATA', 'SELECT ... INTO' and 'LOAD FILE()' will only\n",
      "# work with files in the specified directory\n",
      "secure_file_priv = /var/lib/mysql-files\n",
      "\n",
      "# Remove leading # and set to the amount of RAM for the most important data\n",
      "# cache in MySQL. Start at 70% of total RAM for dedicated server, else 10%.\n",
      "# innodb_buffer_pool_size = 128M\n",
      "\n",
      "# Remove leading # to turn on a very important data integrity option: logging\n",
      "# changes to the binary log between backups.\n",
      "# log_bin=mysql-bin\n",
      "# binlog_format=mixed\n",
      "\n",
      "# Remove leading # if you want to store your database elsewhere\n",
      "# datadir\t= /var/lib/mysql\n",
      "\n",
      "# required unique id between 1 and 2^32 - 1\n",
      "# defaults to 1 if master-host is not set\n",
      "# but will not function as a master if omitted\n",
      "server-id\t= 1\n",
      "\n",
      "# These are commonly set, remove the # and set as required.\n",
      "# port = 3306\n",
      "# socket = /run/mysql/mysql.sock\n",
      "\n",
      "# Remove leading # to set options mainly useful for reporting servers.\n",
      "# The server defaults are faster for transactions and fast SELECTs.\n",
      "# Adjust sizes as needed, experiment to find the optimal values.\n",
      "# join_buffer_size = 128M\n",
      "# sort_buffer_size = 2M\n",
      "# read_rnd_buffer_size = 2M \n",
      "\n",
      "# Configure the MariaDB server to use SSL \n",
      "# ssl-ca=/etc/mysql/ssl/ca-cert.pem\n",
      "# ssl-cert=/etc/mysql/ssl/server-cert.pem\n",
      "# ssl-key=/etc/mysql/ssl/server-key.pem\n",
      "\n",
      "[mysqld_multi]\n",
      "mysqld     = /usr/bin/mysqld_safe\n",
      "mysqladmin = /usr/bin/mysqladmin\n",
      "log        = /var/log/mysqld_multi.log\n",
      "\n",
      "# If you want to use mysqld_multi uncomment 1 or more mysqld sections\n",
      "# below or add your own ones.\n",
      "\n",
      "# WARNING\n",
      "# --------\n",
      "# If you uncomment mysqld1 than make absolutely sure, that database mysql,\n",
      "# configured above, is not started.  This may result in corrupted data!\n",
      "#\n",
      "# [mysqld1]\n",
      "# port       = 3306\n",
      "# datadir    = /var/lib/mysql\n",
      "# pid-file   = /var/lib/mysql/mysqld.pid\n",
      "# socket     = /var/lib/mysql/mysql.sock\n",
      "# user       = mysql\n",
      "\n",
      "# [mysqld2]\n",
      "# port       = 3307\n",
      "# datadir    = /var/lib/mysql-databases/mysqld2\n",
      "# pid-file   = /var/lib/mysql-databases/mysqld2/mysql.pid\n",
      "# socket     = /var/lib/mysql-databases/mysqld2/mysql.sock\n",
      "# user       = mysql\n",
      "\n",
      "# [mysqld3]\n",
      "# port       = 3308\n",
      "# datadir    = /var/lib/mysql-databases/mysqld3\n",
      "# pid-file   = /var/lib/mysql-databases/mysqld3/mysql.pid\n",
      "# socket     = /var/lib/mysql-databases/mysqld3/mysql.sock\n",
      "# user       = mysql\n",
      "\n",
      "# [mysqld6]\n",
      "# port       = 3309\n",
      "# datadir    = /var/lib/mysql-databases/mysqld6\n",
      "# pid-file   = /var/lib/mysql-databases/mysqld6/mysql.pid\n",
      "# socket     = /var/lib/mysql-databases/mysqld6/mysql.sock\n",
      "# user       = mysql\n",
      "\n",
      "!includedir /etc/my.cnf.d\n",
      "\n"
     ]
    }
   ],
   "source": [
    "get_file_from_server('/etc/my.cnf')"
   ]
  },
  {
   "cell_type": "markdown",
   "id": "b46f4683-4221-4b58-8725-b4aef91c053d",
   "metadata": {},
   "source": [
    "## Connect to the Database"
   ]
  },
  {
   "cell_type": "code",
   "execution_count": 69,
   "id": "93f5a069-763c-4d0a-9e2c-6db7e5498c34",
   "metadata": {},
   "outputs": [],
   "source": [
    "cnx = mysql.connector.connect(user=getuser(),\n",
    "                                   password=(Path.home()/configure()['DATABASE']['pass_file']).read_text(),\n",
    "                                   host='192.168.254.71',\n",
    "                                   database='library')"
   ]
  },
  {
   "cell_type": "code",
   "execution_count": 70,
   "id": "b908e89f-a81f-45fb-b19a-dce6a3507255",
   "metadata": {},
   "outputs": [],
   "source": [
    "cursor = cnx.cursor()"
   ]
  },
  {
   "cell_type": "code",
   "execution_count": 13,
   "id": "a8f7f89f-5834-4b34-aacc-d13bc4f9cdda",
   "metadata": {},
   "outputs": [
    {
     "data": {
      "text/plain": [
       "True"
      ]
     },
     "execution_count": 13,
     "metadata": {},
     "output_type": "execute_result"
    }
   ],
   "source": [
    "cursor.close()"
   ]
  },
  {
   "cell_type": "code",
   "execution_count": 14,
   "id": "da32eddf-3fd5-415a-baeb-4e56a6084561",
   "metadata": {},
   "outputs": [],
   "source": [
    "cnx.close()"
   ]
  },
  {
   "cell_type": "markdown",
   "id": "c0a0d942-e3f4-4924-8715-1ab21ea5a787",
   "metadata": {},
   "source": [
    "## Execute Statements"
   ]
  },
  {
   "cell_type": "code",
   "execution_count": 71,
   "id": "a4e78071-d900-4496-8b48-309c34e1bdae",
   "metadata": {},
   "outputs": [],
   "source": [
    "query = (BASEDIR / 'sql/clear.sql').read_text()"
   ]
  },
  {
   "cell_type": "code",
   "execution_count": 73,
   "id": "42d5c0e5-35da-49b1-9192-d1cc99c89c1b",
   "metadata": {},
   "outputs": [],
   "source": [
    "for result in cnx.cmd_query_iter(query):\n",
    "    if 'columns' in result:\n",
    "        columns = result['columns']\n",
    "        rows = cnx.get_rows()\n",
    "    else:\n",
    "        pass"
   ]
  },
  {
   "cell_type": "code",
   "execution_count": 68,
   "id": "964598bc-19bb-4cfa-a3d0-8a37d4cc89d9",
   "metadata": {},
   "outputs": [
    {
     "data": {
      "text/plain": [
       "<generator object MySQLCursor._execute_iter at 0x7f26b84364a0>"
      ]
     },
     "execution_count": 68,
     "metadata": {},
     "output_type": "execute_result"
    }
   ],
   "source": [
    "cursor.execute(query, multi=True)"
   ]
  },
  {
   "cell_type": "code",
   "execution_count": 64,
   "id": "dd397c5b-54a2-4333-b17d-7c6e1ef79e93",
   "metadata": {},
   "outputs": [
    {
     "ename": "IndexError",
     "evalue": "list index out of range",
     "output_type": "error",
     "traceback": [
      "\u001b[0;31m---------------------------------------------------------------------------\u001b[0m",
      "\u001b[0;31mIndexError\u001b[0m                                Traceback (most recent call last)",
      "\u001b[0;32m/tmp/ipykernel_35935/956068379.py\u001b[0m in \u001b[0;36m<module>\u001b[0;34m\u001b[0m\n\u001b[0;32m----> 1\u001b[0;31m \u001b[0mlist\u001b[0m\u001b[0;34m(\u001b[0m\u001b[0mcursor\u001b[0m\u001b[0;34m)\u001b[0m\u001b[0;34m[\u001b[0m\u001b[0;36m0\u001b[0m\u001b[0;34m]\u001b[0m\u001b[0;34m\u001b[0m\u001b[0;34m\u001b[0m\u001b[0m\n\u001b[0m",
      "\u001b[0;31mIndexError\u001b[0m: list index out of range"
     ]
    }
   ],
   "source": [
    "list(cursor)[0]"
   ]
  },
  {
   "cell_type": "code",
   "execution_count": 49,
   "id": "1280c93e-f693-48f1-892e-637614768d22",
   "metadata": {},
   "outputs": [],
   "source": [
    "query = \"\"\" USE library;\n",
    "            DELETE FROM Authors WHERE 1;\n",
    "            DELETE FROM pubs WHERE 1;\n",
    "            DELETE FROM books WHERE 1;\n",
    "            DELETE FROM contribs WHERE 1;\n",
    "        \"\"\" "
   ]
  },
  {
   "cell_type": "code",
   "execution_count": 41,
   "id": "2aafd3f8-3798-4c18-abed-7bb392069962",
   "metadata": {},
   "outputs": [
    {
     "name": "stdout",
     "output_type": "stream",
     "text": [
      "arraysize     execute      fetchwarnings  reset          stored_results\n",
      "callproc      executemany  getlastrowid   rowcount       with_rows     \n",
      "close         fetchall     lastrowid      setinputsizes\n",
      "column_names  fetchmany    next           setoutputsize\n",
      "description   fetchone     nextset        statement    \n"
     ]
    }
   ],
   "source": [
    "public(cursor)"
   ]
  },
  {
   "cell_type": "code",
   "execution_count": 42,
   "id": "a26f0eb8-58f6-4378-a1f6-df5bb4213ad3",
   "metadata": {},
   "outputs": [
    {
     "name": "stdout",
     "output_type": "stream",
     "text": [
      "Help on method fetchone in module mysql.connector.cursor:\n",
      "\n",
      "fetchone() method of mysql.connector.cursor.MySQLCursor instance\n",
      "    Returns next row of a query result set\n",
      "    \n",
      "    Returns a tuple or None.\n",
      "\n"
     ]
    }
   ],
   "source": [
    "help(cursor.fetchone)"
   ]
  },
  {
   "cell_type": "markdown",
   "id": "376e309e-dec9-44cf-9426-72522e9c6bca",
   "metadata": {},
   "source": [
    "## Clear out the database"
   ]
  },
  {
   "cell_type": "code",
   "execution_count": 53,
   "id": "fa19cb15-8ae1-4123-8f27-d01d4a6002a4",
   "metadata": {},
   "outputs": [
    {
     "ename": "InterfaceError",
     "evalue": "Use cmd_query_iter for statements with multiple queries.",
     "output_type": "error",
     "traceback": [
      "\u001b[0;31m---------------------------------------------------------------------------\u001b[0m",
      "\u001b[0;31mInterfaceError\u001b[0m                            Traceback (most recent call last)",
      "\u001b[0;32m/tmp/ipykernel_35935/1255936600.py\u001b[0m in \u001b[0;36m<module>\u001b[0;34m\u001b[0m\n\u001b[1;32m      1\u001b[0m \u001b[0mcnx\u001b[0m\u001b[0;34m.\u001b[0m\u001b[0mcmd_query_iter\u001b[0m\u001b[0;34m(\u001b[0m\u001b[0mquery\u001b[0m\u001b[0;34m)\u001b[0m\u001b[0;34m\u001b[0m\u001b[0;34m\u001b[0m\u001b[0m\n\u001b[0;32m----> 2\u001b[0;31m \u001b[0mcnx\u001b[0m\u001b[0;34m.\u001b[0m\u001b[0mcommit\u001b[0m\u001b[0;34m(\u001b[0m\u001b[0;34m)\u001b[0m\u001b[0;34m\u001b[0m\u001b[0;34m\u001b[0m\u001b[0m\n\u001b[0m",
      "\u001b[0;32m/usr/lib/python3/dist-packages/mysql/connector/connection.py\u001b[0m in \u001b[0;36mcommit\u001b[0;34m(self)\u001b[0m\n\u001b[1;32m    912\u001b[0m     \u001b[0;32mdef\u001b[0m \u001b[0mcommit\u001b[0m\u001b[0;34m(\u001b[0m\u001b[0mself\u001b[0m\u001b[0;34m)\u001b[0m\u001b[0;34m:\u001b[0m\u001b[0;34m\u001b[0m\u001b[0;34m\u001b[0m\u001b[0m\n\u001b[1;32m    913\u001b[0m         \u001b[0;34m\"\"\"Commit current transaction\"\"\"\u001b[0m\u001b[0;34m\u001b[0m\u001b[0;34m\u001b[0m\u001b[0m\n\u001b[0;32m--> 914\u001b[0;31m         \u001b[0mself\u001b[0m\u001b[0;34m.\u001b[0m\u001b[0m_execute_query\u001b[0m\u001b[0;34m(\u001b[0m\u001b[0;34m\"COMMIT\"\u001b[0m\u001b[0;34m)\u001b[0m\u001b[0;34m\u001b[0m\u001b[0;34m\u001b[0m\u001b[0m\n\u001b[0m\u001b[1;32m    915\u001b[0m \u001b[0;34m\u001b[0m\u001b[0m\n\u001b[1;32m    916\u001b[0m     \u001b[0;32mdef\u001b[0m \u001b[0mrollback\u001b[0m\u001b[0;34m(\u001b[0m\u001b[0mself\u001b[0m\u001b[0;34m)\u001b[0m\u001b[0;34m:\u001b[0m\u001b[0;34m\u001b[0m\u001b[0;34m\u001b[0m\u001b[0m\n",
      "\u001b[0;32m/usr/lib/python3/dist-packages/mysql/connector/connection.py\u001b[0m in \u001b[0;36m_execute_query\u001b[0;34m(self, query)\u001b[0m\n\u001b[1;32m    931\u001b[0m         \"\"\"\n\u001b[1;32m    932\u001b[0m         \u001b[0mself\u001b[0m\u001b[0;34m.\u001b[0m\u001b[0mhandle_unread_result\u001b[0m\u001b[0;34m(\u001b[0m\u001b[0;34m)\u001b[0m\u001b[0;34m\u001b[0m\u001b[0;34m\u001b[0m\u001b[0m\n\u001b[0;32m--> 933\u001b[0;31m         \u001b[0mself\u001b[0m\u001b[0;34m.\u001b[0m\u001b[0mcmd_query\u001b[0m\u001b[0;34m(\u001b[0m\u001b[0mquery\u001b[0m\u001b[0;34m)\u001b[0m\u001b[0;34m\u001b[0m\u001b[0;34m\u001b[0m\u001b[0m\n\u001b[0m\u001b[1;32m    934\u001b[0m \u001b[0;34m\u001b[0m\u001b[0m\n\u001b[1;32m    935\u001b[0m     \u001b[0;32mdef\u001b[0m \u001b[0minfo_query\u001b[0m\u001b[0;34m(\u001b[0m\u001b[0mself\u001b[0m\u001b[0;34m,\u001b[0m \u001b[0mquery\u001b[0m\u001b[0;34m)\u001b[0m\u001b[0;34m:\u001b[0m\u001b[0;34m\u001b[0m\u001b[0;34m\u001b[0m\u001b[0m\n",
      "\u001b[0;32m/usr/lib/python3/dist-packages/mysql/connector/connection.py\u001b[0m in \u001b[0;36mcmd_query\u001b[0;34m(self, query, raw, buffered, raw_as_string)\u001b[0m\n\u001b[1;32m    554\u001b[0m \u001b[0;34m\u001b[0m\u001b[0m\n\u001b[1;32m    555\u001b[0m         \u001b[0;32mif\u001b[0m \u001b[0mself\u001b[0m\u001b[0;34m.\u001b[0m\u001b[0m_have_next_result\u001b[0m\u001b[0;34m:\u001b[0m\u001b[0;34m\u001b[0m\u001b[0;34m\u001b[0m\u001b[0m\n\u001b[0;32m--> 556\u001b[0;31m             raise errors.InterfaceError(\n\u001b[0m\u001b[1;32m    557\u001b[0m                 'Use cmd_query_iter for statements with multiple queries.')\n\u001b[1;32m    558\u001b[0m \u001b[0;34m\u001b[0m\u001b[0m\n",
      "\u001b[0;31mInterfaceError\u001b[0m: Use cmd_query_iter for statements with multiple queries."
     ]
    }
   ],
   "source": [
    "cnx.cmd_query_iter(query)\n",
    "cnx.commit()"
   ]
  },
  {
   "cell_type": "code",
   "execution_count": 44,
   "id": "ca18ee8f-1adc-4ee6-b638-54f877fa7d89",
   "metadata": {},
   "outputs": [
    {
     "data": {
      "text/plain": [
       "<mysql.connector.cursor.MySQLCursor at 0x7f26b8494cd0>"
      ]
     },
     "execution_count": 44,
     "metadata": {},
     "output_type": "execute_result"
    }
   ],
   "source": [
    "cursor"
   ]
  },
  {
   "cell_type": "code",
   "execution_count": 74,
   "id": "9db8a894-6463-463f-8db1-17c49e94576f",
   "metadata": {},
   "outputs": [
    {
     "data": {
      "text/plain": [
       "True"
      ]
     },
     "execution_count": 74,
     "metadata": {},
     "output_type": "execute_result"
    }
   ],
   "source": [
    "cursor.close()"
   ]
  },
  {
   "cell_type": "code",
   "execution_count": 75,
   "id": "ab19e1c9-389f-4d4c-941e-f5561080762f",
   "metadata": {},
   "outputs": [],
   "source": [
    "cnx.close()"
   ]
  },
  {
   "cell_type": "code",
   "execution_count": null,
   "id": "f36c07b1-d476-4b84-8a36-5585e6c05df9",
   "metadata": {},
   "outputs": [],
   "source": []
  }
 ],
 "metadata": {
  "kernelspec": {
   "display_name": "Python 3 (ipykernel)",
   "language": "python",
   "name": "python3"
  },
  "language_info": {
   "codemirror_mode": {
    "name": "ipython",
    "version": 3
   },
   "file_extension": ".py",
   "mimetype": "text/x-python",
   "name": "python",
   "nbconvert_exporter": "python",
   "pygments_lexer": "ipython3",
   "version": "3.8.10"
  }
 },
 "nbformat": 4,
 "nbformat_minor": 5
}
