{
 "cells": [
  {
   "cell_type": "markdown",
   "id": "e0c60211-93d1-4da4-8e83-d3389355871b",
   "metadata": {},
   "source": [
    "# [**MariaDB**](https://mariadb.com/kb/en/documentation/)"
   ]
  },
  {
   "cell_type": "markdown",
   "id": "1a626ecc-3f63-4935-9a96-45a17c83981b",
   "metadata": {},
   "source": [
    "## Configuration File"
   ]
  },
  {
   "cell_type": "markdown",
   "id": "ce5caf5f-daab-4ae9-8478-d41d28aac8c2",
   "metadata": {},
   "source": []
  }
 ],
 "metadata": {
  "kernelspec": {
   "display_name": "Python 3 (ipykernel)",
   "language": "python",
   "name": "python3"
  },
  "language_info": {
   "codemirror_mode": {
    "name": "ipython",
    "version": 3
   },
   "file_extension": ".py",
   "mimetype": "text/x-python",
   "name": "python",
   "nbconvert_exporter": "python",
   "pygments_lexer": "ipython3",
   "version": "3.8.10"
  }
 },
 "nbformat": 4,
 "nbformat_minor": 5
}
