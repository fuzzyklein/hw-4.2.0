{
 "cells": [
  {
   "cell_type": "markdown",
   "id": "e0c60211-93d1-4da4-8e83-d3389355871b",
   "metadata": {},
   "source": [
    "# [**MariaDB**](https://mariadb.com/kb/en/documentation/)"
   ]
  },
  {
   "cell_type": "code",
   "execution_count": 8,
   "id": "a19ce463-7981-4e60-8bb7-46dbdc34cb8e",
   "metadata": {},
   "outputs": [],
   "source": [
    "from getpass import getuser\n",
    "from pathlib import Path\n",
    "import site"
   ]
  },
  {
   "cell_type": "code",
   "execution_count": 6,
   "id": "c0d61b7f-a3dc-43b1-b76f-593d231d94d0",
   "metadata": {},
   "outputs": [],
   "source": [
    "import mysql.connector"
   ]
  },
  {
   "cell_type": "code",
   "execution_count": 2,
   "id": "97665749-995d-4320-b91c-0c5c793e05d5",
   "metadata": {
    "tags": []
   },
   "outputs": [],
   "source": [
    "BASEDIR = Path.home() / 'Development/hw-4.2.0'\n",
    "site.addsitedir(str(BASEDIR / 'hw'))"
   ]
  },
  {
   "cell_type": "code",
   "execution_count": 3,
   "id": "b361ae32-b1f4-45a9-9d50-12ed9415c657",
   "metadata": {},
   "outputs": [],
   "source": [
    "from tools import *"
   ]
  },
  {
   "cell_type": "markdown",
   "id": "1a626ecc-3f63-4935-9a96-45a17c83981b",
   "metadata": {},
   "source": [
    "## Configuration File"
   ]
  },
  {
   "cell_type": "code",
   "execution_count": 4,
   "id": "9ef6fa4c-5918-4d4c-9392-4f7d22a0c813",
   "metadata": {
    "scrolled": true,
    "tags": []
   },
   "outputs": [
    {
     "name": "stdout",
     "output_type": "stream",
     "text": [
      "# The following options will be passed to all MariaDB clients\n",
      "[client]\n",
      "# Please note that storing the password in this file is not safe. For this\n",
      "# purpose you can, for example, list your password in the [client] section\n",
      "# of the '~/.my.cnf' configuration file with an access mode set to 400 or 600.\n",
      "# password   = your_password\n",
      "# port       = 3306\n",
      "# socket     = /run/mysql/mysql.sock\n",
      "\n",
      "# The MariaDB server\n",
      "[mysqld]\n",
      "\n",
      "# For security reasons, bind to 127.0.0.1 by default to enable networking\n",
      "# only on the loopback interface.\n",
      "# bind-address    = 127.0.0.1\n",
      "\n",
      "# If log-error is not set, mysqld will write to \"/var/lib/mysql/$HOSTNAME.err\"\n",
      "# which is not beneficial for rotating the log file if it grows in size.\n",
      "log-error       = /var/log/mysql/mysqld.log\n",
      "\n",
      "# Enable the slow query log to see queries with especially long duration\n",
      "# slow_query_log=1\n",
      "# slow_query_log_file = /var/log/mysql/mysqld_slow.log\n",
      "\n",
      "# Operations 'LOAD DATA', 'SELECT ... INTO' and 'LOAD FILE()' will only\n",
      "# work with files in the specified directory\n",
      "secure_file_priv = /var/lib/mysql-files\n",
      "\n",
      "# Remove leading # and set to the amount of RAM for the most important data\n",
      "# cache in MySQL. Start at 70% of total RAM for dedicated server, else 10%.\n",
      "# innodb_buffer_pool_size = 128M\n",
      "\n",
      "# Remove leading # to turn on a very important data integrity option: logging\n",
      "# changes to the binary log between backups.\n",
      "# log_bin=mysql-bin\n",
      "# binlog_format=mixed\n",
      "\n",
      "# Remove leading # if you want to store your database elsewhere\n",
      "# datadir\t= /var/lib/mysql\n",
      "\n",
      "# required unique id between 1 and 2^32 - 1\n",
      "# defaults to 1 if master-host is not set\n",
      "# but will not function as a master if omitted\n",
      "server-id\t= 1\n",
      "\n",
      "# These are commonly set, remove the # and set as required.\n",
      "# port = 3306\n",
      "# socket = /run/mysql/mysql.sock\n",
      "\n",
      "# Remove leading # to set options mainly useful for reporting servers.\n",
      "# The server defaults are faster for transactions and fast SELECTs.\n",
      "# Adjust sizes as needed, experiment to find the optimal values.\n",
      "# join_buffer_size = 128M\n",
      "# sort_buffer_size = 2M\n",
      "# read_rnd_buffer_size = 2M \n",
      "\n",
      "# Configure the MariaDB server to use SSL \n",
      "# ssl-ca=/etc/mysql/ssl/ca-cert.pem\n",
      "# ssl-cert=/etc/mysql/ssl/server-cert.pem\n",
      "# ssl-key=/etc/mysql/ssl/server-key.pem\n",
      "\n",
      "[mysqld_multi]\n",
      "mysqld     = /usr/bin/mysqld_safe\n",
      "mysqladmin = /usr/bin/mysqladmin\n",
      "log        = /var/log/mysqld_multi.log\n",
      "\n",
      "# If you want to use mysqld_multi uncomment 1 or more mysqld sections\n",
      "# below or add your own ones.\n",
      "\n",
      "# WARNING\n",
      "# --------\n",
      "# If you uncomment mysqld1 than make absolutely sure, that database mysql,\n",
      "# configured above, is not started.  This may result in corrupted data!\n",
      "#\n",
      "# [mysqld1]\n",
      "# port       = 3306\n",
      "# datadir    = /var/lib/mysql\n",
      "# pid-file   = /var/lib/mysql/mysqld.pid\n",
      "# socket     = /var/lib/mysql/mysql.sock\n",
      "# user       = mysql\n",
      "\n",
      "# [mysqld2]\n",
      "# port       = 3307\n",
      "# datadir    = /var/lib/mysql-databases/mysqld2\n",
      "# pid-file   = /var/lib/mysql-databases/mysqld2/mysql.pid\n",
      "# socket     = /var/lib/mysql-databases/mysqld2/mysql.sock\n",
      "# user       = mysql\n",
      "\n",
      "# [mysqld3]\n",
      "# port       = 3308\n",
      "# datadir    = /var/lib/mysql-databases/mysqld3\n",
      "# pid-file   = /var/lib/mysql-databases/mysqld3/mysql.pid\n",
      "# socket     = /var/lib/mysql-databases/mysqld3/mysql.sock\n",
      "# user       = mysql\n",
      "\n",
      "# [mysqld6]\n",
      "# port       = 3309\n",
      "# datadir    = /var/lib/mysql-databases/mysqld6\n",
      "# pid-file   = /var/lib/mysql-databases/mysqld6/mysql.pid\n",
      "# socket     = /var/lib/mysql-databases/mysqld6/mysql.sock\n",
      "# user       = mysql\n",
      "\n",
      "!includedir /etc/my.cnf.d\n",
      "\n"
     ]
    }
   ],
   "source": [
    "get_file_from_server('/etc/my.cnf')"
   ]
  },
  {
   "cell_type": "markdown",
   "id": "b46f4683-4221-4b58-8725-b4aef91c053d",
   "metadata": {},
   "source": [
    "## Connect to the Database"
   ]
  },
  {
   "cell_type": "code",
   "execution_count": 95,
   "id": "93f5a069-763c-4d0a-9e2c-6db7e5498c34",
   "metadata": {},
   "outputs": [],
   "source": [
    "cnx = mysql.connector.connect(user=getuser(),\n",
    "                                   password=(Path.home()/configure()['DATABASE']['pass_file']).read_text(),\n",
    "                                   host='192.168.254.71',\n",
    "                                   database='library')"
   ]
  },
  {
   "cell_type": "code",
   "execution_count": 96,
   "id": "b908e89f-a81f-45fb-b19a-dce6a3507255",
   "metadata": {},
   "outputs": [],
   "source": [
    "cursor = cnx.cursor()"
   ]
  },
  {
   "cell_type": "code",
   "execution_count": 13,
   "id": "a8f7f89f-5834-4b34-aacc-d13bc4f9cdda",
   "metadata": {},
   "outputs": [
    {
     "data": {
      "text/plain": [
       "True"
      ]
     },
     "execution_count": 13,
     "metadata": {},
     "output_type": "execute_result"
    }
   ],
   "source": [
    "cursor.close()"
   ]
  },
  {
   "cell_type": "code",
   "execution_count": 14,
   "id": "da32eddf-3fd5-415a-baeb-4e56a6084561",
   "metadata": {},
   "outputs": [],
   "source": [
    "cnx.close()"
   ]
  },
  {
   "cell_type": "code",
   "execution_count": 97,
   "id": "1333fe01-54a3-45ce-82ce-ef8e185c4492",
   "metadata": {},
   "outputs": [],
   "source": [
    "TABLES = ['Authors', 'books', 'contribs', 'pubs']"
   ]
  },
  {
   "cell_type": "markdown",
   "id": "c0a0d942-e3f4-4924-8715-1ab21ea5a787",
   "metadata": {
    "tags": []
   },
   "source": [
    "## Execute Statements"
   ]
  },
  {
   "cell_type": "code",
   "execution_count": 112,
   "id": "6f2bc6b1-fcd6-4a4d-afc3-56939d165a24",
   "metadata": {},
   "outputs": [],
   "source": [
    "for t in TABLES:\n",
    "    query = f'DELETE FROM `{t}` WHERE 1;'\n",
    "    cnx.cmd_query(query)\n",
    "cnx.commit()"
   ]
  },
  {
   "cell_type": "code",
   "execution_count": 71,
   "id": "a4e78071-d900-4496-8b48-309c34e1bdae",
   "metadata": {},
   "outputs": [],
   "source": [
    "query = (BASEDIR / 'sql/clear.sql').read_text()"
   ]
  },
  {
   "cell_type": "code",
   "execution_count": 94,
   "id": "42d5c0e5-35da-49b1-9192-d1cc99c89c1b",
   "metadata": {},
   "outputs": [
    {
     "ename": "OperationalError",
     "evalue": "2055: Lost connection to MySQL server at '192.168.254.71:3306', system error: 9 Bad file descriptor",
     "output_type": "error",
     "traceback": [
      "\u001b[0;31m---------------------------------------------------------------------------\u001b[0m",
      "\u001b[0;31mOSError\u001b[0m                                   Traceback (most recent call last)",
      "\u001b[0;32m/usr/lib/python3/dist-packages/mysql/connector/network.py\u001b[0m in \u001b[0;36msend_plain\u001b[0;34m(self, buf, packet_number, compressed_packet_number)\u001b[0m\n\u001b[1;32m    147\u001b[0m                 \u001b[0;32melse\u001b[0m\u001b[0;34m:\u001b[0m\u001b[0;34m\u001b[0m\u001b[0;34m\u001b[0m\u001b[0m\n\u001b[0;32m--> 148\u001b[0;31m                     \u001b[0mself\u001b[0m\u001b[0;34m.\u001b[0m\u001b[0msock\u001b[0m\u001b[0;34m.\u001b[0m\u001b[0msendall\u001b[0m\u001b[0;34m(\u001b[0m\u001b[0mpacket\u001b[0m\u001b[0;34m)\u001b[0m\u001b[0;34m\u001b[0m\u001b[0;34m\u001b[0m\u001b[0m\n\u001b[0m\u001b[1;32m    149\u001b[0m             \u001b[0;32mexcept\u001b[0m \u001b[0mIOError\u001b[0m \u001b[0;32mas\u001b[0m \u001b[0merr\u001b[0m\u001b[0;34m:\u001b[0m\u001b[0;34m\u001b[0m\u001b[0;34m\u001b[0m\u001b[0m\n",
      "\u001b[0;31mOSError\u001b[0m: [Errno 9] Bad file descriptor",
      "\nDuring handling of the above exception, another exception occurred:\n",
      "\u001b[0;31mOperationalError\u001b[0m                          Traceback (most recent call last)",
      "\u001b[0;32m/tmp/ipykernel_35935/3091436026.py\u001b[0m in \u001b[0;36m<module>\u001b[0;34m\u001b[0m\n\u001b[0;32m----> 1\u001b[0;31m \u001b[0;32mfor\u001b[0m \u001b[0mresult\u001b[0m \u001b[0;32min\u001b[0m \u001b[0mcnx\u001b[0m\u001b[0;34m.\u001b[0m\u001b[0mcmd_query_iter\u001b[0m\u001b[0;34m(\u001b[0m\u001b[0mquery\u001b[0m\u001b[0;34m)\u001b[0m\u001b[0;34m:\u001b[0m\u001b[0;34m\u001b[0m\u001b[0;34m\u001b[0m\u001b[0m\n\u001b[0m\u001b[1;32m      2\u001b[0m     \u001b[0;32mif\u001b[0m \u001b[0;34m'columns'\u001b[0m \u001b[0;32min\u001b[0m \u001b[0mresult\u001b[0m\u001b[0;34m:\u001b[0m\u001b[0;34m\u001b[0m\u001b[0;34m\u001b[0m\u001b[0m\n\u001b[1;32m      3\u001b[0m         \u001b[0mcolumns\u001b[0m \u001b[0;34m=\u001b[0m \u001b[0mresult\u001b[0m\u001b[0;34m[\u001b[0m\u001b[0;34m'columns'\u001b[0m\u001b[0;34m]\u001b[0m\u001b[0;34m\u001b[0m\u001b[0;34m\u001b[0m\u001b[0m\n\u001b[1;32m      4\u001b[0m         \u001b[0mrows\u001b[0m \u001b[0;34m=\u001b[0m \u001b[0mcnx\u001b[0m\u001b[0;34m.\u001b[0m\u001b[0mget_rows\u001b[0m\u001b[0;34m(\u001b[0m\u001b[0;34m)\u001b[0m\u001b[0;34m\u001b[0m\u001b[0;34m\u001b[0m\u001b[0m\n\u001b[1;32m      5\u001b[0m     \u001b[0;32melse\u001b[0m\u001b[0;34m:\u001b[0m\u001b[0;34m\u001b[0m\u001b[0;34m\u001b[0m\u001b[0m\n",
      "\u001b[0;32m/usr/lib/python3/dist-packages/mysql/connector/connection.py\u001b[0m in \u001b[0;36mcmd_query_iter\u001b[0;34m(self, statements)\u001b[0m\n\u001b[1;32m    582\u001b[0m \u001b[0;34m\u001b[0m\u001b[0m\n\u001b[1;32m    583\u001b[0m         \u001b[0;31m# Handle the first query result\u001b[0m\u001b[0;34m\u001b[0m\u001b[0;34m\u001b[0m\u001b[0;34m\u001b[0m\u001b[0m\n\u001b[0;32m--> 584\u001b[0;31m         \u001b[0;32myield\u001b[0m \u001b[0mself\u001b[0m\u001b[0;34m.\u001b[0m\u001b[0m_handle_result\u001b[0m\u001b[0;34m(\u001b[0m\u001b[0mself\u001b[0m\u001b[0;34m.\u001b[0m\u001b[0m_send_cmd\u001b[0m\u001b[0;34m(\u001b[0m\u001b[0mServerCmd\u001b[0m\u001b[0;34m.\u001b[0m\u001b[0mQUERY\u001b[0m\u001b[0;34m,\u001b[0m \u001b[0mstatements\u001b[0m\u001b[0;34m)\u001b[0m\u001b[0;34m)\u001b[0m\u001b[0;34m\u001b[0m\u001b[0;34m\u001b[0m\u001b[0m\n\u001b[0m\u001b[1;32m    585\u001b[0m \u001b[0;34m\u001b[0m\u001b[0m\n\u001b[1;32m    586\u001b[0m         \u001b[0;31m# Handle next results, if any\u001b[0m\u001b[0;34m\u001b[0m\u001b[0;34m\u001b[0m\u001b[0;34m\u001b[0m\u001b[0m\n",
      "\u001b[0;32m/usr/lib/python3/dist-packages/mysql/connector/connection.py\u001b[0m in \u001b[0;36m_send_cmd\u001b[0;34m(self, command, argument, packet_number, packet, expect_response, compressed_packet_number)\u001b[0m\n\u001b[1;32m    304\u001b[0m \u001b[0;34m\u001b[0m\u001b[0m\n\u001b[1;32m    305\u001b[0m         \u001b[0;32mtry\u001b[0m\u001b[0;34m:\u001b[0m\u001b[0;34m\u001b[0m\u001b[0;34m\u001b[0m\u001b[0m\n\u001b[0;32m--> 306\u001b[0;31m             self._socket.send(\n\u001b[0m\u001b[1;32m    307\u001b[0m                 \u001b[0mself\u001b[0m\u001b[0;34m.\u001b[0m\u001b[0m_protocol\u001b[0m\u001b[0;34m.\u001b[0m\u001b[0mmake_command\u001b[0m\u001b[0;34m(\u001b[0m\u001b[0mcommand\u001b[0m\u001b[0;34m,\u001b[0m \u001b[0mpacket\u001b[0m \u001b[0;32mor\u001b[0m \u001b[0margument\u001b[0m\u001b[0;34m)\u001b[0m\u001b[0;34m,\u001b[0m\u001b[0;34m\u001b[0m\u001b[0;34m\u001b[0m\u001b[0m\n\u001b[1;32m    308\u001b[0m                 packet_number, compressed_packet_number)\n",
      "\u001b[0;32m/usr/lib/python3/dist-packages/mysql/connector/network.py\u001b[0m in \u001b[0;36msend_plain\u001b[0;34m(self, buf, packet_number, compressed_packet_number)\u001b[0m\n\u001b[1;32m    148\u001b[0m                     \u001b[0mself\u001b[0m\u001b[0;34m.\u001b[0m\u001b[0msock\u001b[0m\u001b[0;34m.\u001b[0m\u001b[0msendall\u001b[0m\u001b[0;34m(\u001b[0m\u001b[0mpacket\u001b[0m\u001b[0;34m)\u001b[0m\u001b[0;34m\u001b[0m\u001b[0;34m\u001b[0m\u001b[0m\n\u001b[1;32m    149\u001b[0m             \u001b[0;32mexcept\u001b[0m \u001b[0mIOError\u001b[0m \u001b[0;32mas\u001b[0m \u001b[0merr\u001b[0m\u001b[0;34m:\u001b[0m\u001b[0;34m\u001b[0m\u001b[0;34m\u001b[0m\u001b[0m\n\u001b[0;32m--> 150\u001b[0;31m                 raise errors.OperationalError(\n\u001b[0m\u001b[1;32m    151\u001b[0m                     errno=2055, values=(self.get_address(), _strioerror(err)))\n\u001b[1;32m    152\u001b[0m             \u001b[0;32mexcept\u001b[0m \u001b[0mAttributeError\u001b[0m\u001b[0;34m:\u001b[0m\u001b[0;34m\u001b[0m\u001b[0;34m\u001b[0m\u001b[0m\n",
      "\u001b[0;31mOperationalError\u001b[0m: 2055: Lost connection to MySQL server at '192.168.254.71:3306', system error: 9 Bad file descriptor"
     ]
    }
   ],
   "source": [
    "for result in cnx.cmd_query_iter(query):\n",
    "    if 'columns' in result:\n",
    "        columns = result['columns']\n",
    "        rows = cnx.get_rows()\n",
    "    else:\n",
    "        pass"
   ]
  },
  {
   "cell_type": "code",
   "execution_count": 68,
   "id": "964598bc-19bb-4cfa-a3d0-8a37d4cc89d9",
   "metadata": {},
   "outputs": [
    {
     "data": {
      "text/plain": [
       "<generator object MySQLCursor._execute_iter at 0x7f26b84364a0>"
      ]
     },
     "execution_count": 68,
     "metadata": {},
     "output_type": "execute_result"
    }
   ],
   "source": [
    "cursor.execute(query, multi=True)"
   ]
  },
  {
   "cell_type": "code",
   "execution_count": 64,
   "id": "dd397c5b-54a2-4333-b17d-7c6e1ef79e93",
   "metadata": {},
   "outputs": [
    {
     "ename": "IndexError",
     "evalue": "list index out of range",
     "output_type": "error",
     "traceback": [
      "\u001b[0;31m---------------------------------------------------------------------------\u001b[0m",
      "\u001b[0;31mIndexError\u001b[0m                                Traceback (most recent call last)",
      "\u001b[0;32m/tmp/ipykernel_35935/956068379.py\u001b[0m in \u001b[0;36m<module>\u001b[0;34m\u001b[0m\n\u001b[0;32m----> 1\u001b[0;31m \u001b[0mlist\u001b[0m\u001b[0;34m(\u001b[0m\u001b[0mcursor\u001b[0m\u001b[0;34m)\u001b[0m\u001b[0;34m[\u001b[0m\u001b[0;36m0\u001b[0m\u001b[0;34m]\u001b[0m\u001b[0;34m\u001b[0m\u001b[0;34m\u001b[0m\u001b[0m\n\u001b[0m",
      "\u001b[0;31mIndexError\u001b[0m: list index out of range"
     ]
    }
   ],
   "source": [
    "list(cursor)[0]"
   ]
  },
  {
   "cell_type": "code",
   "execution_count": 107,
   "id": "1280c93e-f693-48f1-892e-637614768d22",
   "metadata": {},
   "outputs": [],
   "source": [
    "query = 'DELETE FROM %s WHERE 1;'"
   ]
  },
  {
   "cell_type": "code",
   "execution_count": 41,
   "id": "2aafd3f8-3798-4c18-abed-7bb392069962",
   "metadata": {},
   "outputs": [
    {
     "name": "stdout",
     "output_type": "stream",
     "text": [
      "arraysize     execute      fetchwarnings  reset          stored_results\n",
      "callproc      executemany  getlastrowid   rowcount       with_rows     \n",
      "close         fetchall     lastrowid      setinputsizes\n",
      "column_names  fetchmany    next           setoutputsize\n",
      "description   fetchone     nextset        statement    \n"
     ]
    }
   ],
   "source": [
    "public(cursor)"
   ]
  },
  {
   "cell_type": "code",
   "execution_count": 42,
   "id": "a26f0eb8-58f6-4378-a1f6-df5bb4213ad3",
   "metadata": {},
   "outputs": [
    {
     "name": "stdout",
     "output_type": "stream",
     "text": [
      "Help on method fetchone in module mysql.connector.cursor:\n",
      "\n",
      "fetchone() method of mysql.connector.cursor.MySQLCursor instance\n",
      "    Returns next row of a query result set\n",
      "    \n",
      "    Returns a tuple or None.\n",
      "\n"
     ]
    }
   ],
   "source": [
    "help(cursor.fetchone)"
   ]
  },
  {
   "cell_type": "markdown",
   "id": "376e309e-dec9-44cf-9426-72522e9c6bca",
   "metadata": {},
   "source": [
    "## Clear out the database"
   ]
  },
  {
   "cell_type": "code",
   "execution_count": 110,
   "id": "fa19cb15-8ae1-4123-8f27-d01d4a6002a4",
   "metadata": {},
   "outputs": [
    {
     "ename": "ProgrammingError",
     "evalue": "1064 (42000): You have an error in your SQL syntax; check the manual that corresponds to your MariaDB server version for the right syntax to use near ''Authors' WHERE 1' at line 1",
     "output_type": "error",
     "traceback": [
      "\u001b[0;31m---------------------------------------------------------------------------\u001b[0m",
      "\u001b[0;31mProgrammingError\u001b[0m                          Traceback (most recent call last)",
      "\u001b[0;32m/tmp/ipykernel_35935/735120721.py\u001b[0m in \u001b[0;36m<module>\u001b[0;34m\u001b[0m\n\u001b[1;32m      1\u001b[0m \u001b[0;32mfor\u001b[0m \u001b[0mt\u001b[0m \u001b[0;32min\u001b[0m \u001b[0mTABLES\u001b[0m\u001b[0;34m:\u001b[0m\u001b[0;34m\u001b[0m\u001b[0;34m\u001b[0m\u001b[0m\n\u001b[0;32m----> 2\u001b[0;31m     \u001b[0mcursor\u001b[0m\u001b[0;34m.\u001b[0m\u001b[0mexecute\u001b[0m\u001b[0;34m(\u001b[0m\u001b[0mquery\u001b[0m\u001b[0;34m,\u001b[0m \u001b[0;34m(\u001b[0m\u001b[0mstr\u001b[0m\u001b[0;34m(\u001b[0m\u001b[0mt\u001b[0m\u001b[0;34m)\u001b[0m\u001b[0;34m,\u001b[0m\u001b[0;34m)\u001b[0m\u001b[0;34m)\u001b[0m\u001b[0;34m\u001b[0m\u001b[0;34m\u001b[0m\u001b[0m\n\u001b[0m",
      "\u001b[0;32m/usr/lib/python3/dist-packages/mysql/connector/cursor.py\u001b[0m in \u001b[0;36mexecute\u001b[0;34m(self, operation, params, multi)\u001b[0m\n\u001b[1;32m    567\u001b[0m \u001b[0;34m\u001b[0m\u001b[0m\n\u001b[1;32m    568\u001b[0m         \u001b[0;32mtry\u001b[0m\u001b[0;34m:\u001b[0m\u001b[0;34m\u001b[0m\u001b[0;34m\u001b[0m\u001b[0m\n\u001b[0;32m--> 569\u001b[0;31m             \u001b[0mself\u001b[0m\u001b[0;34m.\u001b[0m\u001b[0m_handle_result\u001b[0m\u001b[0;34m(\u001b[0m\u001b[0mself\u001b[0m\u001b[0;34m.\u001b[0m\u001b[0m_connection\u001b[0m\u001b[0;34m.\u001b[0m\u001b[0mcmd_query\u001b[0m\u001b[0;34m(\u001b[0m\u001b[0mstmt\u001b[0m\u001b[0;34m)\u001b[0m\u001b[0;34m)\u001b[0m\u001b[0;34m\u001b[0m\u001b[0;34m\u001b[0m\u001b[0m\n\u001b[0m\u001b[1;32m    570\u001b[0m         \u001b[0;32mexcept\u001b[0m \u001b[0merrors\u001b[0m\u001b[0;34m.\u001b[0m\u001b[0mInterfaceError\u001b[0m\u001b[0;34m:\u001b[0m\u001b[0;34m\u001b[0m\u001b[0;34m\u001b[0m\u001b[0m\n\u001b[1;32m    571\u001b[0m             \u001b[0;32mif\u001b[0m \u001b[0mself\u001b[0m\u001b[0;34m.\u001b[0m\u001b[0m_connection\u001b[0m\u001b[0;34m.\u001b[0m\u001b[0m_have_next_result\u001b[0m\u001b[0;34m:\u001b[0m  \u001b[0;31m# pylint: disable=W0212\u001b[0m\u001b[0;34m\u001b[0m\u001b[0;34m\u001b[0m\u001b[0m\n",
      "\u001b[0;32m/usr/lib/python3/dist-packages/mysql/connector/connection.py\u001b[0m in \u001b[0;36mcmd_query\u001b[0;34m(self, query, raw, buffered, raw_as_string)\u001b[0m\n\u001b[1;32m    551\u001b[0m         \u001b[0;32mif\u001b[0m \u001b[0;32mnot\u001b[0m \u001b[0misinstance\u001b[0m\u001b[0;34m(\u001b[0m\u001b[0mquery\u001b[0m\u001b[0;34m,\u001b[0m \u001b[0mbytes\u001b[0m\u001b[0;34m)\u001b[0m\u001b[0;34m:\u001b[0m\u001b[0;34m\u001b[0m\u001b[0;34m\u001b[0m\u001b[0m\n\u001b[1;32m    552\u001b[0m             \u001b[0mquery\u001b[0m \u001b[0;34m=\u001b[0m \u001b[0mquery\u001b[0m\u001b[0;34m.\u001b[0m\u001b[0mencode\u001b[0m\u001b[0;34m(\u001b[0m\u001b[0;34m'utf-8'\u001b[0m\u001b[0;34m)\u001b[0m\u001b[0;34m\u001b[0m\u001b[0;34m\u001b[0m\u001b[0m\n\u001b[0;32m--> 553\u001b[0;31m         \u001b[0mresult\u001b[0m \u001b[0;34m=\u001b[0m \u001b[0mself\u001b[0m\u001b[0;34m.\u001b[0m\u001b[0m_handle_result\u001b[0m\u001b[0;34m(\u001b[0m\u001b[0mself\u001b[0m\u001b[0;34m.\u001b[0m\u001b[0m_send_cmd\u001b[0m\u001b[0;34m(\u001b[0m\u001b[0mServerCmd\u001b[0m\u001b[0;34m.\u001b[0m\u001b[0mQUERY\u001b[0m\u001b[0;34m,\u001b[0m \u001b[0mquery\u001b[0m\u001b[0;34m)\u001b[0m\u001b[0;34m)\u001b[0m\u001b[0;34m\u001b[0m\u001b[0;34m\u001b[0m\u001b[0m\n\u001b[0m\u001b[1;32m    554\u001b[0m \u001b[0;34m\u001b[0m\u001b[0m\n\u001b[1;32m    555\u001b[0m         \u001b[0;32mif\u001b[0m \u001b[0mself\u001b[0m\u001b[0;34m.\u001b[0m\u001b[0m_have_next_result\u001b[0m\u001b[0;34m:\u001b[0m\u001b[0;34m\u001b[0m\u001b[0;34m\u001b[0m\u001b[0m\n",
      "\u001b[0;32m/usr/lib/python3/dist-packages/mysql/connector/connection.py\u001b[0m in \u001b[0;36m_handle_result\u001b[0;34m(self, packet)\u001b[0m\n\u001b[1;32m    440\u001b[0m             \u001b[0;32mreturn\u001b[0m \u001b[0mself\u001b[0m\u001b[0;34m.\u001b[0m\u001b[0m_handle_eof\u001b[0m\u001b[0;34m(\u001b[0m\u001b[0mpacket\u001b[0m\u001b[0;34m)\u001b[0m\u001b[0;34m\u001b[0m\u001b[0;34m\u001b[0m\u001b[0m\n\u001b[1;32m    441\u001b[0m         \u001b[0;32melif\u001b[0m \u001b[0mpacket\u001b[0m\u001b[0;34m[\u001b[0m\u001b[0;36m4\u001b[0m\u001b[0;34m]\u001b[0m \u001b[0;34m==\u001b[0m \u001b[0;36m255\u001b[0m\u001b[0;34m:\u001b[0m\u001b[0;34m\u001b[0m\u001b[0;34m\u001b[0m\u001b[0m\n\u001b[0;32m--> 442\u001b[0;31m             \u001b[0;32mraise\u001b[0m \u001b[0merrors\u001b[0m\u001b[0;34m.\u001b[0m\u001b[0mget_exception\u001b[0m\u001b[0;34m(\u001b[0m\u001b[0mpacket\u001b[0m\u001b[0;34m)\u001b[0m\u001b[0;34m\u001b[0m\u001b[0;34m\u001b[0m\u001b[0m\n\u001b[0m\u001b[1;32m    443\u001b[0m \u001b[0;34m\u001b[0m\u001b[0m\n\u001b[1;32m    444\u001b[0m         \u001b[0;31m# We have a text result set\u001b[0m\u001b[0;34m\u001b[0m\u001b[0;34m\u001b[0m\u001b[0;34m\u001b[0m\u001b[0m\n",
      "\u001b[0;31mProgrammingError\u001b[0m: 1064 (42000): You have an error in your SQL syntax; check the manual that corresponds to your MariaDB server version for the right syntax to use near ''Authors' WHERE 1' at line 1"
     ]
    }
   ],
   "source": [
    "for t in TABLES:\n",
    "    cursor.execute(query, (str(t),))"
   ]
  },
  {
   "cell_type": "code",
   "execution_count": 92,
   "id": "66f994a7-b9aa-4199-9a43-80f5ed199aff",
   "metadata": {},
   "outputs": [
    {
     "data": {
      "text/plain": [
       "\"mysql -h 192.168.254.71 -u fuzzy -p='pq4nkb3f&zz^m^sql' < sql/clear.sql\""
      ]
     },
     "execution_count": 92,
     "metadata": {},
     "output_type": "execute_result"
    }
   ],
   "source": [
    "s = f\"\"\"mysql -h {cnf[\"ENVIRONMENT\"][\"server_ip\"]} -u {getuser()} -p='{(Path.home() / cnf[\"DATABASE\"][\"PASS_FILE\"]).read_text()}' < sql/clear.sql\"\"\"\n",
    "s"
   ]
  },
  {
   "cell_type": "code",
   "execution_count": 83,
   "id": "ca18ee8f-1adc-4ee6-b638-54f877fa7d89",
   "metadata": {},
   "outputs": [
    {
     "name": "stdout",
     "output_type": "stream",
     "text": [
      "mysql  Ver 8.0.26-0ubuntu0.20.04.2 for Linux on x86_64 ((Ubuntu))\n",
      "Copyright (c) 2000, 2021, Oracle and/or its affiliates.\n",
      "\n",
      "Oracle is a registered trademark of Oracle Corporation and/or its\n",
      "affiliates. Other names may be trademarks of their respective\n",
      "owners.\n",
      "\n",
      "Usage: mysql [OPTIONS] [database]\n",
      "  -?, --help          Display this help and exit.\n",
      "  -I, --help          Synonym for -?\n",
      "  --auto-rehash       Enable automatic rehashing. One doesn't need to use\n",
      "                      'rehash' to get table and field completion, but startup\n",
      "                      and reconnecting may take a longer time. Disable with\n",
      "                      --disable-auto-rehash.\n",
      "                      (Defaults to on; use --skip-auto-rehash to disable.)\n",
      "  -A, --no-auto-rehash \n",
      "                      No automatic rehashing. One has to use 'rehash' to get\n",
      "                      table and field completion. This gives a quicker start of\n",
      "                      mysql and disables rehashing on reconnect.\n",
      "  --auto-vertical-output \n",
      "                      Automatically switch to vertical output mode if the\n",
      "                      result is wider than the terminal width.\n",
      "  -B, --batch         Don't use history file. Disable interactive behavior.\n",
      "                      (Enables --silent.)\n",
      "  --bind-address=name IP address to bind to.\n",
      "  --binary-as-hex     Print binary data as hex. Enabled by default for\n",
      "                      interactive terminals.\n",
      "  --character-sets-dir=name \n",
      "                      Directory for character set files.\n",
      "  --column-type-info  Display column type information.\n",
      "  -c, --comments      Preserve comments. Send comments to the server. The\n",
      "                      default is --skip-comments (discard comments), enable\n",
      "                      with --comments.\n",
      "  -C, --compress      Use compression in server/client protocol.\n",
      "  -#, --debug[=#]     This is a non-debug version. Catch this and exit.\n",
      "  --debug-check       This is a non-debug version. Catch this and exit.\n",
      "  -T, --debug-info    This is a non-debug version. Catch this and exit.\n",
      "  -D, --database=name Database to use.\n",
      "  --default-character-set=name \n",
      "                      Set the default character set.\n",
      "  --delimiter=name    Delimiter to be used.\n",
      "  --enable-cleartext-plugin \n",
      "                      Enable/disable the clear text authentication plugin.\n",
      "  -e, --execute=name  Execute command and quit. (Disables --force and history\n",
      "                      file.)\n",
      "  -E, --vertical      Print the output of a query (rows) vertically.\n",
      "  -f, --force         Continue even if we get an SQL error.\n",
      "  --histignore=name   A colon-separated list of patterns to keep statements\n",
      "                      from getting logged into syslog and mysql history.\n",
      "  -G, --named-commands \n",
      "                      Enable named commands. Named commands mean this program's\n",
      "                      internal commands; see mysql> help . When enabled, the\n",
      "                      named commands can be used from any line of the query,\n",
      "                      otherwise only from the first line, before an enter.\n",
      "                      Disable with --disable-named-commands. This option is\n",
      "                      disabled by default.\n",
      "  -i, --ignore-spaces Ignore space after function names.\n",
      "  --init-command=name SQL Command to execute when connecting to MySQL server.\n",
      "                      Will automatically be re-executed when reconnecting.\n",
      "  --local-infile      Enable/disable LOAD DATA LOCAL INFILE.\n",
      "  -b, --no-beep       Turn off beep on error.\n",
      "  -h, --host=name     Connect to host.\n",
      "  --dns-srv-name=name Connect to a DNS SRV resource\n",
      "  -H, --html          Produce HTML output.\n",
      "  -X, --xml           Produce XML output.\n",
      "  --line-numbers      Write line numbers for errors.\n",
      "                      (Defaults to on; use --skip-line-numbers to disable.)\n",
      "  -L, --skip-line-numbers \n",
      "                      Don't write line number for errors.\n",
      "  -n, --unbuffered    Flush buffer after each query.\n",
      "  --column-names      Write column names in results.\n",
      "                      (Defaults to on; use --skip-column-names to disable.)\n",
      "  -N, --skip-column-names \n",
      "                      Don't write column names in results.\n",
      "  --sigint-ignore     Ignore SIGINT (CTRL-C).\n",
      "  -o, --one-database  Ignore statements except those that occur while the\n",
      "                      default database is the one named at the command line.\n",
      "  --pager[=name]      Pager to use to display results. If you don't supply an\n",
      "                      option, the default pager is taken from your ENV variable\n",
      "                      PAGER. Valid pagers are less, more, cat [> filename],\n",
      "                      etc. See interactive help (\\h) also. This option does not\n",
      "                      work in batch mode. Disable with --disable-pager. This\n",
      "                      option is disabled by default.\n",
      "  -p, --password[=name] \n",
      "                      Password to use when connecting to server. If password is\n",
      "                      not given it's asked from the tty.\n",
      "  -P, --port=#        Port number to use for connection or 0 for default to, in\n",
      "                      order of preference, my.cnf, $MYSQL_TCP_PORT,\n",
      "                      /etc/services, built-in default (3306).\n",
      "  --prompt=name       Set the mysql prompt to this value.\n",
      "  --protocol=name     The protocol to use for connection (tcp, socket, pipe,\n",
      "                      memory).\n",
      "  -q, --quick         Don't cache result, print it row by row. This may slow\n",
      "                      down the server if the output is suspended. Doesn't use\n",
      "                      history file.\n",
      "  -r, --raw           Write fields without conversion. Used with --batch.\n",
      "  --reconnect         Reconnect if the connection is lost. Disable with\n",
      "                      --disable-reconnect. This option is enabled by default.\n",
      "                      (Defaults to on; use --skip-reconnect to disable.)\n",
      "  -s, --silent        Be more silent. Print results with a tab as separator,\n",
      "                      each row on new line.\n",
      "  -S, --socket=name   The socket file to use for connection.\n",
      "  --server-public-key-path=name \n",
      "                      File path to the server public RSA key in PEM format.\n",
      "  --get-server-public-key \n",
      "                      Get server public key\n",
      "  --ssl-mode=name     SSL connection mode.\n",
      "  --ssl-ca=name       CA file in PEM format.\n",
      "  --ssl-capath=name   CA directory.\n",
      "  --ssl-cert=name     X509 cert in PEM format.\n",
      "  --ssl-cipher=name   SSL cipher to use.\n",
      "  --ssl-key=name      X509 key in PEM format.\n",
      "  --ssl-crl=name      Certificate revocation list.\n",
      "  --ssl-crlpath=name  Certificate revocation list path.\n",
      "  --tls-version=name  TLS version to use, permitted values are: TLSv1, TLSv1.1,\n",
      "                      TLSv1.2, TLSv1.3\n",
      "  --ssl-fips-mode=name \n",
      "                      SSL FIPS mode (applies only for OpenSSL); permitted\n",
      "                      values are: OFF, ON, STRICT\n",
      "  --tls-ciphersuites=name \n",
      "                      TLS v1.3 cipher to use.\n",
      "  -t, --table         Output in table format.\n",
      "  --tee=name          Append everything into outfile. See interactive help (\\h)\n",
      "                      also. Does not work in batch mode. Disable with\n",
      "                      --disable-tee. This option is disabled by default.\n",
      "  -u, --user=name     User for login if not current user.\n",
      "  -U, --safe-updates  Only allow UPDATE and DELETE that uses keys.\n",
      "  -U, --i-am-a-dummy  Synonym for option --safe-updates, -U.\n",
      "  -v, --verbose       Write more. (-v -v -v gives the table output format).\n",
      "  -V, --version       Output version information and exit.\n",
      "  -w, --wait          Wait and retry if connection is down.\n",
      "  --connect-timeout=# Number of seconds before connection timeout.\n",
      "  --max-allowed-packet=# \n",
      "                      The maximum packet length to send to or receive from\n",
      "                      server.\n",
      "  --net-buffer-length=# \n",
      "                      The buffer size for TCP/IP and socket communication.\n",
      "  --select-limit=#    Automatic limit for SELECT when using --safe-updates.\n",
      "  --max-join-size=#   Automatic limit for rows in a join when using\n",
      "                      --safe-updates.\n",
      "  --show-warnings     Show warnings after every statement.\n",
      "  -j, --syslog        Log filtered interactive commands to syslog. Filtering of\n",
      "                      commands depends on the patterns supplied via histignore\n",
      "                      option besides the default patterns.\n",
      "  --plugin-dir=name   Directory for client-side plugins.\n",
      "  --default-auth=name Default authentication client-side plugin to use.\n",
      "  --binary-mode       By default, ASCII '\\0' is disallowed and '\\r\\n' is\n",
      "                      translated to '\\n'. This switch turns off both features,\n",
      "                      and also turns off parsing of all clientcommands except\n",
      "                      \\C and DELIMITER, in non-interactive mode (for input\n",
      "                      piped to mysql or loaded using the 'source' command).\n",
      "                      This is necessary when processing output from mysqlbinlog\n",
      "                      that may contain blobs.\n",
      "  --connect-expired-password \n",
      "                      Notify the server that this client is prepared to handle\n",
      "                      expired password sandbox mode.\n",
      "  --network-namespace=name \n",
      "                      Network namespace to use for connection via tcp with a\n",
      "                      server.\n",
      "  --compression-algorithms=name \n",
      "                      Use compression algorithm in server/client protocol.\n",
      "                      Valid values are any combination of\n",
      "                      'zstd','zlib','uncompressed'.\n",
      "  --zstd-compression-level=# \n",
      "                      Use this compression level in the client/server protocol,\n",
      "                      in case --compression-algorithms=zstd. Valid range is\n",
      "                      between 1 and 22, inclusive. Default is 3.\n",
      "  --load-data-local-dir=name \n",
      "                      Directory path safe for LOAD DATA LOCAL INFILE to read\n",
      "                      from.\n",
      "\n",
      "Default options are read from the following files in the given order:\n",
      "/etc/my.cnf /etc/mysql/my.cnf ~/.my.cnf \n",
      "The following groups are read: mysql client\n",
      "The following options may be given as the first argument:\n",
      "--print-defaults        Print the program argument list and exit.\n",
      "--no-defaults           Don't read default options from any option file,\n",
      "                        except for login file.\n",
      "--defaults-file=#       Only read default options from the given file #.\n",
      "--defaults-extra-file=# Read this file after the global files are read.\n",
      "--defaults-group-suffix=#\n",
      "                        Also read groups with concat(group, suffix)\n",
      "--login-path=#          Read this path from the login file.\n",
      "\n",
      "Variables (--variable-name=value)\n",
      "and boolean options {FALSE|TRUE}  Value (after reading options)\n",
      "--------------------------------- ----------------------------------------\n",
      "auto-rehash                       TRUE\n",
      "auto-vertical-output              FALSE\n",
      "bind-address                      (No default value)\n",
      "binary-as-hex                     FALSE\n",
      "character-sets-dir                (No default value)\n",
      "column-type-info                  FALSE\n",
      "comments                          FALSE\n",
      "compress                          FALSE\n",
      "database                          (No default value)\n",
      "default-character-set             auto\n",
      "delimiter                         ;\n",
      "enable-cleartext-plugin           FALSE\n",
      "vertical                          FALSE\n",
      "force                             FALSE\n",
      "histignore                        (No default value)\n",
      "named-commands                    FALSE\n",
      "ignore-spaces                     FALSE\n",
      "init-command                      (No default value)\n",
      "local-infile                      FALSE\n",
      "no-beep                           FALSE\n",
      "host                              (No default value)\n",
      "dns-srv-name                      (No default value)\n",
      "html                              FALSE\n",
      "xml                               FALSE\n",
      "line-numbers                      TRUE\n",
      "unbuffered                        FALSE\n",
      "column-names                      TRUE\n",
      "sigint-ignore                     FALSE\n",
      "port                              0\n",
      "prompt                            mysql> \n",
      "quick                             FALSE\n",
      "raw                               FALSE\n",
      "reconnect                         TRUE\n",
      "socket                            (No default value)\n",
      "server-public-key-path            (No default value)\n",
      "get-server-public-key             FALSE\n",
      "ssl-ca                            (No default value)\n",
      "ssl-capath                        (No default value)\n",
      "ssl-cert                          (No default value)\n",
      "ssl-cipher                        (No default value)\n",
      "ssl-key                           (No default value)\n",
      "ssl-crl                           (No default value)\n",
      "ssl-crlpath                       (No default value)\n",
      "tls-version                       (No default value)\n",
      "tls-ciphersuites                  (No default value)\n",
      "table                             FALSE\n",
      "user                              (No default value)\n",
      "safe-updates                      FALSE\n",
      "i-am-a-dummy                      FALSE\n",
      "connect-timeout                   0\n",
      "max-allowed-packet                16777216\n",
      "net-buffer-length                 16384\n",
      "select-limit                      1000\n",
      "max-join-size                     1000000\n",
      "show-warnings                     FALSE\n",
      "plugin-dir                        (No default value)\n",
      "default-auth                      (No default value)\n",
      "binary-mode                       FALSE\n",
      "connect-expired-password          FALSE\n",
      "network-namespace                 (No default value)\n",
      "compression-algorithms            (No default value)\n",
      "zstd-compression-level            3\n",
      "load-data-local-dir               (No default value)\n"
     ]
    }
   ],
   "source": [
    "! mysql --help"
   ]
  },
  {
   "cell_type": "code",
   "execution_count": 74,
   "id": "9db8a894-6463-463f-8db1-17c49e94576f",
   "metadata": {},
   "outputs": [
    {
     "data": {
      "text/plain": [
       "True"
      ]
     },
     "execution_count": 74,
     "metadata": {},
     "output_type": "execute_result"
    }
   ],
   "source": [
    "cursor.close()"
   ]
  },
  {
   "cell_type": "code",
   "execution_count": 75,
   "id": "ab19e1c9-389f-4d4c-941e-f5561080762f",
   "metadata": {},
   "outputs": [],
   "source": [
    "cnx.close()"
   ]
  },
  {
   "cell_type": "code",
   "execution_count": null,
   "id": "f36c07b1-d476-4b84-8a36-5585e6c05df9",
   "metadata": {},
   "outputs": [],
   "source": []
  }
 ],
 "metadata": {
  "kernelspec": {
   "display_name": "Python 3 (ipykernel)",
   "language": "python",
   "name": "python3"
  },
  "language_info": {
   "codemirror_mode": {
    "name": "ipython",
    "version": 3
   },
   "file_extension": ".py",
   "mimetype": "text/x-python",
   "name": "python",
   "nbconvert_exporter": "python",
   "pygments_lexer": "ipython3",
   "version": "3.8.10"
  }
 },
 "nbformat": 4,
 "nbformat_minor": 5
}
