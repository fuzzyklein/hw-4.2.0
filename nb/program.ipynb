{
 "cells": [
  {
   "cell_type": "code",
   "execution_count": 4,
   "id": "72a8fa9e-6ea6-4d8e-9387-e892be8ae5eb",
   "metadata": {},
   "outputs": [],
   "source": [
    "from pathlib import Path\n",
    "import site"
   ]
  },
  {
   "cell_type": "code",
   "execution_count": 5,
   "id": "97e08594-0090-40b8-98e9-06f447b436a4",
   "metadata": {},
   "outputs": [],
   "source": [
    "BASEDIR = Path.home() / 'Development/hw-4.2.0'\n",
    "site.addsitedir(str(BASEDIR / 'hw'))\n",
    "from tools import *"
   ]
  },
  {
   "cell_type": "code",
   "execution_count": 6,
   "id": "ce253445-ce10-46d5-a449-9fc586e5251d",
   "metadata": {},
   "outputs": [],
   "source": [
    "from program import Program"
   ]
  },
  {
   "cell_type": "code",
   "execution_count": 7,
   "id": "78ace0dd-690f-4de7-a2b6-b5fc5fe63620",
   "metadata": {},
   "outputs": [
    {
     "name": "stdout",
     "output_type": "stream",
     "text": [
      " Initializing program...\n"
     ]
    }
   ],
   "source": [
    "prog = Program()"
   ]
  },
  {
   "cell_type": "code",
   "execution_count": 8,
   "id": "561d126e-7800-4dee-b50a-de58605fd50d",
   "metadata": {},
   "outputs": [
    {
     "data": {
      "text/plain": [
       "{'logfile': 'log/hw.log',\n",
       " 'program': 'hw',\n",
       " 'version': '4.2.0',\n",
       " 'packages_dir': \"'Development/py'\",\n",
       " 'args_json_file': 'etc/arguments.json',\n",
       " 'epilog': 'data/epilog.txt',\n",
       " 'verbose': False,\n",
       " 'debug': False,\n",
       " 'args': [],\n",
       " 'testing': False}"
      ]
     },
     "execution_count": 8,
     "metadata": {},
     "output_type": "execute_result"
    }
   ],
   "source": [
    "prog.settings"
   ]
  },
  {
   "cell_type": "code",
   "execution_count": null,
   "id": "11385f78-bdc1-4304-a0ff-c4dfd05a143a",
   "metadata": {},
   "outputs": [],
   "source": []
  }
 ],
 "metadata": {
  "kernelspec": {
   "display_name": "Python 3 (ipykernel)",
   "language": "python",
   "name": "python3"
  },
  "language_info": {
   "codemirror_mode": {
    "name": "ipython",
    "version": 3
   },
   "file_extension": ".py",
   "mimetype": "text/x-python",
   "name": "python",
   "nbconvert_exporter": "python",
   "pygments_lexer": "ipython3",
   "version": "3.8.10"
  }
 },
 "nbformat": 4,
 "nbformat_minor": 5
}
