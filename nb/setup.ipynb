{
 "cells": [
  {
   "cell_type": "code",
   "execution_count": 1,
   "id": "5b1e0f02-98fe-4d92-afb1-37bf1c26c428",
   "metadata": {},
   "outputs": [],
   "source": [
    "import os"
   ]
  },
  {
   "cell_type": "markdown",
   "id": "24f0bbbf-ea11-4af3-96ca-22af91b3f6ad",
   "metadata": {},
   "source": [
    "## [Packaging Python Projects](https://packaging.python.org/tutorials/packaging-projects/)"
   ]
  },
  {
   "cell_type": "markdown",
   "id": "8bb2aec4-2def-4333-bc2b-bb4baf1707cb",
   "metadata": {},
   "source": [
    "## Determine the Current Operating System"
   ]
  },
  {
   "cell_type": "code",
   "execution_count": 2,
   "id": "e0cc0e8d-3047-433b-81b8-c263bac34fc5",
   "metadata": {},
   "outputs": [
    {
     "data": {
      "text/plain": [
       "False"
      ]
     },
     "execution_count": 2,
     "metadata": {},
     "output_type": "execute_result"
    }
   ],
   "source": [
    "RUNNING_WINDOWS = os.name == 'nt'\n",
    "RUNNING_WINDOWS"
   ]
  },
  {
   "cell_type": "code",
   "execution_count": 3,
   "id": "10a5245b-99d4-438a-ad4c-85f614dd7e10",
   "metadata": {},
   "outputs": [],
   "source": [
    "import gzip\n",
    "import os\n",
    "from pandas import DataFrame, Series\n",
    "from subprocess import check_output\n",
    "import sys\n",
    "import tarfile\n",
    "from tempfile import NamedTemporaryFile as TempFile\n",
    "from pathlib import Path\n",
    "\n",
    "DEVELOP_DIRS  = {'source code' : 'src',\n",
    "                 'header files' : 'include',\n",
    "                 'object file' : 'lib',\n",
    "                 'uninstalled' : 'Source',\n",
    "                 'installed' : 'Archive',\n",
    "                 'executables' : 'bin',\n",
    "                 'temp' : 'tmp',\n",
    "                 'devel' : 'Development'\n",
    "                }\n",
    "\n",
    "HOME = Path.home()\n",
    "\n",
    "DEVELOP_DIRS = { k : str(HOME / v) for k, v in DEVELOP_DIRS.items() }\n",
    "\n",
    "VERSION = '4.2.0'\n",
    "packages = ['hw', 'files', 'tools', 'ws']\n",
    "for p in packages:\n",
    "    s = f'{DEVELOP_DIRS[\"devel\"]}/{p}-{VERSION}'\n",
    "    if not s in sys.path:\n",
    "        sys.path.insert(0, s)\n",
    "\n"
   ]
  },
  {
   "cell_type": "code",
   "execution_count": 4,
   "id": "cef650db-4cf0-4e0e-8678-e4270249db71",
   "metadata": {},
   "outputs": [],
   "source": [
    "import xdg"
   ]
  },
  {
   "cell_type": "code",
   "execution_count": 11,
   "id": "a378a3d0-5bd4-4b15-9354-a348837393ad",
   "metadata": {},
   "outputs": [],
   "source": [
    "from tools.tools import *"
   ]
  },
  {
   "cell_type": "code",
   "execution_count": 14,
   "id": "1d7f2baa-cb38-4cd3-8fa4-f9dcb77131da",
   "metadata": {},
   "outputs": [
    {
     "name": "stdout",
     "output_type": "stream",
     "text": [
      "Help on package xdg:\n",
      "\n",
      "NAME\n",
      "    xdg\n",
      "\n",
      "PACKAGE CONTENTS\n",
      "    BaseDirectory\n",
      "    Config\n",
      "    DesktopEntry\n",
      "    Exceptions\n",
      "    IconTheme\n",
      "    IniFile\n",
      "    Locale\n",
      "    Menu\n",
      "    MenuEditor\n",
      "    Mime\n",
      "    RecentFiles\n",
      "    util\n",
      "\n",
      "DATA\n",
      "    __all__ = ['BaseDirectory', 'DesktopEntry', 'Menu', 'Exceptions', 'Ini...\n",
      "\n",
      "VERSION\n",
      "    0.26\n",
      "\n",
      "FILE\n",
      "    /usr/lib/python3/dist-packages/xdg/__init__.py\n",
      "\n",
      "\n"
     ]
    }
   ],
   "source": [
    "help(xdg)"
   ]
  },
  {
   "cell_type": "code",
   "execution_count": 15,
   "id": "2ff6251f-587a-4598-8ca7-6fb7567f3e45",
   "metadata": {},
   "outputs": [
    {
     "ename": "AttributeError",
     "evalue": "module 'xdg' has no attribute 'BaseDirectory'",
     "output_type": "error",
     "traceback": [
      "\u001b[0;31m---------------------------------------------------------------------------\u001b[0m",
      "\u001b[0;31mAttributeError\u001b[0m                            Traceback (most recent call last)",
      "\u001b[0;32m/tmp/ipykernel_65168/4079784547.py\u001b[0m in \u001b[0;36m<module>\u001b[0;34m\u001b[0m\n\u001b[0;32m----> 1\u001b[0;31m \u001b[0mhelp\u001b[0m\u001b[0;34m(\u001b[0m\u001b[0mxdg\u001b[0m\u001b[0;34m.\u001b[0m\u001b[0mBaseDirectory\u001b[0m\u001b[0;34m)\u001b[0m\u001b[0;34m\u001b[0m\u001b[0;34m\u001b[0m\u001b[0m\n\u001b[0m",
      "\u001b[0;31mAttributeError\u001b[0m: module 'xdg' has no attribute 'BaseDirectory'"
     ]
    }
   ],
   "source": [
    "help(xdg.BaseDirectory)"
   ]
  },
  {
   "cell_type": "code",
   "execution_count": null,
   "id": "8c82d98f-bce9-4036-a6ac-eb7c46b11ae2",
   "metadata": {},
   "outputs": [],
   "source": [
    "dir(tools)"
   ]
  },
  {
   "cell_type": "code",
   "execution_count": 7,
   "id": "a54d7af6-8e84-47c4-9fa7-f7f57ab2ff18",
   "metadata": {},
   "outputs": [
    {
     "data": {
      "text/plain": [
       "['/home/fuzzy/Development/ws-4.2.0',\n",
       " '/home/fuzzy/Development/tools-4.2.0',\n",
       " '/home/fuzzy/Development/files-4.2.0',\n",
       " '/home/fuzzy/Development/hw-4.2.0',\n",
       " '/home/fuzzy/Development/hw-4.2.0/nb',\n",
       " '/usr/lib/python38.zip',\n",
       " '/usr/lib/python3.8',\n",
       " '/usr/lib/python3.8/lib-dynload',\n",
       " '',\n",
       " '/home/fuzzy/.local/lib/python3.8/site-packages',\n",
       " '/usr/local/lib/python3.8/dist-packages',\n",
       " '/usr/lib/python3/dist-packages',\n",
       " '/home/fuzzy/.local/lib/python3.8/site-packages/IPython/extensions',\n",
       " '/home/fuzzy/.ipython']"
      ]
     },
     "execution_count": 7,
     "metadata": {},
     "output_type": "execute_result"
    }
   ],
   "source": [
    "sys.path"
   ]
  },
  {
   "cell_type": "code",
   "execution_count": 8,
   "id": "d85c3e1f-2345-4709-afec-e6dd20c0aa67",
   "metadata": {},
   "outputs": [],
   "source": [
    "import tools"
   ]
  },
  {
   "cell_type": "code",
   "execution_count": 9,
   "id": "f04ba919-c5e6-4250-960c-3237e5009c6f",
   "metadata": {},
   "outputs": [
    {
     "data": {
      "text/plain": [
       "['__builtins__',\n",
       " '__cached__',\n",
       " '__doc__',\n",
       " '__file__',\n",
       " '__loader__',\n",
       " '__name__',\n",
       " '__package__',\n",
       " '__path__',\n",
       " '__spec__']"
      ]
     },
     "execution_count": 9,
     "metadata": {},
     "output_type": "execute_result"
    }
   ],
   "source": [
    "dir(tools)"
   ]
  },
  {
   "cell_type": "code",
   "execution_count": 10,
   "id": "8d959646-44c8-4c9a-9e80-a8b27cff726c",
   "metadata": {},
   "outputs": [
    {
     "data": {
      "text/plain": [
       "['/home/fuzzy/Development/tools-4.2.0/tools']"
      ]
     },
     "execution_count": 10,
     "metadata": {},
     "output_type": "execute_result"
    }
   ],
   "source": [
    "tools.__path__"
   ]
  },
  {
   "cell_type": "code",
   "execution_count": 16,
   "id": "c2f571fe-cef8-4a82-9f15-22b5e40dc879",
   "metadata": {},
   "outputs": [],
   "source": [
    "import xdg.BaseDirectory"
   ]
  },
  {
   "cell_type": "code",
   "execution_count": 17,
   "id": "32308697-dd1e-45e7-9d50-8852dd5d1e53",
   "metadata": {},
   "outputs": [
    {
     "name": "stdout",
     "output_type": "stream",
     "text": [
      "get_runtime_dir    os                stat             xdg_data_dirs\n",
      "load_config_paths  save_cache_path   xdg_cache_home   xdg_data_home\n",
      "load_data_paths    save_config_path  xdg_config_dirs\n",
      "load_first_config  save_data_path    xdg_config_home\n"
     ]
    }
   ],
   "source": [
    "public(xdg.BaseDirectory)"
   ]
  },
  {
   "cell_type": "code",
   "execution_count": 19,
   "id": "cb5886b4-afcf-4a74-a7a1-4ba4fe53b0f6",
   "metadata": {},
   "outputs": [
    {
     "name": "stdout",
     "output_type": "stream",
     "text": [
      "Help on function get_runtime_dir in module xdg.BaseDirectory:\n",
      "\n",
      "get_runtime_dir(strict=True)\n",
      "    Returns the value of $XDG_RUNTIME_DIR, a directory path.\n",
      "    \n",
      "    This directory is intended for 'user-specific non-essential runtime files\n",
      "    and other file objects (such as sockets, named pipes, ...)', and\n",
      "    'communication and synchronization purposes'.\n",
      "    \n",
      "    As of late 2012, only quite new systems set $XDG_RUNTIME_DIR. If it is not\n",
      "    set, with ``strict=True`` (the default), a KeyError is raised. With \n",
      "    ``strict=False``, PyXDG will create a fallback under /tmp for the current\n",
      "    user. This fallback does *not* provide the same guarantees as the\n",
      "    specification requires for the runtime directory.\n",
      "    \n",
      "    The strict default is deliberately conservative, so that application\n",
      "    developers can make a conscious decision to allow the fallback.\n",
      "\n"
     ]
    }
   ],
   "source": [
    "help(xdg.BaseDirectory.get_runtime_dir)"
   ]
  },
  {
   "cell_type": "markdown",
   "id": "d5fa281d-718c-42ff-a75d-553261dc9c09",
   "metadata": {},
   "source": [
    "## Install a Python Interpreter in Jupyter Lab"
   ]
  },
  {
   "cell_type": "code",
   "execution_count": 1,
   "id": "ad19880d-e4f0-4087-9ef9-24da6a2f87e4",
   "metadata": {},
   "outputs": [
    {
     "name": "stderr",
     "output_type": "stream",
     "text": [
      "/usr/bin/python3.9: No module named ipykernel\n"
     ]
    },
    {
     "ename": "CalledProcessError",
     "evalue": "Command 'b'python3.9 -m ipykernel install --user --name py3.9 --display-name \"Python 3.9\"\\n'' returned non-zero exit status 1.",
     "output_type": "error",
     "traceback": [
      "\u001b[0;31m---------------------------------------------------------------------------\u001b[0m",
      "\u001b[0;31mCalledProcessError\u001b[0m                        Traceback (most recent call last)",
      "\u001b[0;32m/tmp/ipykernel_45487/1012011808.py\u001b[0m in \u001b[0;36m<module>\u001b[0;34m\u001b[0m\n\u001b[0;32m----> 1\u001b[0;31m \u001b[0mget_ipython\u001b[0m\u001b[0;34m(\u001b[0m\u001b[0;34m)\u001b[0m\u001b[0;34m.\u001b[0m\u001b[0mrun_cell_magic\u001b[0m\u001b[0;34m(\u001b[0m\u001b[0;34m'bash'\u001b[0m\u001b[0;34m,\u001b[0m \u001b[0;34m''\u001b[0m\u001b[0;34m,\u001b[0m \u001b[0;34m'python3.9 -m ipykernel install --user --name py3.9 --display-name \"Python 3.9\"\\n'\u001b[0m\u001b[0;34m)\u001b[0m\u001b[0;34m\u001b[0m\u001b[0;34m\u001b[0m\u001b[0m\n\u001b[0m",
      "\u001b[0;32m~/.local/lib/python3.8/site-packages/IPython/core/interactiveshell.py\u001b[0m in \u001b[0;36mrun_cell_magic\u001b[0;34m(self, magic_name, line, cell)\u001b[0m\n\u001b[1;32m   2401\u001b[0m             \u001b[0;32mwith\u001b[0m \u001b[0mself\u001b[0m\u001b[0;34m.\u001b[0m\u001b[0mbuiltin_trap\u001b[0m\u001b[0;34m:\u001b[0m\u001b[0;34m\u001b[0m\u001b[0;34m\u001b[0m\u001b[0m\n\u001b[1;32m   2402\u001b[0m                 \u001b[0margs\u001b[0m \u001b[0;34m=\u001b[0m \u001b[0;34m(\u001b[0m\u001b[0mmagic_arg_s\u001b[0m\u001b[0;34m,\u001b[0m \u001b[0mcell\u001b[0m\u001b[0;34m)\u001b[0m\u001b[0;34m\u001b[0m\u001b[0;34m\u001b[0m\u001b[0m\n\u001b[0;32m-> 2403\u001b[0;31m                 \u001b[0mresult\u001b[0m \u001b[0;34m=\u001b[0m \u001b[0mfn\u001b[0m\u001b[0;34m(\u001b[0m\u001b[0;34m*\u001b[0m\u001b[0margs\u001b[0m\u001b[0;34m,\u001b[0m \u001b[0;34m**\u001b[0m\u001b[0mkwargs\u001b[0m\u001b[0;34m)\u001b[0m\u001b[0;34m\u001b[0m\u001b[0;34m\u001b[0m\u001b[0m\n\u001b[0m\u001b[1;32m   2404\u001b[0m             \u001b[0;32mreturn\u001b[0m \u001b[0mresult\u001b[0m\u001b[0;34m\u001b[0m\u001b[0;34m\u001b[0m\u001b[0m\n\u001b[1;32m   2405\u001b[0m \u001b[0;34m\u001b[0m\u001b[0m\n",
      "\u001b[0;32m~/.local/lib/python3.8/site-packages/IPython/core/magics/script.py\u001b[0m in \u001b[0;36mnamed_script_magic\u001b[0;34m(line, cell)\u001b[0m\n\u001b[1;32m    140\u001b[0m             \u001b[0;32melse\u001b[0m\u001b[0;34m:\u001b[0m\u001b[0;34m\u001b[0m\u001b[0;34m\u001b[0m\u001b[0m\n\u001b[1;32m    141\u001b[0m                 \u001b[0mline\u001b[0m \u001b[0;34m=\u001b[0m \u001b[0mscript\u001b[0m\u001b[0;34m\u001b[0m\u001b[0;34m\u001b[0m\u001b[0m\n\u001b[0;32m--> 142\u001b[0;31m             \u001b[0;32mreturn\u001b[0m \u001b[0mself\u001b[0m\u001b[0;34m.\u001b[0m\u001b[0mshebang\u001b[0m\u001b[0;34m(\u001b[0m\u001b[0mline\u001b[0m\u001b[0;34m,\u001b[0m \u001b[0mcell\u001b[0m\u001b[0;34m)\u001b[0m\u001b[0;34m\u001b[0m\u001b[0;34m\u001b[0m\u001b[0m\n\u001b[0m\u001b[1;32m    143\u001b[0m \u001b[0;34m\u001b[0m\u001b[0m\n\u001b[1;32m    144\u001b[0m         \u001b[0;31m# write a basic docstring:\u001b[0m\u001b[0;34m\u001b[0m\u001b[0;34m\u001b[0m\u001b[0;34m\u001b[0m\u001b[0m\n",
      "\u001b[0;32m~/.local/lib/python3.8/site-packages/decorator.py\u001b[0m in \u001b[0;36mfun\u001b[0;34m(*args, **kw)\u001b[0m\n\u001b[1;32m    230\u001b[0m             \u001b[0;32mif\u001b[0m \u001b[0;32mnot\u001b[0m \u001b[0mkwsyntax\u001b[0m\u001b[0;34m:\u001b[0m\u001b[0;34m\u001b[0m\u001b[0;34m\u001b[0m\u001b[0m\n\u001b[1;32m    231\u001b[0m                 \u001b[0margs\u001b[0m\u001b[0;34m,\u001b[0m \u001b[0mkw\u001b[0m \u001b[0;34m=\u001b[0m \u001b[0mfix\u001b[0m\u001b[0;34m(\u001b[0m\u001b[0margs\u001b[0m\u001b[0;34m,\u001b[0m \u001b[0mkw\u001b[0m\u001b[0;34m,\u001b[0m \u001b[0msig\u001b[0m\u001b[0;34m)\u001b[0m\u001b[0;34m\u001b[0m\u001b[0;34m\u001b[0m\u001b[0m\n\u001b[0;32m--> 232\u001b[0;31m             \u001b[0;32mreturn\u001b[0m \u001b[0mcaller\u001b[0m\u001b[0;34m(\u001b[0m\u001b[0mfunc\u001b[0m\u001b[0;34m,\u001b[0m \u001b[0;34m*\u001b[0m\u001b[0;34m(\u001b[0m\u001b[0mextras\u001b[0m \u001b[0;34m+\u001b[0m \u001b[0margs\u001b[0m\u001b[0;34m)\u001b[0m\u001b[0;34m,\u001b[0m \u001b[0;34m**\u001b[0m\u001b[0mkw\u001b[0m\u001b[0;34m)\u001b[0m\u001b[0;34m\u001b[0m\u001b[0;34m\u001b[0m\u001b[0m\n\u001b[0m\u001b[1;32m    233\u001b[0m     \u001b[0mfun\u001b[0m\u001b[0;34m.\u001b[0m\u001b[0m__name__\u001b[0m \u001b[0;34m=\u001b[0m \u001b[0mfunc\u001b[0m\u001b[0;34m.\u001b[0m\u001b[0m__name__\u001b[0m\u001b[0;34m\u001b[0m\u001b[0;34m\u001b[0m\u001b[0m\n\u001b[1;32m    234\u001b[0m     \u001b[0mfun\u001b[0m\u001b[0;34m.\u001b[0m\u001b[0m__doc__\u001b[0m \u001b[0;34m=\u001b[0m \u001b[0mfunc\u001b[0m\u001b[0;34m.\u001b[0m\u001b[0m__doc__\u001b[0m\u001b[0;34m\u001b[0m\u001b[0;34m\u001b[0m\u001b[0m\n",
      "\u001b[0;32m~/.local/lib/python3.8/site-packages/IPython/core/magic.py\u001b[0m in \u001b[0;36m<lambda>\u001b[0;34m(f, *a, **k)\u001b[0m\n\u001b[1;32m    185\u001b[0m     \u001b[0;31m# but it's overkill for just that one bit of state.\u001b[0m\u001b[0;34m\u001b[0m\u001b[0;34m\u001b[0m\u001b[0;34m\u001b[0m\u001b[0m\n\u001b[1;32m    186\u001b[0m     \u001b[0;32mdef\u001b[0m \u001b[0mmagic_deco\u001b[0m\u001b[0;34m(\u001b[0m\u001b[0marg\u001b[0m\u001b[0;34m)\u001b[0m\u001b[0;34m:\u001b[0m\u001b[0;34m\u001b[0m\u001b[0;34m\u001b[0m\u001b[0m\n\u001b[0;32m--> 187\u001b[0;31m         \u001b[0mcall\u001b[0m \u001b[0;34m=\u001b[0m \u001b[0;32mlambda\u001b[0m \u001b[0mf\u001b[0m\u001b[0;34m,\u001b[0m \u001b[0;34m*\u001b[0m\u001b[0ma\u001b[0m\u001b[0;34m,\u001b[0m \u001b[0;34m**\u001b[0m\u001b[0mk\u001b[0m\u001b[0;34m:\u001b[0m \u001b[0mf\u001b[0m\u001b[0;34m(\u001b[0m\u001b[0;34m*\u001b[0m\u001b[0ma\u001b[0m\u001b[0;34m,\u001b[0m \u001b[0;34m**\u001b[0m\u001b[0mk\u001b[0m\u001b[0;34m)\u001b[0m\u001b[0;34m\u001b[0m\u001b[0;34m\u001b[0m\u001b[0m\n\u001b[0m\u001b[1;32m    188\u001b[0m \u001b[0;34m\u001b[0m\u001b[0m\n\u001b[1;32m    189\u001b[0m         \u001b[0;32mif\u001b[0m \u001b[0mcallable\u001b[0m\u001b[0;34m(\u001b[0m\u001b[0marg\u001b[0m\u001b[0;34m)\u001b[0m\u001b[0;34m:\u001b[0m\u001b[0;34m\u001b[0m\u001b[0;34m\u001b[0m\u001b[0m\n",
      "\u001b[0;32m~/.local/lib/python3.8/site-packages/IPython/core/magics/script.py\u001b[0m in \u001b[0;36mshebang\u001b[0;34m(self, line, cell)\u001b[0m\n\u001b[1;32m    243\u001b[0m             \u001b[0msys\u001b[0m\u001b[0;34m.\u001b[0m\u001b[0mstderr\u001b[0m\u001b[0;34m.\u001b[0m\u001b[0mflush\u001b[0m\u001b[0;34m(\u001b[0m\u001b[0;34m)\u001b[0m\u001b[0;34m\u001b[0m\u001b[0;34m\u001b[0m\u001b[0m\n\u001b[1;32m    244\u001b[0m         \u001b[0;32mif\u001b[0m \u001b[0margs\u001b[0m\u001b[0;34m.\u001b[0m\u001b[0mraise_error\u001b[0m \u001b[0;32mand\u001b[0m \u001b[0mp\u001b[0m\u001b[0;34m.\u001b[0m\u001b[0mreturncode\u001b[0m\u001b[0;34m!=\u001b[0m\u001b[0;36m0\u001b[0m\u001b[0;34m:\u001b[0m\u001b[0;34m\u001b[0m\u001b[0;34m\u001b[0m\u001b[0m\n\u001b[0;32m--> 245\u001b[0;31m             \u001b[0;32mraise\u001b[0m \u001b[0mCalledProcessError\u001b[0m\u001b[0;34m(\u001b[0m\u001b[0mp\u001b[0m\u001b[0;34m.\u001b[0m\u001b[0mreturncode\u001b[0m\u001b[0;34m,\u001b[0m \u001b[0mcell\u001b[0m\u001b[0;34m,\u001b[0m \u001b[0moutput\u001b[0m\u001b[0;34m=\u001b[0m\u001b[0mout\u001b[0m\u001b[0;34m,\u001b[0m \u001b[0mstderr\u001b[0m\u001b[0;34m=\u001b[0m\u001b[0merr\u001b[0m\u001b[0;34m)\u001b[0m\u001b[0;34m\u001b[0m\u001b[0;34m\u001b[0m\u001b[0m\n\u001b[0m\u001b[1;32m    246\u001b[0m \u001b[0;34m\u001b[0m\u001b[0m\n\u001b[1;32m    247\u001b[0m     \u001b[0;32mdef\u001b[0m \u001b[0m_run_script\u001b[0m\u001b[0;34m(\u001b[0m\u001b[0mself\u001b[0m\u001b[0;34m,\u001b[0m \u001b[0mp\u001b[0m\u001b[0;34m,\u001b[0m \u001b[0mcell\u001b[0m\u001b[0;34m,\u001b[0m \u001b[0mto_close\u001b[0m\u001b[0;34m)\u001b[0m\u001b[0;34m:\u001b[0m\u001b[0;34m\u001b[0m\u001b[0;34m\u001b[0m\u001b[0m\n",
      "\u001b[0;31mCalledProcessError\u001b[0m: Command 'b'python3.9 -m ipykernel install --user --name py3.9 --display-name \"Python 3.9\"\\n'' returned non-zero exit status 1."
     ]
    }
   ],
   "source": [
    "%%bash\n",
    "python3.9 -m ipykernel install --user --name py3.9 --display-name \"Python 3.9\""
   ]
  },
  {
   "cell_type": "markdown",
   "id": "d566aeb2-a2fc-4ea1-8665-4b49dd45759d",
   "metadata": {},
   "source": [
    "[Jupyter Documentation](https://ipython.readthedocs.io/en/latest/install/kernel_install.html)"
   ]
  },
  {
   "cell_type": "code",
   "execution_count": 3,
   "id": "cf48598b-6dac-4acf-8fcd-e3c813cdaf43",
   "metadata": {},
   "outputs": [
    {
     "data": {
      "text/plain": [
       "'3.8.10 (default, Jun  2 2021, 10:49:15) \\n[GCC 9.4.0]'"
      ]
     },
     "execution_count": 3,
     "metadata": {},
     "output_type": "execute_result"
    }
   ],
   "source": [
    "import sys\n",
    "sys.version"
   ]
  },
  {
   "cell_type": "code",
   "execution_count": 14,
   "id": "a7df10d4-362a-4f3e-9ee1-026aab1902f9",
   "metadata": {},
   "outputs": [],
   "source": [
    "import os\n",
    "import tarfile\n",
    "os.chdir('/home/fuzzy/Projects/develop-4.2.0/hw-4.2.0/')"
   ]
  },
  {
   "cell_type": "code",
   "execution_count": 15,
   "id": "fef4671e-e6b6-482e-af5e-ad1427b05bcd",
   "metadata": {},
   "outputs": [],
   "source": [
    "with tarfile.open('data/mime.tar.gz', \"w:gz\") as tar:\n",
    "        tar.add('data/mime', arcname=os.path.basename('data/mime'))"
   ]
  },
  {
   "cell_type": "code",
   "execution_count": null,
   "id": "59aa8a37-8208-4828-ba5d-a849cf5da955",
   "metadata": {},
   "outputs": [],
   "source": []
  }
 ],
 "metadata": {
  "kernelspec": {
   "display_name": "Python 3 (ipykernel)",
   "language": "python",
   "name": "python3"
  },
  "language_info": {
   "codemirror_mode": {
    "name": "ipython",
    "version": 3
   },
   "file_extension": ".py",
   "mimetype": "text/x-python",
   "name": "python",
   "nbconvert_exporter": "python",
   "pygments_lexer": "ipython3",
   "version": "3.8.10"
  }
 },
 "nbformat": 4,
 "nbformat_minor": 5
}
