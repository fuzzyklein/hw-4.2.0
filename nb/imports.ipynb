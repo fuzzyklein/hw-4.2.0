{
 "cells": [
  {
   "cell_type": "markdown",
   "id": "8a537586-3ad7-4c8d-8f0c-7fad735a1e6b",
   "metadata": {},
   "source": [
    "# Imports"
   ]
  },
  {
   "cell_type": "code",
   "execution_count": 103,
   "id": "778ca51a-50ff-4883-ab5d-450b68b60388",
   "metadata": {},
   "outputs": [],
   "source": [
    "from cmd import Cmd\n",
    "from glob import glob\n",
    "import importlib.resources\n",
    "from io import StringIO\n",
    "import json\n",
    "import os\n",
    "from os import chdir, curdir, listdir\n",
    "from pathlib import Path\n",
    "import pkg_resources\n",
    "from pprint import pprint as pp\n",
    "import re\n",
    "import requests\n",
    "import site\n",
    "import sys\n",
    "import zipfile"
   ]
  },
  {
   "cell_type": "code",
   "execution_count": 104,
   "id": "d35923b4-819b-45f9-867b-4bccfcd7ff29",
   "metadata": {},
   "outputs": [],
   "source": [
    "from bs4 import BeautifulSoup\n",
    "from pandas import DataFrame, Series\n",
    "from walkdir import filtered_walk"
   ]
  },
  {
   "cell_type": "code",
   "execution_count": 3,
   "id": "96359da9-489a-4a95-a802-14a7f8c48b55",
   "metadata": {},
   "outputs": [],
   "source": [
    "site.addsitedir(Path.home() / 'Development/hw-4.2.0/hw')"
   ]
  },
  {
   "cell_type": "code",
   "execution_count": 105,
   "id": "b62ae16c-36b4-4def-b4ce-5f4e5690b994",
   "metadata": {},
   "outputs": [
    {
     "name": "stdout",
     "output_type": "stream",
     "text": [
      "Help on function filtered_walk in module walkdir:\n",
      "\n",
      "filtered_walk(top, included_files=None, included_dirs=None, excluded_files=None, excluded_dirs=None, depth=None, followlinks=False, min_depth=None)\n",
      "    This is a wrapper around ``os.walk()`` and other filesystem traversal\n",
      "    iterators, with these additional features:\n",
      "    \n",
      "     - *top* may be either a string (which will be passed to ``os.walk()``)\n",
      "       or any iterable that produces sequences with ``path, subdirs, files``\n",
      "       as the first three elements in the sequence\n",
      "     - allows independent glob-style filters for filenames and subdirectories\n",
      "     - allows a recursion depth limit to be specified\n",
      "     - allows a minimum depth to be specified to report only subdirectory\n",
      "       contents\n",
      "     - emits a message to stderr and skips the directory if a symlink loop\n",
      "       is encountered when following links\n",
      "    \n",
      "    Filtered walks created by passing in a string are always top down, as\n",
      "    the subdirectory listings must be altered to provide a number of the\n",
      "    above features.\n",
      "    \n",
      "    *include_files*, *include_dirs*, *exclude_files* and *exclude_dirs* are\n",
      "    used to apply the relevant filtering steps to the walk.\n",
      "    \n",
      "    A *depth* of ``None`` (the default) disables depth limiting. Otherwise,\n",
      "    *depth* must be at least zero and indicates how far to descend into the\n",
      "    directory hierarchy. A depth of zero is useful to get separate filtered\n",
      "    subdirectory and file listings for *top*.\n",
      "    \n",
      "    Setting *min_depth* allows directories higher in the tree to be\n",
      "    excluded from the walk (e.g. a *min_depth* of 1 excludes *top*, but\n",
      "    any subdirectories will still be processed)\n",
      "    \n",
      "    *followlinks* enables symbolic loop detection (when set to ``True``)\n",
      "    and is also passed to ``os.walk()`` when top is a string\n",
      "\n"
     ]
    }
   ],
   "source": [
    "help(filtered_walk)"
   ]
  },
  {
   "cell_type": "code",
   "execution_count": 4,
   "id": "79cbaa2e-8dbb-4fbd-b5c5-e54b9a2e8ada",
   "metadata": {},
   "outputs": [],
   "source": [
    "from constants import *\n",
    "from tools import *"
   ]
  },
  {
   "cell_type": "code",
   "execution_count": 5,
   "id": "4c4a00a8-2b41-4ccc-be3e-b5bdd4c5973f",
   "metadata": {},
   "outputs": [],
   "source": [
    "# [str(r) for r in pkg_resources.working_set.by_key['hw'].requires()]"
   ]
  },
  {
   "cell_type": "code",
   "execution_count": 6,
   "id": "5d23457e-0a22-407e-bc0c-6723a5fce29c",
   "metadata": {},
   "outputs": [
    {
     "data": {
      "text/plain": [
       "['/home/fuzzy/Projects/develop-4.2.0/hw-4.2.0/nb',\n",
       " '/usr/lib/python38.zip',\n",
       " '/usr/lib/python3.8',\n",
       " '/usr/lib/python3.8/lib-dynload',\n",
       " '',\n",
       " '/home/fuzzy/.local/lib/python3.8/site-packages',\n",
       " '/usr/local/lib/python3.8/dist-packages',\n",
       " '/usr/lib/python3/dist-packages',\n",
       " '/home/fuzzy/.local/lib/python3.8/site-packages/IPython/extensions',\n",
       " '/home/fuzzy/.ipython',\n",
       " '/home/fuzzy/Development/hw-4.2.0/hw']"
      ]
     },
     "execution_count": 6,
     "metadata": {},
     "output_type": "execute_result"
    }
   ],
   "source": [
    "sys.path"
   ]
  },
  {
   "cell_type": "markdown",
   "id": "408af7e5-29d5-45ab-816a-92a6aad2bd8a",
   "metadata": {},
   "source": [
    "## Get a List of Python Modules"
   ]
  },
  {
   "cell_type": "code",
   "execution_count": 7,
   "id": "01e0776a-9a66-47dc-b41a-df20d5437a10",
   "metadata": {},
   "outputs": [],
   "source": [
    "try:\n",
    "    src = Path(\"/usr/share/doc/python3.7-doc/html/py-modindex.html\").read_text()\n",
    "except:\n",
    "    try:\n",
    "        src = requests.get(\"https://docs.python.org/3/py-modindex.html\").text\n",
    "    except:\n",
    "        pass\n",
    "\n",
    "class BS(BeautifulSoup):\n",
    "    def __init__(self, s):\n",
    "        super().__init__(s, features=\"html.parser\")\n",
    "\n",
    "PYTHON_MODULES = None\n",
    "try:\n",
    "    PYTHON_MODULES = {a.text.split('.')[0] for a in BS(src).findAll(\"a\") if len(a.text) > 1 and not a.text[0].isupper()}\n",
    "except:\n",
    "    path = \"/usr/lib/python3.8\"\n",
    "    PYTHON_MODULES = list(sorted([n for n in listdir(path) if not n.startswith(PERIOD)], key=str.lower))\n"
   ]
  },
  {
   "cell_type": "code",
   "execution_count": 109,
   "id": "2d95993e-fee3-458c-8174-a311ca3d778a",
   "metadata": {},
   "outputs": [
    {
     "data": {
      "text/html": [
       "<div>\n",
       "<style scoped>\n",
       "    .dataframe tbody tr th:only-of-type {\n",
       "        vertical-align: middle;\n",
       "    }\n",
       "\n",
       "    .dataframe tbody tr th {\n",
       "        vertical-align: top;\n",
       "    }\n",
       "\n",
       "    .dataframe thead th {\n",
       "        text-align: right;\n",
       "    }\n",
       "</style>\n",
       "<table border=\"1\" class=\"dataframe\">\n",
       "  <thead>\n",
       "    <tr style=\"text-align: right;\">\n",
       "      <th></th>\n",
       "      <th>0</th>\n",
       "      <th>1</th>\n",
       "      <th>2</th>\n",
       "    </tr>\n",
       "  </thead>\n",
       "  <tbody>\n",
       "    <tr>\n",
       "      <th>0</th>\n",
       "      <td>/home/fuzzy/.local/lib/python3.8/site-packages</td>\n",
       "      <td>[jsonschema, nbclient, jupyterlab_widgets, Sen...</td>\n",
       "      <td>[walkdir.py, jupyter.py, mistune.py, nest_asyn...</td>\n",
       "    </tr>\n",
       "    <tr>\n",
       "      <th>1</th>\n",
       "      <td>/home/fuzzy/.local/lib/python3.8/site-packages...</td>\n",
       "      <td>[tests, benchmarks, schemas, __pycache__]</td>\n",
       "      <td>[validators.py, _reflect.py, __main__.py, _typ...</td>\n",
       "    </tr>\n",
       "    <tr>\n",
       "      <th>2</th>\n",
       "      <td>/home/fuzzy/.local/lib/python3.8/site-packages...</td>\n",
       "      <td>[__pycache__]</td>\n",
       "      <td>[_helpers.py, test_validators.py, test_jsonsch...</td>\n",
       "    </tr>\n",
       "    <tr>\n",
       "      <th>3</th>\n",
       "      <td>/home/fuzzy/.local/lib/python3.8/site-packages...</td>\n",
       "      <td>[]</td>\n",
       "      <td>[]</td>\n",
       "    </tr>\n",
       "    <tr>\n",
       "      <th>4</th>\n",
       "      <td>/home/fuzzy/.local/lib/python3.8/site-packages...</td>\n",
       "      <td>[__pycache__]</td>\n",
       "      <td>[json_schema_test_suite.py, __init__.py, issue...</td>\n",
       "    </tr>\n",
       "    <tr>\n",
       "      <th>...</th>\n",
       "      <td>...</td>\n",
       "      <td>...</td>\n",
       "      <td>...</td>\n",
       "    </tr>\n",
       "    <tr>\n",
       "      <th>1716</th>\n",
       "      <td>/home/fuzzy/.local/lib/python3.8/site-packages...</td>\n",
       "      <td>[fr_FR]</td>\n",
       "      <td>[]</td>\n",
       "    </tr>\n",
       "    <tr>\n",
       "      <th>1717</th>\n",
       "      <td>/home/fuzzy/.local/lib/python3.8/site-packages...</td>\n",
       "      <td>[LC_MESSAGES]</td>\n",
       "      <td>[]</td>\n",
       "    </tr>\n",
       "    <tr>\n",
       "      <th>1718</th>\n",
       "      <td>/home/fuzzy/.local/lib/python3.8/site-packages...</td>\n",
       "      <td>[]</td>\n",
       "      <td>[]</td>\n",
       "    </tr>\n",
       "    <tr>\n",
       "      <th>1719</th>\n",
       "      <td>/home/fuzzy/.local/lib/python3.8/site-packages...</td>\n",
       "      <td>[]</td>\n",
       "      <td>[]</td>\n",
       "    </tr>\n",
       "    <tr>\n",
       "      <th>1720</th>\n",
       "      <td>/home/fuzzy/.local/lib/python3.8/site-packages...</td>\n",
       "      <td>[]</td>\n",
       "      <td>[]</td>\n",
       "    </tr>\n",
       "  </tbody>\n",
       "</table>\n",
       "<p>1721 rows × 3 columns</p>\n",
       "</div>"
      ],
      "text/plain": [
       "                                                      0  \\\n",
       "0        /home/fuzzy/.local/lib/python3.8/site-packages   \n",
       "1     /home/fuzzy/.local/lib/python3.8/site-packages...   \n",
       "2     /home/fuzzy/.local/lib/python3.8/site-packages...   \n",
       "3     /home/fuzzy/.local/lib/python3.8/site-packages...   \n",
       "4     /home/fuzzy/.local/lib/python3.8/site-packages...   \n",
       "...                                                 ...   \n",
       "1716  /home/fuzzy/.local/lib/python3.8/site-packages...   \n",
       "1717  /home/fuzzy/.local/lib/python3.8/site-packages...   \n",
       "1718  /home/fuzzy/.local/lib/python3.8/site-packages...   \n",
       "1719  /home/fuzzy/.local/lib/python3.8/site-packages...   \n",
       "1720  /home/fuzzy/.local/lib/python3.8/site-packages...   \n",
       "\n",
       "                                                      1  \\\n",
       "0     [jsonschema, nbclient, jupyterlab_widgets, Sen...   \n",
       "1             [tests, benchmarks, schemas, __pycache__]   \n",
       "2                                         [__pycache__]   \n",
       "3                                                    []   \n",
       "4                                         [__pycache__]   \n",
       "...                                                 ...   \n",
       "1716                                            [fr_FR]   \n",
       "1717                                      [LC_MESSAGES]   \n",
       "1718                                                 []   \n",
       "1719                                                 []   \n",
       "1720                                                 []   \n",
       "\n",
       "                                                      2  \n",
       "0     [walkdir.py, jupyter.py, mistune.py, nest_asyn...  \n",
       "1     [validators.py, _reflect.py, __main__.py, _typ...  \n",
       "2     [_helpers.py, test_validators.py, test_jsonsch...  \n",
       "3                                                    []  \n",
       "4     [json_schema_test_suite.py, __init__.py, issue...  \n",
       "...                                                 ...  \n",
       "1716                                                 []  \n",
       "1717                                                 []  \n",
       "1718                                                 []  \n",
       "1719                                                 []  \n",
       "1720                                                 []  \n",
       "\n",
       "[1721 rows x 3 columns]"
      ]
     },
     "execution_count": 109,
     "metadata": {},
     "output_type": "execute_result"
    }
   ],
   "source": [
    "DataFrame(list(filtered_walk(site.USER_SITE, included_files=['*.py'])))"
   ]
  },
  {
   "cell_type": "code",
   "execution_count": 8,
   "id": "1bf4c856-bbe7-4b76-a303-7d5c0534e256",
   "metadata": {
    "scrolled": true,
    "tags": []
   },
   "outputs": [
    {
     "data": {
      "text/plain": [
       "{'3',\n",
       " '__future__',\n",
       " '__main__',\n",
       " '_thread',\n",
       " 'abc',\n",
       " 'aifc',\n",
       " 'argparse',\n",
       " 'array',\n",
       " 'ast',\n",
       " 'asynchat',\n",
       " 'asyncio',\n",
       " 'asyncore',\n",
       " 'atexit',\n",
       " 'audioop',\n",
       " 'base64',\n",
       " 'bdb',\n",
       " 'binascii',\n",
       " 'binhex',\n",
       " 'bisect',\n",
       " 'builtins',\n",
       " 'bz2',\n",
       " 'cProfile',\n",
       " 'calendar',\n",
       " 'cgi',\n",
       " 'cgitb',\n",
       " 'chunk',\n",
       " 'cmath',\n",
       " 'cmd',\n",
       " 'code',\n",
       " 'codecs',\n",
       " 'codeop',\n",
       " 'collections',\n",
       " 'colorsys',\n",
       " 'compileall',\n",
       " 'concurrent',\n",
       " 'configparser',\n",
       " 'contextlib',\n",
       " 'contextvars',\n",
       " 'copy',\n",
       " 'copyreg',\n",
       " 'crypt',\n",
       " 'csv',\n",
       " 'ctypes',\n",
       " 'curses',\n",
       " 'dataclasses',\n",
       " 'datetime',\n",
       " 'dbm',\n",
       " 'decimal',\n",
       " 'difflib',\n",
       " 'dis',\n",
       " 'distutils',\n",
       " 'doctest',\n",
       " 'email',\n",
       " 'encodings',\n",
       " 'ensurepip',\n",
       " 'enum',\n",
       " 'errno',\n",
       " 'faulthandler',\n",
       " 'fcntl',\n",
       " 'filecmp',\n",
       " 'fileinput',\n",
       " 'fnmatch',\n",
       " 'formatter',\n",
       " 'fractions',\n",
       " 'ftplib',\n",
       " 'functools',\n",
       " 'gc',\n",
       " 'getopt',\n",
       " 'getpass',\n",
       " 'gettext',\n",
       " 'glob',\n",
       " 'graphlib',\n",
       " 'grp',\n",
       " 'gzip',\n",
       " 'hashlib',\n",
       " 'heapq',\n",
       " 'hmac',\n",
       " 'html',\n",
       " 'http',\n",
       " 'imaplib',\n",
       " 'imghdr',\n",
       " 'imp',\n",
       " 'importlib',\n",
       " 'index',\n",
       " 'inspect',\n",
       " 'io',\n",
       " 'ipaddress',\n",
       " 'itertools',\n",
       " 'json',\n",
       " 'keyword',\n",
       " 'lib2to3',\n",
       " 'linecache',\n",
       " 'locale',\n",
       " 'logging',\n",
       " 'lzma',\n",
       " 'mailbox',\n",
       " 'mailcap',\n",
       " 'marshal',\n",
       " 'math',\n",
       " 'mimetypes',\n",
       " 'mmap',\n",
       " 'modulefinder',\n",
       " 'modules',\n",
       " 'msilib',\n",
       " 'msvcrt',\n",
       " 'multiprocessing',\n",
       " 'netrc',\n",
       " 'nis',\n",
       " 'nntplib',\n",
       " 'numbers',\n",
       " 'operator',\n",
       " 'optparse',\n",
       " 'os',\n",
       " 'ossaudiodev',\n",
       " 'parser',\n",
       " 'pathlib',\n",
       " 'pdb',\n",
       " 'pickle',\n",
       " 'pickletools',\n",
       " 'pipes',\n",
       " 'pkgutil',\n",
       " 'platform',\n",
       " 'plistlib',\n",
       " 'poplib',\n",
       " 'posix',\n",
       " 'pprint',\n",
       " 'profile',\n",
       " 'pstats',\n",
       " 'pty',\n",
       " 'pwd',\n",
       " 'py_compile',\n",
       " 'pyclbr',\n",
       " 'pydoc',\n",
       " 'queue',\n",
       " 'quopri',\n",
       " 'random',\n",
       " 're',\n",
       " 'readline',\n",
       " 'reprlib',\n",
       " 'resource',\n",
       " 'rlcompleter',\n",
       " 'runpy',\n",
       " 'sched',\n",
       " 'secrets',\n",
       " 'select',\n",
       " 'selectors',\n",
       " 'shelve',\n",
       " 'shlex',\n",
       " 'shutil',\n",
       " 'signal',\n",
       " 'site',\n",
       " 'smtpd',\n",
       " 'smtplib',\n",
       " 'sndhdr',\n",
       " 'socket',\n",
       " 'socketserver',\n",
       " 'spwd',\n",
       " 'sqlite3',\n",
       " 'ssl',\n",
       " 'stat',\n",
       " 'statistics',\n",
       " 'string',\n",
       " 'stringprep',\n",
       " 'struct',\n",
       " 'subprocess',\n",
       " 'sunau',\n",
       " 'symbol',\n",
       " 'symtable',\n",
       " 'sys',\n",
       " 'sysconfig',\n",
       " 'syslog',\n",
       " 'tabnanny',\n",
       " 'tarfile',\n",
       " 'telnetlib',\n",
       " 'tempfile',\n",
       " 'termios',\n",
       " 'test',\n",
       " 'textwrap',\n",
       " 'threading',\n",
       " 'time',\n",
       " 'timeit',\n",
       " 'tkinter',\n",
       " 'token',\n",
       " 'tokenize',\n",
       " 'trace',\n",
       " 'traceback',\n",
       " 'tracemalloc',\n",
       " 'tty',\n",
       " 'turtle',\n",
       " 'turtledemo',\n",
       " 'types',\n",
       " 'typing',\n",
       " 'unicodedata',\n",
       " 'unittest',\n",
       " 'urllib',\n",
       " 'uu',\n",
       " 'uuid',\n",
       " 'venv',\n",
       " 'warnings',\n",
       " 'wave',\n",
       " 'weakref',\n",
       " 'webbrowser',\n",
       " 'winreg',\n",
       " 'winsound',\n",
       " 'wsgiref',\n",
       " 'xdrlib',\n",
       " 'xml',\n",
       " 'xmlrpc',\n",
       " 'zipapp',\n",
       " 'zipfile',\n",
       " 'zipimport',\n",
       " 'zlib',\n",
       " 'zoneinfo'}"
      ]
     },
     "execution_count": 8,
     "metadata": {},
     "output_type": "execute_result"
    }
   ],
   "source": [
    "PYTHON_MODULES"
   ]
  },
  {
   "cell_type": "markdown",
   "id": "ae8c662e-b7e4-4573-8aad-888e1fcea4ca",
   "metadata": {},
   "source": [
    "## Examine the Contents of a `.zip` File"
   ]
  },
  {
   "cell_type": "code",
   "execution_count": 9,
   "id": "7b3d45ce-69d8-411b-84aa-27a6251cab18",
   "metadata": {},
   "outputs": [],
   "source": [
    "import zipfile"
   ]
  },
  {
   "cell_type": "markdown",
   "id": "966f5b5d-0847-4be4-907e-36a67e22cd44",
   "metadata": {},
   "source": [
    "## Make a List of Python Distribution Modules"
   ]
  },
  {
   "cell_type": "code",
   "execution_count": 10,
   "id": "eb0ba344-40af-472c-b590-887ce85207c1",
   "metadata": {},
   "outputs": [],
   "source": [
    "path = Series(filter(lambda p: p.exists(),               # drop paths that don't exist\n",
    "                     filter(lambda s: bool(len(s.name)), # drop the empty `str`s\n",
    "                            map(lambda s: Path(s),       # convert `str` to `Path`\n",
    "                                sys.path\n",
    "                               ))))"
   ]
  },
  {
   "cell_type": "code",
   "execution_count": 11,
   "id": "c8b8c912-a2f4-40e3-90dd-e49c4af712e9",
   "metadata": {},
   "outputs": [],
   "source": [
    "path = Series([p for p in\n",
    "               [Path(s) for s in\n",
    "                [s for s in sys.path if s]\n",
    "               ] if p.exists()\n",
    "              ])"
   ]
  },
  {
   "cell_type": "code",
   "execution_count": 12,
   "id": "d999dd11-2842-4e95-a606-28c3966d5df9",
   "metadata": {},
   "outputs": [
    {
     "data": {
      "text/plain": [
       "0       /home/fuzzy/Projects/develop-4.2.0/hw-4.2.0/nb\n",
       "1                                   /usr/lib/python3.8\n",
       "2                       /usr/lib/python3.8/lib-dynload\n",
       "3       /home/fuzzy/.local/lib/python3.8/site-packages\n",
       "4               /usr/local/lib/python3.8/dist-packages\n",
       "5                       /usr/lib/python3/dist-packages\n",
       "6    /home/fuzzy/.local/lib/python3.8/site-packages...\n",
       "7                                 /home/fuzzy/.ipython\n",
       "8                  /home/fuzzy/Development/hw-4.2.0/hw\n",
       "dtype: object"
      ]
     },
     "execution_count": 12,
     "metadata": {},
     "output_type": "execute_result"
    }
   ],
   "source": [
    "path"
   ]
  },
  {
   "cell_type": "code",
   "execution_count": 13,
   "id": "5c1e717d-8428-48b7-99f8-a9c438da9e55",
   "metadata": {
    "scrolled": true,
    "tags": []
   },
   "outputs": [
    {
     "name": "stdout",
     "output_type": "stream",
     "text": [
      "/home/fuzzy/Projects/develop-4.2.0/hw-4.2.0/nb\n"
     ]
    },
    {
     "data": {
      "text/plain": [
       "[('.',\n",
       "  ['.ipynb_checkpoints'],\n",
       "  ['program.ipynb',\n",
       "   'sftp.ipynb',\n",
       "   'args.ipynb',\n",
       "   'links.ipynb',\n",
       "   'TODO.ipynb',\n",
       "   'hw.ipynb',\n",
       "   'sass.ipynb',\n",
       "   'profiler.ipynb',\n",
       "   'bash.ipynb',\n",
       "   'pdf.ipynb',\n",
       "   'xdg.ipynb',\n",
       "   'lint.ipynb',\n",
       "   'git.ipynb',\n",
       "   'worksheet.ipynb',\n",
       "   'library.ipynb',\n",
       "   'hw.c.ipynb',\n",
       "   'setup.ipynb',\n",
       "   'startup.ipynb',\n",
       "   'docs.ipynb',\n",
       "   'run.ipynb',\n",
       "   'links.md',\n",
       "   'cgi.ipynb',\n",
       "   'debug.ipynb',\n",
       "   'driver.ipynb',\n",
       "   'index.ipynb',\n",
       "   'logs.ipynb',\n",
       "   'tests.ipynb',\n",
       "   'jqueryui.ipynb',\n",
       "   'misc.ipynb',\n",
       "   'imports.ipynb',\n",
       "   'mariadb.ipynb',\n",
       "   'less.ipynb',\n",
       "   'create_project.ipynb',\n",
       "   'tools.ipynb',\n",
       "   'env.ipynb',\n",
       "   'files.ipynb',\n",
       "   'javasript.ipynb',\n",
       "   'jquery.ipynb',\n",
       "   'config.ipynb',\n",
       "   'py2nb.ipynb',\n",
       "   'python.ipynb',\n",
       "   'linux.ipynb']),\n",
       " ('./.ipynb_checkpoints',\n",
       "  [],\n",
       "  ['lint-checkpoint.ipynb',\n",
       "   'TODO-checkpoint.ipynb',\n",
       "   'hw-checkpoint.ipynb',\n",
       "   'jquery-checkpoint.ipynb',\n",
       "   'create_project-checkpoint.ipynb',\n",
       "   'git-checkpoint.ipynb',\n",
       "   'args-checkpoint.ipynb',\n",
       "   'profiler-checkpoint.ipynb',\n",
       "   'javasript-checkpoint.ipynb',\n",
       "   'sftp-checkpoint.ipynb',\n",
       "   'docs-checkpoint.ipynb',\n",
       "   'worksheet-checkpoint.ipynb',\n",
       "   'tools-checkpoint.ipynb',\n",
       "   'hw.c-checkpoint.ipynb',\n",
       "   'xdg-checkpoint.ipynb',\n",
       "   'mariadb-checkpoint.ipynb',\n",
       "   'env-checkpoint.ipynb',\n",
       "   'linux-checkpoint.ipynb',\n",
       "   'tests-checkpoint.ipynb',\n",
       "   'links-checkpoint.ipynb',\n",
       "   'cgi-checkpoint.ipynb',\n",
       "   'links-checkpoint.md',\n",
       "   'py2nb-checkpoint.ipynb',\n",
       "   'files-checkpoint.ipynb',\n",
       "   'run-checkpoint.ipynb',\n",
       "   'startup-checkpoint.ipynb',\n",
       "   'driver-checkpoint.ipynb',\n",
       "   'misc-checkpoint.ipynb',\n",
       "   'pdf-checkpoint.ipynb',\n",
       "   'logs-checkpoint.ipynb',\n",
       "   'sass-checkpoint.ipynb',\n",
       "   'debug-checkpoint.ipynb',\n",
       "   'config-checkpoint.ipynb',\n",
       "   'imports-checkpoint.ipynb',\n",
       "   'library-checkpoint.ipynb',\n",
       "   'index-checkpoint.ipynb',\n",
       "   'less-checkpoint.ipynb',\n",
       "   'bash-checkpoint.ipynb',\n",
       "   'python-checkpoint.ipynb',\n",
       "   'setup-checkpoint.ipynb',\n",
       "   'jqueryui-checkpoint.ipynb',\n",
       "   'program-checkpoint.ipynb'])]"
      ]
     },
     "execution_count": 13,
     "metadata": {},
     "output_type": "execute_result"
    }
   ],
   "source": [
    "print(Path.cwd())\n",
    "list(os.walk('.'))"
   ]
  },
  {
   "cell_type": "code",
   "execution_count": 14,
   "id": "f844994c-8e62-44e6-9a43-205708de39b8",
   "metadata": {},
   "outputs": [],
   "source": [
    "def get_mod_names(f=curdir, output=False):\n",
    "    sio = StringIO()\n",
    "    for w in os.walk(f):\n",
    "        if w[0] == '.' or not Path(w[0]).stem[0] in {'.'}:\n",
    "            for s in w[2]:\n",
    "                if s.endswith('.py') and not (s.startswith('.')):\n",
    "                    print((w[0].replace('/', '.').lstrip('.') + '.' + s).lstrip('.')[:-3], file=sio)\n",
    "    s = Series([t for t in sio.getvalue().split('\\n') if t], dtype=object)\n",
    "    if output: print(s)\n",
    "    return s"
   ]
  },
  {
   "cell_type": "code",
   "execution_count": 15,
   "id": "a4ef8457-8a72-479f-ada3-27a692c4bb12",
   "metadata": {},
   "outputs": [
    {
     "name": "stdout",
     "output_type": "stream",
     "text": [
      "Series([], dtype: object)\n"
     ]
    },
    {
     "data": {
      "text/plain": [
       "Series([], dtype: object)"
      ]
     },
     "execution_count": 15,
     "metadata": {},
     "output_type": "execute_result"
    }
   ],
   "source": [
    "get_mod_names(output=True)"
   ]
  },
  {
   "cell_type": "code",
   "execution_count": 16,
   "id": "67d9151c-2f21-4da4-9a23-3fc282a7d738",
   "metadata": {},
   "outputs": [],
   "source": [
    "def get_sys_path_mods(output=False):\n",
    "    mods = { 'python' : set(), 'dist' : set(), 'local' : set() }\n",
    "    path = Series([p for p in\n",
    "                   [Path(s) for s in\n",
    "                    [s for s in sys.path if s]\n",
    "                   ] if p.exists()\n",
    "                  ])\n",
    "    print(path)\n",
    "    for p in path:\n",
    "        n = get_mod_names(p)\n",
    "        "
   ]
  },
  {
   "cell_type": "code",
   "execution_count": 17,
   "id": "51121775-0dd1-4cbe-a544-2a30a8bc2ce6",
   "metadata": {},
   "outputs": [
    {
     "name": "stdout",
     "output_type": "stream",
     "text": [
      "0       /home/fuzzy/Projects/develop-4.2.0/hw-4.2.0/nb\n",
      "1                                   /usr/lib/python3.8\n",
      "2                       /usr/lib/python3.8/lib-dynload\n",
      "3       /home/fuzzy/.local/lib/python3.8/site-packages\n",
      "4               /usr/local/lib/python3.8/dist-packages\n",
      "5                       /usr/lib/python3/dist-packages\n",
      "6    /home/fuzzy/.local/lib/python3.8/site-packages...\n",
      "7                                 /home/fuzzy/.ipython\n",
      "8                  /home/fuzzy/Development/hw-4.2.0/hw\n",
      "dtype: object\n"
     ]
    }
   ],
   "source": [
    "get_sys_path_mods()"
   ]
  },
  {
   "cell_type": "code",
   "execution_count": 18,
   "id": "d62dfd8e-0cc8-4449-aa4e-e89a50e5d2e8",
   "metadata": {},
   "outputs": [
    {
     "name": "stdout",
     "output_type": "stream",
     "text": [
      "__init__.py  autoreload.py   rmagic.py      sympyprinting.py\n",
      "__pycache__  cythonmagic.py  storemagic.py  tests           \n"
     ]
    }
   ],
   "source": [
    "columnize(sorted(listdir(path[6])))"
   ]
  },
  {
   "cell_type": "code",
   "execution_count": 19,
   "id": "ee30d2ce-b895-43f0-b00e-5ec9eaa19512",
   "metadata": {},
   "outputs": [
    {
     "data": {
      "text/html": [
       "<div>\n",
       "<style scoped>\n",
       "    .dataframe tbody tr th:only-of-type {\n",
       "        vertical-align: middle;\n",
       "    }\n",
       "\n",
       "    .dataframe tbody tr th {\n",
       "        vertical-align: top;\n",
       "    }\n",
       "\n",
       "    .dataframe thead th {\n",
       "        text-align: right;\n",
       "    }\n",
       "</style>\n",
       "<table border=\"1\" class=\"dataframe\">\n",
       "  <thead>\n",
       "    <tr style=\"text-align: right;\">\n",
       "      <th></th>\n",
       "      <th>0</th>\n",
       "      <th>1</th>\n",
       "      <th>2</th>\n",
       "    </tr>\n",
       "  </thead>\n",
       "  <tbody>\n",
       "    <tr>\n",
       "      <th>0</th>\n",
       "      <td>.</td>\n",
       "      <td>[.ipynb_checkpoints]</td>\n",
       "      <td>[program.ipynb, sftp.ipynb, args.ipynb, links....</td>\n",
       "    </tr>\n",
       "    <tr>\n",
       "      <th>1</th>\n",
       "      <td>./.ipynb_checkpoints</td>\n",
       "      <td>[]</td>\n",
       "      <td>[lint-checkpoint.ipynb, TODO-checkpoint.ipynb,...</td>\n",
       "    </tr>\n",
       "  </tbody>\n",
       "</table>\n",
       "</div>"
      ],
      "text/plain": [
       "                      0                     1  \\\n",
       "0                     .  [.ipynb_checkpoints]   \n",
       "1  ./.ipynb_checkpoints                    []   \n",
       "\n",
       "                                                   2  \n",
       "0  [program.ipynb, sftp.ipynb, args.ipynb, links....  \n",
       "1  [lint-checkpoint.ipynb, TODO-checkpoint.ipynb,...  "
      ]
     },
     "execution_count": 19,
     "metadata": {},
     "output_type": "execute_result"
    }
   ],
   "source": [
    "from pandas import DataFrame\n",
    "DataFrame(os.walk('.'))"
   ]
  },
  {
   "cell_type": "code",
   "execution_count": 20,
   "id": "42ee3a65-330f-462a-9ec1-35dd6a47cc5b",
   "metadata": {},
   "outputs": [],
   "source": [
    "try:\n",
    "    src = requests.get(\"https://docs.python.org/3/py-modindex.html\").text\n",
    "except:\n",
    "    src = Path(\"/usr/share/doc/python3.7-doc/html\").read_text()\n",
    "\n",
    "class BS(BeautifulSoup):\n",
    "    def __init__(self, s):\n",
    "        super().__init__(s, features=\"html.parser\")\n",
    "\n",
    "PYTHON_MODULES = None\n",
    "try:\n",
    "    PYTHON_MODULES = {a.text.split('.')[0] for a in BS(src).findAll(\"a\") if len(a.text) > 1 and not a.text[0].isupper()}\n",
    "except:\n",
    "    path = site.USER_SITE\n",
    "    PYTHON_MODULES = list(sorted([n for n in listdir(path) if not n.startswith(PERIOD)], key=str.lower))\n",
    "\n",
    "PACKAGE_MODULES = sorted([re.sub(\".py$\", \"\", n) for n in listdir(site.USER_SITE) if not re.search(\".*-info\", n)])\n"
   ]
  },
  {
   "cell_type": "code",
   "execution_count": 21,
   "id": "934d45cb-ddbd-4702-a7e1-f5396c2b9f7c",
   "metadata": {
    "scrolled": true,
    "tags": []
   },
   "outputs": [
    {
     "name": "stdout",
     "output_type": "stream",
     "text": [
      "Help on function walk in module os:\n",
      "\n",
      "walk(top, topdown=True, onerror=None, followlinks=False)\n",
      "    Directory tree generator.\n",
      "    \n",
      "    For each directory in the directory tree rooted at top (including top\n",
      "    itself, but excluding '.' and '..'), yields a 3-tuple\n",
      "    \n",
      "        dirpath, dirnames, filenames\n",
      "    \n",
      "    dirpath is a string, the path to the directory.  dirnames is a list of\n",
      "    the names of the subdirectories in dirpath (excluding '.' and '..').\n",
      "    filenames is a list of the names of the non-directory files in dirpath.\n",
      "    Note that the names in the lists are just names, with no path components.\n",
      "    To get a full path (which begins with top) to a file or directory in\n",
      "    dirpath, do os.path.join(dirpath, name).\n",
      "    \n",
      "    If optional arg 'topdown' is true or not specified, the triple for a\n",
      "    directory is generated before the triples for any of its subdirectories\n",
      "    (directories are generated top down).  If topdown is false, the triple\n",
      "    for a directory is generated after the triples for all of its\n",
      "    subdirectories (directories are generated bottom up).\n",
      "    \n",
      "    When topdown is true, the caller can modify the dirnames list in-place\n",
      "    (e.g., via del or slice assignment), and walk will only recurse into the\n",
      "    subdirectories whose names remain in dirnames; this can be used to prune the\n",
      "    search, or to impose a specific order of visiting.  Modifying dirnames when\n",
      "    topdown is false has no effect on the behavior of os.walk(), since the\n",
      "    directories in dirnames have already been generated by the time dirnames\n",
      "    itself is generated. No matter the value of topdown, the list of\n",
      "    subdirectories is retrieved before the tuples for the directory and its\n",
      "    subdirectories are generated.\n",
      "    \n",
      "    By default errors from the os.scandir() call are ignored.  If\n",
      "    optional arg 'onerror' is specified, it should be a function; it\n",
      "    will be called with one argument, an OSError instance.  It can\n",
      "    report the error to continue with the walk, or raise the exception\n",
      "    to abort the walk.  Note that the filename is available as the\n",
      "    filename attribute of the exception object.\n",
      "    \n",
      "    By default, os.walk does not follow symbolic links to subdirectories on\n",
      "    systems that support them.  In order to get this functionality, set the\n",
      "    optional argument 'followlinks' to true.\n",
      "    \n",
      "    Caution:  if you pass a relative pathname for top, don't change the\n",
      "    current working directory between resumptions of walk.  walk never\n",
      "    changes the current directory, and assumes that the client doesn't\n",
      "    either.\n",
      "    \n",
      "    Example:\n",
      "    \n",
      "    import os\n",
      "    from os.path import join, getsize\n",
      "    for root, dirs, files in os.walk('python/Lib/email'):\n",
      "        print(root, \"consumes\", end=\"\")\n",
      "        print(sum(getsize(join(root, name)) for name in files), end=\"\")\n",
      "        print(\"bytes in\", len(files), \"non-directory files\")\n",
      "        if 'CVS' in dirs:\n",
      "            dirs.remove('CVS')  # don't visit CVS directories\n",
      "\n"
     ]
    }
   ],
   "source": [
    "help(os.walk)"
   ]
  },
  {
   "cell_type": "code",
   "execution_count": 22,
   "id": "7fb5325c-32ad-4da2-a5bf-cf75871c3a9c",
   "metadata": {},
   "outputs": [],
   "source": [
    "def get_imports(path=Path.cwd(), recursive=True):\n",
    "    \"\"\" Return a `set` containing the names of the modules imported by `path`.\n",
    "    \"\"\"\n",
    "    if type(path) is str: path = Path(path)\n",
    "    FILES = map(lambda p: p.stem, map(lambda s: Path(s), glob(str(path / \"*.py\"), recursive=recursive)))\n",
    "    pp(FILES)\n",
    "#     LOCAL_MODULES = sorted([n for n in FILES if not n.startswith('.')], key=str.lower)\n",
    "#     print(f'{LOCAL_MODULES=}')\n",
    "    results = [set(), set(), set()]\n",
    "    if type(path) is str:\n",
    "        path = Path(path)\n",
    "    if path.is_dir():\n",
    "        for f in glob(str(path / \"*.py\")):\n",
    "            result = get_imports(f)\n",
    "            results = [r.union(result[i]) for i, r in enumerate(results)]\n",
    "    else:\n",
    "        result = set()\n",
    "        lines = path.read_text().split('\\n')\n",
    "        regex = re.compile(\"\\s*import (\\w*)|\\s*from (\\w*)\")\n",
    "        for s in lines:\n",
    "            m = regex.match(s)\n",
    "            if m:\n",
    "                i = 1\n",
    "                while not m.group(i):\n",
    "                    i += 1\n",
    "                assert i < 4\n",
    "                word = m.group(i)\n",
    "                if word:\n",
    "                    m2 = re.search(r'(\\w*)\\.\\w*', word)\n",
    "                    if m2:\n",
    "                        word = m2.group(1)\n",
    "                    result.add(word)\n",
    "        for r in result:\n",
    "            if r in PYTHON_MODULES:\n",
    "                results[0].add(r)\n",
    "            elif r in LOCAL_MODULES:\n",
    "                results[2].add(r)\n",
    "            else:\n",
    "                # if not r == \"py\"\n",
    "                results[1].add(r)\n",
    "        results = [sorted(list(r)) for r in results]\n",
    "    return list(map(lambda s: list(s), results))\n",
    "\n",
    "def print_imports(path=Path.cwd()):\n",
    "    results = get_imports(path)\n",
    "    if len(results[0]):\n",
    "        print(\"Python Modules:\")\n",
    "        print()\n",
    "        columnize(results[0])\n",
    "        print()\n",
    "    if len(results[1]):\n",
    "        print(\"Packages:\")\n",
    "        print()\n",
    "        columnize(results[1])\n",
    "        print()\n",
    "    if len(results[2]):\n",
    "        print(\"Local Modules:\")\n",
    "        print()\n",
    "        columnize(results[2])\n",
    "        print()\n"
   ]
  },
  {
   "cell_type": "code",
   "execution_count": 23,
   "id": "fae56fff-aeff-4e1a-8f45-1f2446891571",
   "metadata": {},
   "outputs": [],
   "source": [
    "# print_imports('../hw')"
   ]
  },
  {
   "cell_type": "code",
   "execution_count": 24,
   "id": "ca0b3299-9a52-41fc-aa28-db4e194dbb35",
   "metadata": {},
   "outputs": [
    {
     "data": {
      "text/plain": [
       "'hw-4.2.0'"
      ]
     },
     "execution_count": 24,
     "metadata": {},
     "output_type": "execute_result"
    }
   ],
   "source": [
    "path = BASEDIR\n",
    "path.name"
   ]
  },
  {
   "cell_type": "code",
   "execution_count": 25,
   "id": "c458330e-12bd-4997-b7fa-98c4b8743b0a",
   "metadata": {},
   "outputs": [
    {
     "data": {
      "text/plain": [
       "'/home/fuzzy/Development/hw-4.2.0'"
      ]
     },
     "execution_count": 25,
     "metadata": {},
     "output_type": "execute_result"
    }
   ],
   "source": [
    "str(path)"
   ]
  },
  {
   "cell_type": "code",
   "execution_count": 26,
   "id": "4cc59e2f-7036-45ec-bfac-91b34111ba19",
   "metadata": {},
   "outputs": [
    {
     "name": "stdout",
     "output_type": "stream",
     "text": [
      "/home/fuzzy/Projects/develop-4.2.0/hw-4.2.0/nb\n"
     ]
    }
   ],
   "source": [
    "!pwd"
   ]
  },
  {
   "cell_type": "code",
   "execution_count": 27,
   "id": "df45d8d6-0ae2-4049-b19e-60c465316910",
   "metadata": {},
   "outputs": [],
   "source": [
    "def ignore(name:str):\n",
    "    \"\"\"Ignore directories that start with '_' and files that start with '.' or '_'.\"\"\"\n",
    "#     print(name)\n",
    "    IGNORE = {'.', '_', 'tests'}\n",
    "    components = name.split(os.sep)\n",
    "#     pp(components)\n",
    "    if len(components) > 1:\n",
    "        for s in name.split(os.sep)[:-1]:\n",
    "            for i in IGNORE:\n",
    "                if s.startswith(i): return True\n",
    "    p = Path(name)\n",
    "    if p.is_dir() and p.name.startswith('_'): return True\n",
    "    else:\n",
    "        for i in IGNORE:\n",
    "            if p.name.startswith(i) and not p.stem in {'__init__', '__main__'}:\n",
    "                return True\n",
    "    return False"
   ]
  },
  {
   "cell_type": "code",
   "execution_count": 28,
   "id": "90fb9f71-28c7-4801-8eda-049ea3cad4a8",
   "metadata": {
    "scrolled": true,
    "tags": []
   },
   "outputs": [],
   "source": [
    "df = DataFrame([f for f in os.walk(path, followlinks=True) if not ignore(f[0])], columns=['dir', 'subdirs', 'files'])"
   ]
  },
  {
   "cell_type": "code",
   "execution_count": 29,
   "id": "df640274-8c99-456b-8421-2fee00a39eae",
   "metadata": {
    "scrolled": true,
    "tags": []
   },
   "outputs": [
    {
     "data": {
      "text/html": [
       "<div>\n",
       "<style scoped>\n",
       "    .dataframe tbody tr th:only-of-type {\n",
       "        vertical-align: middle;\n",
       "    }\n",
       "\n",
       "    .dataframe tbody tr th {\n",
       "        vertical-align: top;\n",
       "    }\n",
       "\n",
       "    .dataframe thead th {\n",
       "        text-align: right;\n",
       "    }\n",
       "</style>\n",
       "<table border=\"1\" class=\"dataframe\">\n",
       "  <thead>\n",
       "    <tr style=\"text-align: right;\">\n",
       "      <th></th>\n",
       "      <th>dir</th>\n",
       "      <th>subdirs</th>\n",
       "      <th>files</th>\n",
       "    </tr>\n",
       "  </thead>\n",
       "  <tbody>\n",
       "    <tr>\n",
       "      <th>0</th>\n",
       "      <td>/home/fuzzy/Development/hw-4.2.0</td>\n",
       "      <td>[tests, etc, sql, md, html, .git, nb, data, .v...</td>\n",
       "      <td>[run, .gitignore, TODO.md, LICENSE, README.md,...</td>\n",
       "    </tr>\n",
       "    <tr>\n",
       "      <th>1</th>\n",
       "      <td>/home/fuzzy/Development/hw-4.2.0/etc</td>\n",
       "      <td>[]</td>\n",
       "      <td>[config.ini, setup.ini, arguments.json]</td>\n",
       "    </tr>\n",
       "    <tr>\n",
       "      <th>2</th>\n",
       "      <td>/home/fuzzy/Development/hw-4.2.0/sql</td>\n",
       "      <td>[]</td>\n",
       "      <td>[clear.sql, now.sql]</td>\n",
       "    </tr>\n",
       "    <tr>\n",
       "      <th>3</th>\n",
       "      <td>/home/fuzzy/Development/hw-4.2.0/md</td>\n",
       "      <td>[.ipynb_checkpoints]</td>\n",
       "      <td>[desc.md]</td>\n",
       "    </tr>\n",
       "    <tr>\n",
       "      <th>4</th>\n",
       "      <td>/home/fuzzy/Development/hw-4.2.0/html</td>\n",
       "      <td>[js, css]</td>\n",
       "      <td>[index.php, all the kings horses.txt, favicon....</td>\n",
       "    </tr>\n",
       "    <tr>\n",
       "      <th>5</th>\n",
       "      <td>/home/fuzzy/Development/hw-4.2.0/html/js</td>\n",
       "      <td>[.ipynb_checkpoints]</td>\n",
       "      <td>[scripts.js]</td>\n",
       "    </tr>\n",
       "    <tr>\n",
       "      <th>6</th>\n",
       "      <td>/home/fuzzy/Development/hw-4.2.0/html/css</td>\n",
       "      <td>[]</td>\n",
       "      <td>[default.css]</td>\n",
       "    </tr>\n",
       "    <tr>\n",
       "      <th>7</th>\n",
       "      <td>/home/fuzzy/Development/hw-4.2.0/nb</td>\n",
       "      <td>[.ipynb_checkpoints]</td>\n",
       "      <td>[program.ipynb, sftp.ipynb, args.ipynb, links....</td>\n",
       "    </tr>\n",
       "    <tr>\n",
       "      <th>8</th>\n",
       "      <td>/home/fuzzy/Development/hw-4.2.0/data</td>\n",
       "      <td>[]</td>\n",
       "      <td>[epilog.txt, deweysummaries.pdf, deweysummarie...</td>\n",
       "    </tr>\n",
       "    <tr>\n",
       "      <th>9</th>\n",
       "      <td>/home/fuzzy/Development/hw-4.2.0/sh</td>\n",
       "      <td>[.ipynb_checkpoints]</td>\n",
       "      <td>[activate.sh, hw.sh, library.sh, bashrc]</td>\n",
       "    </tr>\n",
       "    <tr>\n",
       "      <th>10</th>\n",
       "      <td>/home/fuzzy/Development/hw-4.2.0/www</td>\n",
       "      <td>[cgi-bin, htdocs]</td>\n",
       "      <td>[]</td>\n",
       "    </tr>\n",
       "    <tr>\n",
       "      <th>11</th>\n",
       "      <td>/home/fuzzy/Development/hw-4.2.0/www/cgi-bin</td>\n",
       "      <td>[]</td>\n",
       "      <td>[hw.cgi]</td>\n",
       "    </tr>\n",
       "    <tr>\n",
       "      <th>12</th>\n",
       "      <td>/home/fuzzy/Development/hw-4.2.0/www/htdocs</td>\n",
       "      <td>[]</td>\n",
       "      <td>[index.html]</td>\n",
       "    </tr>\n",
       "    <tr>\n",
       "      <th>13</th>\n",
       "      <td>/home/fuzzy/Development/hw-4.2.0/bin</td>\n",
       "      <td>[]</td>\n",
       "      <td>[library, create.py, create]</td>\n",
       "    </tr>\n",
       "    <tr>\n",
       "      <th>14</th>\n",
       "      <td>/home/fuzzy/Development/hw-4.2.0/log</td>\n",
       "      <td>[]</td>\n",
       "      <td>[]</td>\n",
       "    </tr>\n",
       "    <tr>\n",
       "      <th>15</th>\n",
       "      <td>/home/fuzzy/Development/hw-4.2.0/hw</td>\n",
       "      <td>[.ipynb_checkpoints, __pycache__]</td>\n",
       "      <td>[startup.py, program.py, hw.py, create.py, __m...</td>\n",
       "    </tr>\n",
       "  </tbody>\n",
       "</table>\n",
       "</div>"
      ],
      "text/plain": [
       "                                             dir  \\\n",
       "0               /home/fuzzy/Development/hw-4.2.0   \n",
       "1           /home/fuzzy/Development/hw-4.2.0/etc   \n",
       "2           /home/fuzzy/Development/hw-4.2.0/sql   \n",
       "3            /home/fuzzy/Development/hw-4.2.0/md   \n",
       "4          /home/fuzzy/Development/hw-4.2.0/html   \n",
       "5       /home/fuzzy/Development/hw-4.2.0/html/js   \n",
       "6      /home/fuzzy/Development/hw-4.2.0/html/css   \n",
       "7            /home/fuzzy/Development/hw-4.2.0/nb   \n",
       "8          /home/fuzzy/Development/hw-4.2.0/data   \n",
       "9            /home/fuzzy/Development/hw-4.2.0/sh   \n",
       "10          /home/fuzzy/Development/hw-4.2.0/www   \n",
       "11  /home/fuzzy/Development/hw-4.2.0/www/cgi-bin   \n",
       "12   /home/fuzzy/Development/hw-4.2.0/www/htdocs   \n",
       "13          /home/fuzzy/Development/hw-4.2.0/bin   \n",
       "14          /home/fuzzy/Development/hw-4.2.0/log   \n",
       "15           /home/fuzzy/Development/hw-4.2.0/hw   \n",
       "\n",
       "                                              subdirs  \\\n",
       "0   [tests, etc, sql, md, html, .git, nb, data, .v...   \n",
       "1                                                  []   \n",
       "2                                                  []   \n",
       "3                                [.ipynb_checkpoints]   \n",
       "4                                           [js, css]   \n",
       "5                                [.ipynb_checkpoints]   \n",
       "6                                                  []   \n",
       "7                                [.ipynb_checkpoints]   \n",
       "8                                                  []   \n",
       "9                                [.ipynb_checkpoints]   \n",
       "10                                  [cgi-bin, htdocs]   \n",
       "11                                                 []   \n",
       "12                                                 []   \n",
       "13                                                 []   \n",
       "14                                                 []   \n",
       "15                  [.ipynb_checkpoints, __pycache__]   \n",
       "\n",
       "                                                files  \n",
       "0   [run, .gitignore, TODO.md, LICENSE, README.md,...  \n",
       "1             [config.ini, setup.ini, arguments.json]  \n",
       "2                                [clear.sql, now.sql]  \n",
       "3                                           [desc.md]  \n",
       "4   [index.php, all the kings horses.txt, favicon....  \n",
       "5                                        [scripts.js]  \n",
       "6                                       [default.css]  \n",
       "7   [program.ipynb, sftp.ipynb, args.ipynb, links....  \n",
       "8   [epilog.txt, deweysummaries.pdf, deweysummarie...  \n",
       "9            [activate.sh, hw.sh, library.sh, bashrc]  \n",
       "10                                                 []  \n",
       "11                                           [hw.cgi]  \n",
       "12                                       [index.html]  \n",
       "13                       [library, create.py, create]  \n",
       "14                                                 []  \n",
       "15  [startup.py, program.py, hw.py, create.py, __m...  "
      ]
     },
     "execution_count": 29,
     "metadata": {},
     "output_type": "execute_result"
    }
   ],
   "source": [
    "df"
   ]
  },
  {
   "cell_type": "code",
   "execution_count": 30,
   "id": "b3b81b6c-19f3-4f1b-bba7-a3691f2536c9",
   "metadata": {},
   "outputs": [
    {
     "data": {
      "text/plain": [
       "pandas.core.series.Series"
      ]
     },
     "execution_count": 30,
     "metadata": {},
     "output_type": "execute_result"
    }
   ],
   "source": [
    "type(df['files'])"
   ]
  },
  {
   "cell_type": "code",
   "execution_count": 31,
   "id": "537e75f6-26fa-4a0c-aaa2-e7df0d6599b2",
   "metadata": {
    "scrolled": true,
    "tags": []
   },
   "outputs": [
    {
     "name": "stdout",
     "output_type": "stream",
     "text": [
      "Help on function walk in module os:\n",
      "\n",
      "walk(top, topdown=True, onerror=None, followlinks=False)\n",
      "    Directory tree generator.\n",
      "    \n",
      "    For each directory in the directory tree rooted at top (including top\n",
      "    itself, but excluding '.' and '..'), yields a 3-tuple\n",
      "    \n",
      "        dirpath, dirnames, filenames\n",
      "    \n",
      "    dirpath is a string, the path to the directory.  dirnames is a list of\n",
      "    the names of the subdirectories in dirpath (excluding '.' and '..').\n",
      "    filenames is a list of the names of the non-directory files in dirpath.\n",
      "    Note that the names in the lists are just names, with no path components.\n",
      "    To get a full path (which begins with top) to a file or directory in\n",
      "    dirpath, do os.path.join(dirpath, name).\n",
      "    \n",
      "    If optional arg 'topdown' is true or not specified, the triple for a\n",
      "    directory is generated before the triples for any of its subdirectories\n",
      "    (directories are generated top down).  If topdown is false, the triple\n",
      "    for a directory is generated after the triples for all of its\n",
      "    subdirectories (directories are generated bottom up).\n",
      "    \n",
      "    When topdown is true, the caller can modify the dirnames list in-place\n",
      "    (e.g., via del or slice assignment), and walk will only recurse into the\n",
      "    subdirectories whose names remain in dirnames; this can be used to prune the\n",
      "    search, or to impose a specific order of visiting.  Modifying dirnames when\n",
      "    topdown is false has no effect on the behavior of os.walk(), since the\n",
      "    directories in dirnames have already been generated by the time dirnames\n",
      "    itself is generated. No matter the value of topdown, the list of\n",
      "    subdirectories is retrieved before the tuples for the directory and its\n",
      "    subdirectories are generated.\n",
      "    \n",
      "    By default errors from the os.scandir() call are ignored.  If\n",
      "    optional arg 'onerror' is specified, it should be a function; it\n",
      "    will be called with one argument, an OSError instance.  It can\n",
      "    report the error to continue with the walk, or raise the exception\n",
      "    to abort the walk.  Note that the filename is available as the\n",
      "    filename attribute of the exception object.\n",
      "    \n",
      "    By default, os.walk does not follow symbolic links to subdirectories on\n",
      "    systems that support them.  In order to get this functionality, set the\n",
      "    optional argument 'followlinks' to true.\n",
      "    \n",
      "    Caution:  if you pass a relative pathname for top, don't change the\n",
      "    current working directory between resumptions of walk.  walk never\n",
      "    changes the current directory, and assumes that the client doesn't\n",
      "    either.\n",
      "    \n",
      "    Example:\n",
      "    \n",
      "    import os\n",
      "    from os.path import join, getsize\n",
      "    for root, dirs, files in os.walk('python/Lib/email'):\n",
      "        print(root, \"consumes\", end=\"\")\n",
      "        print(sum(getsize(join(root, name)) for name in files), end=\"\")\n",
      "        print(\"bytes in\", len(files), \"non-directory files\")\n",
      "        if 'CVS' in dirs:\n",
      "            dirs.remove('CVS')  # don't visit CVS directories\n",
      "\n"
     ]
    }
   ],
   "source": [
    "help(os.walk)"
   ]
  },
  {
   "cell_type": "code",
   "execution_count": 32,
   "id": "61abea3a-35c2-419d-9cd8-7b11d2cdf0a7",
   "metadata": {
    "scrolled": true,
    "tags": []
   },
   "outputs": [
    {
     "name": "stdout",
     "output_type": "stream",
     "text": [
      "T                dropna                   map             searchsorted  var  \n",
      "abs              dt                       mask            sem           view \n",
      "add              dtype                    max             set_axis      where\n",
      "add_prefix       dtypes                   mean            set_flags     xs   \n",
      "add_suffix       duplicated               median          shape       \n",
      "agg              empty                    memory_usage    shift       \n",
      "aggregate        eq                       min             size        \n",
      "align            equals                   mod             skew        \n",
      "all              ewm                      mode            slice_shift \n",
      "any              expanding                mul             sort_index  \n",
      "append           explode                  multiply        sort_values \n",
      "apply            factorize                name            sparse      \n",
      "argmax           ffill                    nbytes          squeeze     \n",
      "argmin           fillna                   ndim            std         \n",
      "argsort          filter                   ne              str         \n",
      "array            first                    nlargest        sub         \n",
      "asfreq           first_valid_index        notna           subtract    \n",
      "asof             flags                    notnull         sum         \n",
      "astype           floordiv                 nsmallest       swapaxes    \n",
      "at               ge                       nunique         swaplevel   \n",
      "at_time          get                      pad             tail        \n",
      "attrs            groupby                  pct_change      take        \n",
      "autocorr         gt                       pipe            to_clipboard\n",
      "axes             hasnans                  plot            to_csv      \n",
      "backfill         head                     pop             to_dict     \n",
      "between          hist                     pow             to_excel    \n",
      "between_time     iat                      prod            to_frame    \n",
      "bfill            idxmax                   product         to_hdf      \n",
      "bool             idxmin                   quantile        to_json     \n",
      "cat              iloc                     radd            to_latex    \n",
      "clip             index                    rank            to_list     \n",
      "combine          infer_objects            ravel           to_markdown \n",
      "combine_first    interpolate              rdiv            to_numpy    \n",
      "compare          is_monotonic             rdivmod         to_period   \n",
      "convert_dtypes   is_monotonic_decreasing  reindex         to_pickle   \n",
      "copy             is_monotonic_increasing  reindex_like    to_sql      \n",
      "corr             is_unique                rename          to_string   \n",
      "count            isin                     rename_axis     to_timestamp\n",
      "cov              isna                     reorder_levels  to_xarray   \n",
      "cummax           isnull                   repeat          tolist      \n",
      "cummin           item                     replace         transform   \n",
      "cumprod          items                    resample        transpose   \n",
      "cumsum           iteritems                reset_index     truediv     \n",
      "describe         keys                     rfloordiv       truncate    \n",
      "diff             kurt                     rmod            tshift      \n",
      "div              kurtosis                 rmul            tz_convert  \n",
      "divide           last                     rolling         tz_localize \n",
      "divmod           last_valid_index         round           unique      \n",
      "dot              le                       rpow            unstack     \n",
      "drop             loc                      rsub            update      \n",
      "drop_duplicates  lt                       rtruediv        value_counts\n",
      "droplevel        mad                      sample          values      \n"
     ]
    }
   ],
   "source": [
    "public(Series)"
   ]
  },
  {
   "cell_type": "code",
   "execution_count": 33,
   "id": "734601de-1148-44f2-8c16-442db840c578",
   "metadata": {},
   "outputs": [],
   "source": [
    "L = list()\n",
    "for i, l in enumerate(df['files']):\n",
    "    L.extend([Path(df['dir'][i])/s for s in l])\n",
    "L = [p for p in L if not ignore(str(p)) and p.suffix in {'.py', '.ipynb'}]"
   ]
  },
  {
   "cell_type": "code",
   "execution_count": 34,
   "id": "0a4dec25-1d5c-4efa-841c-1bc4433572d2",
   "metadata": {},
   "outputs": [],
   "source": [
    "notebooks = Series(list(filter(lambda p: p.name.endswith('.ipynb'), L)), dtype=object).unique()\n",
    "sources = Series(list(filter(lambda p: p.name.endswith('.py'), L)), dtype=object).unique()"
   ]
  },
  {
   "cell_type": "code",
   "execution_count": 35,
   "id": "db14654b-dcd1-4c77-9762-8587770a4fdb",
   "metadata": {
    "scrolled": true,
    "tags": []
   },
   "outputs": [
    {
     "name": "stdout",
     "output_type": "stream",
     "text": [
      "array([PosixPath('/home/fuzzy/Development/hw-4.2.0/nb/program.ipynb'),\n",
      "       PosixPath('/home/fuzzy/Development/hw-4.2.0/nb/sftp.ipynb'),\n",
      "       PosixPath('/home/fuzzy/Development/hw-4.2.0/nb/args.ipynb'),\n",
      "       PosixPath('/home/fuzzy/Development/hw-4.2.0/nb/links.ipynb'),\n",
      "       PosixPath('/home/fuzzy/Development/hw-4.2.0/nb/TODO.ipynb'),\n",
      "       PosixPath('/home/fuzzy/Development/hw-4.2.0/nb/hw.ipynb'),\n",
      "       PosixPath('/home/fuzzy/Development/hw-4.2.0/nb/sass.ipynb'),\n",
      "       PosixPath('/home/fuzzy/Development/hw-4.2.0/nb/profiler.ipynb'),\n",
      "       PosixPath('/home/fuzzy/Development/hw-4.2.0/nb/bash.ipynb'),\n",
      "       PosixPath('/home/fuzzy/Development/hw-4.2.0/nb/pdf.ipynb'),\n",
      "       PosixPath('/home/fuzzy/Development/hw-4.2.0/nb/xdg.ipynb'),\n",
      "       PosixPath('/home/fuzzy/Development/hw-4.2.0/nb/lint.ipynb'),\n",
      "       PosixPath('/home/fuzzy/Development/hw-4.2.0/nb/git.ipynb'),\n",
      "       PosixPath('/home/fuzzy/Development/hw-4.2.0/nb/worksheet.ipynb'),\n",
      "       PosixPath('/home/fuzzy/Development/hw-4.2.0/nb/library.ipynb'),\n",
      "       PosixPath('/home/fuzzy/Development/hw-4.2.0/nb/hw.c.ipynb'),\n",
      "       PosixPath('/home/fuzzy/Development/hw-4.2.0/nb/setup.ipynb'),\n",
      "       PosixPath('/home/fuzzy/Development/hw-4.2.0/nb/startup.ipynb'),\n",
      "       PosixPath('/home/fuzzy/Development/hw-4.2.0/nb/docs.ipynb'),\n",
      "       PosixPath('/home/fuzzy/Development/hw-4.2.0/nb/run.ipynb'),\n",
      "       PosixPath('/home/fuzzy/Development/hw-4.2.0/nb/cgi.ipynb'),\n",
      "       PosixPath('/home/fuzzy/Development/hw-4.2.0/nb/debug.ipynb'),\n",
      "       PosixPath('/home/fuzzy/Development/hw-4.2.0/nb/driver.ipynb'),\n",
      "       PosixPath('/home/fuzzy/Development/hw-4.2.0/nb/index.ipynb'),\n",
      "       PosixPath('/home/fuzzy/Development/hw-4.2.0/nb/logs.ipynb'),\n",
      "       PosixPath('/home/fuzzy/Development/hw-4.2.0/nb/jqueryui.ipynb'),\n",
      "       PosixPath('/home/fuzzy/Development/hw-4.2.0/nb/misc.ipynb'),\n",
      "       PosixPath('/home/fuzzy/Development/hw-4.2.0/nb/imports.ipynb'),\n",
      "       PosixPath('/home/fuzzy/Development/hw-4.2.0/nb/mariadb.ipynb'),\n",
      "       PosixPath('/home/fuzzy/Development/hw-4.2.0/nb/less.ipynb'),\n",
      "       PosixPath('/home/fuzzy/Development/hw-4.2.0/nb/create_project.ipynb'),\n",
      "       PosixPath('/home/fuzzy/Development/hw-4.2.0/nb/tools.ipynb'),\n",
      "       PosixPath('/home/fuzzy/Development/hw-4.2.0/nb/env.ipynb'),\n",
      "       PosixPath('/home/fuzzy/Development/hw-4.2.0/nb/files.ipynb'),\n",
      "       PosixPath('/home/fuzzy/Development/hw-4.2.0/nb/javasript.ipynb'),\n",
      "       PosixPath('/home/fuzzy/Development/hw-4.2.0/nb/jquery.ipynb'),\n",
      "       PosixPath('/home/fuzzy/Development/hw-4.2.0/nb/config.ipynb'),\n",
      "       PosixPath('/home/fuzzy/Development/hw-4.2.0/nb/py2nb.ipynb'),\n",
      "       PosixPath('/home/fuzzy/Development/hw-4.2.0/nb/python.ipynb'),\n",
      "       PosixPath('/home/fuzzy/Development/hw-4.2.0/nb/linux.ipynb')],\n",
      "      dtype=object)\n"
     ]
    }
   ],
   "source": [
    "pp(notebooks)"
   ]
  },
  {
   "cell_type": "code",
   "execution_count": 36,
   "id": "c5e4097d-5e4e-4751-aec9-41489a5b1fff",
   "metadata": {},
   "outputs": [],
   "source": [
    "with notebooks[0].open() as f:\n",
    "    j = json.load(f)"
   ]
  },
  {
   "cell_type": "code",
   "execution_count": 37,
   "id": "ecefdee3-ab6b-490a-a53e-739f3df5a481",
   "metadata": {},
   "outputs": [
    {
     "data": {
      "text/plain": [
       "['from pathlib import Path',\n",
       " 'import site',\n",
       " 'from tools import *',\n",
       " 'from program import Program']"
      ]
     },
     "execution_count": 37,
     "metadata": {},
     "output_type": "execute_result"
    }
   ],
   "source": [
    "pat = re.compile(r'^(from|import)')\n",
    "lines = list()\n",
    "for c in j['cells']:\n",
    "    lines.extend([l.rstrip('\\n') for l in c['source'] if pat.match(l)])\n",
    "lines"
   ]
  },
  {
   "cell_type": "code",
   "execution_count": 38,
   "id": "c6f50022-3f1c-45a1-a9af-39a244efe2a0",
   "metadata": {
    "scrolled": true,
    "tags": []
   },
   "outputs": [
    {
     "data": {
      "text/plain": [
       "['from pathlib import Path',\n",
       " 'import site',\n",
       " 'from tools import *',\n",
       " 'from program import Program',\n",
       " 'import ftplib',\n",
       " 'from ftplib import FTP',\n",
       " 'from io import StringIO',\n",
       " 'import os',\n",
       " 'from pathlib import Path',\n",
       " 'import site',\n",
       " 'import sys',\n",
       " 'from tools import *',\n",
       " 'from program import Program',\n",
       " 'from IPython.display import Markdown',\n",
       " 'import json',\n",
       " 'import os',\n",
       " 'from pathlib import Path',\n",
       " 'import site',\n",
       " 'import subprocess',\n",
       " 'from warnings import warn',\n",
       " 'from bs4 import BeautifulSoup',\n",
       " 'import isbnlib',\n",
       " 'import mysql.connector',\n",
       " 'import pdfminer',\n",
       " 'import requests',\n",
       " 'from tools import *',\n",
       " 'from program import Program',\n",
       " 'from functools import partial',\n",
       " 'from io import StringIO',\n",
       " 'from os import chdir, listdir',\n",
       " 'import pkgutil',\n",
       " 'import xdg',\n",
       " 'from hw.tools import *',\n",
       " 'import xdg.util',\n",
       " 'import xdg.BaseDirectory',\n",
       " 'from os import chdir',\n",
       " 'from pathlib import Path',\n",
       " 'import sys',\n",
       " 'from py.tools import * # python helper functions for this notebook',\n",
       " 'import os',\n",
       " 'import gzip',\n",
       " 'import os',\n",
       " 'from pandas import DataFrame, Series',\n",
       " 'from subprocess import check_output',\n",
       " 'import sys',\n",
       " 'import tarfile',\n",
       " 'from tempfile import NamedTemporaryFile as TempFile',\n",
       " 'from pathlib import Path',\n",
       " 'import xdg',\n",
       " 'from tools.tools import *',\n",
       " 'import tools',\n",
       " 'import xdg.BaseDirectory',\n",
       " 'from functools import partial',\n",
       " 'from os import chdir as cd, listdir as ls',\n",
       " 'from pathlib import Path',\n",
       " 'import site',\n",
       " 'from subprocess import check_output',\n",
       " 'from tools import *',\n",
       " 'from markdown import markdown as md',\n",
       " 'from pathlib import Path',\n",
       " 'from bs4 import BeautifulSoup',\n",
       " 'from cmd import Cmd',\n",
       " 'from glob import glob',\n",
       " 'import importlib.resources',\n",
       " 'from io import StringIO',\n",
       " 'import json',\n",
       " 'import os',\n",
       " 'from os import chdir, curdir, listdir',\n",
       " 'from pathlib import Path',\n",
       " 'import pkg_resources',\n",
       " 'from pprint import pprint as pp',\n",
       " 'import re',\n",
       " 'import requests',\n",
       " 'import site',\n",
       " 'import sys',\n",
       " 'import zipfile',\n",
       " 'from pandas import DataFrame, Series',\n",
       " 'from constants import *',\n",
       " 'from tools import *',\n",
       " 'import zipfile',\n",
       " 'from pandas import DataFrame',\n",
       " 'from getpass import getuser',\n",
       " 'from pathlib import Path',\n",
       " 'import site',\n",
       " 'import mysql.connector',\n",
       " 'from tools import *',\n",
       " 'from configparser import ConfigParser',\n",
       " 'from functools import partial',\n",
       " 'from os import chdir as cd, curdir, listdir as ls',\n",
       " 'from pathlib import Path',\n",
       " 'import re',\n",
       " 'from shutil import move',\n",
       " 'import site',\n",
       " 'from subprocess import check_output',\n",
       " 'from tools import *',\n",
       " 'import xdg.BaseDirectory as basedir',\n",
       " 'import gzip',\n",
       " 'import os',\n",
       " 'from os import chdir',\n",
       " 'from pandas import DataFrame, Series',\n",
       " 'from subprocess import check_output',\n",
       " 'import sys',\n",
       " 'import tarfile',\n",
       " 'from tempfile import NamedTemporaryFile as TempFile',\n",
       " 'from pathlib import Path',\n",
       " 'from tools import *',\n",
       " 'from cmd import Cmd',\n",
       " 'import re',\n",
       " 'import netsnmp',\n",
       " 'from pandas import Series',\n",
       " 'from pprint import pprint as pp',\n",
       " 'from os import environ',\n",
       " 'import sys',\n",
       " 'from glob import iglob as glob',\n",
       " 'import os',\n",
       " 'from pathlib import Path',\n",
       " 'from pprint import pprint as pp',\n",
       " 'import site',\n",
       " 'from tools import *',\n",
       " 'import os',\n",
       " 'from pathlib import Path',\n",
       " 'import pkgutil',\n",
       " 'import site',\n",
       " 'import sys',\n",
       " 'from tools import *',\n",
       " 'from enum import IntEnum',\n",
       " 'import re',\n",
       " 'import site',\n",
       " 'import os',\n",
       " 'import sys',\n",
       " 'from pathlib import Path',\n",
       " 'from tools import *',\n",
       " 'import inspect',\n",
       " 'import tokenize',\n",
       " 'from io import StringIO']"
      ]
     },
     "execution_count": 38,
     "metadata": {},
     "output_type": "execute_result"
    }
   ],
   "source": [
    "pat = re.compile(r'^(from|import)')\n",
    "lines = list()\n",
    "for nb in notebooks:\n",
    "    with nb.open() as f:\n",
    "        j = json.load(f)\n",
    "        for c in j['cells']:\n",
    "            lines.extend([l.rstrip('\\n') for l in c['source'] if pat.match(l)])\n",
    "lines"
   ]
  },
  {
   "cell_type": "code",
   "execution_count": null,
   "id": "fbe81733-0690-426a-a7cd-f23251e3cfec",
   "metadata": {},
   "outputs": [],
   "source": []
  },
  {
   "cell_type": "code",
   "execution_count": 46,
   "id": "cde8d225-ec90-4b03-af74-a06e33b765da",
   "metadata": {
    "scrolled": true,
    "tags": []
   },
   "outputs": [
    {
     "name": "stdout",
     "output_type": "stream",
     "text": [
      "Debugging `grep().\n",
      "type(pattern)=<class 're.Pattern'>\n",
      "Processing pattern re.compile('^(from|import)')\n",
      "525\n",
      "85\n"
     ]
    }
   ],
   "source": [
    "lines.extend(grep(*sources, pattern=pat, quiet=True))\n",
    "print(len(lines))\n",
    "s = set(lines)\n",
    "print(len(s))"
   ]
  },
  {
   "cell_type": "code",
   "execution_count": 52,
   "id": "5ceecaa3-19d7-49d7-bf05-e289f36eef5a",
   "metadata": {
    "scrolled": true,
    "tags": []
   },
   "outputs": [
    {
     "data": {
      "text/plain": [
       "['warnings',\n",
       " 'mysql.connector',\n",
       " 'functools',\n",
       " 'isbnlib',\n",
       " 'glob',\n",
       " 'xdg',\n",
       " 'tools',\n",
       " 'ftplib',\n",
       " 'tempfile',\n",
       " 'os',\n",
       " 'os',\n",
       " 'py.tools',\n",
       " 'pdfminer',\n",
       " 'hw.hw',\n",
       " 'enum',\n",
       " 'markdown',\n",
       " 'sys',\n",
       " 'configparser',\n",
       " 'os.path',\n",
       " 'inspect',\n",
       " 'ftplib',\n",
       " 'logging',\n",
       " 'subprocess',\n",
       " 'os',\n",
       " 'pkg_resources',\n",
       " 'os',\n",
       " 'datetime',\n",
       " 'IPython.display',\n",
       " 'constants',\n",
       " 'requests',\n",
       " 'tarfile',\n",
       " 'tools',\n",
       " 'functools',\n",
       " 'os',\n",
       " 'datetime',\n",
       " 'glob',\n",
       " 'pandas',\n",
       " 'shutil',\n",
       " 'pdb',\n",
       " 'walkdir',\n",
       " 'pkgutil',\n",
       " 'tokenize',\n",
       " 'xdg.BaseDirectory',\n",
       " 'fileinput',\n",
       " 'hw.tools',\n",
       " 'xdg.util',\n",
       " 'os',\n",
       " 'program',\n",
       " 'file',\n",
       " 'pdb',\n",
       " 'glob',\n",
       " 'pathlib',\n",
       " 'importlib.resources',\n",
       " 'shlex',\n",
       " 're',\n",
       " 'pathlib',\n",
       " 'netsnmp',\n",
       " 'os',\n",
       " 'subprocess',\n",
       " 'json',\n",
       " 'os',\n",
       " 'traceback',\n",
       " 'os',\n",
       " 'pprint',\n",
       " 'getpass',\n",
       " 'os',\n",
       " 'shutil',\n",
       " 'driver',\n",
       " 'tools.tools',\n",
       " 'bs4',\n",
       " 'functools',\n",
       " 'warnings',\n",
       " 'collections',\n",
       " 'xdg.BaseDirectory',\n",
       " 'site',\n",
       " 'zipfile',\n",
       " 'os',\n",
       " 'gzip',\n",
       " 'shutil',\n",
       " 'io',\n",
       " 'cmd',\n",
       " 'xdg.BaseDirectory',\n",
       " 'pandas',\n",
       " 'pandas',\n",
       " 'argparse']"
      ]
     },
     "execution_count": 52,
     "metadata": {},
     "output_type": "execute_result"
    }
   ],
   "source": [
    "modules = [line.split()[1] for line in s]\n",
    "modules"
   ]
  },
  {
   "cell_type": "code",
   "execution_count": 49,
   "id": "b8e79d4a-cdb2-4fb9-b8e7-804586f81c39",
   "metadata": {},
   "outputs": [
    {
     "name": "stdout",
     "output_type": "stream",
     "text": [
      "add         difference_update    isdisjoint  remove                       update\n",
      "clear       discard              issubset    symmetric_difference       \n",
      "copy        intersection         issuperset  symmetric_difference_update\n",
      "difference  intersection_update  pop         union                      \n"
     ]
    }
   ],
   "source": [
    "public(s)"
   ]
  },
  {
   "cell_type": "code",
   "execution_count": 50,
   "id": "55e56a56-99b7-4a20-a955-06ab3a9026d7",
   "metadata": {},
   "outputs": [
    {
     "data": {
      "text/plain": [
       "set()"
      ]
     },
     "execution_count": 50,
     "metadata": {},
     "output_type": "execute_result"
    }
   ],
   "source": [
    "s.intersection(PYTHON_MODULES)"
   ]
  },
  {
   "cell_type": "code",
   "execution_count": 55,
   "id": "b2f99c1d-ddc5-447f-b50d-c0eae14c6a7f",
   "metadata": {},
   "outputs": [],
   "source": [
    "pymods = set(modules).intersection(PYTHON_MODULES)"
   ]
  },
  {
   "cell_type": "code",
   "execution_count": 59,
   "id": "a5a54460-4dab-4ddf-a54f-eaca5e7f35cb",
   "metadata": {},
   "outputs": [
    {
     "name": "stdout",
     "output_type": "stream",
     "text": [
      "argparse      enum       glob     logging  pprint  subprocess  traceback\n",
      "cmd           fileinput  gzip     os       re      sys         warnings \n",
      "collections   ftplib     inspect  pathlib  shlex   tarfile     zipfile  \n",
      "configparser  functools  io       pdb      shutil  tempfile  \n",
      "datetime      getpass    json     pkgutil  site    tokenize  \n"
     ]
    }
   ],
   "source": [
    "columnize(sorted(list(pymods), key=str.lower))"
   ]
  },
  {
   "cell_type": "code",
   "execution_count": 110,
   "id": "62077d72-ca30-4683-9201-72fdf9a63543",
   "metadata": {},
   "outputs": [],
   "source": [
    "pkgmods = set(modules).difference(PYTHON_MODULES).difference(srcmods)"
   ]
  },
  {
   "cell_type": "code",
   "execution_count": 111,
   "id": "059e5e9f-55ca-4dc9-8501-759ba3e4ca8e",
   "metadata": {},
   "outputs": [
    {
     "name": "stdout",
     "output_type": "stream",
     "text": [
      "bs4                  IPython.display  os.path        requests           xdg.util\n",
      "file                 isbnlib          pandas         tools.tools      \n",
      "hw.hw                markdown         pdfminer       walkdir          \n",
      "hw.tools             mysql.connector  pkg_resources  xdg              \n",
      "importlib.resources  netsnmp          py.tools       xdg.BaseDirectory\n"
     ]
    }
   ],
   "source": [
    "columnize(sorted(list(pkgmods), key=str.lower))"
   ]
  },
  {
   "cell_type": "code",
   "execution_count": 112,
   "id": "3cac9624-b428-4b6f-bc60-932cb407fe6c",
   "metadata": {},
   "outputs": [
    {
     "data": {
      "text/plain": [
       "array([PosixPath('/home/fuzzy/Development/hw-4.2.0/bin/create.py'),\n",
       "       PosixPath('/home/fuzzy/Development/hw-4.2.0/hw/startup.py'),\n",
       "       PosixPath('/home/fuzzy/Development/hw-4.2.0/hw/program.py'),\n",
       "       PosixPath('/home/fuzzy/Development/hw-4.2.0/hw/hw.py'),\n",
       "       PosixPath('/home/fuzzy/Development/hw-4.2.0/hw/create.py'),\n",
       "       PosixPath('/home/fuzzy/Development/hw-4.2.0/hw/__main__.py'),\n",
       "       PosixPath('/home/fuzzy/Development/hw-4.2.0/hw/imports.py'),\n",
       "       PosixPath('/home/fuzzy/Development/hw-4.2.0/hw/library.py'),\n",
       "       PosixPath('/home/fuzzy/Development/hw-4.2.0/hw/tools.py'),\n",
       "       PosixPath('/home/fuzzy/Development/hw-4.2.0/hw/constants.py'),\n",
       "       PosixPath('/home/fuzzy/Development/hw-4.2.0/hw/setup.py'),\n",
       "       PosixPath('/home/fuzzy/Development/hw-4.2.0/hw/driver.py'),\n",
       "       PosixPath('/home/fuzzy/Development/hw-4.2.0/hw/__init__.py'),\n",
       "       PosixPath('/home/fuzzy/Development/hw-4.2.0/hw/files.py')],\n",
       "      dtype=object)"
      ]
     },
     "execution_count": 112,
     "metadata": {},
     "output_type": "execute_result"
    }
   ],
   "source": [
    "sources"
   ]
  },
  {
   "cell_type": "code",
   "execution_count": 65,
   "id": "d7928135-b2b7-4097-b6a9-fbb5c9111d14",
   "metadata": {},
   "outputs": [],
   "source": [
    "src_names = set([p.name.split('.')[0] for p in sources])"
   ]
  },
  {
   "cell_type": "code",
   "execution_count": 73,
   "id": "cfa902b2-a987-4b9b-bfc3-77268a90a5d1",
   "metadata": {},
   "outputs": [],
   "source": [
    "srcmods = src_names.intersection(modules)"
   ]
  },
  {
   "cell_type": "code",
   "execution_count": 68,
   "id": "1598fbb8-f4a9-45b7-b9c3-d909f110f6f3",
   "metadata": {
    "scrolled": true,
    "tags": []
   },
   "outputs": [
    {
     "data": {
      "text/plain": [
       "{'from IPython.display import Markdown',\n",
       " 'from argparse import ArgumentParser',\n",
       " 'from bs4 import BeautifulSoup',\n",
       " 'from cmd import Cmd',\n",
       " 'from collections import ChainMap',\n",
       " 'from configparser import ConfigParser',\n",
       " 'from constants import *',\n",
       " 'from datetime import date',\n",
       " 'from datetime import datetime as dt',\n",
       " 'from driver import Driver',\n",
       " 'from enum import IntEnum',\n",
       " 'from file import Magic',\n",
       " 'from ftplib import FTP',\n",
       " 'from functools import partial',\n",
       " 'from functools import partial, singledispatch, wraps',\n",
       " 'from functools import singledispatch, singledispatchmethod',\n",
       " 'from getpass import getuser',\n",
       " 'from glob import glob',\n",
       " 'from glob import iglob as glob',\n",
       " 'from hw.hw import HelloWorld',\n",
       " 'from hw.tools import *',\n",
       " 'from io import StringIO',\n",
       " 'from markdown import markdown as md',\n",
       " 'from os import chdir',\n",
       " 'from os import chdir as cd',\n",
       " 'from os import chdir as cd, curdir as pwd, listdir as ls',\n",
       " 'from os import chdir as cd, curdir, listdir as ls',\n",
       " 'from os import chdir as cd, listdir',\n",
       " 'from os import chdir as cd, listdir as ls',\n",
       " 'from os import chdir, curdir, listdir',\n",
       " 'from os import chdir, listdir',\n",
       " 'from os import environ',\n",
       " 'from os import listdir',\n",
       " 'from pandas import DataFrame',\n",
       " 'from pandas import DataFrame, Series',\n",
       " 'from pandas import Series',\n",
       " 'from pathlib import Path',\n",
       " 'from pathlib import Path, PosixPath, WindowsPath',\n",
       " 'from pdb import set_trace as trace',\n",
       " 'from pprint import pprint as pp',\n",
       " 'from program import Program',\n",
       " 'from py.tools import * # python helper functions for this notebook',\n",
       " 'from shutil import copy2 as cp',\n",
       " 'from shutil import copytree, move',\n",
       " 'from shutil import move',\n",
       " 'from subprocess import check_output',\n",
       " 'from tempfile import NamedTemporaryFile as TempFile',\n",
       " 'from tools import *',\n",
       " 'from tools.tools import *',\n",
       " 'from traceback import print_exc',\n",
       " 'from walkdir import filtered_walk',\n",
       " 'from warnings import warn',\n",
       " 'from xdg.BaseDirectory import xdg_config_home as CONFIG_DIR, xdg_data_home as DATA_DIR',\n",
       " 'import fileinput',\n",
       " 'import ftplib',\n",
       " 'import glob',\n",
       " 'import gzip',\n",
       " 'import importlib.resources',\n",
       " 'import inspect',\n",
       " 'import isbnlib',\n",
       " 'import json',\n",
       " 'import logging',\n",
       " 'import mysql.connector',\n",
       " 'import netsnmp',\n",
       " 'import os',\n",
       " 'import os.path',\n",
       " 'import pdb',\n",
       " 'import pdfminer',\n",
       " 'import pkg_resources',\n",
       " 'import pkgutil',\n",
       " 'import re',\n",
       " 'import requests',\n",
       " 'import shlex',\n",
       " 'import site',\n",
       " 'import subprocess',\n",
       " 'import sys',\n",
       " 'import tarfile',\n",
       " 'import tokenize',\n",
       " 'import tools',\n",
       " 'import warnings',\n",
       " 'import xdg',\n",
       " 'import xdg.BaseDirectory',\n",
       " 'import xdg.BaseDirectory as basedir',\n",
       " 'import xdg.util',\n",
       " 'import zipfile'}"
      ]
     },
     "execution_count": 68,
     "metadata": {},
     "output_type": "execute_result"
    }
   ],
   "source": [
    "s"
   ]
  },
  {
   "cell_type": "code",
   "execution_count": 117,
   "id": "40a94ab6-e806-4e05-8091-67c3d1034d96",
   "metadata": {
    "scrolled": true,
    "tags": []
   },
   "outputs": [
    {
     "data": {
      "text/plain": [
       "['from argparse import ArgumentParser',\n",
       " 'from cmd import Cmd',\n",
       " 'from collections import ChainMap',\n",
       " 'from configparser import ConfigParser',\n",
       " 'from datetime import date',\n",
       " 'from datetime import datetime as dt',\n",
       " 'from enum import IntEnum',\n",
       " 'import fileinput',\n",
       " 'import ftplib',\n",
       " 'from ftplib import FTP',\n",
       " 'from functools import partial, singledispatch, wraps',\n",
       " 'from functools import partial',\n",
       " 'from functools import singledispatch, singledispatchmethod',\n",
       " 'from getpass import getuser',\n",
       " 'from glob import glob',\n",
       " 'from glob import iglob as glob',\n",
       " 'import glob',\n",
       " 'import gzip',\n",
       " 'import inspect',\n",
       " 'from io import StringIO',\n",
       " 'import json',\n",
       " 'import logging',\n",
       " 'import os',\n",
       " 'from os import chdir as cd',\n",
       " 'from os import chdir, listdir',\n",
       " 'from os import environ',\n",
       " 'from os import chdir as cd, curdir, listdir as ls',\n",
       " 'from os import chdir as cd, listdir',\n",
       " 'from os import chdir as cd, curdir as pwd, listdir as ls',\n",
       " 'from os import listdir',\n",
       " 'from os import chdir, curdir, listdir',\n",
       " 'from os import chdir as cd, listdir as ls',\n",
       " 'from os import chdir',\n",
       " 'from pathlib import Path, PosixPath, WindowsPath',\n",
       " 'from pathlib import Path',\n",
       " 'import pdb',\n",
       " 'from pdb import set_trace as trace',\n",
       " 'import pkgutil',\n",
       " 'from pprint import pprint as pp',\n",
       " 'import re',\n",
       " 'import shlex',\n",
       " 'from shutil import copy2 as cp',\n",
       " 'from shutil import move',\n",
       " 'from shutil import copytree, move',\n",
       " 'import site',\n",
       " 'import subprocess',\n",
       " 'from subprocess import check_output',\n",
       " 'import sys',\n",
       " 'import tarfile',\n",
       " 'from tempfile import NamedTemporaryFile as TempFile',\n",
       " 'import tokenize',\n",
       " 'from traceback import print_exc',\n",
       " 'import warnings',\n",
       " 'from warnings import warn',\n",
       " 'import zipfile',\n",
       " '',\n",
       " 'from bs4 import BeautifulSoup',\n",
       " 'from file import Magic',\n",
       " 'from hw.hw import HelloWorld',\n",
       " 'from hw.tools import *',\n",
       " 'import importlib.resources',\n",
       " 'from IPython.display import Markdown',\n",
       " 'import isbnlib',\n",
       " 'from markdown import markdown as md',\n",
       " 'import mysql.connector',\n",
       " 'import netsnmp',\n",
       " 'import os.path',\n",
       " 'from pandas import Series',\n",
       " 'from pandas import DataFrame',\n",
       " 'from pandas import DataFrame, Series',\n",
       " 'import pdfminer',\n",
       " 'import pkg_resources',\n",
       " 'from py.tools import * # python helper functions for this notebook',\n",
       " 'import requests',\n",
       " 'from tools.tools import *',\n",
       " 'from walkdir import filtered_walk',\n",
       " 'import xdg',\n",
       " 'from xdg.BaseDirectory import xdg_config_home as CONFIG_DIR, xdg_data_home as DATA_DIR',\n",
       " 'import xdg.BaseDirectory as basedir',\n",
       " 'import xdg.BaseDirectory',\n",
       " 'import xdg.util',\n",
       " '',\n",
       " 'from constants import *',\n",
       " 'from driver import Driver',\n",
       " 'from program import Program',\n",
       " 'from tools import *',\n",
       " 'import tools',\n",
       " '']"
      ]
     },
     "execution_count": 117,
     "metadata": {},
     "output_type": "execute_result"
    }
   ],
   "source": [
    "output = list()\n",
    "for mods in [pymods, pkgmods, srcmods]:\n",
    "    section = list()\n",
    "    for line in s:\n",
    "        word = line.split()[1]\n",
    "        if word in mods:\n",
    "            section.append(line)\n",
    "#     pp(section)\n",
    "#     print()\n",
    "    output.extend(sorted(section, key=lambda s: s.split()[1].lower()))\n",
    "    output.append('')\n",
    "output"
   ]
  },
  {
   "cell_type": "code",
   "execution_count": 121,
   "id": "f19c4e94-3d72-48e7-a31d-47ce97a271a6",
   "metadata": {},
   "outputs": [
    {
     "name": "stdout",
     "output_type": "stream",
     "text": [
      "from argparse import ArgumentParser\n",
      "from cmd import Cmd\n",
      "from collections import ChainMap\n",
      "from configparser import ConfigParser\n",
      "from datetime import date\n",
      "from datetime import datetime as dt\n",
      "from enum import IntEnum\n",
      "import fileinput\n",
      "import ftplib\n",
      "from ftplib import FTP\n",
      "from functools import partial, singledispatch, wraps\n",
      "from functools import partial\n",
      "from functools import singledispatch, singledispatchmethod\n",
      "from getpass import getuser\n",
      "from glob import glob\n",
      "from glob import iglob as glob\n",
      "import glob\n",
      "import gzip\n",
      "import inspect\n",
      "from io import StringIO\n",
      "import json\n",
      "import logging\n",
      "import os\n",
      "from os import chdir as cd\n",
      "from os import chdir, listdir\n",
      "from os import environ\n",
      "from os import chdir as cd, curdir, listdir as ls\n",
      "from os import chdir as cd, listdir\n",
      "from os import chdir as cd, curdir as pwd, listdir as ls\n",
      "from os import listdir\n",
      "from os import chdir, curdir, listdir\n",
      "from os import chdir as cd, listdir as ls\n",
      "from os import chdir\n",
      "from pathlib import Path, PosixPath, WindowsPath\n",
      "from pathlib import Path\n",
      "import pdb\n",
      "from pdb import set_trace as trace\n",
      "import pkgutil\n",
      "from pprint import pprint as pp\n",
      "import re\n",
      "import shlex\n",
      "from shutil import copy2 as cp\n",
      "from shutil import move\n",
      "from shutil import copytree, move\n",
      "import site\n",
      "import subprocess\n",
      "from subprocess import check_output\n",
      "import sys\n",
      "import tarfile\n",
      "from tempfile import NamedTemporaryFile as TempFile\n",
      "import tokenize\n",
      "from traceback import print_exc\n",
      "import warnings\n",
      "from warnings import warn\n",
      "import zipfile\n",
      "\n",
      "from bs4 import BeautifulSoup\n",
      "from file import Magic\n",
      "from hw.hw import HelloWorld\n",
      "from hw.tools import *\n",
      "import importlib.resources\n",
      "from IPython.display import Markdown\n",
      "import isbnlib\n",
      "from markdown import markdown as md\n",
      "import mysql.connector\n",
      "import netsnmp\n",
      "import os.path\n",
      "from pandas import Series\n",
      "from pandas import DataFrame\n",
      "from pandas import DataFrame, Series\n",
      "import pdfminer\n",
      "import pkg_resources\n",
      "from py.tools import * # python helper functions for this notebook\n",
      "import requests\n",
      "from tools.tools import *\n",
      "from walkdir import filtered_walk\n",
      "import xdg\n",
      "from xdg.BaseDirectory import xdg_config_home as CONFIG_DIR, xdg_data_home as DATA_DIR\n",
      "import xdg.BaseDirectory as basedir\n",
      "import xdg.BaseDirectory\n",
      "import xdg.util\n",
      "\n",
      "from constants import *\n",
      "from driver import Driver\n",
      "from program import Program\n",
      "from tools import *\n",
      "import tools\n",
      "\n"
     ]
    }
   ],
   "source": [
    "print(Path('hw/imports.py').read_text())"
   ]
  },
  {
   "cell_type": "code",
   "execution_count": 120,
   "id": "0f08e1c7-fabe-4d99-afc3-55f329ba3e33",
   "metadata": {
    "scrolled": true,
    "tags": []
   },
   "outputs": [
    {
     "data": {
      "text/plain": [
       "2299"
      ]
     },
     "execution_count": 120,
     "metadata": {},
     "output_type": "execute_result"
    }
   ],
   "source": [
    "Path('hw/imports.py').write_text('\\n'.join(output))"
   ]
  },
  {
   "cell_type": "code",
   "execution_count": 81,
   "id": "0008ea0b-f46f-4ce9-b15c-d94222326728",
   "metadata": {
    "scrolled": true,
    "tags": []
   },
   "outputs": [
    {
     "name": "stdout",
     "output_type": "stream",
     "text": [
      "T               drop_duplicates    last              resample       to_parquet  \n",
      "abs             droplevel          last_valid_index  reset_index    to_period   \n",
      "add             dropna             le                rfloordiv      to_pickle   \n",
      "add_prefix      dtypes             loc               rmod           to_records  \n",
      "add_suffix      duplicated         lookup            rmul           to_sql      \n",
      "agg             empty              lt                rolling        to_stata    \n",
      "aggregate       eq                 mad               round          to_string   \n",
      "align           equals             mask              rpow           to_timestamp\n",
      "all             eval               max               rsub           to_xarray   \n",
      "any             ewm                mean              rtruediv       to_xml      \n",
      "append          expanding          median            sample         transform   \n",
      "apply           explode            melt              select_dtypes  transpose   \n",
      "applymap        ffill              memory_usage      sem            truediv     \n",
      "asfreq          fillna             merge             set_axis       truncate    \n",
      "asof            filter             min               set_flags      tshift      \n",
      "assign          first              mod               set_index      tz_convert  \n",
      "astype          first_valid_index  mode              shape          tz_localize \n",
      "at              flags              mul               shift          unstack     \n",
      "at_time         floordiv           multiply          size           update      \n",
      "attrs           from_dict          ndim              skew           value_counts\n",
      "axes            from_records       ne                slice_shift    values      \n",
      "backfill        ge                 nlargest          sort_index     var         \n",
      "between_time    get                notna             sort_values    where       \n",
      "bfill           groupby            notnull           sparse         xs          \n",
      "bool            gt                 nsmallest         squeeze      \n",
      "boxplot         head               nunique           stack        \n",
      "clip            hist               pad               std          \n",
      "columns         iat                pct_change        style        \n",
      "combine         idxmax             pipe              sub          \n",
      "combine_first   idxmin             pivot             subtract     \n",
      "compare         iloc               pivot_table       sum          \n",
      "convert_dtypes  index              plot              swapaxes     \n",
      "copy            infer_objects      pop               swaplevel    \n",
      "corr            info               pow               tail         \n",
      "corrwith        insert             prod              take         \n",
      "count           interpolate        product           to_clipboard \n",
      "cov             isin               quantile          to_csv       \n",
      "cummax          isna               query             to_dict      \n",
      "cummin          isnull             radd              to_excel     \n",
      "cumprod         items              rank              to_feather   \n",
      "cumsum          iteritems          rdiv              to_gbq       \n",
      "describe        iterrows           reindex           to_hdf       \n",
      "diff            itertuples         reindex_like      to_html      \n",
      "div             join               rename            to_json      \n",
      "divide          keys               rename_axis       to_latex     \n",
      "dot             kurt               reorder_levels    to_markdown  \n",
      "drop            kurtosis           replace           to_numpy     \n"
     ]
    }
   ],
   "source": [
    "public(DataFrame)"
   ]
  },
  {
   "cell_type": "code",
   "execution_count": 83,
   "id": "dd8e6ac1-9857-4f22-bee7-038f63b0d284",
   "metadata": {},
   "outputs": [
    {
     "data": {
      "text/plain": [
       "'        0     1       2      3     4     5\\n0    from  glob  import   glob  None  None\\n1    from  glob  import  iglob    as  glob\\n2  import  glob    None   None  None  None'"
      ]
     },
     "execution_count": 83,
     "metadata": {},
     "output_type": "execute_result"
    }
   ],
   "source": [
    "df.to_string()"
   ]
  },
  {
   "cell_type": "code",
   "execution_count": 84,
   "id": "65fed678-8589-4aec-bdef-995aa90cffe8",
   "metadata": {},
   "outputs": [
    {
     "name": "stdout",
     "output_type": "stream",
     "text": [
      "        0     1       2      3     4     5\n",
      "0    from  glob  import   glob  None  None\n",
      "1    from  glob  import  iglob    as  glob\n",
      "2  import  glob    None   None  None  None\n"
     ]
    }
   ],
   "source": [
    "print(df.to_string())"
   ]
  },
  {
   "cell_type": "code",
   "execution_count": null,
   "id": "22f82b7e-b4c4-45ba-be66-d0f2b0a4ff7f",
   "metadata": {},
   "outputs": [],
   "source": []
  }
 ],
 "metadata": {
  "kernelspec": {
   "display_name": "Python 3 (ipykernel)",
   "language": "python",
   "name": "python3"
  },
  "language_info": {
   "codemirror_mode": {
    "name": "ipython",
    "version": 3
   },
   "file_extension": ".py",
   "mimetype": "text/x-python",
   "name": "python",
   "nbconvert_exporter": "python",
   "pygments_lexer": "ipython3",
   "version": "3.8.10"
  }
 },
 "nbformat": 4,
 "nbformat_minor": 5
}
