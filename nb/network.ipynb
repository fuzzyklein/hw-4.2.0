{
 "cells": [
  {
   "cell_type": "markdown",
   "id": "531ccc6a-5f0a-4d0f-bb62-a7c0cfb4cd0d",
   "metadata": {},
   "source": [
    "# Networks"
   ]
  },
  {
   "cell_type": "code",
   "execution_count": null,
   "id": "592b924c-426f-477a-a980-ffabfc59ce99",
   "metadata": {},
   "outputs": [],
   "source": [
    "with open('startup.py') as f:\n",
    "    exec(f.read())"
   ]
  },
  {
   "cell_type": "code",
   "execution_count": null,
   "id": "30e56cdc-9af6-4c7f-8070-1107746258c1",
   "metadata": {},
   "outputs": [],
   "source": [
    "! route -n"
   ]
  },
  {
   "cell_type": "code",
   "execution_count": null,
   "id": "a6e98c66-682c-4e14-a1d8-a5db4498d656",
   "metadata": {
    "scrolled": true,
    "tags": []
   },
   "outputs": [],
   "source": [
    "! netstat"
   ]
  },
  {
   "cell_type": "code",
   "execution_count": null,
   "id": "d467cb4e-dc6c-4571-a688-13a7960825df",
   "metadata": {
    "scrolled": true,
    "tags": []
   },
   "outputs": [],
   "source": [
    "! ping docs.python.org"
   ]
  },
  {
   "cell_type": "code",
   "execution_count": null,
   "id": "2d4eb60c-cba1-4ba0-9009-4295b273d514",
   "metadata": {},
   "outputs": [],
   "source": [
    "! traceroute python.org"
   ]
  },
  {
   "cell_type": "code",
   "execution_count": null,
   "id": "3bac4121-d55e-4bd8-b430-5cf0ac309064",
   "metadata": {},
   "outputs": [],
   "source": [
    "! host www.example.com"
   ]
  },
  {
   "cell_type": "code",
   "execution_count": null,
   "id": "4447eaf7-625b-4371-8dae-d7fb8a88bf11",
   "metadata": {},
   "outputs": [],
   "source": [
    "! nm-tool"
   ]
  },
  {
   "cell_type": "code",
   "execution_count": null,
   "id": "2463d180-bb32-4606-925f-1b0c07493242",
   "metadata": {
    "scrolled": true,
    "tags": []
   },
   "outputs": [],
   "source": [
    "! man 1 nmcli"
   ]
  },
  {
   "cell_type": "code",
   "execution_count": null,
   "id": "1c869fef-22d4-4f72-93c4-deca63172b67",
   "metadata": {},
   "outputs": [],
   "source": [
    "print(Path('/etc/hosts').read_text())"
   ]
  },
  {
   "cell_type": "code",
   "execution_count": null,
   "id": "267f9476-2844-45af-87c2-73032dacdf99",
   "metadata": {
    "scrolled": true,
    "tags": []
   },
   "outputs": [],
   "source": [
    "print(Path('/etc/resolv.conf').read_text())"
   ]
  },
  {
   "cell_type": "code",
   "execution_count": null,
   "id": "396c9b99-5311-428d-84d8-20c47141d9a7",
   "metadata": {
    "scrolled": true,
    "tags": []
   },
   "outputs": [],
   "source": [
    "! resolvectl status"
   ]
  },
  {
   "cell_type": "code",
   "execution_count": null,
   "id": "9e0cfeb4-0c1c-4d3e-83f9-cc9ddba7a9d9",
   "metadata": {},
   "outputs": [],
   "source": [
    "print(Path('/etc/nsswitch.conf').read_text())"
   ]
  },
  {
   "cell_type": "markdown",
   "id": "4ad34fbc-3b97-4c2c-a750-32b752be8b13",
   "metadata": {
    "tags": []
   },
   "source": [
    "## TCP"
   ]
  },
  {
   "cell_type": "markdown",
   "id": "e8835acf-6369-4c65-8381-0cc74cd578cb",
   "metadata": {
    "tags": []
   },
   "source": [
    "## DHCP"
   ]
  },
  {
   "cell_type": "code",
   "execution_count": null,
   "id": "85fda612-caa4-4ba3-adca-9166d6c6bf5e",
   "metadata": {},
   "outputs": [],
   "source": []
  },
  {
   "cell_type": "markdown",
   "id": "99c1f8b5-1b81-43b8-9a24-4896e014f85d",
   "metadata": {
    "tags": []
   },
   "source": [
    "## Firewalls"
   ]
  },
  {
   "cell_type": "code",
   "execution_count": null,
   "id": "53541756-9e71-46bc-af75-b0f50c9cc0f3",
   "metadata": {},
   "outputs": [],
   "source": [
    "! arp -n"
   ]
  },
  {
   "cell_type": "code",
   "execution_count": null,
   "id": "b660d290-a572-45a8-88e3-5be53f40608c",
   "metadata": {
    "scrolled": true,
    "tags": []
   },
   "outputs": [],
   "source": [
    "! man iptables"
   ]
  },
  {
   "cell_type": "code",
   "execution_count": null,
   "id": "3dbfc481-1f9b-4485-9284-a5bb41ff8b4b",
   "metadata": {
    "scrolled": true,
    "tags": []
   },
   "outputs": [],
   "source": [
    "! ifconfig"
   ]
  },
  {
   "cell_type": "markdown",
   "id": "06bfd4a8-58bb-4c13-93db-c88e5a8c2ec5",
   "metadata": {},
   "source": [
    "## Services"
   ]
  },
  {
   "cell_type": "code",
   "execution_count": null,
   "id": "c2af8309-7516-41fe-b5e5-d505b4e317fd",
   "metadata": {},
   "outputs": [],
   "source": [
    "! curl --trace-ascii out/curl_trace.txt http://www.wikipedia.org"
   ]
  },
  {
   "cell_type": "code",
   "execution_count": null,
   "id": "c7da5321-7e54-47f7-9b1b-9fc3bb3009dc",
   "metadata": {
    "scrolled": true,
    "tags": []
   },
   "outputs": [],
   "source": [
    "print((BASEDIR / 'out/curl_trace.txt').read_text())"
   ]
  },
  {
   "cell_type": "markdown",
   "id": "4cef1d37-70b3-48ae-af3e-ec9187fc03f1",
   "metadata": {},
   "source": [
    "### `ssh`"
   ]
  },
  {
   "cell_type": "code",
   "execution_count": null,
   "id": "2e289abc-4f30-4b08-b425-ff77a0a0ce56",
   "metadata": {},
   "outputs": [],
   "source": [
    "! nmap 192.168.254.71"
   ]
  },
  {
   "cell_type": "markdown",
   "id": "2843fa5a-a239-42fd-915a-e7bdd86bb792",
   "metadata": {},
   "source": [
    "## Security"
   ]
  },
  {
   "cell_type": "markdown",
   "id": "89b335f9-fa21-4f00-83ad-0d5af8d5db7b",
   "metadata": {},
   "source": [
    "* [sans](http://www.sans.org)\n",
    "* [cert](http://www.cert.org)\n",
    "* [insecure](http://www.insecure.org)"
   ]
  },
  {
   "cell_type": "markdown",
   "id": "f318ece8-eb84-41f2-9b31-e79b2d7c5751",
   "metadata": {},
   "source": [
    "## Apache Web Server"
   ]
  },
  {
   "cell_type": "code",
   "execution_count": null,
   "id": "e0d956dd-8d75-4b75-b7fb-710062d91796",
   "metadata": {},
   "outputs": [],
   "source": []
  },
  {
   "cell_type": "markdown",
   "id": "0972677e-b4bb-4212-9e20-7f03f068b157",
   "metadata": {},
   "source": [
    "## [Sockets](sockets.ipynb)"
   ]
  },
  {
   "cell_type": "code",
   "execution_count": null,
   "id": "ae163ffe-a7ef-4a62-8e3f-b0a1f1ffb412",
   "metadata": {
    "scrolled": true,
    "tags": []
   },
   "outputs": [],
   "source": [
    "! lsof -U"
   ]
  }
 ],
 "metadata": {
  "kernelspec": {
   "display_name": "Python 3 (ipykernel)",
   "language": "python",
   "name": "python3"
  },
  "language_info": {
   "codemirror_mode": {
    "name": "ipython",
    "version": 3
   },
   "file_extension": ".py",
   "mimetype": "text/x-python",
   "name": "python",
   "nbconvert_exporter": "python",
   "pygments_lexer": "ipython3",
   "version": "3.8.10"
  }
 },
 "nbformat": 4,
 "nbformat_minor": 5
}
