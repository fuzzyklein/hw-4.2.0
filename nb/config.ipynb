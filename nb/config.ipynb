{
 "cells": [
  {
   "cell_type": "markdown",
   "id": "ff7273b4-5360-4eb2-92d3-63fd76619d3a",
   "metadata": {},
   "source": [
    "# Configuration"
   ]
  },
  {
   "cell_type": "code",
   "execution_count": 1,
   "id": "a40b88d5-a92b-4efe-8aa4-940d3b4a086c",
   "metadata": {},
   "outputs": [
    {
     "name": "stdout",
     "output_type": "stream",
     "text": [
      "Current working directory: /home/fuzzy/Projects/develop-4.2.0/hw-4.2.0\n"
     ]
    }
   ],
   "source": [
    "with open('startup.py') as f:\n",
    "    exec(f.read())"
   ]
  },
  {
   "cell_type": "code",
   "execution_count": 2,
   "id": "3ab2401e-b4c3-499f-a59d-982362ea23ef",
   "metadata": {},
   "outputs": [
    {
     "name": "stdout",
     "output_type": "stream",
     "text": [
      "BOOLEAN_STATES  clear       getint       optionxform  read_string     setdefault\n",
      "NONSPACECRE     converters  has_option   pop          readfp          update    \n",
      "OPTCRE          defaults    has_section  popitem      remove_option   values    \n",
      "OPTCRE_NV       get         items        read         remove_section  write     \n",
      "SECTCRE         getboolean  keys         read_dict    sections      \n",
      "add_section     getfloat    options      read_file    set           \n"
     ]
    }
   ],
   "source": [
    "public(ConfigParser)"
   ]
  },
  {
   "cell_type": "code",
   "execution_count": 3,
   "id": "14e2b900-e65a-4a5f-8e47-1064d2b9378c",
   "metadata": {},
   "outputs": [
    {
     "name": "stdout",
     "output_type": "stream",
     "text": [
      "Help on function read in module configparser:\n",
      "\n",
      "read(self, filenames, encoding=None)\n",
      "    Read and parse a filename or an iterable of filenames.\n",
      "    \n",
      "    Files that cannot be opened are silently ignored; this is\n",
      "    designed so that you can specify an iterable of potential\n",
      "    configuration file locations (e.g. current directory, user's\n",
      "    home directory, systemwide directory), and all existing\n",
      "    configuration files in the iterable will be read.  A single\n",
      "    filename may also be given.\n",
      "    \n",
      "    Return list of successfully read files.\n",
      "\n"
     ]
    }
   ],
   "source": [
    "help(ConfigParser.read)"
   ]
  },
  {
   "cell_type": "code",
   "execution_count": 4,
   "id": "e2afd752-a309-4ac0-aa6b-078480808d7d",
   "metadata": {},
   "outputs": [],
   "source": [
    "import conf"
   ]
  },
  {
   "cell_type": "code",
   "execution_count": 14,
   "id": "5ae3eb9a-dddb-4a42-9401-051e410ab557",
   "metadata": {},
   "outputs": [
    {
     "data": {
      "text/html": [
       "<!-- HTML generated using hilite.me --><div style=\"background: #ffffff; overflow:auto;width:auto;border:solid gray;border-width:.1em .1em .1em .8em;padding:.2em .6em;\"><pre style=\"margin: 0; line-height: 125%\"><span style=\"color: #DD4422\">&quot;&quot;&quot;</span>\n",
       "<span style=\"color: #DD4422\">Generic configuration module.</span>\n",
       "\n",
       "<span style=\"color: #DD4422\">|</span>\n",
       "<span style=\"color: #DD4422\">| Start your application using:</span>\n",
       "<span style=\"color: #DD4422\">|</span>\n",
       "<span style=\"color: #DD4422\">| ``application.py --config CONFIGFILE.yml``</span>\n",
       "<span style=\"color: #DD4422\">|</span>\n",
       "<span style=\"color: #DD4422\">|</span>\n",
       "<span style=\"color: #DD4422\">| You can also provide multiple configurations:</span>\n",
       "<span style=\"color: #DD4422\">|</span>\n",
       "<span style=\"color: #DD4422\">| ``application.py --config CONFIGFILE1.yml CONFIGFILE2.yml CONFIGFILE3.yml``</span>\n",
       "<span style=\"color: #DD4422\">|</span>\n",
       "<span style=\"color: #DD4422\">|</span>\n",
       "<span style=\"color: #DD4422\">| When using multiple conf files, the latter files may override settings</span>\n",
       "<span style=\"color: #DD4422\">| from the former files.</span>\n",
       "<span style=\"color: #DD4422\">|</span>\n",
       "<span style=\"color: #DD4422\">| In your application:</span>\n",
       "<span style=\"color: #DD4422\">|</span>\n",
       "<span style=\"color: #DD4422\">| ``import conf``</span>\n",
       "<span style=\"color: #DD4422\">| ``my_setting = conf.get(&#39;my_setting&#39;, &#39;DEFAULT_SETTING&#39;)``</span>\n",
       "<span style=\"color: #DD4422\">|</span>\n",
       "<span style=\"color: #DD4422\">|</span>\n",
       "<span style=\"color: #DD4422\">| If you don&#39;t need a default setting - make sure you always supply a conf</span>\n",
       "<span style=\"color: #DD4422\">| file and that the setting exists:</span>\n",
       "<span style=\"color: #DD4422\">|</span>\n",
       "<span style=\"color: #DD4422\">| ``my_setting = conf.my_setting``</span>\n",
       "<span style=\"color: #DD4422\">|</span>\n",
       "<span style=\"color: #DD4422\">|</span>\n",
       "<span style=\"color: #DD4422\">| Or simply:</span>\n",
       "<span style=\"color: #DD4422\">|</span>\n",
       "<span style=\"color: #DD4422\">| ``from conf import my_setting``</span>\n",
       "<span style=\"color: #DD4422\">|</span>\n",
       "<span style=\"color: #DD4422\">|</span>\n",
       "<span style=\"color: #DD4422\">| If you use an ArgumentParser in your own application for other purposes, you</span>\n",
       "<span style=\"color: #DD4422\">| must use the ``parse_known_args()`` method of the parser.</span>\n",
       "<span style=\"color: #DD4422\">|</span>\n",
       "<span style=\"color: #DD4422\">| Alternatively, you can load configuration files manually, using the load</span>\n",
       "<span style=\"color: #DD4422\">| function. If you do this, make sure that the path is absolute. The syntax is:</span>\n",
       "<span style=\"color: #DD4422\">|</span>\n",
       "<span style=\"color: #DD4422\">| ``conf.load(&#39;complete/path/to/conf.yml&#39;)``</span>\n",
       "<span style=\"color: #DD4422\">&quot;&quot;&quot;</span>\n",
       "\n",
       "<span style=\"color: #008800; font-weight: bold\">from</span> <span style=\"color: #0e84b5; font-weight: bold\">conf.reader</span> <span style=\"color: #008800; font-weight: bold\">import</span> <span style=\"color: #333333\">*</span>\n",
       "</pre></div>\n"
      ],
      "text/plain": [
       "<IPython.core.display.HTML object>"
      ]
     },
     "metadata": {},
     "output_type": "display_data"
    }
   ],
   "source": [
    "highlight(conf)"
   ]
  },
  {
   "cell_type": "code",
   "execution_count": 13,
   "id": "43dbf5b8-a411-44b9-b030-127d61adde1e",
   "metadata": {},
   "outputs": [
    {
     "name": "stdout",
     "output_type": "stream",
     "text": [
      "Help on function asdict in module conf.reader:\n",
      "\n",
      "asdict() -> dict\n",
      "    Get the loaded configuration as a dict.\n",
      "    :return: the config as a dict.\n",
      "\n"
     ]
    }
   ],
   "source": [
    "help(conf.asdict)"
   ]
  },
  {
   "cell_type": "code",
   "execution_count": 23,
   "id": "aa45a501-681f-4ec6-a099-586c66288360",
   "metadata": {},
   "outputs": [],
   "source": [
    "site.addsitedir(str(Path.home() / 'Development/hw-4.2.0/hw'))"
   ]
  },
  {
   "cell_type": "code",
   "execution_count": 24,
   "id": "505ea82d-d1d7-4a20-8c91-a5a0ac9deb57",
   "metadata": {},
   "outputs": [],
   "source": [
    "from tools import *"
   ]
  },
  {
   "cell_type": "code",
   "execution_count": 3,
   "id": "926b8352-ab6d-49e0-9b17-ced9ea818e5e",
   "metadata": {},
   "outputs": [],
   "source": [
    "# hide\n",
    "os.chdir('../')"
   ]
  },
  {
   "cell_type": "code",
   "execution_count": null,
   "id": "13fa78af-3122-47ac-bf35-e59f041f9d80",
   "metadata": {},
   "outputs": [],
   "source": [
    "class Configuration():\n",
    "    '''Class to handle program configuration.\n",
    "    '''\n",
    "    CONF_DIR_NAMES = ['etc', 'conf', 'cfg']\n",
    "    def __init__(self):\n",
    "        '''Scan the `etc`, `cfg` and `conf` directories for compatible files and parse them.\n",
    "        '''\n",
    "        for dirname in CONF_DIR_NAMES:\n",
    "            \n",
    "    "
   ]
  },
  {
   "cell_type": "code",
   "execution_count": 4,
   "id": "a1e7cc59-c6a0-4ae3-9cea-067655014e1b",
   "metadata": {},
   "outputs": [
    {
     "name": "stdout",
     "output_type": "stream",
     "text": [
      "{'CS_GNU_LIBC_VERSION': 2,\n",
      " 'CS_GNU_LIBPTHREAD_VERSION': 3,\n",
      " 'CS_LFS64_CFLAGS': 1004,\n",
      " 'CS_LFS64_LDFLAGS': 1005,\n",
      " 'CS_LFS64_LIBS': 1006,\n",
      " 'CS_LFS64_LINTFLAGS': 1007,\n",
      " 'CS_LFS_CFLAGS': 1000,\n",
      " 'CS_LFS_LDFLAGS': 1001,\n",
      " 'CS_LFS_LIBS': 1002,\n",
      " 'CS_LFS_LINTFLAGS': 1003,\n",
      " 'CS_PATH': 0,\n",
      " 'CS_XBS5_ILP32_OFF32_CFLAGS': 1100,\n",
      " 'CS_XBS5_ILP32_OFF32_LDFLAGS': 1101,\n",
      " 'CS_XBS5_ILP32_OFF32_LIBS': 1102,\n",
      " 'CS_XBS5_ILP32_OFF32_LINTFLAGS': 1103,\n",
      " 'CS_XBS5_ILP32_OFFBIG_CFLAGS': 1104,\n",
      " 'CS_XBS5_ILP32_OFFBIG_LDFLAGS': 1105,\n",
      " 'CS_XBS5_ILP32_OFFBIG_LIBS': 1106,\n",
      " 'CS_XBS5_ILP32_OFFBIG_LINTFLAGS': 1107,\n",
      " 'CS_XBS5_LP64_OFF64_CFLAGS': 1108,\n",
      " 'CS_XBS5_LP64_OFF64_LDFLAGS': 1109,\n",
      " 'CS_XBS5_LP64_OFF64_LIBS': 1110,\n",
      " 'CS_XBS5_LP64_OFF64_LINTFLAGS': 1111,\n",
      " 'CS_XBS5_LPBIG_OFFBIG_CFLAGS': 1112,\n",
      " 'CS_XBS5_LPBIG_OFFBIG_LDFLAGS': 1113,\n",
      " 'CS_XBS5_LPBIG_OFFBIG_LIBS': 1114,\n",
      " 'CS_XBS5_LPBIG_OFFBIG_LINTFLAGS': 1115}\n"
     ]
    }
   ],
   "source": [
    "pp(os.confstr_names)"
   ]
  },
  {
   "cell_type": "code",
   "execution_count": 15,
   "id": "603d70da-d49e-4b5e-9ad7-be9590fdb522",
   "metadata": {},
   "outputs": [
    {
     "name": "stdout",
     "output_type": "stream",
     "text": [
      "Help on class zip in module builtins:\n",
      "\n",
      "class zip(object)\n",
      " |  zip(*iterables) --> A zip object yielding tuples until an input is exhausted.\n",
      " |  \n",
      " |     >>> list(zip('abcdefg', range(3), range(4)))\n",
      " |     [('a', 0, 0), ('b', 1, 1), ('c', 2, 2)]\n",
      " |  \n",
      " |  The zip object yields n-length tuples, where n is the number of iterables\n",
      " |  passed as positional arguments to zip().  The i-th element in every tuple\n",
      " |  comes from the i-th iterable argument to zip().  This continues until the\n",
      " |  shortest argument is exhausted.\n",
      " |  \n",
      " |  Methods defined here:\n",
      " |  \n",
      " |  __getattribute__(self, name, /)\n",
      " |      Return getattr(self, name).\n",
      " |  \n",
      " |  __iter__(self, /)\n",
      " |      Implement iter(self).\n",
      " |  \n",
      " |  __next__(self, /)\n",
      " |      Implement next(self).\n",
      " |  \n",
      " |  __reduce__(...)\n",
      " |      Return state information for pickling.\n",
      " |  \n",
      " |  ----------------------------------------------------------------------\n",
      " |  Static methods defined here:\n",
      " |  \n",
      " |  __new__(*args, **kwargs) from builtins.type\n",
      " |      Create and return a new object.  See help(type) for accurate signature.\n",
      "\n"
     ]
    }
   ],
   "source": [
    "help(zip)"
   ]
  },
  {
   "cell_type": "code",
   "execution_count": null,
   "id": "4a3a1cd1-def9-4c9e-98a9-f64dfc1d4e5b",
   "metadata": {},
   "outputs": [],
   "source": []
  }
 ],
 "metadata": {
  "kernelspec": {
   "display_name": "Python 3 (ipykernel)",
   "language": "python",
   "name": "python3"
  },
  "language_info": {
   "codemirror_mode": {
    "name": "ipython",
    "version": 3
   },
   "file_extension": ".py",
   "mimetype": "text/x-python",
   "name": "python",
   "nbconvert_exporter": "python",
   "pygments_lexer": "ipython3",
   "version": "3.8.10"
  }
 },
 "nbformat": 4,
 "nbformat_minor": 5
}
