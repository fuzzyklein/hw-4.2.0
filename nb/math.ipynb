{
 "cells": [
  {
   "cell_type": "markdown",
   "id": "6647a3ff-68be-4e54-a778-10eeaef798a2",
   "metadata": {},
   "source": [
    "# Math"
   ]
  },
  {
   "cell_type": "markdown",
   "id": "6966df9f-0ba5-4a48-840f-51a7d13d0707",
   "metadata": {},
   "source": [
    "## Hexadecimal Numbers from Text"
   ]
  },
  {
   "cell_type": "code",
   "execution_count": 1,
   "id": "150444c7-1039-442d-b959-b66e59169f0a",
   "metadata": {},
   "outputs": [
    {
     "name": "stdout",
     "output_type": "stream",
     "text": [
      "Current working directory: /home/fuzzy/Projects/develop-4.2.0/hw-4.2.0\n"
     ]
    }
   ],
   "source": [
    "with open('startup.py') as f:\n",
    "    exec(f.read())"
   ]
  },
  {
   "cell_type": "code",
   "execution_count": 2,
   "id": "176e43a6-1620-4f22-a9e7-814ba05ff98f",
   "metadata": {},
   "outputs": [
    {
     "name": "stdout",
     "output_type": "stream",
     "text": [
      "capitalize  format      isidentifier  ljust      rjust       swapcase \n",
      "casefold    format_map  islower       lower      rpartition  title    \n",
      "center      index       isnumeric     lstrip     rsplit      translate\n",
      "count       isalnum     isprintable   maketrans  rstrip      upper    \n",
      "encode      isalpha     isspace       partition  split       zfill    \n",
      "endswith    isascii     istitle       replace    splitlines\n",
      "expandtabs  isdecimal   isupper       rfind      startswith\n",
      "find        isdigit     join          rindex     strip     \n"
     ]
    }
   ],
   "source": [
    "public(str)"
   ]
  },
  {
   "cell_type": "code",
   "execution_count": 3,
   "id": "9a7bc40b-7808-4107-8ed9-c901bb13ab3c",
   "metadata": {},
   "outputs": [
    {
     "name": "stdout",
     "output_type": "stream",
     "text": [
      "Help on built-in function hex in module builtins:\n",
      "\n",
      "hex(number, /)\n",
      "    Return the hexadecimal representation of an integer.\n",
      "    \n",
      "    >>> hex(12648430)\n",
      "    '0xc0ffee'\n",
      "\n"
     ]
    }
   ],
   "source": [
    "help(hex)"
   ]
  },
  {
   "cell_type": "code",
   "execution_count": null,
   "id": "cfa344d9-447f-4d30-be03-146799500004",
   "metadata": {},
   "outputs": [],
   "source": []
  }
 ],
 "metadata": {
  "kernelspec": {
   "display_name": "Python 3 (ipykernel)",
   "language": "python",
   "name": "python3"
  },
  "language_info": {
   "codemirror_mode": {
    "name": "ipython",
    "version": 3
   },
   "file_extension": ".py",
   "mimetype": "text/x-python",
   "name": "python",
   "nbconvert_exporter": "python",
   "pygments_lexer": "ipython3",
   "version": "3.8.10"
  }
 },
 "nbformat": 4,
 "nbformat_minor": 5
}
