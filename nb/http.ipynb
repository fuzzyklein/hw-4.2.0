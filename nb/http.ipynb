{
 "cells": [
  {
   "cell_type": "code",
   "execution_count": 8,
   "metadata": {},
   "outputs": [],
   "source": [
    "import requests\n",
    "import socket\n",
    "import webbrowser"
   ]
  },
  {
   "cell_type": "code",
   "execution_count": 23,
   "metadata": {},
   "outputs": [
    {
     "name": "stdout",
     "output_type": "stream",
     "text": [
      "Current working directory: C:\\msys64\\home\\fuzzy\\hw-4.2.0\n"
     ]
    }
   ],
   "source": [
    "with open('nb/startup.py') as f:\n",
    "    exec(f.read())"
   ]
  },
  {
   "cell_type": "markdown",
   "metadata": {},
   "source": [
    "[Port numbers](https://en.wikipedia.org/wiki/List_of_TCP_and_UDP_port_numbers)"
   ]
  },
  {
   "cell_type": "code",
   "execution_count": 3,
   "metadata": {},
   "outputs": [
    {
     "data": {
      "text/plain": [
       "True"
      ]
     },
     "execution_count": 3,
     "metadata": {},
     "output_type": "execute_result"
    }
   ],
   "source": [
    "webbrowser.open('http://localhost:8001')"
   ]
  },
  {
   "cell_type": "code",
   "execution_count": 14,
   "metadata": {},
   "outputs": [
    {
     "name": "stdout",
     "output_type": "stream",
     "text": [
      "Help on function open in module webbrowser:\n",
      "\n",
      "open(url, new=0, autoraise=True)\n",
      "    Display url using the default browser.\n",
      "    \n",
      "    If possible, open url in a location determined by new.\n",
      "    - 0: the same browser window (the default).\n",
      "    - 1: a new browser window.\n",
      "    - 2: a new browser page (\"tab\").\n",
      "    If possible, autoraise raises the window (the default) or not.\n",
      "\n"
     ]
    }
   ],
   "source": [
    "help(webbrowser.open)"
   ]
  },
  {
   "cell_type": "code",
   "execution_count": 10,
   "metadata": {},
   "outputs": [],
   "source": [
    "s = socket.socket(socket.AF_INET, socket.SOCK_STREAM)"
   ]
  },
  {
   "cell_type": "code",
   "execution_count": 11,
   "metadata": {},
   "outputs": [
    {
     "data": {
      "text/plain": [
       "10061"
      ]
     },
     "execution_count": 11,
     "metadata": {},
     "output_type": "execute_result"
    }
   ],
   "source": [
    "LOCATION = ('localhost', 8001)\n",
    "s.connect_ex(LOCATION)"
   ]
  },
  {
   "cell_type": "code",
   "execution_count": 29,
   "metadata": {},
   "outputs": [],
   "source": [
    "from hw.hw import HelloWorld, Program"
   ]
  },
  {
   "cell_type": "code",
   "execution_count": 30,
   "metadata": {},
   "outputs": [
    {
     "data": {
      "text/plain": [
       "['process_dir',\n",
       " 'process_file',\n",
       " 'process_fname',\n",
       " 'process_link',\n",
       " 'run',\n",
       " 'startlog']"
      ]
     },
     "execution_count": 30,
     "metadata": {},
     "output_type": "execute_result"
    }
   ],
   "source": [
    "[s for s in dir(Program) if not s.startswith('_')]"
   ]
  },
  {
   "cell_type": "code",
   "execution_count": 31,
   "metadata": {},
   "outputs": [
    {
     "name": "stderr",
     "output_type": "stream",
     "text": [
      "2021-10-17 22:35:50,665 - <class 'hw.hw.HelloWorld'> - DEBUG - Debugging <class 'hw.hw.HelloWorld'>\n"
     ]
    },
    {
     "name": "stdout",
     "output_type": "stream",
     "text": [
      "\n",
      "DEBUGGING CONFIGURATION CLASS INITIALIZER...\n",
      "\n",
      "Configuration file: C:\\msys64\\home\\fuzzy\\hw-4.2.0\\etc\\hw.conf\n",
      "\n",
      "Line 0: description = A simple and lightweight framework for a Python command line application.\n",
      "Line 1: logfile = log/hw.log\n",
      "Program settings:\n",
      "{'all': False,\n",
      " 'args': ['C:\\\\Users\\\\owner\\\\AppData\\\\Roaming\\\\jupyter\\\\runtime\\\\kernel-5d000264-5df8-450d-9498-6f2f09f6ada8.json'],\n",
      " 'config': None,\n",
      " 'debug': False,\n",
      " 'description': 'A simple and lightweight framework for a Python command line '\n",
      "                'application.',\n",
      " 'follow': True,\n",
      " 'input': None,\n",
      " 'log': None,\n",
      " 'logfile': 'log/hw.log',\n",
      " 'output': None,\n",
      " 'quiet': False,\n",
      " 'recursive': False,\n",
      " 'testing': False,\n",
      " 'verbose': False,\n",
      " 'warnings': None}\n",
      "\n",
      "Running `startlog` ...\n",
      "self.settings[\"logfile\"]='log/hw.log'\n",
      "Log file: C:\\msys64\\home\\fuzzy\\hw-4.2.0\\log\\hw.log\n",
      "\n"
     ]
    }
   ],
   "source": [
    "hw4 = HelloWorld()"
   ]
  },
  {
   "cell_type": "code",
   "execution_count": 32,
   "metadata": {},
   "outputs": [],
   "source": [
    "from threading import Thread"
   ]
  },
  {
   "cell_type": "code",
   "execution_count": 33,
   "metadata": {},
   "outputs": [],
   "source": [
    "t = Thread()"
   ]
  },
  {
   "cell_type": "code",
   "execution_count": 35,
   "metadata": {},
   "outputs": [
    {
     "data": {
      "text/plain": [
       "['daemon',\n",
       " 'getName',\n",
       " 'ident',\n",
       " 'isDaemon',\n",
       " 'is_alive',\n",
       " 'join',\n",
       " 'name',\n",
       " 'native_id',\n",
       " 'run',\n",
       " 'setDaemon',\n",
       " 'setName',\n",
       " 'start']"
      ]
     },
     "execution_count": 35,
     "metadata": {},
     "output_type": "execute_result"
    }
   ],
   "source": [
    "[s for s in dir(t) if not s.startswith('_')]"
   ]
  },
  {
   "cell_type": "code",
   "execution_count": 10,
   "metadata": {},
   "outputs": [],
   "source": [
    "import socket\n",
    "\n",
    "HOST = '127.0.0.1'  # The server's hostname or IP address\n",
    "PORT = 8002        # The port used by the server\n",
    "\n",
    "with socket.socket(socket.AF_INET, socket.SOCK_STREAM) as s:\n",
    "    s.connect((HOST, PORT))\n",
    "    s.sendall(b'Hello, world')\n"
   ]
  }
 ],
 "metadata": {
  "kernelspec": {
   "display_name": "Python 3.10",
   "language": "python",
   "name": "py3.10"
  },
  "language_info": {
   "codemirror_mode": {
    "name": "ipython",
    "version": 3
   },
   "file_extension": ".py",
   "mimetype": "text/x-python",
   "name": "python",
   "nbconvert_exporter": "python",
   "pygments_lexer": "ipython3",
   "version": "3.10.0"
  }
 },
 "nbformat": 4,
 "nbformat_minor": 5
}
