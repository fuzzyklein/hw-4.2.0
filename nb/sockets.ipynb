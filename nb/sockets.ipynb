{
 "cells": [
  {
   "cell_type": "markdown",
   "id": "1f40b3fe-9d6f-4a3d-a5ee-4009753051ab",
   "metadata": {},
   "source": [
    "# Sockets"
   ]
  },
  {
   "cell_type": "code",
   "execution_count": null,
   "id": "f02ae994-13e3-43ed-b1df-1ff4af32d991",
   "metadata": {},
   "outputs": [],
   "source": []
  }
 ],
 "metadata": {
  "kernelspec": {
   "display_name": "Python 3 (ipykernel)",
   "language": "python",
   "name": "python3"
  },
  "language_info": {
   "codemirror_mode": {
    "name": "ipython",
    "version": 3
   },
   "file_extension": ".py",
   "mimetype": "text/x-python",
   "name": "python",
   "nbconvert_exporter": "python",
   "pygments_lexer": "ipython3",
   "version": "3.8.10"
  }
 },
 "nbformat": 4,
 "nbformat_minor": 5
}
