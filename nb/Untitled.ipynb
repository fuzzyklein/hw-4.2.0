{
 "cells": [
  {
   "cell_type": "code",
   "execution_count": 5,
   "id": "956da358-65a5-478e-ae99-8483b89c4480",
   "metadata": {},
   "outputs": [
    {
     "name": "stdout",
     "output_type": "stream",
     "text": [
      "Current working directory: /home/fuzzy/Projects/develop-4.2.0/hw-4.2.0\n"
     ]
    }
   ],
   "source": [
    "with open('nb/startup.py') as f:\n",
    "    exec(f.read())\n",
    "# from tools import *"
   ]
  },
  {
   "cell_type": "code",
   "execution_count": 3,
   "id": "92439b07-0992-4960-908e-81425526bdbe",
   "metadata": {},
   "outputs": [
    {
     "name": "stdout",
     "output_type": "stream",
     "text": [
      "/dev/sda\n",
      "\n"
     ]
    }
   ],
   "source": [
    "print(sh('ls /dev/sda'))"
   ]
  },
  {
   "cell_type": "code",
   "execution_count": null,
   "id": "5ec3a349-968d-4158-adff-71784ce33d5a",
   "metadata": {},
   "outputs": [],
   "source": [
    "import rgb_const"
   ]
  },
  {
   "cell_type": "code",
   "execution_count": null,
   "id": "6d3e75a8-c5c0-4b75-a3f8-46b54beb2563",
   "metadata": {},
   "outputs": [],
   "source": [
    "import site"
   ]
  },
  {
   "cell_type": "code",
   "execution_count": null,
   "id": "07702070-e7f6-4cdf-95d8-f0d9c79c7b3c",
   "metadata": {},
   "outputs": [],
   "source": [
    "site.USER_SITE"
   ]
  },
  {
   "cell_type": "code",
   "execution_count": null,
   "id": "756f65a1-8b68-4d87-9572-2676967883ba",
   "metadata": {},
   "outputs": [],
   "source": []
  },
  {
   "cell_type": "code",
   "execution_count": null,
   "id": "9c8c17e5-2225-4402-93eb-3b0c55752c20",
   "metadata": {},
   "outputs": [],
   "source": [
    "with open('startup.py') as f:\n",
    "    exec(f.read())"
   ]
  },
  {
   "cell_type": "code",
   "execution_count": null,
   "id": "8c54ff9c-f04d-431b-8d78-e53512e45046",
   "metadata": {},
   "outputs": [],
   "source": [
    "ls(site.USER_SITE)"
   ]
  },
  {
   "cell_type": "code",
   "execution_count": null,
   "id": "dab2644f-8113-4945-80e4-cf7b0b8ce6b4",
   "metadata": {
    "scrolled": true,
    "tags": []
   },
   "outputs": [],
   "source": [
    "ls /home/fuzzy/.local/lib/python3.8/site-packages"
   ]
  },
  {
   "cell_type": "code",
   "execution_count": null,
   "id": "8c63b561-093b-4ca0-bb74-931daa1df9a5",
   "metadata": {},
   "outputs": [],
   "source": [
    "import terminado"
   ]
  },
  {
   "cell_type": "code",
   "execution_count": null,
   "id": "d1cdf168-e452-4209-98ea-ba99c88752e8",
   "metadata": {},
   "outputs": [],
   "source": [
    "help(terminado)"
   ]
  },
  {
   "cell_type": "code",
   "execution_count": 8,
   "id": "596af447-7ece-42bd-801e-619c54aec234",
   "metadata": {},
   "outputs": [
    {
     "data": {
      "text/latex": [
       "$x^2+32$\n"
      ],
      "text/plain": [
       "<IPython.core.display.Latex object>"
      ]
     },
     "metadata": {},
     "output_type": "display_data"
    }
   ],
   "source": [
    "%%latex\n",
    "$x^2+32$"
   ]
  },
  {
   "cell_type": "code",
   "execution_count": null,
   "id": "a3b1c562-9e31-4ae0-9bce-4dd2d253cc2d",
   "metadata": {},
   "outputs": [],
   "source": []
  }
 ],
 "metadata": {
  "kernelspec": {
   "display_name": "Python 3 (ipykernel)",
   "language": "python",
   "name": "python3"
  },
  "language_info": {
   "codemirror_mode": {
    "name": "ipython",
    "version": 3
   },
   "file_extension": ".py",
   "mimetype": "text/x-python",
   "name": "python",
   "nbconvert_exporter": "python",
   "pygments_lexer": "ipython3",
   "version": "3.8.10"
  }
 },
 "nbformat": 4,
 "nbformat_minor": 5
}
