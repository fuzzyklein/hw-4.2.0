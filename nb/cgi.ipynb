{
 "cells": [
  {
   "cell_type": "markdown",
   "id": "6a7c220c-04e7-45fd-acd0-b6646e86a115",
   "metadata": {},
   "source": [
    "# CGI"
   ]
  },
  {
   "cell_type": "code",
   "execution_count": null,
   "id": "3ec3d009-b0e2-4b2d-95b7-7b549de8edad",
   "metadata": {},
   "outputs": [],
   "source": []
  }
 ],
 "metadata": {
  "kernelspec": {
   "display_name": "Python 3 (ipykernel)",
   "language": "python",
   "name": "python3"
  },
  "language_info": {
   "codemirror_mode": {
    "name": "ipython",
    "version": 3
   },
   "file_extension": ".py",
   "mimetype": "text/x-python",
   "name": "python",
   "nbconvert_exporter": "python",
   "pygments_lexer": "ipython3",
   "version": "3.8.10"
  }
 },
 "nbformat": 4,
 "nbformat_minor": 5
}
