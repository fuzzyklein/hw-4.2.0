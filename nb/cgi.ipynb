{
 "cells": [
  {
   "cell_type": "markdown",
   "id": "6a7c220c-04e7-45fd-acd0-b6646e86a115",
   "metadata": {
    "tags": []
   },
   "source": [
    "# CGI"
   ]
  },
  {
   "cell_type": "code",
   "execution_count": 1,
   "id": "2825882e-5a3c-47bb-ad2c-deaec5af56ea",
   "metadata": {},
   "outputs": [
    {
     "name": "stdout",
     "output_type": "stream",
     "text": [
      "Current working directory: /home/fuzzy/Projects/develop-4.2.0/hw-4.2.0\n"
     ]
    }
   ],
   "source": [
    "with open('startup.py') as f:\n",
    "    exec(f.read())"
   ]
  },
  {
   "cell_type": "markdown",
   "id": "c5504734-c443-4266-a389-7a95459b18e8",
   "metadata": {},
   "source": [
    "## Set up a Web Server"
   ]
  },
  {
   "cell_type": "code",
   "execution_count": 5,
   "id": "b6b36ec5-b79a-46c1-ac2a-ed75442d0520",
   "metadata": {},
   "outputs": [
    {
     "name": "stdout",
     "output_type": "stream",
     "text": [
      "Serving HTTP on 127.0.0.1 port 8000 (http://127.0.0.1:8000/) ...\n"
     ]
    }
   ],
   "source": [
    "! python3 -m http.server --cgi --bind=127.0.0.1 --directory=/home/fuzzy/Development/hw-4.2.0"
   ]
  },
  {
   "cell_type": "markdown",
   "id": "f8e61ab8-66f6-40f0-88c0-3ac4826516c5",
   "metadata": {},
   "source": []
  }
 ],
 "metadata": {
  "kernelspec": {
   "display_name": "Python 3 (ipykernel)",
   "language": "python",
   "name": "python3"
  },
  "language_info": {
   "codemirror_mode": {
    "name": "ipython",
    "version": 3
   },
   "file_extension": ".py",
   "mimetype": "text/x-python",
   "name": "python",
   "nbconvert_exporter": "python",
   "pygments_lexer": "ipython3",
   "version": "3.8.10"
  }
 },
 "nbformat": 4,
 "nbformat_minor": 5
}
