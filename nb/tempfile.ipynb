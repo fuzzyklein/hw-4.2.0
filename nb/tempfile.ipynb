{
 "cells": [
  {
   "cell_type": "code",
   "execution_count": null,
   "id": "472fcf41-42eb-4dec-b11e-417b344f7e89",
   "metadata": {},
   "outputs": [],
   "source": []
  },
  {
   "cell_type": "code",
   "execution_count": 1,
   "id": "95c17aec-c797-4d17-a368-9245eb8d2501",
   "metadata": {},
   "outputs": [
    {
     "name": "stdout",
     "output_type": "stream",
     "text": [
      "Current working directory: /home/fuzzy/Projects/develop-4.2.0/hw-4.2.0\n"
     ]
    }
   ],
   "source": [
    "with open('startup.py') as f:\n",
    "    exec(f.read())"
   ]
  },
  {
   "cell_type": "code",
   "execution_count": 2,
   "id": "0ce4adef-f357-47aa-a85b-ee1d0135d32a",
   "metadata": {},
   "outputs": [],
   "source": [
    "f = TempFile()"
   ]
  },
  {
   "cell_type": "code",
   "execution_count": 3,
   "id": "3f586630-3996-4d49-86c9-ab0bfbe0cc89",
   "metadata": {},
   "outputs": [
    {
     "name": "stdout",
     "output_type": "stream",
     "text": [
      "close  delete  file  name\n"
     ]
    }
   ],
   "source": [
    "public(f)"
   ]
  },
  {
   "cell_type": "code",
   "execution_count": 4,
   "id": "5bb0fc9d-b184-4554-87d9-77690b8346b4",
   "metadata": {},
   "outputs": [
    {
     "name": "stdout",
     "output_type": "stream",
     "text": [
      "Help on _TemporaryFileWrapper in module tempfile object:\n",
      "\n",
      "class _TemporaryFileWrapper(builtins.object)\n",
      " |  _TemporaryFileWrapper(file, name, delete=True)\n",
      " |  \n",
      " |  Temporary file wrapper\n",
      " |  \n",
      " |  This class provides a wrapper around files opened for\n",
      " |  temporary use.  In particular, it seeks to automatically\n",
      " |  remove the file when it is no longer needed.\n",
      " |  \n",
      " |  Methods defined here:\n",
      " |  \n",
      " |  __enter__(self)\n",
      " |      # The underlying __enter__ method returns the wrong object\n",
      " |      # (self.file) so override it to return the wrapper\n",
      " |  \n",
      " |  __exit__(self, exc, value, tb)\n",
      " |      # Need to trap __exit__ as well to ensure the file gets\n",
      " |      # deleted when used in a with statement\n",
      " |  \n",
      " |  __getattr__(self, name)\n",
      " |  \n",
      " |  __init__(self, file, name, delete=True)\n",
      " |      Initialize self.  See help(type(self)) for accurate signature.\n",
      " |  \n",
      " |  __iter__(self)\n",
      " |      # iter() doesn't use __getattr__ to find the __iter__ method\n",
      " |  \n",
      " |  close(self)\n",
      " |      Close the temporary file, possibly deleting it.\n",
      " |  \n",
      " |  ----------------------------------------------------------------------\n",
      " |  Data descriptors defined here:\n",
      " |  \n",
      " |  __dict__\n",
      " |      dictionary for instance variables (if defined)\n",
      " |  \n",
      " |  __weakref__\n",
      " |      list of weak references to the object (if defined)\n",
      "\n"
     ]
    }
   ],
   "source": [
    "help(f)"
   ]
  },
  {
   "cell_type": "code",
   "execution_count": null,
   "id": "61c69129-76e4-493f-a523-673eb8d794f3",
   "metadata": {},
   "outputs": [],
   "source": []
  }
 ],
 "metadata": {
  "kernelspec": {
   "display_name": "Python 3 (ipykernel)",
   "language": "python",
   "name": "python3"
  },
  "language_info": {
   "codemirror_mode": {
    "name": "ipython",
    "version": 3
   },
   "file_extension": ".py",
   "mimetype": "text/x-python",
   "name": "python",
   "nbconvert_exporter": "python",
   "pygments_lexer": "ipython3",
   "version": "3.8.10"
  }
 },
 "nbformat": 4,
 "nbformat_minor": 5
}
