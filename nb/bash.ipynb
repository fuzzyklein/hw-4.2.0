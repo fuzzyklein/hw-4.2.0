{
 "cells": [
  {
   "cell_type": "code",
   "execution_count": 1,
   "id": "88014d8d-6a57-4c1b-9572-a57cf674e262",
   "metadata": {},
   "outputs": [],
   "source": [
    "from pathlib import Path\n",
    "import site"
   ]
  },
  {
   "cell_type": "code",
   "execution_count": 2,
   "id": "c27d80d9-c43b-4b13-9b24-0c7d9ea525ce",
   "metadata": {},
   "outputs": [],
   "source": [
    "BASEDIR = Path.home() / 'Development/hw-4.2.0'\n",
    "site.addsitedir(str(BASEDIR / 'hw'))"
   ]
  },
  {
   "cell_type": "code",
   "execution_count": 3,
   "id": "29c25aab-ecaa-4ad6-b580-2fe067ffc517",
   "metadata": {},
   "outputs": [],
   "source": [
    "from imports import *"
   ]
  },
  {
   "cell_type": "code",
   "execution_count": 4,
   "id": "6a6468d4-5660-464e-a3e5-7f768cd6ae26",
   "metadata": {},
   "outputs": [
    {
     "data": {
      "text/plain": [
       "argparse.ArgumentParser"
      ]
     },
     "execution_count": 4,
     "metadata": {},
     "output_type": "execute_result"
    }
   ],
   "source": [
    "ArgumentParser"
   ]
  },
  {
   "cell_type": "code",
   "execution_count": 11,
   "id": "2e186ed7-fc84-4835-b6a5-a5ecf481eb31",
   "metadata": {},
   "outputs": [],
   "source": [
    "def pwd():\n",
    "    print(str(Path(os.curdir).absolute()))"
   ]
  },
  {
   "cell_type": "code",
   "execution_count": 12,
   "id": "2299f0ac-c9c1-4d58-9a29-4b62b7464845",
   "metadata": {},
   "outputs": [
    {
     "name": "stdout",
     "output_type": "stream",
     "text": [
      "/home/fuzzy/Projects/develop-4.2.0/hw-4.2.0/nb\n"
     ]
    }
   ],
   "source": [
    "pwd()"
   ]
  },
  {
   "cell_type": "code",
   "execution_count": 7,
   "id": "6e7cee66-e192-4127-b79a-07cf7cf456bf",
   "metadata": {
    "scrolled": true,
    "tags": []
   },
   "outputs": [
    {
     "name": "stdout",
     "output_type": "stream",
     "text": [
      "ArgInfo                classify_class_attrs        getouterframes       stack   \n",
      "ArgSpec                cleandoc                    getsource            sys     \n",
      "Arguments              collections                 getsourcefile        token   \n",
      "Attribute              currentframe                getsourcelines       tokenize\n",
      "BlockFinder            dis                         importlib            trace   \n",
      "BoundArguments         enum                        indentsize           types   \n",
      "CORO_CLOSED            findsource                  isabstract           unwrap  \n",
      "CORO_CREATED           formatannotation            isasyncgen           v       \n",
      "CORO_RUNNING           formatannotationrelativeto  isasyncgenfunction   walktree\n",
      "CORO_SUSPENDED         formatargspec               isawaitable          warnings\n",
      "CO_ASYNC_GENERATOR     formatargvalues             isbuiltin          \n",
      "CO_COROUTINE           functools                   isclass            \n",
      "CO_GENERATOR           getabsfile                  iscode             \n",
      "CO_ITERABLE_COROUTINE  getargs                     iscoroutine        \n",
      "CO_NESTED              getargspec                  iscoroutinefunction\n",
      "CO_NEWLOCALS           getargvalues                isdatadescriptor   \n",
      "CO_NOFREE              getattr_static              isframe            \n",
      "CO_OPTIMIZED           getblock                    isfunction         \n",
      "CO_VARARGS             getcallargs                 isgenerator        \n",
      "CO_VARKEYWORDS         getclasstree                isgeneratorfunction\n",
      "ClosureVars            getclosurevars              isgetsetdescriptor \n",
      "EndOfBlock             getcomments                 ismemberdescriptor \n",
      "FrameInfo              getcoroutinelocals          ismethod           \n",
      "FullArgSpec            getcoroutinestate           ismethoddescriptor \n",
      "GEN_CLOSED             getdoc                      ismodule           \n",
      "GEN_CREATED            getfile                     isroutine          \n",
      "GEN_RUNNING            getframeinfo                istraceback        \n",
      "GEN_SUSPENDED          getfullargspec              itertools          \n",
      "OrderedDict            getgeneratorlocals          k                  \n",
      "Parameter              getgeneratorstate           linecache          \n",
      "Signature              getinnerframes              mod_dict           \n",
      "TPFLAGS_IS_ABSTRACT    getlineno                   modulesbyfile      \n",
      "Traceback              getmembers                  namedtuple         \n",
      "abc                    getmodule                   os                 \n",
      "attrgetter             getmodulename               re                 \n",
      "builtins               getmro                      signature          \n"
     ]
    }
   ],
   "source": [
    "public(inspect)"
   ]
  },
  {
   "cell_type": "code",
   "execution_count": 8,
   "id": "78a6d6a4-a168-47dc-b8d9-aa6da47d6634",
   "metadata": {},
   "outputs": [
    {
     "ename": "NameError",
     "evalue": "name 'pwd' is not defined",
     "output_type": "error",
     "traceback": [
      "\u001b[0;31m---------------------------------------------------------------------------\u001b[0m",
      "\u001b[0;31mNameError\u001b[0m                                 Traceback (most recent call last)",
      "\u001b[0;32m/tmp/ipykernel_15664/130644526.py\u001b[0m in \u001b[0;36m<module>\u001b[0;34m\u001b[0m\n\u001b[0;32m----> 1\u001b[0;31m \u001b[0minspect\u001b[0m\u001b[0;34m.\u001b[0m\u001b[0mgetsourcefile\u001b[0m\u001b[0;34m(\u001b[0m\u001b[0mpwd\u001b[0m\u001b[0;34m)\u001b[0m\u001b[0;34m\u001b[0m\u001b[0;34m\u001b[0m\u001b[0m\n\u001b[0m",
      "\u001b[0;31mNameError\u001b[0m: name 'pwd' is not defined"
     ]
    }
   ],
   "source": [
    "inspect.getsourcefile(pwd)"
   ]
  },
  {
   "cell_type": "code",
   "execution_count": null,
   "id": "994cc76b-95c2-4f2c-8a48-b7fc5b57baaa",
   "metadata": {},
   "outputs": [],
   "source": []
  }
 ],
 "metadata": {
  "kernelspec": {
   "display_name": "Python 3 (ipykernel)",
   "language": "python",
   "name": "python3"
  },
  "language_info": {
   "codemirror_mode": {
    "name": "ipython",
    "version": 3
   },
   "file_extension": ".py",
   "mimetype": "text/x-python",
   "name": "python",
   "nbconvert_exporter": "python",
   "pygments_lexer": "ipython3",
   "version": "3.8.10"
  }
 },
 "nbformat": 4,
 "nbformat_minor": 5
}
