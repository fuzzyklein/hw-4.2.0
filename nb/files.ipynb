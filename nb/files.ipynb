{
 "cells": [
  {
   "cell_type": "markdown",
   "id": "63e7f0d1-0e09-4d9e-92af-a5cb5f01c69b",
   "metadata": {
    "tags": []
   },
   "source": [
    "# Files"
   ]
  },
  {
   "cell_type": "code",
   "execution_count": 1,
   "id": "04b20b09-7089-451d-b489-bcf52fb8a195",
   "metadata": {},
   "outputs": [
    {
     "name": "stdout",
     "output_type": "stream",
     "text": [
      "Current working directory: /home/fuzzy/Projects/develop-4.2.0/hw-4.2.0\n"
     ]
    }
   ],
   "source": [
    "with open('startup.py') as f:\n",
    "    exec(f.read())"
   ]
  },
  {
   "cell_type": "code",
   "execution_count": 3,
   "id": "44522a95-a89b-449a-a67f-c18028f0481a",
   "metadata": {},
   "outputs": [],
   "source": [
    "from files import *"
   ]
  },
  {
   "cell_type": "code",
   "execution_count": 5,
   "id": "d975eba6-a213-4b25-aa3c-031980f6b10f",
   "metadata": {},
   "outputs": [
    {
     "data": {
      "text/plain": [
       "True"
      ]
     },
     "execution_count": 5,
     "metadata": {},
     "output_type": "execute_result"
    }
   ],
   "source": [
    "File('hw').is_dir()"
   ]
  },
  {
   "cell_type": "code",
   "execution_count": null,
   "id": "7ee1122d-73ee-4510-b128-9580e570e7b1",
   "metadata": {
    "scrolled": true,
    "tags": []
   },
   "outputs": [],
   "source": [
    "import stat"
   ]
  },
  {
   "cell_type": "markdown",
   "id": "6d7e5ebb-fa5a-42de-9b21-93e5b5927999",
   "metadata": {
    "tags": []
   },
   "source": [
    "## Concatenation"
   ]
  },
  {
   "cell_type": "code",
   "execution_count": null,
   "id": "ad688229-ce6c-4a0e-a48f-65a76f8767d7",
   "metadata": {},
   "outputs": [],
   "source": [
    "cd(BASEDIR)"
   ]
  },
  {
   "cell_type": "code",
   "execution_count": 8,
   "id": "5105484c-6144-494d-a323-1cd452de4681",
   "metadata": {},
   "outputs": [
    {
     "data": {
      "text/html": [
       "<!-- HTML generated using hilite.me --><div style=\"background: #ffffff; overflow:auto;width:auto;border:solid gray;border-width:.1em .1em .1em .8em;padding:.2em .6em;\"><pre style=\"margin: 0; line-height: 125%\"><span style=\"color: #555555; font-weight: bold\">@globber</span>\n",
       "<span style=\"color: #008800; font-weight: bold\">def</span> <span style=\"color: #0066BB; font-weight: bold\">cat</span>(<span style=\"color: #333333\">*</span>args, <span style=\"color: #333333\">**</span>kwargs):\n",
       "    <span style=\"color: #DD4422\">&quot;&quot;&quot;Return a string containing the concatenation of any files given as `args`.&quot;&quot;&quot;</span>\n",
       "    s <span style=\"color: #333333\">=</span> <span style=\"color: #007020\">str</span>()\n",
       "    <span style=\"color: #008800; font-weight: bold\">for</span> f <span style=\"color: #000000; font-weight: bold\">in</span> args:\n",
       "        <span style=\"color: #008800; font-weight: bold\">if</span> <span style=\"color: #000000; font-weight: bold\">not</span> f<span style=\"color: #333333\">.</span>exists():\n",
       "            warn(f<span style=\"background-color: #fff0f0\">&#39;File {f.name} does not exist.&#39;</span>)\n",
       "        <span style=\"color: #008800; font-weight: bold\">else</span>:\n",
       "            <span style=\"color: #008800; font-weight: bold\">try</span>:\n",
       "                s <span style=\"color: #333333\">+=</span> f<span style=\"color: #333333\">.</span>read_text()\n",
       "            <span style=\"color: #008800; font-weight: bold\">except</span> FileNotFoundError:\n",
       "                warn(f<span style=\"background-color: #fff0f0\">&#39;File {str(f)} not found!&#39;</span>)\n",
       "    <span style=\"color: #008800; font-weight: bold\">if</span> <span style=\"color: #000000; font-weight: bold\">not</span> <span style=\"background-color: #fff0f0\">&#39;quiet&#39;</span> <span style=\"color: #000000; font-weight: bold\">in</span> kwargs<span style=\"color: #333333\">.</span>keys() <span style=\"color: #000000; font-weight: bold\">or</span> kwargs[<span style=\"background-color: #fff0f0\">&#39;quiet&#39;</span>] <span style=\"color: #333333\">==</span> <span style=\"color: #007020\">False</span>: <span style=\"color: #008800; font-weight: bold\">print</span>(s)\n",
       "    <span style=\"color: #008800; font-weight: bold\">return</span> s\n",
       "</pre></div>\n"
      ],
      "text/plain": [
       "<IPython.core.display.HTML object>"
      ]
     },
     "metadata": {},
     "output_type": "display_data"
    }
   ],
   "source": [
    "highlight(cat)"
   ]
  },
  {
   "cell_type": "code",
   "execution_count": null,
   "id": "69c1472a-2052-4bb2-986d-9b7781f2d725",
   "metadata": {
    "scrolled": true,
    "tags": []
   },
   "outputs": [],
   "source": [
    "s = cat('hw/*.py', 'index.html')"
   ]
  },
  {
   "cell_type": "code",
   "execution_count": null,
   "id": "748808da-f5fe-4195-a14e-a5268d99d9c3",
   "metadata": {
    "scrolled": true,
    "tags": []
   },
   "outputs": [],
   "source": [
    "help(os.walk)"
   ]
  },
  {
   "cell_type": "markdown",
   "id": "6fd7f148-b4ed-48b2-b2d1-e2a1bacc94f7",
   "metadata": {
    "tags": []
   },
   "source": [
    "## List the Contents of a Directory"
   ]
  },
  {
   "cell_type": "code",
   "execution_count": null,
   "id": "280e2169-2466-4692-a3a7-694bb0a4a0e8",
   "metadata": {
    "tags": []
   },
   "outputs": [],
   "source": [
    "highlight(invisible)"
   ]
  },
  {
   "cell_type": "code",
   "execution_count": null,
   "id": "0f8cda8e-b925-4d8f-a292-c0f44aad8351",
   "metadata": {},
   "outputs": [],
   "source": [
    "def is_set(s, d):\n",
    "    return s in d and bool(d[s])"
   ]
  },
  {
   "cell_type": "code",
   "execution_count": null,
   "id": "52f556b1-bdf0-48d1-9c9f-375f9e9cf2d5",
   "metadata": {},
   "outputs": [],
   "source": [
    "def visible(s, all=False):\n",
    "    return not invisible(s) or all"
   ]
  },
  {
   "cell_type": "code",
   "execution_count": null,
   "id": "a05f0d67-5b70-4f24-9327-36591045ce0d",
   "metadata": {},
   "outputs": [],
   "source": [
    "def print_long(f, all=False):\n",
    "    pass"
   ]
  },
  {
   "cell_type": "code",
   "execution_count": null,
   "id": "ea965e44-c005-4beb-abb8-ac851c3cf2a9",
   "metadata": {},
   "outputs": [],
   "source": [
    "def sort_files(*args, **kwargs):\n",
    "    return sorted(sorted(args, key=lambda f: f.name.lower()), key=lambda f: f.is_dir())"
   ]
  },
  {
   "cell_type": "code",
   "execution_count": null,
   "id": "27ce2903-94bc-4791-bb6e-65e3ecf437ea",
   "metadata": {},
   "outputs": [],
   "source": [
    "def executable(p):\n",
    "    mode = p.stat().st_mode\n",
    "    return bool((mode & stat.S_IXOTH) or (mode & stat.S_IXUSR) \\\n",
    "           or ((mode & stat.S_IXGRP) and (p.group in run(['groups']).split())))"
   ]
  },
  {
   "cell_type": "code",
   "execution_count": null,
   "id": "f4a5039d-5d9e-4c44-9313-bf916db536fe",
   "metadata": {},
   "outputs": [],
   "source": [
    "executable(Path('hw'))"
   ]
  },
  {
   "cell_type": "code",
   "execution_count": null,
   "id": "1c33b210-b4e8-4e47-9061-9b91f31645fa",
   "metadata": {},
   "outputs": [],
   "source": [
    "public(Path)"
   ]
  },
  {
   "cell_type": "code",
   "execution_count": null,
   "id": "7676f9c7-03a1-4225-9daf-e1960cf804f8",
   "metadata": {},
   "outputs": [],
   "source": [
    "@str2path\n",
    "def color_file(p):\n",
    "    if p.is_dir():\n",
    "        return color_str(p.name, FG_COLORS.BLUE)\n",
    "    if executable(p):\n",
    "        return color_str(p.name, FG_COLORS.GREEN)\n",
    "    else: return p.name"
   ]
  },
  {
   "cell_type": "code",
   "execution_count": null,
   "id": "92f77b90-bcdf-4f76-b708-4b79e7e447dd",
   "metadata": {},
   "outputs": [],
   "source": [
    "highlight(color_str)"
   ]
  },
  {
   "cell_type": "code",
   "execution_count": null,
   "id": "de91a3eb-da6b-4ecb-b402-8ddb6ed037d5",
   "metadata": {},
   "outputs": [],
   "source": [
    "help(os.stat)"
   ]
  },
  {
   "cell_type": "code",
   "execution_count": null,
   "id": "deae701b-26c9-4f4e-925e-3f756bbb013d",
   "metadata": {},
   "outputs": [],
   "source": [
    "@globber\n",
    "def ls(*args, **kwargs):\n",
    "    \"\"\"List the contents of the directory(ies) given as `args`.\"\"\"\n",
    "    if not args:\n",
    "        args = [cwd()]\n",
    "    R = is_set('recursive', kwargs)\n",
    "#     print(R)\n",
    "    A = is_set('all', kwargs)\n",
    "    seen = partial(visible, all=A)\n",
    "    L = is_set('long', kwargs)\n",
    "    walk = partial(os.walk, followlinks=True)\n",
    "    for f in sort_files(*args):\n",
    "        if f.is_dir():\n",
    "            if R:\n",
    "#                 pp(list(sorted([t for t in os.walk(f) if seen(f)])))\n",
    "                for directory, subdirs, files in sorted([t for t in walk(f) if seen(t)]):\n",
    "#                     print(f\"Visited {directory}\")\n",
    "                    ls(directory)\n",
    "            else:\n",
    "                print(f'{color_str(str(f), FG_COLORS.YELLOW)}:')\n",
    "#                 print()\n",
    "                if L:\n",
    "                    print_long(f)\n",
    "                else:\n",
    "                    columnize([s for s in sorted(os.listdir(f), key=lambda s: s.lower()) if seen(s)])\n",
    "        else:\n",
    "            print(f)\n",
    "        print()"
   ]
  },
  {
   "cell_type": "code",
   "execution_count": null,
   "id": "bc24d045-dc5a-441c-b767-7b06e1c30725",
   "metadata": {
    "scrolled": true,
    "tags": []
   },
   "outputs": [],
   "source": [
    "ls(recursive=True)"
   ]
  },
  {
   "cell_type": "code",
   "execution_count": null,
   "id": "2e752a21-be7d-406e-9568-142afdd1ff90",
   "metadata": {},
   "outputs": [],
   "source": [
    "'Markdown' in vars().keys()"
   ]
  },
  {
   "cell_type": "code",
   "execution_count": 3,
   "id": "bbebe08c-e44c-417a-b77a-95056e00c162",
   "metadata": {},
   "outputs": [],
   "source": [
    "import string"
   ]
  },
  {
   "cell_type": "code",
   "execution_count": 4,
   "id": "c969e3a0-db42-4897-8a56-cc992444168c",
   "metadata": {},
   "outputs": [
    {
     "name": "stdout",
     "output_type": "stream",
     "text": [
      "Formatter  ascii_letters    ascii_uppercase  digits     octdigits  punctuation\n",
      "Template   ascii_lowercase  capwords         hexdigits  printable  whitespace \n"
     ]
    }
   ],
   "source": [
    "public(string)"
   ]
  },
  {
   "cell_type": "markdown",
   "id": "366a04d1-e80e-4009-8a14-775acfaa8f53",
   "metadata": {},
   "source": [
    "## Search for Text Patterns in Files"
   ]
  },
  {
   "cell_type": "code",
   "execution_count": null,
   "id": "0ae4c792-dc1d-4d4d-b76e-7e163e642973",
   "metadata": {
    "scrolled": true,
    "tags": []
   },
   "outputs": [],
   "source": [
    "! man grep"
   ]
  },
  {
   "cell_type": "code",
   "execution_count": null,
   "id": "314a22b8-7704-4fcf-8865-dd46de56f397",
   "metadata": {},
   "outputs": [],
   "source": [
    "public(str)"
   ]
  },
  {
   "cell_type": "code",
   "execution_count": null,
   "id": "2f291b4a-6a7a-4362-b839-de7e2d4612e3",
   "metadata": {},
   "outputs": [],
   "source": [
    "help(sorted)"
   ]
  },
  {
   "cell_type": "code",
   "execution_count": 6,
   "id": "cb68444b-f143-4388-8b13-3c550dd84dfe",
   "metadata": {},
   "outputs": [],
   "source": [
    "import magic"
   ]
  },
  {
   "cell_type": "code",
   "execution_count": 7,
   "id": "b683833f-d526-47b3-83c9-7bebf109a44b",
   "metadata": {},
   "outputs": [
    {
     "name": "stdout",
     "output_type": "stream",
     "text": [
      "detected.mime_type='inode/directory'\n",
      "detected.encoding='binary'\n",
      "detected.name='directory'\n"
     ]
    }
   ],
   "source": [
    "detected = magic.detect_from_filename('hw')\n",
    "print(f'{detected.mime_type=}')\n",
    "print(f'{detected.encoding=}')\n",
    "print(f'{detected.name=}')"
   ]
  },
  {
   "cell_type": "code",
   "execution_count": null,
   "id": "0b50c97d-e601-40da-8052-d95bf7bece46",
   "metadata": {},
   "outputs": [],
   "source": [
    "public(Magic)"
   ]
  },
  {
   "cell_type": "code",
   "execution_count": null,
   "id": "762e4017-afe8-4d76-aa3f-399f4cd466b8",
   "metadata": {
    "scrolled": true,
    "tags": []
   },
   "outputs": [],
   "source": [
    "help(type(Magic))"
   ]
  },
  {
   "cell_type": "code",
   "execution_count": null,
   "id": "95854ea9-c6e0-43a8-a47b-b67442636d0c",
   "metadata": {},
   "outputs": [],
   "source": [
    "import greptile"
   ]
  },
  {
   "cell_type": "code",
   "execution_count": null,
   "id": "85035eff-1c7a-4940-a2ce-55ded04b36e4",
   "metadata": {},
   "outputs": [],
   "source": [
    "public(greptile)"
   ]
  },
  {
   "cell_type": "code",
   "execution_count": null,
   "id": "284a3878-6109-4f5d-9427-e5a9f4cfd8cb",
   "metadata": {},
   "outputs": [],
   "source": [
    "help(greptile.sed)"
   ]
  },
  {
   "cell_type": "code",
   "execution_count": null,
   "id": "f41d64b9-a8cb-427f-bfe3-0d956bfc1e6e",
   "metadata": {},
   "outputs": [],
   "source": [
    "help(greptile.grep_rl)"
   ]
  },
  {
   "cell_type": "code",
   "execution_count": null,
   "id": "8b31a502-de70-4f12-ab20-5362845070a1",
   "metadata": {},
   "outputs": [],
   "source": []
  }
 ],
 "metadata": {
  "kernelspec": {
   "display_name": "Python 3 (ipykernel)",
   "language": "python",
   "name": "python3"
  },
  "language_info": {
   "codemirror_mode": {
    "name": "ipython",
    "version": 3
   },
   "file_extension": ".py",
   "mimetype": "text/x-python",
   "name": "python",
   "nbconvert_exporter": "python",
   "pygments_lexer": "ipython3",
   "version": "3.8.10"
  }
 },
 "nbformat": 4,
 "nbformat_minor": 5
}
