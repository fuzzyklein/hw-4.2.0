{
 "cells": [
  {
   "cell_type": "markdown",
   "metadata": {
    "tags": []
   },
   "source": [
    "# Files"
   ]
  },
  {
   "cell_type": "code",
   "execution_count": 1,
   "metadata": {},
   "outputs": [
    {
     "name": "stdout",
     "output_type": "stream",
     "text": [
      "Current working directory: /home/fuzzy/Projects/develop-4.2.0/hw-4.2.0\n"
     ]
    }
   ],
   "source": [
    "with open('startup.py') as f:\n",
    "    exec(f.read())"
   ]
  },
  {
   "cell_type": "code",
   "execution_count": 3,
   "metadata": {},
   "outputs": [],
   "source": [
    "from files import *"
   ]
  },
  {
   "cell_type": "code",
   "execution_count": 5,
   "metadata": {},
   "outputs": [
    {
     "data": {
      "text/plain": [
       "True"
      ]
     },
     "execution_count": 5,
     "metadata": {},
     "output_type": "execute_result"
    }
   ],
   "source": [
    "File('hw').is_dir()"
   ]
  },
  {
   "cell_type": "code",
   "execution_count": null,
   "metadata": {
    "scrolled": true,
    "tags": []
   },
   "outputs": [],
   "source": [
    "import stat"
   ]
  },
  {
   "cell_type": "markdown",
   "metadata": {
    "tags": []
   },
   "source": [
    "## Concatenation"
   ]
  },
  {
   "cell_type": "code",
   "execution_count": null,
   "metadata": {},
   "outputs": [],
   "source": [
    "cd(BASEDIR)"
   ]
  },
  {
   "cell_type": "code",
   "execution_count": 8,
   "metadata": {},
   "outputs": [
    {
     "data": {
      "text/html": [
       "<!-- HTML generated using hilite.me --><div style=\"background: #ffffff; overflow:auto;width:auto;border:solid gray;border-width:.1em .1em .1em .8em;padding:.2em .6em;\"><pre style=\"margin: 0; line-height: 125%\"><span style=\"color: #555555; font-weight: bold\">@globber</span>\n",
       "<span style=\"color: #008800; font-weight: bold\">def</span> <span style=\"color: #0066BB; font-weight: bold\">cat</span>(<span style=\"color: #333333\">*</span>args, <span style=\"color: #333333\">**</span>kwargs):\n",
       "    <span style=\"color: #DD4422\">&quot;&quot;&quot;Return a string containing the concatenation of any files given as `args`.&quot;&quot;&quot;</span>\n",
       "    s <span style=\"color: #333333\">=</span> <span style=\"color: #007020\">str</span>()\n",
       "    <span style=\"color: #008800; font-weight: bold\">for</span> f <span style=\"color: #000000; font-weight: bold\">in</span> args:\n",
       "        <span style=\"color: #008800; font-weight: bold\">if</span> <span style=\"color: #000000; font-weight: bold\">not</span> f<span style=\"color: #333333\">.</span>exists():\n",
       "            warn(f<span style=\"background-color: #fff0f0\">&#39;File {f.name} does not exist.&#39;</span>)\n",
       "        <span style=\"color: #008800; font-weight: bold\">else</span>:\n",
       "            <span style=\"color: #008800; font-weight: bold\">try</span>:\n",
       "                s <span style=\"color: #333333\">+=</span> f<span style=\"color: #333333\">.</span>read_text()\n",
       "            <span style=\"color: #008800; font-weight: bold\">except</span> FileNotFoundError:\n",
       "                warn(f<span style=\"background-color: #fff0f0\">&#39;File {str(f)} not found!&#39;</span>)\n",
       "    <span style=\"color: #008800; font-weight: bold\">if</span> <span style=\"color: #000000; font-weight: bold\">not</span> <span style=\"background-color: #fff0f0\">&#39;quiet&#39;</span> <span style=\"color: #000000; font-weight: bold\">in</span> kwargs<span style=\"color: #333333\">.</span>keys() <span style=\"color: #000000; font-weight: bold\">or</span> kwargs[<span style=\"background-color: #fff0f0\">&#39;quiet&#39;</span>] <span style=\"color: #333333\">==</span> <span style=\"color: #007020\">False</span>: <span style=\"color: #008800; font-weight: bold\">print</span>(s)\n",
       "    <span style=\"color: #008800; font-weight: bold\">return</span> s\n",
       "</pre></div>\n"
      ],
      "text/plain": [
       "<IPython.core.display.HTML object>"
      ]
     },
     "metadata": {},
     "output_type": "display_data"
    }
   ],
   "source": [
    "highlight(cat)"
   ]
  },
  {
   "cell_type": "code",
   "execution_count": null,
   "metadata": {
    "scrolled": true,
    "tags": []
   },
   "outputs": [],
   "source": [
    "s = cat('hw/*.py', 'index.html')"
   ]
  },
  {
   "cell_type": "code",
   "execution_count": null,
   "metadata": {
    "scrolled": true,
    "tags": []
   },
   "outputs": [],
   "source": [
    "help(os.walk)"
   ]
  },
  {
   "cell_type": "markdown",
   "metadata": {
    "tags": []
   },
   "source": [
    "## List the Contents of a Directory"
   ]
  },
  {
   "cell_type": "code",
   "execution_count": null,
   "metadata": {
    "tags": []
   },
   "outputs": [],
   "source": [
    "highlight(invisible)"
   ]
  },
  {
   "cell_type": "code",
   "execution_count": null,
   "metadata": {},
   "outputs": [],
   "source": [
    "def is_set(s, d):\n",
    "    return s in d and bool(d[s])"
   ]
  },
  {
   "cell_type": "code",
   "execution_count": null,
   "metadata": {},
   "outputs": [],
   "source": [
    "def visible(s, all=False):\n",
    "    return not invisible(s) or all"
   ]
  },
  {
   "cell_type": "code",
   "execution_count": null,
   "metadata": {},
   "outputs": [],
   "source": [
    "def print_long(f, all=False):\n",
    "    pass"
   ]
  },
  {
   "cell_type": "code",
   "execution_count": null,
   "metadata": {},
   "outputs": [],
   "source": [
    "def sort_files(*args, **kwargs):\n",
    "    return sorted(sorted(args, key=lambda f: f.name.lower()), key=lambda f: f.is_dir())"
   ]
  },
  {
   "cell_type": "code",
   "execution_count": null,
   "metadata": {},
   "outputs": [],
   "source": [
    "def executable(p):\n",
    "    mode = p.stat().st_mode\n",
    "    return bool((mode & stat.S_IXOTH) or (mode & stat.S_IXUSR) \\\n",
    "           or ((mode & stat.S_IXGRP) and (p.group in run(['groups']).split())))"
   ]
  },
  {
   "cell_type": "code",
   "execution_count": null,
   "metadata": {},
   "outputs": [],
   "source": [
    "executable(Path('hw'))"
   ]
  },
  {
   "cell_type": "code",
   "execution_count": null,
   "metadata": {},
   "outputs": [],
   "source": [
    "public(Path)"
   ]
  },
  {
   "cell_type": "code",
   "execution_count": null,
   "metadata": {},
   "outputs": [],
   "source": [
    "@str2path\n",
    "def color_file(p):\n",
    "    if p.is_dir():\n",
    "        return color_str(p.name, FG_COLORS.BLUE)\n",
    "    if executable(p):\n",
    "        return color_str(p.name, FG_COLORS.GREEN)\n",
    "    else: return p.name"
   ]
  },
  {
   "cell_type": "code",
   "execution_count": null,
   "metadata": {},
   "outputs": [],
   "source": [
    "highlight(color_str)"
   ]
  },
  {
   "cell_type": "code",
   "execution_count": null,
   "metadata": {},
   "outputs": [],
   "source": [
    "help(os.stat)"
   ]
  },
  {
   "cell_type": "code",
   "execution_count": null,
   "metadata": {},
   "outputs": [],
   "source": [
    "@globber\n",
    "def ls(*args, **kwargs):\n",
    "    \"\"\"List the contents of the directory(ies) given as `args`.\"\"\"\n",
    "    if not args:\n",
    "        args = [cwd()]\n",
    "    R = is_set('recursive', kwargs)\n",
    "#     print(R)\n",
    "    A = is_set('all', kwargs)\n",
    "    seen = partial(visible, all=A)\n",
    "    L = is_set('long', kwargs)\n",
    "    walk = partial(os.walk, followlinks=True)\n",
    "    for f in sort_files(*args):\n",
    "        if f.is_dir():\n",
    "            if R:\n",
    "#                 pp(list(sorted([t for t in os.walk(f) if seen(f)])))\n",
    "                for directory, subdirs, files in sorted([t for t in walk(f) if seen(t)]):\n",
    "#                     print(f\"Visited {directory}\")\n",
    "                    ls(directory)\n",
    "            else:\n",
    "                print(f'{color_str(str(f), FG_COLORS.YELLOW)}:')\n",
    "#                 print()\n",
    "                if L:\n",
    "                    print_long(f)\n",
    "                else:\n",
    "                    columnize([s for s in sorted(os.listdir(f), key=lambda s: s.lower()) if seen(s)])\n",
    "        else:\n",
    "            print(f)\n",
    "        print()"
   ]
  },
  {
   "cell_type": "code",
   "execution_count": null,
   "metadata": {
    "scrolled": true,
    "tags": []
   },
   "outputs": [],
   "source": [
    "ls(recursive=True)"
   ]
  },
  {
   "cell_type": "code",
   "execution_count": null,
   "metadata": {},
   "outputs": [],
   "source": [
    "'Markdown' in vars().keys()"
   ]
  },
  {
   "cell_type": "code",
   "execution_count": 3,
   "metadata": {},
   "outputs": [],
   "source": [
    "import string"
   ]
  },
  {
   "cell_type": "code",
   "execution_count": 4,
   "metadata": {},
   "outputs": [
    {
     "name": "stdout",
     "output_type": "stream",
     "text": [
      "Formatter  ascii_letters    ascii_uppercase  digits     octdigits  punctuation\n",
      "Template   ascii_lowercase  capwords         hexdigits  printable  whitespace \n"
     ]
    }
   ],
   "source": [
    "public(string)"
   ]
  },
  {
   "cell_type": "markdown",
   "metadata": {},
   "source": [
    "## Search for Text Patterns in Files"
   ]
  },
  {
   "cell_type": "code",
   "execution_count": null,
   "metadata": {
    "scrolled": true,
    "tags": []
   },
   "outputs": [],
   "source": [
    "! man grep"
   ]
  },
  {
   "cell_type": "code",
   "execution_count": null,
   "metadata": {},
   "outputs": [],
   "source": [
    "public(str)"
   ]
  },
  {
   "cell_type": "code",
   "execution_count": null,
   "metadata": {},
   "outputs": [],
   "source": [
    "help(sorted)"
   ]
  },
  {
   "cell_type": "code",
   "execution_count": 6,
   "metadata": {},
   "outputs": [],
   "source": [
    "import magic"
   ]
  },
  {
   "cell_type": "code",
   "execution_count": 7,
   "metadata": {},
   "outputs": [
    {
     "name": "stdout",
     "output_type": "stream",
     "text": [
      "detected.mime_type='inode/directory'\n",
      "detected.encoding='binary'\n",
      "detected.name='directory'\n"
     ]
    }
   ],
   "source": [
    "detected = magic.detect_from_filename('hw')\n",
    "print(f'{detected.mime_type=}')\n",
    "print(f'{detected.encoding=}')\n",
    "print(f'{detected.name=}')"
   ]
  },
  {
   "cell_type": "code",
   "execution_count": null,
   "metadata": {},
   "outputs": [],
   "source": [
    "public(Magic)"
   ]
  },
  {
   "cell_type": "code",
   "execution_count": null,
   "metadata": {
    "scrolled": true,
    "tags": []
   },
   "outputs": [],
   "source": [
    "help(type(Magic))"
   ]
  },
  {
   "cell_type": "code",
   "execution_count": null,
   "metadata": {},
   "outputs": [],
   "source": [
    "import greptile"
   ]
  },
  {
   "cell_type": "code",
   "execution_count": null,
   "metadata": {},
   "outputs": [],
   "source": [
    "public(greptile)"
   ]
  },
  {
   "cell_type": "code",
   "execution_count": null,
   "metadata": {},
   "outputs": [],
   "source": [
    "help(greptile.sed)"
   ]
  },
  {
   "cell_type": "code",
   "execution_count": null,
   "metadata": {},
   "outputs": [],
   "source": [
    "help(greptile.grep_rl)"
   ]
  },
  {
   "cell_type": "code",
   "execution_count": 5,
   "metadata": {},
   "outputs": [
    {
     "data": {
      "text/plain": [
       "argparse.ArgumentParser"
      ]
     },
     "execution_count": 5,
     "metadata": {},
     "output_type": "execute_result"
    }
   ],
   "source": [
    "ArgumentParser"
   ]
  },
  {
   "cell_type": "code",
   "execution_count": 6,
   "metadata": {},
   "outputs": [
    {
     "name": "stdout",
     "output_type": "stream",
     "text": [
      "Help on function add_argument in module argparse:\n",
      "\n",
      "add_argument(self, *args, **kwargs)\n",
      "    add_argument(dest, ..., name=value, ...)\n",
      "    add_argument(option_string, option_string, ..., name=value, ...)\n",
      "\n"
     ]
    }
   ],
   "source": [
    "help(ArgumentParser.add_argument)"
   ]
  },
  {
   "cell_type": "code",
   "execution_count": 7,
   "metadata": {},
   "outputs": [],
   "source": [
    "from argparse import FileType"
   ]
  },
  {
   "cell_type": "code",
   "execution_count": 8,
   "metadata": {},
   "outputs": [
    {
     "name": "stdout",
     "output_type": "stream",
     "text": [
      "<empty>\n"
     ]
    }
   ],
   "source": [
    "public(FileType)"
   ]
  },
  {
   "cell_type": "code",
   "execution_count": 9,
   "metadata": {},
   "outputs": [
    {
     "data": {
      "text/plain": [
       "['__call__',\n",
       " '__class__',\n",
       " '__delattr__',\n",
       " '__dict__',\n",
       " '__dir__',\n",
       " '__doc__',\n",
       " '__eq__',\n",
       " '__format__',\n",
       " '__ge__',\n",
       " '__getattribute__',\n",
       " '__gt__',\n",
       " '__hash__',\n",
       " '__init__',\n",
       " '__init_subclass__',\n",
       " '__le__',\n",
       " '__lt__',\n",
       " '__module__',\n",
       " '__ne__',\n",
       " '__new__',\n",
       " '__reduce__',\n",
       " '__reduce_ex__',\n",
       " '__repr__',\n",
       " '__setattr__',\n",
       " '__sizeof__',\n",
       " '__str__',\n",
       " '__subclasshook__',\n",
       " '__weakref__']"
      ]
     },
     "execution_count": 9,
     "metadata": {},
     "output_type": "execute_result"
    }
   ],
   "source": [
    "dir(FileType)"
   ]
  },
  {
   "cell_type": "code",
   "execution_count": 10,
   "metadata": {},
   "outputs": [
    {
     "name": "stdout",
     "output_type": "stream",
     "text": [
      "Help on class FileType in module argparse:\n",
      "\n",
      "class FileType(builtins.object)\n",
      " |  FileType(mode='r', bufsize=-1, encoding=None, errors=None)\n",
      " |  \n",
      " |  Factory for creating file object types\n",
      " |  \n",
      " |  Instances of FileType are typically passed as type= arguments to the\n",
      " |  ArgumentParser add_argument() method.\n",
      " |  \n",
      " |  Keyword Arguments:\n",
      " |      - mode -- A string indicating how the file is to be opened. Accepts the\n",
      " |          same values as the builtin open() function.\n",
      " |      - bufsize -- The file's desired buffer size. Accepts the same values as\n",
      " |          the builtin open() function.\n",
      " |      - encoding -- The file's encoding. Accepts the same values as the\n",
      " |          builtin open() function.\n",
      " |      - errors -- A string indicating how encoding and decoding errors are to\n",
      " |          be handled. Accepts the same value as the builtin open() function.\n",
      " |  \n",
      " |  Methods defined here:\n",
      " |  \n",
      " |  __call__(self, string)\n",
      " |      Call self as a function.\n",
      " |  \n",
      " |  __init__(self, mode='r', bufsize=-1, encoding=None, errors=None)\n",
      " |      Initialize self.  See help(type(self)) for accurate signature.\n",
      " |  \n",
      " |  __repr__(self)\n",
      " |      Return repr(self).\n",
      " |  \n",
      " |  ----------------------------------------------------------------------\n",
      " |  Data descriptors defined here:\n",
      " |  \n",
      " |  __dict__\n",
      " |      dictionary for instance variables (if defined)\n",
      " |  \n",
      " |  __weakref__\n",
      " |      list of weak references to the object (if defined)\n",
      "\n"
     ]
    }
   ],
   "source": [
    "help(FileType)"
   ]
  },
  {
   "cell_type": "code",
   "execution_count": null,
   "metadata": {},
   "outputs": [],
   "source": []
  }
 ],
 "metadata": {
  "kernelspec": {
   "display_name": "Python 3",
   "language": "python",
   "name": "python3"
  },
  "language_info": {
   "codemirror_mode": {
    "name": "ipython",
    "version": 3
   },
   "file_extension": ".py",
   "mimetype": "text/x-python",
   "name": "python",
   "nbconvert_exporter": "python",
   "pygments_lexer": "ipython3",
   "version": "3.8.3"
  }
 },
 "nbformat": 4,
 "nbformat_minor": 5
}
