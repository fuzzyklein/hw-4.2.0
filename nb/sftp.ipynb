{
 "cells": [
  {
   "cell_type": "code",
   "execution_count": 2,
   "id": "9338fab3-5152-47a5-9210-6af4576b7725",
   "metadata": {},
   "outputs": [],
   "source": [
    "import ftplib\n",
    "from ftplib import FTP\n",
    "from io import StringIO\n",
    "import os\n",
    "from pathlib import Path\n",
    "import site\n",
    "import sys"
   ]
  },
  {
   "cell_type": "code",
   "execution_count": 3,
   "id": "090d95d9-ec10-47ba-b165-df8ec7a547d3",
   "metadata": {
    "tags": []
   },
   "outputs": [],
   "source": [
    "BASEDIR = Path.home() / 'Development/hw-4.2.0'\n",
    "site.addsitedir(str(BASEDIR / 'hw'))"
   ]
  },
  {
   "cell_type": "code",
   "execution_count": 4,
   "id": "7c8ba389-b9b7-4bca-a936-6088102429ce",
   "metadata": {},
   "outputs": [],
   "source": [
    "from tools import *\n",
    "from program import Program"
   ]
  },
  {
   "cell_type": "code",
   "execution_count": 5,
   "id": "b80e7a18-7cd2-4c29-b227-43b1a31d9ebe",
   "metadata": {},
   "outputs": [],
   "source": [
    "BASEDIR = Path.home()"
   ]
  },
  {
   "cell_type": "code",
   "execution_count": 6,
   "id": "1a90f07e-1f13-4ffe-87ab-06744747e345",
   "metadata": {},
   "outputs": [],
   "source": [
    "cd(BASEDIR)"
   ]
  },
  {
   "cell_type": "code",
   "execution_count": 7,
   "id": "fe268043-bf32-4c80-993f-7ada47f8e4f0",
   "metadata": {},
   "outputs": [
    {
     "data": {
      "text/plain": [
       "[('server_ip', '192.168.254.71'),\n",
       " ('ftp_pass', '.config/hw/ftp.cnf'),\n",
       " ('program', 'hw'),\n",
       " ('version', '4.2.0')]"
      ]
     },
     "execution_count": 7,
     "metadata": {},
     "output_type": "execute_result"
    }
   ],
   "source": [
    "conf = configure()['ENVIRONMENT']\n",
    "[item for item in conf.items()]"
   ]
  },
  {
   "cell_type": "markdown",
   "id": "db264df9-b47f-480b-96b6-74daa75a780b",
   "metadata": {},
   "source": [
    "## Connect to the FTP Server"
   ]
  },
  {
   "cell_type": "code",
   "execution_count": 8,
   "id": "1009dc7f-4543-46cc-87b3-4297967ff5f9",
   "metadata": {},
   "outputs": [],
   "source": [
    "def login():\n",
    "    password = (Path.home() / conf['ftp_pass']).read_text()\n",
    "    ftp = FTP(conf['server_ip'])\n",
    "    ftp.login('russell', password)\n",
    "    return ftp"
   ]
  },
  {
   "cell_type": "markdown",
   "id": "64233efe-0220-4293-aa11-4a5ae578dbd9",
   "metadata": {},
   "source": [
    "## Change Remote Directory"
   ]
  },
  {
   "cell_type": "code",
   "execution_count": 11,
   "id": "c9bd5f7f-df7d-41af-8d76-3352e0283cb5",
   "metadata": {},
   "outputs": [
    {
     "data": {
      "text/plain": [
       "'250 Directory successfully changed.'"
      ]
     },
     "execution_count": 11,
     "metadata": {},
     "output_type": "execute_result"
    }
   ],
   "source": [
    "ftp = login()\n",
    "ftp.cwd('/srv/www/htdocs/library/books/test')"
   ]
  },
  {
   "cell_type": "code",
   "execution_count": 46,
   "id": "81c152f9-4fbb-49a3-8865-4344074ae567",
   "metadata": {},
   "outputs": [
    {
     "data": {
      "text/plain": [
       "'250'"
      ]
     },
     "execution_count": 46,
     "metadata": {},
     "output_type": "execute_result"
    }
   ],
   "source": [
    "ftp.retrlines('PUT {"
   ]
  },
  {
   "cell_type": "markdown",
   "id": "dd8b073e-34c9-4e36-8417-9ac03e342309",
   "metadata": {},
   "source": [
    "## List the Current Directory"
   ]
  },
  {
   "cell_type": "code",
   "execution_count": 38,
   "id": "87145cca-a62d-481a-aa77-81fdf29d89a2",
   "metadata": {},
   "outputs": [
    {
     "data": {
      "text/plain": [
       "'226 Directory send OK.'"
      ]
     },
     "execution_count": 38,
     "metadata": {},
     "output_type": "execute_result"
    },
    {
     "name": "stdout",
     "output_type": "stream",
     "text": [
      "drwxr-xr-x    1 1000     100             0 Aug 17 03:57 books\n",
      "\n"
     ]
    }
   ],
   "source": [
    "sys.stdout = StringIO()\n",
    "ftp.retrlines('LIST')"
   ]
  },
  {
   "cell_type": "code",
   "execution_count": 39,
   "id": "db6ac63e-f9c6-4d88-8a42-4f2603c81c2a",
   "metadata": {},
   "outputs": [],
   "source": [
    "s = sys.stdout.getvalue()\n",
    "sys.stdout = stdout\n",
    "print(s)"
   ]
  },
  {
   "cell_type": "code",
   "execution_count": 12,
   "id": "68a84e12-4788-4e27-8273-a0f7c459971c",
   "metadata": {},
   "outputs": [
    {
     "name": "stdout",
     "output_type": "stream",
     "text": [
      "Help on method putline in module ftplib:\n",
      "\n",
      "putline(line) method of ftplib.FTP instance\n",
      "    # Internal: send one line to the server, appending CRLF\n",
      "\n"
     ]
    }
   ],
   "source": [
    "help(ftp.putline)"
   ]
  },
  {
   "cell_type": "code",
   "execution_count": 40,
   "id": "4443dbc9-10f7-4053-b6b0-b033844099a8",
   "metadata": {},
   "outputs": [
    {
     "name": "stdout",
     "output_type": "stream",
     "text": [
      "hi\n"
     ]
    }
   ],
   "source": [
    "print('hi')"
   ]
  },
  {
   "cell_type": "markdown",
   "id": "6dbc0f21-6dfe-4c5a-bb61-c541a2fe4a71",
   "metadata": {},
   "source": [
    "## Determine if a Remote File Exists"
   ]
  },
  {
   "cell_type": "code",
   "execution_count": 155,
   "id": "f2de2d0a-51c0-48de-b236-3480538c0a06",
   "metadata": {},
   "outputs": [
    {
     "data": {
      "text/plain": [
       "True"
      ]
     },
     "execution_count": 155,
     "metadata": {},
     "output_type": "execute_result"
    }
   ],
   "source": [
    "def exists(ftp, s):\n",
    "    cur_dir = ftp.pwd()\n",
    "    try:\n",
    "        ftp.cwd(s)\n",
    "        ftp.cwd(cur_dir)\n",
    "        return True\n",
    "    except ftplib.error_perm as e:\n",
    "        print(e)\n",
    "        lastresp = ftp.lastresp\n",
    "        ftp.cwd(cur_dir)\n",
    "        try:\n",
    "            ftp.size(s)\n",
    "            # ftp.cwd(cur_dir)\n",
    "            return True\n",
    "        except ftplib.error_perm as e:\n",
    "            print(e)\n",
    "            # ftp.cwd(cur_dir)\n",
    "            return False\n",
    "        # return False\n",
    "    ftp.cwd(cur_dir)\n",
    "\n",
    "exists(ftp, '/etc')"
   ]
  },
  {
   "cell_type": "code",
   "execution_count": 156,
   "id": "fdc8c5ff-760a-4b84-845b-79f132073e3f",
   "metadata": {},
   "outputs": [],
   "source": [
    "def make_remote_dirs(ftp, s):\n",
    "    components = s.split(os.sep)\n",
    "    i = -1\n",
    "    pp(components)\n",
    "    s0 = os.sep.join(components[:i])\n",
    "    print(s0)\n",
    "    while len(s0) and not exists(ftp, s0):\n",
    "         print(f'Directory {s0} does not exist.')\n",
    "         i -= 1\n",
    "         s0 = os.sep.join(components[:i])\n",
    "         print(f'Next directory to check: {s0}')\n",
    "    print(len(s0))\n",
    "    while i < 0:\n",
    "        i += 1\n",
    "        s0 = os.sep.join(components[:i])\n",
    "        if len(s0):\n",
    "            print(f'Making directory {s0}')\n",
    "            ftp.mkd(s0)"
   ]
  },
  {
   "cell_type": "code",
   "execution_count": 157,
   "id": "76855325-2375-4103-a552-282a27c55bd6",
   "metadata": {},
   "outputs": [
    {
     "name": "stdout",
     "output_type": "stream",
     "text": [
      "['600', '620', '628', 'Boring Stuff']\n",
      "600/620/628\n",
      "550 Failed to change directory.\n",
      "550 Could not get file size.\n",
      "Directory 600/620/628 does not exist.\n",
      "Next directory to check: 600/620\n",
      "550 Failed to change directory.\n",
      "550 Could not get file size.\n",
      "Directory 600/620 does not exist.\n",
      "Next directory to check: 600\n",
      "550 Failed to change directory.\n",
      "550 Could not get file size.\n",
      "Directory 600 does not exist.\n",
      "Next directory to check: \n",
      "0\n",
      "Making directory 600\n",
      "Making directory 600/620\n",
      "Making directory 600/620/628\n"
     ]
    }
   ],
   "source": [
    "# login()\n",
    "make_remote_dirs(ftp, '600/620/628/Boring Stuff')"
   ]
  },
  {
   "cell_type": "code",
   "execution_count": 130,
   "id": "8a3a4263-5ec5-4b0b-9a3f-2d2a820428e8",
   "metadata": {},
   "outputs": [
    {
     "name": "stdout",
     "output_type": "stream",
     "text": [
      "capitalize  format      isidentifier  ljust      rjust       swapcase \n",
      "casefold    format_map  islower       lower      rpartition  title    \n",
      "center      index       isnumeric     lstrip     rsplit      translate\n",
      "count       isalnum     isprintable   maketrans  rstrip      upper    \n",
      "encode      isalpha     isspace       partition  split       zfill    \n",
      "endswith    isascii     istitle       replace    splitlines\n",
      "expandtabs  isdecimal   isupper       rfind      startswith\n",
      "find        isdigit     join          rindex     strip     \n"
     ]
    }
   ],
   "source": [
    "public(str)"
   ]
  },
  {
   "cell_type": "code",
   "execution_count": 138,
   "id": "69c82a06-d1d3-4a61-90b2-b81b0718be00",
   "metadata": {},
   "outputs": [
    {
     "data": {
      "text/plain": [
       "'/srv/www/htdocs/library/books/test'"
      ]
     },
     "execution_count": 138,
     "metadata": {},
     "output_type": "execute_result"
    }
   ],
   "source": [
    "ftp.pwd()"
   ]
  },
  {
   "cell_type": "code",
   "execution_count": 112,
   "id": "66001ce3-7144-47bf-acd9-b7bf83910e70",
   "metadata": {},
   "outputs": [
    {
     "data": {
      "text/plain": [
       "0"
      ]
     },
     "execution_count": 112,
     "metadata": {},
     "output_type": "execute_result"
    }
   ],
   "source": [
    "ftp.size('books/3 Little Pigs')"
   ]
  },
  {
   "cell_type": "code",
   "execution_count": null,
   "id": "b0f90766-8cb7-4b03-960b-18dd0c29819b",
   "metadata": {},
   "outputs": [],
   "source": []
  }
 ],
 "metadata": {
  "kernelspec": {
   "display_name": "Python 3 (ipykernel)",
   "language": "python",
   "name": "python3"
  },
  "language_info": {
   "codemirror_mode": {
    "name": "ipython",
    "version": 3
   },
   "file_extension": ".py",
   "mimetype": "text/x-python",
   "name": "python",
   "nbconvert_exporter": "python",
   "pygments_lexer": "ipython3",
   "version": "3.8.10"
  }
 },
 "nbformat": 4,
 "nbformat_minor": 5
}
