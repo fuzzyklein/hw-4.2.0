{
 "cells": [
  {
   "cell_type": "code",
   "execution_count": 7,
   "id": "9338fab3-5152-47a5-9210-6af4576b7725",
   "metadata": {},
   "outputs": [],
   "source": [
    "from ftplib import FTP\n",
    "from pathlib import Path"
   ]
  },
  {
   "cell_type": "code",
   "execution_count": 8,
   "id": "f9954a6a-d4d5-478e-b502-a2ef685b81d6",
   "metadata": {},
   "outputs": [],
   "source": [
    "password = (Path.home() / '.config/hw/my.cnf').read_text()"
   ]
  },
  {
   "cell_type": "code",
   "execution_count": 10,
   "id": "ca715442-2cc6-4219-9fc8-5d9362a16da9",
   "metadata": {},
   "outputs": [
    {
     "data": {
      "text/plain": [
       "'230 Login successful.'"
      ]
     },
     "execution_count": 10,
     "metadata": {},
     "output_type": "execute_result"
    }
   ],
   "source": [
    "ftp = FTP('192.168.254.71')\n",
    "ftp.login('russell', password)"
   ]
  },
  {
   "cell_type": "code",
   "execution_count": 11,
   "id": "495809bd-dafe-446a-b1ff-ee7a26114ac9",
   "metadata": {},
   "outputs": [],
   "source": [
    "ftp.close()"
   ]
  },
  {
   "cell_type": "code",
   "execution_count": null,
   "id": "2f4b4563-585e-4734-b1df-61572cba56fd",
   "metadata": {},
   "outputs": [],
   "source": []
  }
 ],
 "metadata": {
  "kernelspec": {
   "display_name": "Python 3 (ipykernel)",
   "language": "python",
   "name": "python3"
  },
  "language_info": {
   "codemirror_mode": {
    "name": "ipython",
    "version": 3
   },
   "file_extension": ".py",
   "mimetype": "text/x-python",
   "name": "python",
   "nbconvert_exporter": "python",
   "pygments_lexer": "ipython3",
   "version": "3.8.10"
  }
 },
 "nbformat": 4,
 "nbformat_minor": 5
}
