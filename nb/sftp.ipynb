{
 "cells": [
  {
   "cell_type": "code",
   "execution_count": 1,
   "id": "9338fab3-5152-47a5-9210-6af4576b7725",
   "metadata": {},
   "outputs": [],
   "source": [
    "from ftplib import FTP\n",
    "from pathlib import Path\n",
    "import site"
   ]
  },
  {
   "cell_type": "code",
   "execution_count": 2,
   "id": "090d95d9-ec10-47ba-b165-df8ec7a547d3",
   "metadata": {
    "tags": []
   },
   "outputs": [],
   "source": [
    "BASEDIR = Path.home() / 'Development/hw-4.2.0'\n",
    "site.addsitedir(str(BASEDIR / 'hw'))"
   ]
  },
  {
   "cell_type": "code",
   "execution_count": 3,
   "id": "7c8ba389-b9b7-4bca-a936-6088102429ce",
   "metadata": {},
   "outputs": [],
   "source": [
    "from tools import *\n",
    "from program import Program"
   ]
  },
  {
   "cell_type": "code",
   "execution_count": 9,
   "id": "b80e7a18-7cd2-4c29-b227-43b1a31d9ebe",
   "metadata": {},
   "outputs": [],
   "source": [
    "BASEDIR = Path.home()"
   ]
  },
  {
   "cell_type": "code",
   "execution_count": 10,
   "id": "1a90f07e-1f13-4ffe-87ab-06744747e345",
   "metadata": {},
   "outputs": [],
   "source": [
    "cd(BASEDIR)"
   ]
  },
  {
   "cell_type": "code",
   "execution_count": 11,
   "id": "fe268043-bf32-4c80-993f-7ada47f8e4f0",
   "metadata": {},
   "outputs": [
    {
     "name": "stdout",
     "output_type": "stream",
     "text": [
      "Getting configuration from file /home/fuzzy/Development/hw-4.2.0/etc/config.ini\n",
      "<configparser.ConfigParser object at 0x7f9ba43405b0>\n"
     ]
    }
   ],
   "source": [
    "conf = configure()\n",
    "pp(conf)"
   ]
  },
  {
   "cell_type": "code",
   "execution_count": 14,
   "id": "1009dc7f-4543-46cc-87b3-4297967ff5f9",
   "metadata": {},
   "outputs": [],
   "source": [
    "password = (Path.home() / conf[\"ENVIRONMENT\"]['ftp_pass']).read_text()\n",
    "\n",
    "ftp = FTP(conf['ENVIRONMENT']['server_ip'])\n",
    "ftp.login('russell', password)\n",
    "\n",
    "ftp.close()"
   ]
  },
  {
   "cell_type": "code",
   "execution_count": null,
   "id": "e2cb36ea-a53b-4be4-b56c-319ab54c397f",
   "metadata": {},
   "outputs": [],
   "source": []
  }
 ],
 "metadata": {
  "kernelspec": {
   "display_name": "Python 3 (ipykernel)",
   "language": "python",
   "name": "python3"
  },
  "language_info": {
   "codemirror_mode": {
    "name": "ipython",
    "version": 3
   },
   "file_extension": ".py",
   "mimetype": "text/x-python",
   "name": "python",
   "nbconvert_exporter": "python",
   "pygments_lexer": "ipython3",
   "version": "3.8.10"
  }
 },
 "nbformat": 4,
 "nbformat_minor": 5
}
