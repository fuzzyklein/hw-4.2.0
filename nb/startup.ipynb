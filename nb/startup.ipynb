{
 "cells": [
  {
   "cell_type": "code",
   "execution_count": 19,
   "metadata": {},
   "outputs": [],
   "source": [
    "from functools import partial\n",
    "from os import chdir as cd, listdir as ls\n",
    "from pathlib import Path\n",
    "import site\n",
    "from subprocess import check_output\n",
    "\n",
    "check_output = partial(check_output, encoding='utf-8')\n"
   ]
  },
  {
   "cell_type": "code",
   "execution_count": 21,
   "metadata": {},
   "outputs": [],
   "source": [
    "BASEDIR = Path.home() / 'Development/hw-4.2.0'\n",
    "site.addsitedir(str(BASEDIR / 'hw'))\n",
    "from tools import *"
   ]
  },
  {
   "cell_type": "code",
   "execution_count": 22,
   "metadata": {},
   "outputs": [],
   "source": [
    "cd(BASEDIR)"
   ]
  },
  {
   "cell_type": "code",
   "execution_count": 31,
   "metadata": {},
   "outputs": [
    {
     "data": {
      "text/plain": [
       "['etc/config.ini:  PROGRAM=hw',\n",
       " 'etc/config.ini:  LOGFILE=log/hw.log',\n",
       " 'sh/hw.sh:export PYTHONSTARTUP=hw/startup.py',\n",
       " 'sh/hw.sh:python3 -m hw $@',\n",
       " 'README.md:# hw-4.2.0',\n",
       " \"hw/startup.py:BASEDIR = Path.home() / 'Development/hw-4.2.0'\",\n",
       " 'hw/__main__.py:from hw.hw import HelloWorld',\n",
       " \"hw/imports.py:site.addsitedir(Path.home() / 'Development/hw-4.2.0/hw')\",\n",
       " 'hw/driver.py:from hw.program import Program',\n",
       " 'index.md:# hw-4.2.0',\n",
       " '']"
      ]
     },
     "execution_count": 31,
     "metadata": {},
     "output_type": "execute_result"
    }
   ],
   "source": [
    "[s for s in run('grep -R  hw'.split()).split('\\n')\n",
    " if not (s.startswith('Binary file')\n",
    "    or   s.startswith('.')\n",
    "    or   s.split(':')[0].endswith('.ipynb')\n",
    "    or   Path(s.split(':')[0]).is_symlink()\n",
    "    or   '/.' in s.split(':')[0])]"
   ]
  },
  {
   "cell_type": "code",
   "execution_count": 32,
   "metadata": {},
   "outputs": [
    {
     "data": {
      "text/plain": [
       "['is_absolute',\n",
       " 'is_block_device',\n",
       " 'is_char_device',\n",
       " 'is_dir',\n",
       " 'is_fifo',\n",
       " 'is_file',\n",
       " 'is_mount',\n",
       " 'is_reserved',\n",
       " 'is_socket',\n",
       " 'is_symlink']"
      ]
     },
     "execution_count": 32,
     "metadata": {},
     "output_type": "execute_result"
    }
   ],
   "source": [
    "list(filter(lambda s: s.startswith('is'), dir(Path)))"
   ]
  },
  {
   "cell_type": "code",
   "execution_count": null,
   "metadata": {},
   "outputs": [],
   "source": []
  }
 ],
 "metadata": {
  "kernelspec": {
   "display_name": "Python 3",
   "language": "python",
   "name": "python3"
  },
  "language_info": {
   "codemirror_mode": {
    "name": "ipython",
    "version": 3
   },
   "file_extension": ".py",
   "mimetype": "text/x-python",
   "name": "python",
   "nbconvert_exporter": "python",
   "pygments_lexer": "ipython3",
   "version": "3.8.3"
  }
 },
 "nbformat": 4,
 "nbformat_minor": 5
}
