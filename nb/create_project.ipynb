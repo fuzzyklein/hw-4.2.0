{
 "cells": [
  {
   "cell_type": "code",
   "execution_count": 14,
   "id": "77a4c125-9c4b-4331-b2b7-67d55a79d6b3",
   "metadata": {},
   "outputs": [
    {
     "name": "stdout",
     "output_type": "stream",
     "text": [
      "/home/fuzzy/Projects/develop-4.2.0/hw-4.2.0/nb\n"
     ]
    }
   ],
   "source": [
    "! pwd"
   ]
  },
  {
   "cell_type": "code",
   "execution_count": null,
   "id": "5971a88c-eb58-49ca-b8b0-600863e224fc",
   "metadata": {},
   "outputs": [],
   "source": []
  },
  {
   "cell_type": "code",
   "execution_count": 55,
   "id": "a2d3206a-69ab-43fd-93a2-c0711a8bd193",
   "metadata": {},
   "outputs": [],
   "source": [
    "from configparser import ConfigParser\n",
    "from functools import partial\n",
    "from os import chdir as cd, curdir, listdir as ls\n",
    "from pathlib import Path\n",
    "import re\n",
    "from shutil import move\n",
    "import site\n",
    "from subprocess import check_output\n",
    "\n",
    "run = partial(check_output, encoding='utf-8')\n",
    "\n",
    "\n",
    "BASEDIR = Path.home() / 'Development/hw-4.2.0'\n",
    "site.addsitedir(str(BASEDIR / 'hw'))\n",
    "from tools import *\n",
    "\n",
    "cd(BASEDIR / 'tests/crtprj')\n",
    "CONFIG_FILE = 'etc/config.ini'\n",
    "PROJECT_NAME = Path(curdir).absolute().stem\n",
    "config = ConfigParser()\n",
    "config.read(CONFIG_FILE)\n",
    "config['DEFAULT']['program'] = PROJECT_NAME # Path(__file__).parent.parent.stem\n",
    "config['PROGRAM']['logfile'] = f'log/{PROJECT_NAME}.log'\n",
    "config['PROGRAM']['basedir'] = f'{BASEDIR}'\n",
    "with Path(CONFIG_FILE).open(mode='w', encoding='utf-8') as fp:\n",
    "    config.write(fp)\n",
    "\n",
    "RUN_SCRIPT = Path('sh/hw.sh')\n",
    "RUN_SCRIPT.write_text(re.sub('hw', PROJECT_NAME, RUN_SCRIPT.read_text()))\n",
    "RUN_SCRIPT.rename(f'sh/{PROJECT_NAME}.sh')\n",
    "\n",
    "README = Path('README.md')\n",
    "README.write_text(re.sub('hw', PROJECT_NAME, README.read_text()))\n",
    "\n",
    "PROJECT_CLASS = PROJECT_NAME.capitalize()\n",
    "SOURCE = Path('hw/__main__.py')\n",
    "SOURCE.write_text(re.sub('hw', PROJECT_NAME, re.sub('HelloWorld', PROJECT_CLASS, SOURCE.read_text())))\n",
    "\n",
    "SOURCE = Path('hw/hw.py')\n",
    "SOURCE.write_text(re.sub('HelloWorld', PROJECT_CLASS, SOURCE.read_text()))\n",
    "SOURCE.rename(f'hw/{PROJECT_NAME}.py')\n",
    "\n",
    "SOURCE = Path('index.md')\n",
    "SOURCE.write_text(re.sub('hw', PROJECT_NAME, SOURCE.read_text()))\n",
    "\n",
    "Path('hw').rename(PROJECT_NAME)"
   ]
  },
  {
   "cell_type": "code",
   "execution_count": 31,
   "id": "0d7825d1-c030-4cb9-b334-1c8de37a893d",
   "metadata": {},
   "outputs": [
    {
     "data": {
      "text/plain": [
       "['etc/config.ini:  PROGRAM=hw',\n",
       " 'etc/config.ini:  LOGFILE=log/hw.log',\n",
       " 'sh/hw.sh:export PYTHONSTARTUP=hw/startup.py',\n",
       " 'sh/hw.sh:python3 -m hw $@',\n",
       " 'README.md:# hw-4.2.0',\n",
       " \"hw/startup.py:BASEDIR = Path.home() / 'Development/hw-4.2.0'\",\n",
       " 'hw/__main__.py:from hw.hw import HelloWorld',\n",
       " \"hw/imports.py:site.addsitedir(Path.home() / 'Development/hw-4.2.0/hw')\",\n",
       " 'hw/driver.py:from hw.program import Program',\n",
       " 'index.md:# hw-4.2.0',\n",
       " '']"
      ]
     },
     "execution_count": 31,
     "metadata": {},
     "output_type": "execute_result"
    }
   ],
   "source": [
    "[s for s in run('grep -R  hw'.split()).split('\\n')\n",
    " if not (s.startswith('Binary file')\n",
    "    or   s.startswith('.')\n",
    "    or   s.split(':')[0].endswith('.ipynb')\n",
    "    or   Path(s.split(':')[0]).is_symlink()\n",
    "    or   '/.' in s.split(':')[0])]"
   ]
  },
  {
   "cell_type": "code",
   "execution_count": 73,
   "id": "c6b99434-4040-4bc9-b9bf-fdade9840d78",
   "metadata": {},
   "outputs": [
    {
     "name": "stdout",
     "output_type": "stream",
     "text": [
      "get_runtime_dir    os                stat             xdg_data_dirs\n",
      "load_config_paths  save_cache_path   xdg_cache_home   xdg_data_home\n",
      "load_data_paths    save_config_path  xdg_config_dirs\n",
      "load_first_config  save_data_path    xdg_config_home\n"
     ]
    }
   ],
   "source": [
    "import xdg.BaseDirectory as basedir\n",
    "public(basedir)"
   ]
  },
  {
   "cell_type": "code",
   "execution_count": 74,
   "id": "d6f776bc-a670-4247-8f1f-af92e4ec7d0d",
   "metadata": {},
   "outputs": [
    {
     "data": {
      "text/plain": [
       "'/run/user/1000'"
      ]
     },
     "execution_count": 74,
     "metadata": {},
     "output_type": "execute_result"
    }
   ],
   "source": [
    "basedir.get_runtime_dir()"
   ]
  },
  {
   "cell_type": "code",
   "execution_count": null,
   "id": "79b42f37-6da3-46c8-9876-7472e441dbfa",
   "metadata": {},
   "outputs": [],
   "source": []
  }
 ],
 "metadata": {
  "kernelspec": {
   "display_name": "Python 3 (ipykernel)",
   "language": "python",
   "name": "python3"
  },
  "language_info": {
   "codemirror_mode": {
    "name": "ipython",
    "version": 3
   },
   "file_extension": ".py",
   "mimetype": "text/x-python",
   "name": "python",
   "nbconvert_exporter": "python",
   "pygments_lexer": "ipython3",
   "version": "3.8.10"
  }
 },
 "nbformat": 4,
 "nbformat_minor": 5
}
