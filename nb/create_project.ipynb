{
 "cells": [
  {
   "cell_type": "code",
   "execution_count": 14,
   "id": "77a4c125-9c4b-4331-b2b7-67d55a79d6b3",
   "metadata": {},
   "outputs": [
    {
     "name": "stdout",
     "output_type": "stream",
     "text": [
      "/home/fuzzy/Projects/develop-4.2.0/hw-4.2.0/nb\n"
     ]
    }
   ],
   "source": [
    "! pwd"
   ]
  },
  {
   "cell_type": "code",
   "execution_count": null,
   "id": "5971a88c-eb58-49ca-b8b0-600863e224fc",
   "metadata": {},
   "outputs": [],
   "source": []
  },
  {
   "cell_type": "code",
   "execution_count": 55,
   "id": "a2d3206a-69ab-43fd-93a2-c0711a8bd193",
   "metadata": {},
   "outputs": [],
   "source": [
    "from configparser import ConfigParser\n",
    "from functools import partial\n",
    "from os import chdir as cd, curdir, listdir as ls\n",
    "from pathlib import Path\n",
    "import re\n",
    "from shutil import move\n",
    "import site\n",
    "from subprocess import check_output\n",
    "\n",
    "run = partial(check_output, encoding='utf-8')\n",
    "\n",
    "\n",
    "BASEDIR = Path.home() / 'Development/hw-4.2.0'\n",
    "site.addsitedir(str(BASEDIR / 'hw'))\n",
    "from tools import *\n",
    "\n",
    "cd(BASEDIR / 'tests/crtprj')\n",
    "CONFIG_FILE = 'etc/config.ini'\n",
    "PROJECT_NAME = Path(curdir).absolute().stem\n",
    "config = ConfigParser()\n",
    "config.read(CONFIG_FILE)\n",
    "config['DEFAULT']['program'] = PROJECT_NAME # Path(__file__).parent.parent.stem\n",
    "config['PROGRAM']['logfile'] = f'log/{PROJECT_NAME}.log'\n",
    "config['PROGRAM']['basedir'] = f'{BASEDIR}'\n",
    "with Path(CONFIG_FILE).open(mode='w', encoding='utf-8') as fp:\n",
    "    config.write(fp)\n",
    "\n",
    "RUN_SCRIPT = Path('sh/hw.sh')\n",
    "RUN_SCRIPT.write_text(re.sub('hw', PROJECT_NAME, RUN_SCRIPT.read_text()))\n",
    "RUN_SCRIPT.rename(f'sh/{PROJECT_NAME}.sh')\n",
    "\n",
    "README = Path('README.md')\n",
    "README.write_text(re.sub('hw', PROJECT_NAME, README.read_text()))\n",
    "\n",
    "PROJECT_CLASS = PROJECT_NAME.capitalize()\n",
    "SOURCE = Path('hw/__main__.py')\n",
    "SOURCE.write_text(re.sub('hw', PROJECT_NAME, re.sub('HelloWorld', PROJECT_CLASS, SOURCE.read_text())))\n",
    "\n",
    "SOURCE = Path('hw/hw.py')\n",
    "SOURCE.write_text(re.sub('HelloWorld', PROJECT_CLASS, SOURCE.read_text()))\n",
    "SOURCE.rename(f'hw/{PROJECT_NAME}.py')\n",
    "\n",
    "SOURCE = Path('index.md')\n",
    "SOURCE.write_text(re.sub('hw', PROJECT_NAME, SOURCE.read_text()))\n",
    "\n",
    "Path('hw').rename(PROJECT_NAME)"
   ]
  },
  {
   "cell_type": "code",
   "execution_count": 31,
   "id": "0d7825d1-c030-4cb9-b334-1c8de37a893d",
   "metadata": {},
   "outputs": [
    {
     "data": {
      "text/plain": [
       "['etc/config.ini:  PROGRAM=hw',\n",
       " 'etc/config.ini:  LOGFILE=log/hw.log',\n",
       " 'sh/hw.sh:export PYTHONSTARTUP=hw/startup.py',\n",
       " 'sh/hw.sh:python3 -m hw $@',\n",
       " 'README.md:# hw-4.2.0',\n",
       " \"hw/startup.py:BASEDIR = Path.home() / 'Development/hw-4.2.0'\",\n",
       " 'hw/__main__.py:from hw.hw import HelloWorld',\n",
       " \"hw/imports.py:site.addsitedir(Path.home() / 'Development/hw-4.2.0/hw')\",\n",
       " 'hw/driver.py:from hw.program import Program',\n",
       " 'index.md:# hw-4.2.0',\n",
       " '']"
      ]
     },
     "execution_count": 31,
     "metadata": {},
     "output_type": "execute_result"
    }
   ],
   "source": [
    "[s for s in run('grep -R  hw'.split()).split('\\n')\n",
    " if not (s.startswith('Binary file')\n",
    "    or   s.startswith('.')\n",
    "    or   s.split(':')[0].endswith('.ipynb')\n",
    "    or   Path(s.split(':')[0]).is_symlink()\n",
    "    or   '/.' in s.split(':')[0])]"
   ]
  },
  {
   "cell_type": "code",
   "execution_count": 73,
   "id": "c6b99434-4040-4bc9-b9bf-fdade9840d78",
   "metadata": {},
   "outputs": [
    {
     "name": "stdout",
     "output_type": "stream",
     "text": [
      "get_runtime_dir    os                stat             xdg_data_dirs\n",
      "load_config_paths  save_cache_path   xdg_cache_home   xdg_data_home\n",
      "load_data_paths    save_config_path  xdg_config_dirs\n",
      "load_first_config  save_data_path    xdg_config_home\n"
     ]
    }
   ],
   "source": [
    "import xdg.BaseDirectory as basedir\n",
    "public(basedir)"
   ]
  },
  {
   "cell_type": "code",
   "execution_count": 74,
   "id": "d6f776bc-a670-4247-8f1f-af92e4ec7d0d",
   "metadata": {},
   "outputs": [
    {
     "data": {
      "text/plain": [
       "'/run/user/1000'"
      ]
     },
     "execution_count": 74,
     "metadata": {},
     "output_type": "execute_result"
    }
   ],
   "source": [
    "basedir.get_runtime_dir()"
   ]
  },
  {
   "cell_type": "code",
   "execution_count": 1,
   "id": "79b42f37-6da3-46c8-9876-7472e441dbfa",
   "metadata": {},
   "outputs": [
    {
     "name": "stdout",
     "output_type": "stream",
     "text": [
      "__bytes__          __slots__             as_uri           open       \n",
      "__class__          __str__               chmod            owner      \n",
      "__delattr__        __subclasshook__      cwd              parent     \n",
      "__dir__            __truediv__           drive            parents    \n",
      "__doc__            _accessor             exists           parts      \n",
      "__enter__          _cached_cparts        expanduser       read_bytes \n",
      "__eq__             _closed               glob             read_text  \n",
      "__exit__           _cparts               group            relative_to\n",
      "__format__         _drv                  home             rename     \n",
      "__fspath__         _format_parsed_parts  is_absolute      replace    \n",
      "__ge__             _from_parsed_parts    is_block_device  resolve    \n",
      "__getattribute__   _from_parts           is_char_device   rglob      \n",
      "__gt__             _hash                 is_dir           rmdir      \n",
      "__hash__           _init                 is_fifo          root       \n",
      "__init__           _make_child           is_file          samefile   \n",
      "__init_subclass__  _make_child_relpath   is_mount         stat       \n",
      "__le__             _opener               is_reserved      stem       \n",
      "__lt__             _parse_args           is_socket        suffix     \n",
      "__module__         _parts                is_symlink       suffixes   \n",
      "__ne__             _pparts               iterdir          symlink_to \n",
      "__new__            _raise_closed         joinpath         touch      \n",
      "__reduce__         _raw_open             lchmod           unlink     \n",
      "__reduce_ex__      _root                 link_to          with_name  \n",
      "__repr__           _str                  lstat            with_suffix\n",
      "__rtruediv__       absolute              match            write_bytes\n",
      "__setattr__        anchor                mkdir            write_text \n",
      "__sizeof__         as_posix              name           \n"
     ]
    }
   ],
   "source": [
    "from cmd import Cmd\n",
    "from pathlib import Path\n",
    "Cmd().columnize(dir(Path))"
   ]
  },
  {
   "cell_type": "code",
   "execution_count": 2,
   "id": "bd31a419-b393-4a8b-aaef-a0f562fb38b6",
   "metadata": {},
   "outputs": [
    {
     "name": "stdout",
     "output_type": "stream",
     "text": [
      "Help on property:\n",
      "\n",
      "    The logical parent of the path.\n",
      "\n"
     ]
    }
   ],
   "source": [
    "help(Path.parent)"
   ]
  },
  {
   "cell_type": "code",
   "execution_count": 3,
   "id": "4698fbbf-007e-424a-85f6-12ec9eb98d61",
   "metadata": {},
   "outputs": [],
   "source": [
    "import shutil"
   ]
  },
  {
   "cell_type": "code",
   "execution_count": 4,
   "id": "670cc3b6-2b81-4eb4-b781-699d5e2d6d4e",
   "metadata": {},
   "outputs": [
    {
     "name": "stdout",
     "output_type": "stream",
     "text": [
      "Help on function copytree in module shutil:\n",
      "\n",
      "copytree(src, dst, symlinks=False, ignore=None, copy_function=<function copy2 at 0x7fc108c07ee0>, ignore_dangling_symlinks=False, dirs_exist_ok=False)\n",
      "    Recursively copy a directory tree and return the destination directory.\n",
      "    \n",
      "    dirs_exist_ok dictates whether to raise an exception in case dst or any\n",
      "    missing parent directory already exists.\n",
      "    \n",
      "    If exception(s) occur, an Error is raised with a list of reasons.\n",
      "    \n",
      "    If the optional symlinks flag is true, symbolic links in the\n",
      "    source tree result in symbolic links in the destination tree; if\n",
      "    it is false, the contents of the files pointed to by symbolic\n",
      "    links are copied. If the file pointed by the symlink doesn't\n",
      "    exist, an exception will be added in the list of errors raised in\n",
      "    an Error exception at the end of the copy process.\n",
      "    \n",
      "    You can set the optional ignore_dangling_symlinks flag to true if you\n",
      "    want to silence this exception. Notice that this has no effect on\n",
      "    platforms that don't support os.symlink.\n",
      "    \n",
      "    The optional ignore argument is a callable. If given, it\n",
      "    is called with the `src` parameter, which is the directory\n",
      "    being visited by copytree(), and `names` which is the list of\n",
      "    `src` contents, as returned by os.listdir():\n",
      "    \n",
      "        callable(src, names) -> ignored_names\n",
      "    \n",
      "    Since copytree() is called recursively, the callable will be\n",
      "    called once for each directory that is copied. It returns a\n",
      "    list of names relative to the `src` directory that should\n",
      "    not be copied.\n",
      "    \n",
      "    The optional copy_function argument is a callable that will be used\n",
      "    to copy each file. It will be called with the source path and the\n",
      "    destination path as arguments. By default, copy2() is used, but any\n",
      "    function that supports the same signature (like copy()) can be used.\n",
      "\n"
     ]
    }
   ],
   "source": [
    "help(shutil.copytree)"
   ]
  },
  {
   "cell_type": "code",
   "execution_count": null,
   "id": "c172eb1f-46c3-4547-ae9e-b924eed6781c",
   "metadata": {},
   "outputs": [],
   "source": []
  }
 ],
 "metadata": {
  "kernelspec": {
   "display_name": "Python 3 (ipykernel)",
   "language": "python",
   "name": "python3"
  },
  "language_info": {
   "codemirror_mode": {
    "name": "ipython",
    "version": 3
   },
   "file_extension": ".py",
   "mimetype": "text/x-python",
   "name": "python",
   "nbconvert_exporter": "python",
   "pygments_lexer": "ipython3",
   "version": "3.8.10"
  }
 },
 "nbformat": 4,
 "nbformat_minor": 5
}
