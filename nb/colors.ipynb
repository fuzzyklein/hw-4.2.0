{
 "cells": [
  {
   "cell_type": "markdown",
   "id": "12d4d170-9085-4681-ad60-935b2d571e8e",
   "metadata": {},
   "source": [
    "# Colors"
   ]
  },
  {
   "cell_type": "code",
   "execution_count": 1,
   "id": "9add9e0b-6365-498f-a884-9ca73ce59d60",
   "metadata": {},
   "outputs": [
    {
     "name": "stdout",
     "output_type": "stream",
     "text": [
      "Current working directory: /home/fuzzy/Projects/develop-4.2.0/hw-4.2.0\n"
     ]
    }
   ],
   "source": [
    "with open('startup.py') as f:\n",
    "    exec(f.read())"
   ]
  },
  {
   "cell_type": "markdown",
   "id": "613ba78b-65aa-4402-bdad-f29d1bb7eae6",
   "metadata": {},
   "source": [
    "## Determine whether the current environment is Jupyter Lab"
   ]
  },
  {
   "cell_type": "markdown",
   "id": "50a7abca-d829-4b98-afe9-12cdfb03e7f1",
   "metadata": {},
   "source": [
    "The simplest way to do this, as far as I'm concerned anyway, is to import the IPython-related modules in nb/startup.py, which shouldn't be imported by console apps or even, so far at least, `ipython3`."
   ]
  },
  {
   "cell_type": "code",
   "execution_count": 2,
   "id": "3f9c7d01-26dc-4057-b960-be0ed0019e6a",
   "metadata": {},
   "outputs": [
    {
     "data": {
      "text/plain": [
       "True"
      ]
     },
     "execution_count": 2,
     "metadata": {},
     "output_type": "execute_result"
    }
   ],
   "source": [
    "RUNNING_JUPYTER_LAB = 'IPython' in globals()\n",
    "RUNNING_JUPYTER_LAB"
   ]
  },
  {
   "cell_type": "code",
   "execution_count": 3,
   "id": "516a8987-e278-4929-b12b-9e9f2737a187",
   "metadata": {},
   "outputs": [
    {
     "data": {
      "text/plain": [
       "<module 'IPython' from '/home/fuzzy/.local/lib/python3.8/site-packages/IPython/__init__.py'>"
      ]
     },
     "execution_count": 3,
     "metadata": {},
     "output_type": "execute_result"
    }
   ],
   "source": [
    "IPython"
   ]
  },
  {
   "cell_type": "code",
   "execution_count": 5,
   "id": "7f1bfc0f-b9fa-4ab1-8796-58996026c272",
   "metadata": {},
   "outputs": [],
   "source": [
    "START_COLOR_CODE = '\\033['\n",
    "END_COLOR_CODE = '\\033[0m'\n",
    "\n",
    "class FG_COLORS(IntEnum):\n",
    "    BLACK = 30\n",
    "    RED = 31\n",
    "    GREEN = 32\n",
    "    YELLOW = 33\n",
    "    BLUE = 34\n",
    "    MAGENTA = 35\n",
    "    CYAN = 36\n",
    "    WHITE = 37\n",
    "    BRIGHT_BLACK = 90\n",
    "    BRIGHT_RED = 91\n",
    "    BRIGHT_GREEN = 92\n",
    "    BRIGHT_YELLOW = 93\n",
    "    BRIGHT_BLUE = 94\n",
    "    BRIGHT_MAGENTA = 95\n",
    "    BRIGHT_CYAN = 96\n",
    "    BRIGHT_WHITE = 97\n",
    "    \n",
    "class BG_COLORS(IntEnum):\n",
    "    BLACK = 30\n",
    "    RED = 31\n",
    "    GREEN = 32\n",
    "    YELLOW = 33\n",
    "    BLUE = 34\n",
    "    MAGENTA = 35\n",
    "    CYAN = 36\n",
    "    WHITE = 37\n",
    "    BRIGHT_BLACK = 90\n",
    "    BRIGHT_RED = 91\n",
    "    BRIGHT_GREEN = 92\n",
    "    BRIGHT_YELLOW = 93\n",
    "    BRIGHT_BLUE = 94\n",
    "    BRIGHT_MAGENTA = 95\n",
    "    BRIGHT_CYAN = 96\n",
    "    BRIGHT_WHITE = 97\n",
    "    \n",
    "\n",
    "def color_str(s, style=1, fg=FG_COLORS.BLACK, bg=BG_COLORS.BRIGHT_WHITE):\n",
    "    return START_COLOR_CODE + f'{style};{fg};{bg}m {s}' + END_COLOR_CODE"
   ]
  },
  {
   "cell_type": "code",
   "execution_count": 8,
   "id": "d17a26aa-fbaf-4dc9-bf5b-a5ee0c09a698",
   "metadata": {},
   "outputs": [
    {
     "name": "stdout",
     "output_type": "stream",
     "text": [
      "\u001b[1;30;97m Hello world!\u001b[0m\n"
     ]
    }
   ],
   "source": [
    "print(color_str('Hello world!'))"
   ]
  },
  {
   "cell_type": "code",
   "execution_count": null,
   "id": "add9bc85-a57a-4cc7-ac24-483362b34b74",
   "metadata": {},
   "outputs": [],
   "source": [
    "from colors import colors, RGB"
   ]
  },
  {
   "cell_type": "code",
   "execution_count": null,
   "id": "d7ffd41a-6cd9-4c8c-be81-b5c9b21c3a37",
   "metadata": {},
   "outputs": [],
   "source": [
    "print('\\033[1;32;107m Bright Green! \\033[0m')"
   ]
  },
  {
   "cell_type": "code",
   "execution_count": null,
   "id": "0e5878a0-efc4-44c2-9100-9be84bb54857",
   "metadata": {},
   "outputs": [],
   "source": [
    "print('\\033[1;44m Bright Green! \\033[0m')"
   ]
  },
  {
   "cell_type": "code",
   "execution_count": null,
   "id": "7759faf6-24a9-4954-829d-fdc59fa22d7e",
   "metadata": {},
   "outputs": [],
   "source": [
    "print('\\033[1;44m Bright Green! \\033[0m')"
   ]
  },
  {
   "cell_type": "code",
   "execution_count": null,
   "id": "8d5582bc-6182-4ab4-9ef2-72735b2c7ed7",
   "metadata": {
    "scrolled": true,
    "tags": []
   },
   "outputs": [],
   "source": [
    "output = \"\"\"<table>\n",
    "<thead>\n",
    "<th>Color Name</th><th>Hex Value</th><th>RGB Value</th><th>Sample</th>\n",
    "</thead>\n",
    "\"\"\"\n",
    "\n",
    "for k in colors.keys():\n",
    "    output += \"<tr>\" + (\"<td>{}</td>\"*3).format(k, colors[k].hex_format(), 'RGB({},{},{})'.format(colors[k].red, colors[k].blue, colors[k].green)) \\\n",
    "            + '<td style=\"background-color:' + colors[k].hex_format() + '\">&nbsp;</td>' \\\n",
    "            + \"</tr>\"\n",
    "OUTPUT_FILE = Path(\"out/index.html\")\n",
    "output += \"</body>\\n</html>\"\n",
    "HTML(output)"
   ]
  },
  {
   "cell_type": "code",
   "execution_count": null,
   "id": "a6b3487a-26f6-45fb-8c0d-ce2caa02feb2",
   "metadata": {
    "scrolled": true,
    "tags": []
   },
   "outputs": [],
   "source": [
    "columnize(list(colors.keys()))"
   ]
  },
  {
   "cell_type": "code",
   "execution_count": null,
   "id": "b4830120-9c28-40bd-8ac2-086b852e7e59",
   "metadata": {
    "scrolled": true,
    "tags": []
   },
   "outputs": [],
   "source": [
    "columnize([s for s in colors.keys() if not s[-1].isdigit()])"
   ]
  },
  {
   "cell_type": "code",
   "execution_count": null,
   "id": "c1a98ca3-590e-410b-a1bc-607f959e8abd",
   "metadata": {},
   "outputs": [],
   "source": [
    "len(colors)"
   ]
  },
  {
   "cell_type": "markdown",
   "id": "05173e8f-6c5a-4dc5-96ce-e7b8b6b533ca",
   "metadata": {},
   "source": [
    "[256 Colors](https://robotmoon.com/256-colors/)"
   ]
  },
  {
   "cell_type": "code",
   "execution_count": null,
   "id": "0606d09f-d3f9-4dd4-947d-54b62a38bcba",
   "metadata": {},
   "outputs": [],
   "source": [
    "resp = requests.get('https://robotmoon.com/256-colors/')"
   ]
  },
  {
   "cell_type": "code",
   "execution_count": null,
   "id": "d61aac0c-18e1-444c-a1f1-c9c8e1ab5829",
   "metadata": {},
   "outputs": [],
   "source": [
    "bs = BS(resp.text)"
   ]
  },
  {
   "cell_type": "code",
   "execution_count": null,
   "id": "5828c157-a28e-41f5-a750-282834114a6b",
   "metadata": {
    "scrolled": true,
    "tags": []
   },
   "outputs": [],
   "source": [
    "HTML(bs.find('table').prettify())"
   ]
  },
  {
   "cell_type": "code",
   "execution_count": null,
   "id": "928c0c73-c6c2-473a-a413-b01cadc63f3d",
   "metadata": {},
   "outputs": [],
   "source": [
    "colors['purple'].hex_format()"
   ]
  },
  {
   "cell_type": "code",
   "execution_count": null,
   "id": "957c7f3b-8cf4-4afe-ac5b-b1111877ce5b",
   "metadata": {},
   "outputs": [],
   "source": [
    "hex_formats = { k:v.hex_format() for k, v in colors.items() }"
   ]
  },
  {
   "cell_type": "code",
   "execution_count": null,
   "id": "4f73086f-1d39-4095-b4e9-138d52398f7f",
   "metadata": {
    "scrolled": true,
    "tags": []
   },
   "outputs": [],
   "source": [
    "pp(hex_formats)"
   ]
  },
  {
   "cell_type": "code",
   "execution_count": null,
   "id": "526d1635-61c1-4ec7-b535-f45ac820d21d",
   "metadata": {},
   "outputs": [],
   "source": [
    "hex_256s = [ tr.find_all('td')[2].text for tr in bs.find('table').find_all('tr')[1:] ]"
   ]
  },
  {
   "cell_type": "code",
   "execution_count": null,
   "id": "de2d232d-e0b6-457d-9807-3c216377e210",
   "metadata": {
    "scrolled": true,
    "tags": []
   },
   "outputs": [],
   "source": [
    "hex_256s"
   ]
  },
  {
   "cell_type": "code",
   "execution_count": null,
   "id": "2a28a338-1a5a-4247-a566-df9eefd679ff",
   "metadata": {},
   "outputs": [],
   "source": [
    "def closest_match(s:str, d:dict):\n",
    "    \"\"\" Find the closest hexadecimal number in `d` to the value represented by `s`.\n",
    "    \"\"\"\n",
    "    closest_so_far = None\n",
    "    smallest_delta = 1000000\n",
    "    n = int(s.lstrip('#'), 16)\n",
    "    for k, v in d.items():\n",
    "        x = abs(n - int(v.lstrip('#'), 16))\n",
    "        if x < smallest_delta:\n",
    "            smallest_delta = x\n",
    "            closest_so_far = k\n",
    "    return closest_so_far"
   ]
  },
  {
   "cell_type": "code",
   "execution_count": null,
   "id": "5795621c-6827-4e2e-a252-a342ebecdcf2",
   "metadata": {
    "scrolled": true,
    "tags": []
   },
   "outputs": [],
   "source": [
    "names_256 = [ closest_match(v, hex_formats) or None for v in hex_256s ]"
   ]
  },
  {
   "cell_type": "code",
   "execution_count": null,
   "id": "c75a76a1-88da-4809-a3f9-e40e3029d3fc",
   "metadata": {
    "scrolled": true,
    "tags": []
   },
   "outputs": [],
   "source": [
    "names_256"
   ]
  },
  {
   "cell_type": "code",
   "execution_count": null,
   "id": "34a00bd1-c7a8-47ac-92b4-efd88b58e425",
   "metadata": {},
   "outputs": [],
   "source": [
    "columnize(list(set(names_256)))"
   ]
  },
  {
   "cell_type": "code",
   "execution_count": null,
   "id": "0d2ce089-f876-4935-a861-cb3b01369d27",
   "metadata": {
    "scrolled": true,
    "tags": []
   },
   "outputs": [],
   "source": [
    "for i, c in enumerate(set(names_256)):\n",
    "    print(f'{run(f\"tput setaf {i}\".split())}{c}')"
   ]
  },
  {
   "cell_type": "code",
   "execution_count": null,
   "id": "11835792-c81a-4c3c-b937-56a5724bf3af",
   "metadata": {
    "scrolled": true,
    "tags": []
   },
   "outputs": [],
   "source": [
    "output = \"\"\"<table>\n",
    "<thead>\n",
    "<th>Color Name</th><th>Hex Value</th><th>RGB Value</th><th>Sample</th>\n",
    "</thead>\n",
    "\"\"\"\n",
    "\n",
    "for i in range(256):\n",
    "    output += \"<tr>\" + (\"<td>{}</td>\").format(i) \\\n",
    "            + '<td style=\"background-color:' + names_256[i] + '\">&nbsp;</td>' \\\n",
    "            + \"</tr>\"\n",
    "OUTPUT_FILE = Path(\"out/index.html\")\n",
    "output += \"</body>\\n</html>\"\n",
    "HTML(output)"
   ]
  },
  {
   "cell_type": "code",
   "execution_count": null,
   "id": "5743081d-4954-4fc5-836e-6aea895aecb7",
   "metadata": {},
   "outputs": [],
   "source": [
    "help(dict.popitem)"
   ]
  },
  {
   "cell_type": "code",
   "execution_count": null,
   "id": "7e265221-a39f-4b6a-aba3-1eb0709335ad",
   "metadata": {},
   "outputs": [],
   "source": [
    "def find_key(d: dict, value):\n",
    "    try:\n",
    "        return [ k for k, v in d.items() if v == value ]\n",
    "    except:\n",
    "        return None"
   ]
  },
  {
   "cell_type": "code",
   "execution_count": null,
   "id": "7d7676f8-52ce-42d1-86c1-48ff8f1d5dc6",
   "metadata": {
    "scrolled": true,
    "tags": []
   },
   "outputs": [],
   "source": [
    "END_COLOR = '\\033[0m'\n",
    "table = bs.find('table').find_all('tr')[1:]\n",
    "def replace_e(s):\n",
    "    return re.sub(r'\\\\e', r'\\\\033', s)\n",
    "for tr in table:\n",
    "    print(f'{replace_e(tr.find_all(\"td\")[3].text)}Color text!{END_COLOR}')"
   ]
  },
  {
   "cell_type": "code",
   "execution_count": null,
   "id": "89b7dd29-fae6-46a0-a2eb-0f2282c3b898",
   "metadata": {},
   "outputs": [],
   "source": [
    "from ansicolortags import printc"
   ]
  },
  {
   "cell_type": "code",
   "execution_count": null,
   "id": "8e9a7464-24f7-478c-b399-fca84faab5d0",
   "metadata": {},
   "outputs": [],
   "source": [
    "help(printc)"
   ]
  },
  {
   "cell_type": "code",
   "execution_count": null,
   "id": "c47f7548-5066-4f89-9c04-850cac9fff85",
   "metadata": {},
   "outputs": [],
   "source": [
    "printc('<red>red<reset>, <white>white<reset>, & <blue>blue<reset>!')"
   ]
  },
  {
   "cell_type": "code",
   "execution_count": null,
   "id": "cffe3362-4191-4fa4-a517-dd30abc88462",
   "metadata": {},
   "outputs": [],
   "source": [
    "print('\\033[1;31;97m Hello world! \\033[0m')"
   ]
  },
  {
   "cell_type": "code",
   "execution_count": null,
   "id": "7a3d018a-2b33-4e26-82c7-d99f4bb3bdab",
   "metadata": {},
   "outputs": [],
   "source": [
    "s = '\\033[1;31;97m Hello world! \\033[0m'\n",
    "print(s)"
   ]
  },
  {
   "cell_type": "code",
   "execution_count": null,
   "id": "e7c95181-108c-4e95-bbbf-199881ea308f",
   "metadata": {},
   "outputs": [],
   "source": [
    "s = '\\033[' + '1;' + '31' + ';97' + 'm' + 'Hello world!' + '\\033[0m'"
   ]
  },
  {
   "cell_type": "code",
   "execution_count": null,
   "id": "a5884b08-62f0-4b2d-84ba-86ea0f5df7b4",
   "metadata": {},
   "outputs": [],
   "source": [
    "print(s)"
   ]
  },
  {
   "cell_type": "code",
   "execution_count": null,
   "id": "f594794a-6f94-4eb9-96a6-ee20ab6734fd",
   "metadata": {},
   "outputs": [],
   "source": [
    "print(__name__)"
   ]
  },
  {
   "cell_type": "code",
   "execution_count": null,
   "id": "05f63f38-e61d-4219-b8e0-68ac2fbd2f96",
   "metadata": {},
   "outputs": [],
   "source": []
  }
 ],
 "metadata": {
  "kernelspec": {
   "display_name": "Python 3 (ipykernel)",
   "language": "python",
   "name": "python3"
  },
  "language_info": {
   "codemirror_mode": {
    "name": "ipython",
    "version": 3
   },
   "file_extension": ".py",
   "mimetype": "text/x-python",
   "name": "python",
   "nbconvert_exporter": "python",
   "pygments_lexer": "ipython3",
   "version": "3.8.10"
  }
 },
 "nbformat": 4,
 "nbformat_minor": 5
}
