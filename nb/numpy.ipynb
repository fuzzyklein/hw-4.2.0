{
 "cells": [
  {
   "cell_type": "code",
   "execution_count": 4,
   "metadata": {},
   "outputs": [
    {
     "data": {
      "text/html": [
       "<h1>NumPy</h1>"
      ],
      "text/plain": [
       "<IPython.core.display.HTML object>"
      ]
     },
     "metadata": {},
     "output_type": "display_data"
    }
   ],
   "source": [
    "%%html\n",
    "<h1>NumPy</h1>"
   ]
  },
  {
   "cell_type": "code",
   "execution_count": 31,
   "metadata": {},
   "outputs": [
    {
     "name": "stdout",
     "output_type": "stream",
     "text": [
      "[[ 0.9526 -0.246  -0.8856]\n",
      " [ 0.5639  0.2379  0.9104]]\n"
     ]
    }
   ],
   "source": [
    "from pathlib import Path\n",
    "from IPython.display import HTML\n",
    "import numpy as np\n",
    "from numpy.random import randn\n",
    "data = [[0.9526, -0.246, -0.8856], [0.5639, 0.2379, 0.9104]]\n",
    "data = np.array(data)\n",
    "print(data)"
   ]
  },
  {
   "cell_type": "code",
   "execution_count": 16,
   "metadata": {},
   "outputs": [
    {
     "data": {
      "text/plain": [
       "array([[ 9.526, -2.46 , -8.856],\n",
       "       [ 5.639,  2.379,  9.104]])"
      ]
     },
     "execution_count": 16,
     "metadata": {},
     "output_type": "execute_result"
    }
   ],
   "source": [
    "data * 10"
   ]
  },
  {
   "cell_type": "code",
   "execution_count": 17,
   "metadata": {},
   "outputs": [
    {
     "data": {
      "text/plain": [
       "array([[ 1.9052, -0.492 , -1.7712],\n",
       "       [ 1.1278,  0.4758,  1.8208]])"
      ]
     },
     "execution_count": 17,
     "metadata": {},
     "output_type": "execute_result"
    }
   ],
   "source": [
    "data + data"
   ]
  },
  {
   "cell_type": "code",
   "execution_count": 18,
   "metadata": {},
   "outputs": [
    {
     "data": {
      "text/plain": [
       "(2, 3)"
      ]
     },
     "execution_count": 18,
     "metadata": {},
     "output_type": "execute_result"
    }
   ],
   "source": [
    "data.shape"
   ]
  },
  {
   "cell_type": "code",
   "execution_count": 19,
   "metadata": {},
   "outputs": [
    {
     "data": {
      "text/plain": [
       "dtype('float64')"
      ]
     },
     "execution_count": 19,
     "metadata": {},
     "output_type": "execute_result"
    }
   ],
   "source": [
    "data.dtype"
   ]
  },
  {
   "cell_type": "code",
   "execution_count": 20,
   "metadata": {},
   "outputs": [
    {
     "data": {
      "text/plain": [
       "array([ 6. ,  7.5,  8. ,  0. ,  1. ])"
      ]
     },
     "execution_count": 20,
     "metadata": {},
     "output_type": "execute_result"
    }
   ],
   "source": [
    "data1 = [6, 7.5, 8, 0, 1]\n",
    "arr1 = np.array(data1)\n",
    "arr1"
   ]
  },
  {
   "cell_type": "code",
   "execution_count": 22,
   "metadata": {},
   "outputs": [
    {
     "data": {
      "text/plain": [
       "array([[1, 2, 3, 4],\n",
       "       [5, 6, 7, 8]])"
      ]
     },
     "execution_count": 22,
     "metadata": {},
     "output_type": "execute_result"
    }
   ],
   "source": [
    "data2 = [[1, 2, 3, 4], [5, 6, 7, 8]]\n",
    "arr2 = np.array(data2)\n",
    "arr2"
   ]
  },
  {
   "cell_type": "code",
   "execution_count": 23,
   "metadata": {},
   "outputs": [
    {
     "data": {
      "text/plain": [
       "2"
      ]
     },
     "execution_count": 23,
     "metadata": {},
     "output_type": "execute_result"
    }
   ],
   "source": [
    "arr2.ndim"
   ]
  },
  {
   "cell_type": "code",
   "execution_count": 24,
   "metadata": {},
   "outputs": [
    {
     "data": {
      "text/plain": [
       "(2, 4)"
      ]
     },
     "execution_count": 24,
     "metadata": {},
     "output_type": "execute_result"
    }
   ],
   "source": [
    "arr2.shape"
   ]
  },
  {
   "cell_type": "code",
   "execution_count": 25,
   "metadata": {},
   "outputs": [
    {
     "data": {
      "text/plain": [
       "dtype('float64')"
      ]
     },
     "execution_count": 25,
     "metadata": {},
     "output_type": "execute_result"
    }
   ],
   "source": [
    " arr1.dtype"
   ]
  },
  {
   "cell_type": "code",
   "execution_count": 26,
   "metadata": {},
   "outputs": [
    {
     "data": {
      "text/plain": [
       "dtype('int64')"
      ]
     },
     "execution_count": 26,
     "metadata": {},
     "output_type": "execute_result"
    }
   ],
   "source": [
    "arr2.dtype"
   ]
  },
  {
   "cell_type": "code",
   "execution_count": 27,
   "metadata": {},
   "outputs": [
    {
     "data": {
      "text/plain": [
       "array([ 0.,  0.,  0.,  0.,  0.,  0.,  0.,  0.,  0.,  0.])"
      ]
     },
     "execution_count": 27,
     "metadata": {},
     "output_type": "execute_result"
    }
   ],
   "source": [
    "np.zeros(10)"
   ]
  },
  {
   "cell_type": "code",
   "execution_count": 28,
   "metadata": {},
   "outputs": [
    {
     "data": {
      "text/plain": [
       "array([[ 0.,  0.,  0.,  0.,  0.,  0.],\n",
       "       [ 0.,  0.,  0.,  0.,  0.,  0.],\n",
       "       [ 0.,  0.,  0.,  0.,  0.,  0.]])"
      ]
     },
     "execution_count": 28,
     "metadata": {},
     "output_type": "execute_result"
    }
   ],
   "source": [
    "np.zeros((3, 6))"
   ]
  },
  {
   "cell_type": "code",
   "execution_count": 29,
   "metadata": {},
   "outputs": [
    {
     "data": {
      "text/plain": [
       "array([[[  6.90413669e-310,   6.90413669e-310],\n",
       "        [  0.00000000e+000,   0.00000000e+000],\n",
       "        [  0.00000000e+000,   0.00000000e+000]],\n",
       "\n",
       "       [[  0.00000000e+000,   0.00000000e+000],\n",
       "        [  0.00000000e+000,   0.00000000e+000],\n",
       "        [  0.00000000e+000,   0.00000000e+000]]])"
      ]
     },
     "execution_count": 29,
     "metadata": {},
     "output_type": "execute_result"
    }
   ],
   "source": [
    "np.empty((2, 3, 2))"
   ]
  },
  {
   "cell_type": "code",
   "execution_count": 30,
   "metadata": {},
   "outputs": [
    {
     "data": {
      "text/plain": [
       "array([ 0,  1,  2,  3,  4,  5,  6,  7,  8,  9, 10, 11, 12, 13, 14])"
      ]
     },
     "execution_count": 30,
     "metadata": {},
     "output_type": "execute_result"
    }
   ],
   "source": [
    "np.arange(15)"
   ]
  },
  {
   "cell_type": "code",
   "execution_count": 46,
   "metadata": {},
   "outputs": [
    {
     "data": {
      "text/html": [
       "<h2>Array Creation Functions</h2>\n",
       "<table width=\"100%\">\n",
       "<tr><td width=\"20%\"><code>array</code></td>\n",
       "<td>Convert input data (<code>list</code>, <code>tuple</code>, <code>array</code>, or other\n",
       "sequence type) to an <code>ndarray</code> either by inferring a <code>dtype</code> or\n",
       "explicitly specifying a <code>dtype</code>. Copies the input data by default.</td></tr>\n",
       "<tr><td width=\"20%\"><code>asarray</code></td>\n",
       "<td>Convert input to <code>ndarray</code>, but do not copy if the input is already an\n",
       "<code>ndarray</code>.</td></tr>\n",
       "<tr><td width=\"20%\"><code>arange</code></td>\n",
       "<td>Like the built-in <code>range</code> but returns an <code>ndarray</code> instead of a\n",
       "<code>list</code>.</td></tr>\n",
       "<tr><td><code>ones, ones_like</code></td>\n",
       "<td>Produce an array of all <code>1</code>'s with the given shape and <code>dtype</code>.\n",
       "<code>ones_like</code> takes another array and produce a ones array of the same shape and\n",
       "<code>dtype</code>.</td></tr>\n",
       "<tr><td><code>zeros, zeros_like</code></td>\n",
       "<td>Like <code>ones</code> and <code>ones_like</code> but producing arrays of\n",
       "<code>0</code>'s instead.</td></tr>\n",
       "<tr><td width=\"20%\"><code>empty, empty_like</code></td>\n",
       "<td>Create new arrays by allocating new memory, but do not populate with any values like\n",
       "<code>ones</code> and <code>zeros</code>.</td></tr>\n",
       "<tr><td><code>eye, identity</code></td>\n",
       "<td>Create a square <code>NxN</code> identity matrix (<code>1</code>'s on the diagonal and\n",
       "<code>0</code>'s elsewhere).</td></tr>\n",
       "</table>"
      ],
      "text/plain": [
       "<IPython.core.display.HTML object>"
      ]
     },
     "metadata": {},
     "output_type": "display_data"
    }
   ],
   "source": [
    "%%html\n",
    "<h2>Array Creation Functions</h2>\n",
    "<table width=\"100%\">\n",
    "<tr><td width=\"20%\"><code>array</code></td>\n",
    "<td>Convert input data (<code>list</code>, <code>tuple</code>, <code>array</code>, or other\n",
    "sequence type) to an <code>ndarray</code> either by inferring a <code>dtype</code> or\n",
    "explicitly specifying a <code>dtype</code>. Copies the input data by default.</td></tr>\n",
    "<tr><td width=\"20%\"><code>asarray</code></td>\n",
    "<td>Convert input to <code>ndarray</code>, but do not copy if the input is already an\n",
    "<code>ndarray</code>.</td></tr>\n",
    "<tr><td width=\"20%\"><code>arange</code></td>\n",
    "<td>Like the built-in <code>range</code> but returns an <code>ndarray</code> instead of a\n",
    "<code>list</code>.</td></tr>\n",
    "<tr><td><code>ones, ones_like</code></td>\n",
    "<td>Produce an array of all <code>1</code>'s with the given shape and <code>dtype</code>.\n",
    "<code>ones_like</code> takes another array and produce a ones array of the same shape and\n",
    "<code>dtype</code>.</td></tr>\n",
    "<tr><td><code>zeros, zeros_like</code></td>\n",
    "<td>Like <code>ones</code> and <code>ones_like</code> but producing arrays of\n",
    "<code>0</code>'s instead.</td></tr>\n",
    "<tr><td width=\"20%\"><code>empty, empty_like</code></td>\n",
    "<td>Create new arrays by allocating new memory, but do not populate with any values like\n",
    "<code>ones</code> and <code>zeros</code>.</td></tr>\n",
    "<tr><td><code>eye, identity</code></td>\n",
    "<td>Create a square <code>NxN</code> identity matrix (<code>1</code>'s on the diagonal and\n",
    "<code>0</code>'s elsewhere).</td></tr>\n",
    "</table>"
   ]
  },
  {
   "cell_type": "code",
   "execution_count": 47,
   "metadata": {},
   "outputs": [
    {
     "data": {
      "text/html": [
       "<h2>Data Types</h2>"
      ],
      "text/plain": [
       "<IPython.core.display.HTML object>"
      ]
     },
     "metadata": {},
     "output_type": "display_data"
    }
   ],
   "source": [
    "%%html\n",
    "<h2>Data Types</h2>"
   ]
  },
  {
   "cell_type": "code",
   "execution_count": 48,
   "metadata": {},
   "outputs": [
    {
     "name": "stdout",
     "output_type": "stream",
     "text": [
      "Array 1 data type: float64\n",
      "Array 2 data type: int32\n"
     ]
    }
   ],
   "source": [
    "arr1 = np.array([1, 2, 3], dtype=np.float64)\n",
    "arr2 = np.array([1, 2, 3], dtype=np.int32)\n",
    "print(\"Array 1 data type:\", arr1.dtype)\n",
    "print(\"Array 2 data type:\", arr2.dtype)"
   ]
  },
  {
   "cell_type": "code",
   "execution_count": 53,
   "metadata": {},
   "outputs": [
    {
     "data": {
      "text/html": [
       "<table width=\"100%\">\n",
       "<thead><th width=\"25%\">Type</th><th width=\"15%\">Type Code</th><th>Description</th></thead>\n",
       "<tr><td><code>int8, uint8</code></td><td><code>i2, u2</code></td>\n",
       "<td>Signed and unsigned 8-bit (1 byte) integers</td></tr>\n",
       "<tr><td><code>int16, uint16</code></td><td><code>i2, u2</code></td>\n",
       "<td>Signed and unsigned 16-bit integers</td></tr>\n",
       "<tr><td><code>int32, uint32</code></td><td><code>i4, u4</code></td>\n",
       "<td>Signed and unsigned 32-bit integers</td></tr>\n",
       "<tr><td><code>int64, uint64</code></td><td><code>i8, u8</code></td>\n",
       "<td>Signed and unsigned 32-bit integers</td></tr>\n",
       "<tr><td><code>float16</code></td><td><code>f2</code></td>\n",
       "<td>Half-precision floating point</td></tr>\n",
       "<tr><td><code>float32</code></td><td><code>f4 or f</code></td>\n",
       "<td>Standard single-precision floating point. Compatible with C <code>float</code>.</td></tr>\n",
       "<tr><td><code>float64, float128</code></td><td><code>f8 or d</code></td>\n",
       "<td>Standard double-precision floating point. Compatible with C <code>double</code> and\n",
       "Python <code>float</code> object.</td></tr>\n",
       "<tr><td><code>float128</code></td><td><code>f16 or g</code></td>\n",
       "<td>Extended-precision floating point</td></tr>\n",
       "<tr><td><code>complex64, complex128, complex256</code></td><td><code>c32</code></td>\n",
       "<td>Complex numbers represented by two 32, 64 or 128 floats, respectively</td></tr>\n",
       "<tr><td><code>bool</code></td><td><code>?</code></td>\n",
       "<td>Boolean type storing <code>True</code> and <code>False</code> values.</td></tr>\n",
       "<tr><td><code>object</code></td><td><code>0</code></td>\n",
       "<td>Python <code>object</code> type</td></tr>\n",
       "<tr><td><code>string_</code></td><td><code>S</code></td>\n",
       "<td>Fixed-length string type (1 byte per character). To create a string <code>dtype</code>\n",
       "with length 10, use <code>'S10'.</td></tr>\n",
       "<tr><td><code>unicode_</code></td><td><code>U</code></td>\n",
       "<td>Fixed-length Unicode type (number of bytes is platform-specific). Same specification\n",
       "semantics as <code>string_</code> (e.g. <code>'U10'</code>).</td></tr>\n",
       "</table>"
      ],
      "text/plain": [
       "<IPython.core.display.HTML object>"
      ]
     },
     "metadata": {},
     "output_type": "display_data"
    }
   ],
   "source": [
    "%%html\n",
    "<table width=\"100%\">\n",
    "<thead><th width=\"25%\">Type</th><th width=\"15%\">Type Code</th><th>Description</th></thead>\n",
    "<tr><td><code>int8, uint8</code></td><td><code>i2, u2</code></td>\n",
    "<td>Signed and unsigned 8-bit (1 byte) integers</td></tr>\n",
    "<tr><td><code>int16, uint16</code></td><td><code>i2, u2</code></td>\n",
    "<td>Signed and unsigned 16-bit integers</td></tr>\n",
    "<tr><td><code>int32, uint32</code></td><td><code>i4, u4</code></td>\n",
    "<td>Signed and unsigned 32-bit integers</td></tr>\n",
    "<tr><td><code>int64, uint64</code></td><td><code>i8, u8</code></td>\n",
    "<td>Signed and unsigned 32-bit integers</td></tr>\n",
    "<tr><td><code>float16</code></td><td><code>f2</code></td>\n",
    "<td>Half-precision floating point</td></tr>\n",
    "<tr><td><code>float32</code></td><td><code>f4 or f</code></td>\n",
    "<td>Standard single-precision floating point. Compatible with C <code>float</code>.</td></tr>\n",
    "<tr><td><code>float64, float128</code></td><td><code>f8 or d</code></td>\n",
    "<td>Standard double-precision floating point. Compatible with C <code>double</code> and\n",
    "Python <code>float</code> object.</td></tr>\n",
    "<tr><td><code>float128</code></td><td><code>f16 or g</code></td>\n",
    "<td>Extended-precision floating point</td></tr>\n",
    "<tr><td><code>complex64, complex128, complex256</code></td><td><code>c32</code></td>\n",
    "<td>Complex numbers represented by two 32, 64 or 128 floats, respectively</td></tr>\n",
    "<tr><td><code>bool</code></td><td><code>?</code></td>\n",
    "<td>Boolean type storing <code>True</code> and <code>False</code> values.</td></tr>\n",
    "<tr><td><code>object</code></td><td><code>0</code></td>\n",
    "<td>Python <code>object</code> type</td></tr>\n",
    "<tr><td><code>string_</code></td><td><code>S</code></td>\n",
    "<td>Fixed-length string type (1 byte per character). To create a string <code>dtype</code>\n",
    "with length 10, use <code>'S10'.</td></tr>\n",
    "<tr><td><code>unicode_</code></td><td><code>U</code></td>\n",
    "<td>Fixed-length Unicode type (number of bytes is platform-specific). Same specification\n",
    "semantics as <code>string_</code> (e.g. <code>'U10'</code>).</td></tr>\n",
    "</table>"
   ]
  },
  {
   "cell_type": "code",
   "execution_count": 54,
   "metadata": {},
   "outputs": [
    {
     "data": {
      "text/plain": [
       "dtype('int64')"
      ]
     },
     "execution_count": 54,
     "metadata": {},
     "output_type": "execute_result"
    }
   ],
   "source": [
    "arr = np.array([1, 2, 3, 4, 5])\n",
    "arr.dtype"
   ]
  },
  {
   "cell_type": "code",
   "execution_count": 55,
   "metadata": {},
   "outputs": [
    {
     "data": {
      "text/plain": [
       "dtype('float64')"
      ]
     },
     "execution_count": 55,
     "metadata": {},
     "output_type": "execute_result"
    }
   ],
   "source": [
    "float_arr = arr.astype(np.float64)\n",
    "float_arr.dtype"
   ]
  },
  {
   "cell_type": "code",
   "execution_count": 56,
   "metadata": {},
   "outputs": [
    {
     "data": {
      "text/plain": [
       "array([  3.7,  -1.2,  -2.6,   0.5,  12.9,  10.1])"
      ]
     },
     "execution_count": 56,
     "metadata": {},
     "output_type": "execute_result"
    }
   ],
   "source": [
    "arr = np.array([3.7, -1.2, -2.6, 0.5, 12.9, 10.1])\n",
    "arr"
   ]
  },
  {
   "cell_type": "code",
   "execution_count": 57,
   "metadata": {},
   "outputs": [
    {
     "data": {
      "text/plain": [
       "array([ 3, -1, -2,  0, 12, 10], dtype=int32)"
      ]
     },
     "execution_count": 57,
     "metadata": {},
     "output_type": "execute_result"
    }
   ],
   "source": [
    "arr.astype(np.int32)"
   ]
  },
  {
   "cell_type": "code",
   "execution_count": 58,
   "metadata": {},
   "outputs": [
    {
     "data": {
      "text/plain": [
       "array([  1.25,  -9.6 ,  42.  ])"
      ]
     },
     "execution_count": 58,
     "metadata": {},
     "output_type": "execute_result"
    }
   ],
   "source": [
    "numeric_strings = np.array(['1.25', '-9.6', '42'], dtype=np.string_)\n",
    "numeric_strings.astype(float)"
   ]
  },
  {
   "cell_type": "code",
   "execution_count": 59,
   "metadata": {},
   "outputs": [
    {
     "data": {
      "text/plain": [
       "array([ 0.,  1.,  2.,  3.,  4.,  5.,  6.,  7.,  8.,  9.])"
      ]
     },
     "execution_count": 59,
     "metadata": {},
     "output_type": "execute_result"
    }
   ],
   "source": [
    "int_array = np.arange(10)\n",
    "calibers = np.array([.22, .270, .357, .380, .44, .50], dtype=np.float64)\n",
    "int_array.astype(calibers.dtype)"
   ]
  },
  {
   "cell_type": "code",
   "execution_count": 60,
   "metadata": {},
   "outputs": [
    {
     "data": {
      "text/plain": [
       "array([         0, 1075314688,          0, 1075707904,          0,\n",
       "       1075838976,          0, 1072693248], dtype=uint32)"
      ]
     },
     "execution_count": 60,
     "metadata": {},
     "output_type": "execute_result"
    }
   ],
   "source": [
    "empty_uint32 = np.empty(8, dtype='u4')\n",
    "empty_uint32"
   ]
  },
  {
   "cell_type": "code",
   "execution_count": 61,
   "metadata": {},
   "outputs": [
    {
     "data": {
      "text/html": [
       "<p>Calling <code>astype</code> <em>always</em> creates a new array (a copy of the data),\n",
       "even if the new <code>dtype</code> is the same as the old <code>dtype</code>.</p>"
      ],
      "text/plain": [
       "<IPython.core.display.HTML object>"
      ]
     },
     "metadata": {},
     "output_type": "display_data"
    }
   ],
   "source": [
    "%%html\n",
    "<p>Calling <code>astype</code> <em>always</em> creates a new array (a copy of the data),\n",
    "even if the new <code>dtype</code> is the same as the old <code>dtype</code>.</p>"
   ]
  },
  {
   "cell_type": "code",
   "execution_count": 37,
   "metadata": {},
   "outputs": [
    {
     "data": {
      "text/plain": [
       "42.0"
      ]
     },
     "execution_count": 37,
     "metadata": {},
     "output_type": "execute_result"
    }
   ],
   "source": [
    "np.float64(42)"
   ]
  },
  {
   "cell_type": "code",
   "execution_count": 38,
   "metadata": {},
   "outputs": [
    {
     "data": {
      "text/plain": [
       "42"
      ]
     },
     "execution_count": 38,
     "metadata": {},
     "output_type": "execute_result"
    }
   ],
   "source": [
    "np.int8(42.0)"
   ]
  },
  {
   "cell_type": "code",
   "execution_count": 39,
   "metadata": {},
   "outputs": [
    {
     "data": {
      "text/plain": [
       "True"
      ]
     },
     "execution_count": 39,
     "metadata": {},
     "output_type": "execute_result"
    }
   ],
   "source": [
    "np.bool(42)"
   ]
  },
  {
   "cell_type": "code",
   "execution_count": 40,
   "metadata": {},
   "outputs": [
    {
     "data": {
      "text/plain": [
       "False"
      ]
     },
     "execution_count": 40,
     "metadata": {},
     "output_type": "execute_result"
    }
   ],
   "source": [
    "np.bool(0)"
   ]
  },
  {
   "cell_type": "code",
   "execution_count": 41,
   "metadata": {},
   "outputs": [
    {
     "data": {
      "text/plain": [
       "True"
      ]
     },
     "execution_count": 41,
     "metadata": {},
     "output_type": "execute_result"
    }
   ],
   "source": [
    "np.bool(42.0)"
   ]
  },
  {
   "cell_type": "code",
   "execution_count": 44,
   "metadata": {},
   "outputs": [
    {
     "data": {
      "text/plain": [
       "1.0"
      ]
     },
     "execution_count": 44,
     "metadata": {},
     "output_type": "execute_result"
    }
   ],
   "source": [
    "np.float(True)"
   ]
  },
  {
   "cell_type": "code",
   "execution_count": 45,
   "metadata": {},
   "outputs": [
    {
     "data": {
      "text/plain": [
       "0.0"
      ]
     },
     "execution_count": 45,
     "metadata": {},
     "output_type": "execute_result"
    }
   ],
   "source": [
    "np.float(False)"
   ]
  },
  {
   "cell_type": "code",
   "execution_count": 62,
   "metadata": {},
   "outputs": [
    {
     "data": {
      "text/html": [
       "<h2>Operations Between Arrays and Scalars</h2>"
      ],
      "text/plain": [
       "<IPython.core.display.HTML object>"
      ]
     },
     "metadata": {},
     "output_type": "display_data"
    }
   ],
   "source": [
    "%%html\n",
    "<h2>Operations Between Arrays and Scalars</h2>"
   ]
  },
  {
   "cell_type": "code",
   "execution_count": 63,
   "metadata": {},
   "outputs": [
    {
     "data": {
      "text/html": [
       "<p>Any arithmetic operations between equal-size arrays applies the operation element-wise.\n",
       "</p>"
      ],
      "text/plain": [
       "<IPython.core.display.HTML object>"
      ]
     },
     "metadata": {},
     "output_type": "display_data"
    }
   ],
   "source": [
    "%%html\n",
    "<p>Any arithmetic operations between equal-size arrays applies the operation element-wise.\n",
    "</p>"
   ]
  },
  {
   "cell_type": "code",
   "execution_count": 64,
   "metadata": {},
   "outputs": [
    {
     "data": {
      "text/plain": [
       "array([[ 1.,  2.,  3.],\n",
       "       [ 4.,  5.,  6.]])"
      ]
     },
     "execution_count": 64,
     "metadata": {},
     "output_type": "execute_result"
    }
   ],
   "source": [
    "arr = np.array([[1., 2., 3.], [4., 5., 6.]])\n",
    "arr"
   ]
  },
  {
   "cell_type": "code",
   "execution_count": 65,
   "metadata": {},
   "outputs": [
    {
     "data": {
      "text/plain": [
       "array([[  1.,   4.,   9.],\n",
       "       [ 16.,  25.,  36.]])"
      ]
     },
     "execution_count": 65,
     "metadata": {},
     "output_type": "execute_result"
    }
   ],
   "source": [
    "arr * arr"
   ]
  },
  {
   "cell_type": "code",
   "execution_count": 66,
   "metadata": {},
   "outputs": [
    {
     "data": {
      "text/plain": [
       "array([[ 0.,  0.,  0.],\n",
       "       [ 0.,  0.,  0.]])"
      ]
     },
     "execution_count": 66,
     "metadata": {},
     "output_type": "execute_result"
    }
   ],
   "source": [
    "arr - arr"
   ]
  },
  {
   "cell_type": "code",
   "execution_count": 67,
   "metadata": {},
   "outputs": [
    {
     "data": {
      "text/html": [
       "<p>Arithmetic operations with arrays and scalars propagate to the value of each element:</p>"
      ],
      "text/plain": [
       "<IPython.core.display.HTML object>"
      ]
     },
     "metadata": {},
     "output_type": "display_data"
    }
   ],
   "source": [
    "%%html\n",
    "<p>Arithmetic operations with arrays and scalars propagate to the value of each element:</p>"
   ]
  },
  {
   "cell_type": "code",
   "execution_count": 68,
   "metadata": {},
   "outputs": [
    {
     "data": {
      "text/plain": [
       "array([[ 1.        ,  0.5       ,  0.33333333],\n",
       "       [ 0.25      ,  0.2       ,  0.16666667]])"
      ]
     },
     "execution_count": 68,
     "metadata": {},
     "output_type": "execute_result"
    }
   ],
   "source": [
    "1 / arr"
   ]
  },
  {
   "cell_type": "code",
   "execution_count": 69,
   "metadata": {},
   "outputs": [
    {
     "data": {
      "text/plain": [
       "array([[ 1.        ,  1.41421356,  1.73205081],\n",
       "       [ 2.        ,  2.23606798,  2.44948974]])"
      ]
     },
     "execution_count": 69,
     "metadata": {},
     "output_type": "execute_result"
    }
   ],
   "source": [
    "arr ** 0.5"
   ]
  },
  {
   "cell_type": "code",
   "execution_count": 70,
   "metadata": {},
   "outputs": [
    {
     "data": {
      "text/html": [
       "<h2>Basic Indexing and Slicing</h2>"
      ],
      "text/plain": [
       "<IPython.core.display.HTML object>"
      ]
     },
     "metadata": {},
     "output_type": "display_data"
    }
   ],
   "source": [
    "%%html\n",
    "<h2>Basic Indexing and Slicing</h2>"
   ]
  },
  {
   "cell_type": "code",
   "execution_count": 71,
   "metadata": {},
   "outputs": [
    {
     "data": {
      "text/plain": [
       "array([0, 1, 2, 3, 4, 5, 6, 7, 8, 9])"
      ]
     },
     "execution_count": 71,
     "metadata": {},
     "output_type": "execute_result"
    }
   ],
   "source": [
    "arr = np.arange(10)\n",
    "arr"
   ]
  },
  {
   "cell_type": "code",
   "execution_count": 72,
   "metadata": {},
   "outputs": [
    {
     "data": {
      "text/plain": [
       "5"
      ]
     },
     "execution_count": 72,
     "metadata": {},
     "output_type": "execute_result"
    }
   ],
   "source": [
    "arr[5]"
   ]
  },
  {
   "cell_type": "code",
   "execution_count": 73,
   "metadata": {},
   "outputs": [
    {
     "data": {
      "text/plain": [
       "array([5, 6, 7])"
      ]
     },
     "execution_count": 73,
     "metadata": {},
     "output_type": "execute_result"
    }
   ],
   "source": [
    "arr[5:8]"
   ]
  },
  {
   "cell_type": "code",
   "execution_count": 74,
   "metadata": {},
   "outputs": [
    {
     "data": {
      "text/plain": [
       "array([ 0,  1,  2,  3,  4, 12, 12, 12,  8,  9])"
      ]
     },
     "execution_count": 74,
     "metadata": {},
     "output_type": "execute_result"
    }
   ],
   "source": [
    "arr[5:8] = 12\n",
    "arr"
   ]
  },
  {
   "cell_type": "code",
   "execution_count": 75,
   "metadata": {},
   "outputs": [
    {
     "data": {
      "text/plain": [
       "array([    0,     1,     2,     3,     4,    12, 12345,    12,     8,     9])"
      ]
     },
     "execution_count": 75,
     "metadata": {},
     "output_type": "execute_result"
    }
   ],
   "source": [
    "arr_slice = arr[5:8]\n",
    "arr_slice[1] = 12345\n",
    "arr"
   ]
  },
  {
   "cell_type": "code",
   "execution_count": 77,
   "metadata": {},
   "outputs": [
    {
     "data": {
      "text/plain": [
       "array([ 0,  1,  2,  3,  4, 64, 64, 64,  8,  9])"
      ]
     },
     "execution_count": 77,
     "metadata": {},
     "output_type": "execute_result"
    }
   ],
   "source": [
    "arr_slice[:] = 64\n",
    "arr"
   ]
  },
  {
   "cell_type": "code",
   "execution_count": 78,
   "metadata": {},
   "outputs": [
    {
     "data": {
      "text/html": [
       "<p>If you want a copy of a slice of an <code>ndarray</code> instead of a view, you will need\n",
       "to explicitly copy the array; for example <code>arr[5:8].copy()</code>.</p>"
      ],
      "text/plain": [
       "<IPython.core.display.HTML object>"
      ]
     },
     "metadata": {},
     "output_type": "display_data"
    }
   ],
   "source": [
    "%%html\n",
    "<p>If you want a copy of a slice of an <code>ndarray</code> instead of a view, you will need\n",
    "to explicitly copy the array; for example <code>arr[5:8].copy()</code>.</p>"
   ]
  },
  {
   "cell_type": "code",
   "execution_count": 79,
   "metadata": {},
   "outputs": [
    {
     "data": {
      "text/plain": [
       "array([7, 8, 9])"
      ]
     },
     "execution_count": 79,
     "metadata": {},
     "output_type": "execute_result"
    }
   ],
   "source": [
    "arr2d = np.array([[1, 2, 3], [4, 5, 6], [7, 8, 9]])\n",
    "arr2d[2]"
   ]
  },
  {
   "cell_type": "code",
   "execution_count": 80,
   "metadata": {},
   "outputs": [
    {
     "data": {
      "text/plain": [
       "3"
      ]
     },
     "execution_count": 80,
     "metadata": {},
     "output_type": "execute_result"
    }
   ],
   "source": [
    "arr2d[0][2]"
   ]
  },
  {
   "cell_type": "code",
   "execution_count": 81,
   "metadata": {},
   "outputs": [
    {
     "data": {
      "text/plain": [
       "3"
      ]
     },
     "execution_count": 81,
     "metadata": {},
     "output_type": "execute_result"
    }
   ],
   "source": [
    "arr2d[0, 2]"
   ]
  },
  {
   "cell_type": "code",
   "execution_count": 83,
   "metadata": {},
   "outputs": [
    {
     "data": {
      "text/html": [
       "<p>In multidimensional arrays, if you omit later indices, the returned object will be a\n",
       "lower-dimensional <code>ndarray</code> consisting of all the data along the higher\n",
       "dimensions. So in the 2 x 2 x 3 array <code>array3d</p>"
      ],
      "text/plain": [
       "<IPython.core.display.HTML object>"
      ]
     },
     "metadata": {},
     "output_type": "display_data"
    }
   ],
   "source": [
    "%%html\n",
    "<p>In multidimensional arrays, if you omit later indices, the returned object will be a\n",
    "lower-dimensional <code>ndarray</code> consisting of all the data along the higher\n",
    "dimensions. So in the 2 x 2 x 3 array <code>array3d</p>"
   ]
  },
  {
   "cell_type": "code",
   "execution_count": 49,
   "metadata": {},
   "outputs": [
    {
     "data": {
      "text/plain": [
       "array([[[ 1,  2,  3],\n",
       "        [ 4,  5,  6]],\n",
       "\n",
       "       [[ 7,  8,  9],\n",
       "        [10, 11, 12]]])"
      ]
     },
     "execution_count": 49,
     "metadata": {},
     "output_type": "execute_result"
    }
   ],
   "source": [
    "arr3d = np.array([[[1, 2, 3], [4, 5, 6]], [[7, 8, 9], [10, 11, 12]]])\n",
    "arr3d"
   ]
  },
  {
   "cell_type": "code",
   "execution_count": 85,
   "metadata": {},
   "outputs": [
    {
     "data": {
      "text/plain": [
       "array([[1, 2, 3],\n",
       "       [4, 5, 6]])"
      ]
     },
     "execution_count": 85,
     "metadata": {},
     "output_type": "execute_result"
    }
   ],
   "source": [
    "arr3d[0]"
   ]
  },
  {
   "cell_type": "code",
   "execution_count": 50,
   "metadata": {},
   "outputs": [
    {
     "data": {
      "text/plain": [
       "array([[[42, 42, 42],\n",
       "        [42, 42, 42]],\n",
       "\n",
       "       [[ 7,  8,  9],\n",
       "        [10, 11, 12]]])"
      ]
     },
     "execution_count": 50,
     "metadata": {},
     "output_type": "execute_result"
    }
   ],
   "source": [
    "old_values = arr3d[0].copy()\n",
    "arr3d[0] = 42\n",
    "arr3d"
   ]
  },
  {
   "cell_type": "code",
   "execution_count": 51,
   "metadata": {},
   "outputs": [
    {
     "data": {
      "text/plain": [
       "array([[[ 1,  2,  3],\n",
       "        [ 4,  5,  6]],\n",
       "\n",
       "       [[ 7,  8,  9],\n",
       "        [10, 11, 12]]])"
      ]
     },
     "execution_count": 51,
     "metadata": {},
     "output_type": "execute_result"
    }
   ],
   "source": [
    "arr3d[0] = old_values\n",
    "arr3d"
   ]
  },
  {
   "cell_type": "code",
   "execution_count": 88,
   "metadata": {},
   "outputs": [
    {
     "data": {
      "text/plain": [
       "array([7, 8, 9])"
      ]
     },
     "execution_count": 88,
     "metadata": {},
     "output_type": "execute_result"
    }
   ],
   "source": [
    "arr3d[1, 0]"
   ]
  },
  {
   "cell_type": "code",
   "execution_count": 52,
   "metadata": {},
   "outputs": [
    {
     "data": {
      "text/plain": [
       "8"
      ]
     },
     "execution_count": 52,
     "metadata": {},
     "output_type": "execute_result"
    }
   ],
   "source": [
    "arr3d.dtype.itemsize"
   ]
  },
  {
   "cell_type": "code",
   "execution_count": 53,
   "metadata": {},
   "outputs": [
    {
     "data": {
      "text/plain": [
       "dtype('float64')"
      ]
     },
     "execution_count": 53,
     "metadata": {},
     "output_type": "execute_result"
    }
   ],
   "source": [
    "np.dtype(float)"
   ]
  },
  {
   "cell_type": "code",
   "execution_count": 89,
   "metadata": {},
   "outputs": [
    {
     "data": {
      "text/html": [
       "<h3>Indexing with Slices</h3>"
      ],
      "text/plain": [
       "<IPython.core.display.HTML object>"
      ]
     },
     "metadata": {},
     "output_type": "display_data"
    }
   ],
   "source": [
    "%%html\n",
    "<h3>Indexing with Slices</h3>"
   ]
  },
  {
   "cell_type": "code",
   "execution_count": 90,
   "metadata": {},
   "outputs": [
    {
     "data": {
      "text/plain": [
       "array([ 1,  2,  3,  4, 64])"
      ]
     },
     "execution_count": 90,
     "metadata": {},
     "output_type": "execute_result"
    }
   ],
   "source": [
    "arr[1:6]"
   ]
  },
  {
   "cell_type": "code",
   "execution_count": 91,
   "metadata": {},
   "outputs": [
    {
     "data": {
      "text/plain": [
       "array([[1, 2, 3],\n",
       "       [4, 5, 6],\n",
       "       [7, 8, 9]])"
      ]
     },
     "execution_count": 91,
     "metadata": {},
     "output_type": "execute_result"
    }
   ],
   "source": [
    "arr2d"
   ]
  },
  {
   "cell_type": "code",
   "execution_count": 92,
   "metadata": {},
   "outputs": [
    {
     "data": {
      "text/plain": [
       "array([[1, 2, 3],\n",
       "       [4, 5, 6]])"
      ]
     },
     "execution_count": 92,
     "metadata": {},
     "output_type": "execute_result"
    }
   ],
   "source": [
    "arr2d[:2]"
   ]
  },
  {
   "cell_type": "code",
   "execution_count": 93,
   "metadata": {},
   "outputs": [
    {
     "data": {
      "text/html": [
       "<p>A slice selects a range of elements along an axis. You can pass multiple slices.</p>"
      ],
      "text/plain": [
       "<IPython.core.display.HTML object>"
      ]
     },
     "metadata": {},
     "output_type": "display_data"
    }
   ],
   "source": [
    "%%html\n",
    "<p>A slice selects a range of elements along an axis. You can pass multiple slices.</p>"
   ]
  },
  {
   "cell_type": "code",
   "execution_count": 94,
   "metadata": {},
   "outputs": [
    {
     "data": {
      "text/plain": [
       "array([[2, 3],\n",
       "       [5, 6]])"
      ]
     },
     "execution_count": 94,
     "metadata": {},
     "output_type": "execute_result"
    }
   ],
   "source": [
    "arr2d[:2, 1:]"
   ]
  },
  {
   "cell_type": "code",
   "execution_count": 95,
   "metadata": {},
   "outputs": [
    {
     "data": {
      "text/plain": [
       "array([4, 5])"
      ]
     },
     "execution_count": 95,
     "metadata": {},
     "output_type": "execute_result"
    }
   ],
   "source": [
    "arr2d[1, :2]"
   ]
  },
  {
   "cell_type": "code",
   "execution_count": 96,
   "metadata": {},
   "outputs": [
    {
     "data": {
      "text/plain": [
       "array([7])"
      ]
     },
     "execution_count": 96,
     "metadata": {},
     "output_type": "execute_result"
    }
   ],
   "source": [
    "arr2d[2, :1]"
   ]
  },
  {
   "cell_type": "code",
   "execution_count": 97,
   "metadata": {},
   "outputs": [
    {
     "data": {
      "text/plain": [
       "array([[1],\n",
       "       [4],\n",
       "       [7]])"
      ]
     },
     "execution_count": 97,
     "metadata": {},
     "output_type": "execute_result"
    }
   ],
   "source": [
    "arr2d[:, :1]"
   ]
  },
  {
   "cell_type": "code",
   "execution_count": 98,
   "metadata": {},
   "outputs": [
    {
     "data": {
      "text/plain": [
       "array([[1, 0, 0],\n",
       "       [4, 0, 0],\n",
       "       [7, 8, 9]])"
      ]
     },
     "execution_count": 98,
     "metadata": {},
     "output_type": "execute_result"
    }
   ],
   "source": [
    "arr2d[:2, 1:] = 0\n",
    "arr2d"
   ]
  },
  {
   "cell_type": "code",
   "execution_count": 99,
   "metadata": {},
   "outputs": [
    {
     "data": {
      "text/html": [
       "<h3>Boolean Indexing</h3>"
      ],
      "text/plain": [
       "<IPython.core.display.HTML object>"
      ]
     },
     "metadata": {},
     "output_type": "display_data"
    }
   ],
   "source": [
    "%%html\n",
    "<h3>Boolean Indexing</h3>"
   ]
  },
  {
   "cell_type": "code",
   "execution_count": 107,
   "metadata": {},
   "outputs": [
    {
     "data": {
      "text/plain": [
       "array(['Bob', 'Joe', 'Will', 'Bob', 'Will', 'Joe', 'Joe'],\n",
       "      dtype='<U4')"
      ]
     },
     "execution_count": 107,
     "metadata": {},
     "output_type": "execute_result"
    }
   ],
   "source": [
    "names = np.array(['Bob', 'Joe', 'Will', 'Bob', 'Will', 'Joe', 'Joe'])\n",
    "from numpy.random import randn\n",
    "data = randn(7,4)\n",
    "names"
   ]
  },
  {
   "cell_type": "code",
   "execution_count": 108,
   "metadata": {},
   "outputs": [
    {
     "data": {
      "text/plain": [
       "array([[-0.16988525,  0.93534863,  0.6246637 , -1.27669392],\n",
       "       [ 0.35637365,  2.13929127, -0.09626917,  0.86420477],\n",
       "       [ 1.30926033, -0.68322298, -1.26506525, -0.95515518],\n",
       "       [-1.35864377, -0.25658206, -0.37531189, -1.98288193],\n",
       "       [-0.70478258,  0.09871456,  1.77852622, -0.68524136],\n",
       "       [ 0.27565229, -0.29947873,  2.00962992,  0.04148419],\n",
       "       [ 0.20360445, -0.94603903,  0.29976071,  0.39129651]])"
      ]
     },
     "execution_count": 108,
     "metadata": {},
     "output_type": "execute_result"
    }
   ],
   "source": [
    "data"
   ]
  },
  {
   "cell_type": "code",
   "execution_count": 109,
   "metadata": {},
   "outputs": [
    {
     "data": {
      "text/plain": [
       "array([ True, False, False,  True, False, False, False], dtype=bool)"
      ]
     },
     "execution_count": 109,
     "metadata": {},
     "output_type": "execute_result"
    }
   ],
   "source": [
    "names == 'Bob'"
   ]
  },
  {
   "cell_type": "code",
   "execution_count": 110,
   "metadata": {},
   "outputs": [
    {
     "data": {
      "text/plain": [
       "array([[-0.16988525,  0.93534863,  0.6246637 , -1.27669392],\n",
       "       [-1.35864377, -0.25658206, -0.37531189, -1.98288193]])"
      ]
     },
     "execution_count": 110,
     "metadata": {},
     "output_type": "execute_result"
    }
   ],
   "source": [
    "data[names == 'Bob']"
   ]
  },
  {
   "cell_type": "code",
   "execution_count": 111,
   "metadata": {},
   "outputs": [
    {
     "data": {
      "text/plain": [
       "array([[ 0.6246637 , -1.27669392],\n",
       "       [-0.37531189, -1.98288193]])"
      ]
     },
     "execution_count": 111,
     "metadata": {},
     "output_type": "execute_result"
    }
   ],
   "source": [
    "data[names == 'Bob', 2:]"
   ]
  },
  {
   "cell_type": "code",
   "execution_count": 114,
   "metadata": {},
   "outputs": [
    {
     "data": {
      "text/plain": [
       "array([-1.27669392, -1.98288193])"
      ]
     },
     "execution_count": 114,
     "metadata": {},
     "output_type": "execute_result"
    }
   ],
   "source": [
    "data[names == 'Bob', 3]"
   ]
  },
  {
   "cell_type": "code",
   "execution_count": 115,
   "metadata": {},
   "outputs": [
    {
     "data": {
      "text/plain": [
       "array([False,  True,  True, False,  True,  True,  True], dtype=bool)"
      ]
     },
     "execution_count": 115,
     "metadata": {},
     "output_type": "execute_result"
    }
   ],
   "source": [
    "names != 'Bob'"
   ]
  },
  {
   "cell_type": "code",
   "execution_count": 117,
   "metadata": {},
   "outputs": [
    {
     "data": {
      "text/plain": [
       "array([[ 0.35637365,  2.13929127, -0.09626917,  0.86420477],\n",
       "       [ 1.30926033, -0.68322298, -1.26506525, -0.95515518],\n",
       "       [-0.70478258,  0.09871456,  1.77852622, -0.68524136],\n",
       "       [ 0.27565229, -0.29947873,  2.00962992,  0.04148419],\n",
       "       [ 0.20360445, -0.94603903,  0.29976071,  0.39129651]])"
      ]
     },
     "execution_count": 117,
     "metadata": {},
     "output_type": "execute_result"
    }
   ],
   "source": [
    "data[~(names == 'Bob')]"
   ]
  },
  {
   "cell_type": "code",
   "execution_count": 118,
   "metadata": {},
   "outputs": [
    {
     "data": {
      "text/plain": [
       "array([ True, False,  True,  True,  True, False, False], dtype=bool)"
      ]
     },
     "execution_count": 118,
     "metadata": {},
     "output_type": "execute_result"
    }
   ],
   "source": [
    "mask = (names == 'Bob') | (names == 'Will')\n",
    "mask"
   ]
  },
  {
   "cell_type": "code",
   "execution_count": 119,
   "metadata": {},
   "outputs": [
    {
     "data": {
      "text/plain": [
       "array([[-0.16988525,  0.93534863,  0.6246637 , -1.27669392],\n",
       "       [ 1.30926033, -0.68322298, -1.26506525, -0.95515518],\n",
       "       [-1.35864377, -0.25658206, -0.37531189, -1.98288193],\n",
       "       [-0.70478258,  0.09871456,  1.77852622, -0.68524136]])"
      ]
     },
     "execution_count": 119,
     "metadata": {},
     "output_type": "execute_result"
    }
   ],
   "source": [
    "data[mask]"
   ]
  },
  {
   "cell_type": "code",
   "execution_count": 120,
   "metadata": {},
   "outputs": [
    {
     "data": {
      "text/html": [
       "<p>The Python keywords <code>and</code> and <code>or</code> do not work with Boolean arrays.\n",
       "</p>"
      ],
      "text/plain": [
       "<IPython.core.display.HTML object>"
      ]
     },
     "metadata": {},
     "output_type": "display_data"
    }
   ],
   "source": [
    "%%html\n",
    "<p>The Python keywords <code>and</code> and <code>or</code> do not work with Boolean arrays.\n",
    "</p>"
   ]
  },
  {
   "cell_type": "code",
   "execution_count": 122,
   "metadata": {},
   "outputs": [
    {
     "data": {
      "text/plain": [
       "array([[ 0.        ,  0.93534863,  0.6246637 ,  0.        ],\n",
       "       [ 0.35637365,  2.13929127,  0.        ,  0.86420477],\n",
       "       [ 1.30926033,  0.        ,  0.        ,  0.        ],\n",
       "       [ 0.        ,  0.        ,  0.        ,  0.        ],\n",
       "       [ 0.        ,  0.09871456,  1.77852622,  0.        ],\n",
       "       [ 0.27565229,  0.        ,  2.00962992,  0.04148419],\n",
       "       [ 0.20360445,  0.        ,  0.29976071,  0.39129651]])"
      ]
     },
     "execution_count": 122,
     "metadata": {},
     "output_type": "execute_result"
    }
   ],
   "source": [
    "data[data < 0] = 0 # Set all the negative values to 0\n",
    "data"
   ]
  },
  {
   "cell_type": "code",
   "execution_count": 123,
   "metadata": {},
   "outputs": [
    {
     "data": {
      "text/plain": [
       "array([[ 7.        ,  7.        ,  7.        ,  7.        ],\n",
       "       [ 0.35637365,  2.13929127,  0.        ,  0.86420477],\n",
       "       [ 7.        ,  7.        ,  7.        ,  7.        ],\n",
       "       [ 7.        ,  7.        ,  7.        ,  7.        ],\n",
       "       [ 7.        ,  7.        ,  7.        ,  7.        ],\n",
       "       [ 0.27565229,  0.        ,  2.00962992,  0.04148419],\n",
       "       [ 0.20360445,  0.        ,  0.29976071,  0.39129651]])"
      ]
     },
     "execution_count": 123,
     "metadata": {},
     "output_type": "execute_result"
    }
   ],
   "source": [
    "data[names != 'Joe'] = 7\n",
    "data"
   ]
  },
  {
   "cell_type": "code",
   "execution_count": 124,
   "metadata": {},
   "outputs": [
    {
     "data": {
      "text/html": [
       "<h3>Fancy Indexing</h3>"
      ],
      "text/plain": [
       "<IPython.core.display.HTML object>"
      ]
     },
     "metadata": {},
     "output_type": "display_data"
    }
   ],
   "source": [
    "%%html\n",
    "<h3>Fancy Indexing</h3>"
   ]
  },
  {
   "cell_type": "code",
   "execution_count": 125,
   "metadata": {},
   "outputs": [
    {
     "data": {
      "text/plain": [
       "array([[ 0.,  0.,  0.,  0.],\n",
       "       [ 1.,  1.,  1.,  1.],\n",
       "       [ 2.,  2.,  2.,  2.],\n",
       "       [ 3.,  3.,  3.,  3.],\n",
       "       [ 4.,  4.,  4.,  4.],\n",
       "       [ 5.,  5.,  5.,  5.],\n",
       "       [ 6.,  6.,  6.,  6.],\n",
       "       [ 7.,  7.,  7.,  7.]])"
      ]
     },
     "execution_count": 125,
     "metadata": {},
     "output_type": "execute_result"
    }
   ],
   "source": [
    "arr = np.empty((8, 4))\n",
    "for i in range(8):\n",
    "    arr[i] = i\n",
    "arr"
   ]
  },
  {
   "cell_type": "code",
   "execution_count": 126,
   "metadata": {},
   "outputs": [
    {
     "data": {
      "text/plain": [
       "array([[ 4.,  4.,  4.,  4.],\n",
       "       [ 3.,  3.,  3.,  3.],\n",
       "       [ 0.,  0.,  0.,  0.],\n",
       "       [ 6.,  6.,  6.,  6.]])"
      ]
     },
     "execution_count": 126,
     "metadata": {},
     "output_type": "execute_result"
    }
   ],
   "source": [
    "arr[[4, 3, 0, 6]]"
   ]
  },
  {
   "cell_type": "code",
   "execution_count": 127,
   "metadata": {},
   "outputs": [
    {
     "data": {
      "text/plain": [
       "array([[ 5.,  5.,  5.,  5.],\n",
       "       [ 3.,  3.,  3.,  3.],\n",
       "       [ 1.,  1.,  1.,  1.]])"
      ]
     },
     "execution_count": 127,
     "metadata": {},
     "output_type": "execute_result"
    }
   ],
   "source": [
    "arr[[-3, -5, -7]]"
   ]
  },
  {
   "cell_type": "code",
   "execution_count": 128,
   "metadata": {},
   "outputs": [
    {
     "data": {
      "text/plain": [
       "array([[ 0,  1,  2,  3],\n",
       "       [ 4,  5,  6,  7],\n",
       "       [ 8,  9, 10, 11],\n",
       "       [12, 13, 14, 15],\n",
       "       [16, 17, 18, 19],\n",
       "       [20, 21, 22, 23],\n",
       "       [24, 25, 26, 27],\n",
       "       [28, 29, 30, 31]])"
      ]
     },
     "execution_count": 128,
     "metadata": {},
     "output_type": "execute_result"
    }
   ],
   "source": [
    "arr = np.arange(32).reshape((8, 4))\n",
    "arr"
   ]
  },
  {
   "cell_type": "code",
   "execution_count": 130,
   "metadata": {},
   "outputs": [
    {
     "data": {
      "text/plain": [
       "array([ 4, 23, 29, 10])"
      ]
     },
     "execution_count": 130,
     "metadata": {},
     "output_type": "execute_result"
    }
   ],
   "source": [
    "arr[[1, 5, 7, 2], [0, 3, 1, 2]] # Returns an array of [(a[1,0], a[5,3], a[7,1], a[2,2])]"
   ]
  },
  {
   "cell_type": "raw",
   "metadata": {},
   "source": [
    "arr[np.loc([1, 5, 7, 2], [0, 3, 1, 2])] # This doesn't work right, apparently"
   ]
  },
  {
   "cell_type": "code",
   "execution_count": 131,
   "metadata": {},
   "outputs": [
    {
     "data": {
      "text/html": [
       "<h2>Transposing Arrays and Swapping Axes</h2>"
      ],
      "text/plain": [
       "<IPython.core.display.HTML object>"
      ]
     },
     "metadata": {},
     "output_type": "display_data"
    }
   ],
   "source": [
    "%%html\n",
    "<h2>Transposing Arrays and Swapping Axes</h2>"
   ]
  },
  {
   "cell_type": "code",
   "execution_count": 132,
   "metadata": {},
   "outputs": [
    {
     "data": {
      "text/plain": [
       "array([[ 0,  1,  2,  3,  4],\n",
       "       [ 5,  6,  7,  8,  9],\n",
       "       [10, 11, 12, 13, 14]])"
      ]
     },
     "execution_count": 132,
     "metadata": {},
     "output_type": "execute_result"
    }
   ],
   "source": [
    "arr = np.arange(15).reshape((3, 5))\n",
    "arr"
   ]
  },
  {
   "cell_type": "code",
   "execution_count": 133,
   "metadata": {},
   "outputs": [
    {
     "data": {
      "text/plain": [
       "array([[ 0,  5, 10],\n",
       "       [ 1,  6, 11],\n",
       "       [ 2,  7, 12],\n",
       "       [ 3,  8, 13],\n",
       "       [ 4,  9, 14]])"
      ]
     },
     "execution_count": 133,
     "metadata": {},
     "output_type": "execute_result"
    }
   ],
   "source": [
    "arr.T"
   ]
  },
  {
   "cell_type": "code",
   "execution_count": 135,
   "metadata": {},
   "outputs": [
    {
     "data": {
      "text/plain": [
       "array([[ 6.76460469,  2.04348263,  3.19313029],\n",
       "       [ 2.04348263,  6.71428788,  0.48358961],\n",
       "       [ 3.19313029,  0.48358961,  1.76861368]])"
      ]
     },
     "execution_count": 135,
     "metadata": {},
     "output_type": "execute_result"
    }
   ],
   "source": [
    "arr = randn(6, 3)\n",
    "np.dot(arr.T, arr)"
   ]
  },
  {
   "cell_type": "code",
   "execution_count": 136,
   "metadata": {},
   "outputs": [
    {
     "data": {
      "text/html": [
       "<p>For higher-dimensional arrays, <code>transpose</code> will accept a tuple of axis numbers\n",
       "to permute the axes:"
      ],
      "text/plain": [
       "<IPython.core.display.HTML object>"
      ]
     },
     "metadata": {},
     "output_type": "display_data"
    }
   ],
   "source": [
    "%%html\n",
    "<p>For higher-dimensional arrays, <code>transpose</code> will accept a tuple of axis numbers\n",
    "to permute the axes:"
   ]
  },
  {
   "cell_type": "code",
   "execution_count": 137,
   "metadata": {},
   "outputs": [
    {
     "data": {
      "text/plain": [
       "array([[[ 0,  1,  2,  3],\n",
       "        [ 4,  5,  6,  7]],\n",
       "\n",
       "       [[ 8,  9, 10, 11],\n",
       "        [12, 13, 14, 15]]])"
      ]
     },
     "execution_count": 137,
     "metadata": {},
     "output_type": "execute_result"
    }
   ],
   "source": [
    "arr = np.arange(16).reshape((2, 2, 4))\n",
    "arr"
   ]
  },
  {
   "cell_type": "code",
   "execution_count": 138,
   "metadata": {},
   "outputs": [
    {
     "data": {
      "text/plain": [
       "array([[[ 0,  1,  2,  3],\n",
       "        [ 8,  9, 10, 11]],\n",
       "\n",
       "       [[ 4,  5,  6,  7],\n",
       "        [12, 13, 14, 15]]])"
      ]
     },
     "execution_count": 138,
     "metadata": {},
     "output_type": "execute_result"
    }
   ],
   "source": [
    "arr.transpose((1, 0, 2))"
   ]
  },
  {
   "cell_type": "code",
   "execution_count": 139,
   "metadata": {},
   "outputs": [
    {
     "data": {
      "text/plain": [
       "array([[[ 0,  1,  2,  3],\n",
       "        [ 4,  5,  6,  7]],\n",
       "\n",
       "       [[ 8,  9, 10, 11],\n",
       "        [12, 13, 14, 15]]])"
      ]
     },
     "execution_count": 139,
     "metadata": {},
     "output_type": "execute_result"
    }
   ],
   "source": [
    "arr"
   ]
  },
  {
   "cell_type": "code",
   "execution_count": 140,
   "metadata": {},
   "outputs": [
    {
     "data": {
      "text/plain": [
       "array([[[ 0,  4],\n",
       "        [ 1,  5],\n",
       "        [ 2,  6],\n",
       "        [ 3,  7]],\n",
       "\n",
       "       [[ 8, 12],\n",
       "        [ 9, 13],\n",
       "        [10, 14],\n",
       "        [11, 15]]])"
      ]
     },
     "execution_count": 140,
     "metadata": {},
     "output_type": "execute_result"
    }
   ],
   "source": [
    "arr.swapaxes(1, 2)"
   ]
  },
  {
   "cell_type": "code",
   "execution_count": 141,
   "metadata": {},
   "outputs": [
    {
     "data": {
      "text/html": [
       "<h2>Universal Functions</h2>"
      ],
      "text/plain": [
       "<IPython.core.display.HTML object>"
      ]
     },
     "metadata": {},
     "output_type": "display_data"
    }
   ],
   "source": [
    "%%html\n",
    "<h2>Universal Functions</h2>"
   ]
  },
  {
   "cell_type": "code",
   "execution_count": 142,
   "metadata": {},
   "outputs": [
    {
     "data": {
      "text/plain": [
       "array([ 0.        ,  1.        ,  1.41421356,  1.73205081,  2.        ,\n",
       "        2.23606798,  2.44948974,  2.64575131,  2.82842712,  3.        ])"
      ]
     },
     "execution_count": 142,
     "metadata": {},
     "output_type": "execute_result"
    }
   ],
   "source": [
    "arr = np.arange(10)\n",
    "np.sqrt(arr)"
   ]
  },
  {
   "cell_type": "code",
   "execution_count": 143,
   "metadata": {},
   "outputs": [
    {
     "data": {
      "text/plain": [
       "array([  1.00000000e+00,   2.71828183e+00,   7.38905610e+00,\n",
       "         2.00855369e+01,   5.45981500e+01,   1.48413159e+02,\n",
       "         4.03428793e+02,   1.09663316e+03,   2.98095799e+03,\n",
       "         8.10308393e+03])"
      ]
     },
     "execution_count": 143,
     "metadata": {},
     "output_type": "execute_result"
    }
   ],
   "source": [
    "np.exp(arr)"
   ]
  },
  {
   "cell_type": "code",
   "execution_count": 144,
   "metadata": {},
   "outputs": [
    {
     "data": {
      "text/plain": [
       "array([ 0.2735822 , -2.64747346, -0.06410786, -0.32922706,  0.69552115,\n",
       "        1.0912495 ,  1.88797263, -1.44833798])"
      ]
     },
     "execution_count": 144,
     "metadata": {},
     "output_type": "execute_result"
    }
   ],
   "source": [
    "x = randn(8)\n",
    "y = randn(8)\n",
    "x"
   ]
  },
  {
   "cell_type": "code",
   "execution_count": 145,
   "metadata": {},
   "outputs": [
    {
     "data": {
      "text/plain": [
       "array([-0.18482762,  0.41055693, -0.53108548, -1.07542242,  0.87624423,\n",
       "        0.38901242, -0.26413918, -1.0157675 ])"
      ]
     },
     "execution_count": 145,
     "metadata": {},
     "output_type": "execute_result"
    }
   ],
   "source": [
    "y"
   ]
  },
  {
   "cell_type": "code",
   "execution_count": 146,
   "metadata": {},
   "outputs": [
    {
     "data": {
      "text/plain": [
       "array([ 0.2735822 ,  0.41055693, -0.06410786, -0.32922706,  0.87624423,\n",
       "        1.0912495 ,  1.88797263, -1.0157675 ])"
      ]
     },
     "execution_count": 146,
     "metadata": {},
     "output_type": "execute_result"
    }
   ],
   "source": [
    "np.maximum(x, y) # Element-wise maximum"
   ]
  },
  {
   "cell_type": "code",
   "execution_count": 147,
   "metadata": {},
   "outputs": [
    {
     "data": {
      "text/plain": [
       "(array([ 0.,  0.,  0.,  0.,  0.,  0.,  0.,  0.,  0.,  0.]),\n",
       " array([ 0.,  1.,  2.,  3.,  4.,  5.,  6.,  7.,  8.,  9.]))"
      ]
     },
     "execution_count": 147,
     "metadata": {},
     "output_type": "execute_result"
    }
   ],
   "source": [
    "np.modf(arr)"
   ]
  },
  {
   "cell_type": "code",
   "execution_count": 151,
   "metadata": {},
   "outputs": [
    {
     "data": {
      "text/html": [
       "<h3>Unary ufuncs</h3>\n",
       "<table width=\"100%\">\n",
       "<thead><th width=\"20%\">Function</th><th>Description</th></thead>\n",
       "<tr><td><code>abs, fabs</code></td>\n",
       "<td>Compute the absolute value element-wise for <code>int</code>, <code>float</code> or\n",
       "<code>complex</code> values. <code>fabs</code> is faster for non-complex data.</td></tr>\n",
       "<tr><td><code>sqrt</code></td>\n",
       "<td>Compute the square root of each element. Equivalent to <code>arr ** 0.5</code>.</td>\n",
       "</tr>\n",
       "<tr><td><code>square</code></td>\n",
       "<td>Compute the square of each element. Equivalent to <code>arr ** 2</code>.</td></tr>\n",
       "<tr><td><code>exp</code></td>\n",
       "<td>Compute the exponent $e^x$ of each element.</td></tr>\n",
       "<tr><td><code>log, log10, log2, log1p</code></td>\n",
       "<td>Natural logarithm (base-$e$), log base 10, log base 2 and log(1+x), respectively</td>\n",
       "</tr>\n",
       "<tr><td><code>sign</code></td>\n",
       "<td>Compute the sign of each element: 1 (positive), 0 (zero), or -1\n",
       "(negative)</td></tr>\n",
       "<tr><td><code>ceil</code></td>\n",
       "<td>Compute the ceiling of each element, i.e. the smallest integer greater than or equal to each\n",
       "element.</td></tr>\n",
       "<tr><td><code>floor</code></td>\n",
       "<td>Compute the floor of each element, i.e. the largest integer less than or equal to each\n",
       "element</td></tr>\n",
       "<tr><td><code>rint</code></td>\n",
       "<td>Round elements tot he nearest integer, preserving the <code>dtype</code></td></tr>\n",
       "<tr><td><code>modf</code></td>\n",
       "<td>Return fractional and integral parts of array as separate arrays</td></tr>\n",
       "<tr><td><code>isfinite, isinf</code></td>\n",
       "<td>Return Boolean array indicating whether each element is finite (non-inf, non-NaN) or\n",
       "infinite, respectively</td></tr>\n",
       "<tr><td><code>cos, cosh, sin, sinh, tan, tanh</code></td>\n",
       "<td>Regular and hyperbolic trigonometric functions</td></tr>\n",
       "<tr><td><code>arccos, arccosh, arcsin, arcsinh, arctan, arctanh</code></td>\n",
       "<td>Inverse trigonometric functions</td></tr>\n",
       "<tr><td><code>logical_not</code></td>\n",
       "<td>Compute truth value of not <code>x</code> element-wise. Equivalent to <code>~arr</code>\n",
       "</td></tr>\n",
       "</table>"
      ],
      "text/plain": [
       "<IPython.core.display.HTML object>"
      ]
     },
     "metadata": {},
     "output_type": "display_data"
    }
   ],
   "source": [
    "%%html\n",
    "<h3>Unary ufuncs</h3>\n",
    "<table width=\"100%\">\n",
    "<thead><th width=\"20%\">Function</th><th>Description</th></thead>\n",
    "<tr><td><code>abs, fabs</code></td>\n",
    "<td>Compute the absolute value element-wise for <code>int</code>, <code>float</code> or\n",
    "<code>complex</code> values. <code>fabs</code> is faster for non-complex data.</td></tr>\n",
    "<tr><td><code>sqrt</code></td>\n",
    "<td>Compute the square root of each element. Equivalent to <code>arr ** 0.5</code>.</td>\n",
    "</tr>\n",
    "<tr><td><code>square</code></td>\n",
    "<td>Compute the square of each element. Equivalent to <code>arr ** 2</code>.</td></tr>\n",
    "<tr><td><code>exp</code></td>\n",
    "<td>Compute the exponent $e^x$ of each element.</td></tr>\n",
    "<tr><td><code>log, log10, log2, log1p</code></td>\n",
    "<td>Natural logarithm (base-$e$), log base 10, log base 2 and log(1+x), respectively</td>\n",
    "</tr>\n",
    "<tr><td><code>sign</code></td>\n",
    "<td>Compute the sign of each element: 1 (positive), 0 (zero), or -1\n",
    "(negative)</td></tr>\n",
    "<tr><td><code>ceil</code></td>\n",
    "<td>Compute the ceiling of each element, i.e. the smallest integer greater than or equal to each\n",
    "element.</td></tr>\n",
    "<tr><td><code>floor</code></td>\n",
    "<td>Compute the floor of each element, i.e. the largest integer less than or equal to each\n",
    "element</td></tr>\n",
    "<tr><td><code>rint</code></td>\n",
    "<td>Round elements tot he nearest integer, preserving the <code>dtype</code></td></tr>\n",
    "<tr><td><code>modf</code></td>\n",
    "<td>Return fractional and integral parts of array as separate arrays</td></tr>\n",
    "<tr><td><code>isfinite, isinf</code></td>\n",
    "<td>Return Boolean array indicating whether each element is finite (non-inf, non-NaN) or\n",
    "infinite, respectively</td></tr>\n",
    "<tr><td><code>cos, cosh, sin, sinh, tan, tanh</code></td>\n",
    "<td>Regular and hyperbolic trigonometric functions</td></tr>\n",
    "<tr><td><code>arccos, arccosh, arcsin, arcsinh, arctan, arctanh</code></td>\n",
    "<td>Inverse trigonometric functions</td></tr>\n",
    "<tr><td><code>logical_not</code></td>\n",
    "<td>Compute truth value of not <code>x</code> element-wise. Equivalent to <code>~arr</code>\n",
    "</td></tr>\n",
    "</table>"
   ]
  },
  {
   "cell_type": "code",
   "execution_count": 153,
   "metadata": {},
   "outputs": [
    {
     "data": {
      "text/html": [
       "<h3>Binary ufuncs</h3>\n",
       "<table>\n",
       "<thead><th width=\"20%\">Function</th><th>Description</th>\n",
       "<tr><td><code>add</code></td>\n",
       "<td>Add corresponding elements in arrays</td></tr>\n",
       "<tr><td><code>subtract</code></td>\n",
       "<td>Subtract elements in second array from first array</td></tr>\n",
       "<tr><td><code>multiply</code></td>\n",
       "<td>Multiply array elements</td></tr>\n",
       "<tr><td><code>divide, floor_divide</code></td>\n",
       "<td>Divide or floor divide (truncating the remainder)</td></tr>\n",
       "<tr><td><code>power</code></td>\n",
       "<td>Raise elements in first array to powers indicated in second array</td></tr>\n",
       "<tr><td><code>maximum, fmax</code></td>\n",
       "<td>Element-wise maximum, <code>fmax</code> ignores <code>NaN</code></td></tr>\n",
       "<tr><td><code>minimum, fmin</code></td>\n",
       "<td>Element-wise minimum, <code>fmin</code> ignores <code>NaN</code></td></tr>\n",
       "<tr><td><code>mod</code></td>\n",
       "<td>Element-wise modulus (remainder of division)</td></tr>\n",
       "<tr><td><code>copysign</code></td>\n",
       "<td>Copy sign of values in second argument to values in first argument</td></tr>\n",
       "<tr><td><code>greater, greater_equal, less, less_equal, equal, not_equal</code></td>\n",
       "<td>Perform element-wise comparison, yielding Boolean array. Equivalent to infix operators\n",
       "<code>&gt;, &gt;=, &lt;, &lt;=, ==, !=</code></td></tr>\n",
       "<tr><td><code>logical_and, logical_or, logical_xor</code></td>\n",
       "<td>Compute element-wise truth value of logical operation. Equivalent to infix operators\n",
       "<code>&amp;, |, ^</code></td></tr>\n",
       "</table>"
      ],
      "text/plain": [
       "<IPython.core.display.HTML object>"
      ]
     },
     "metadata": {},
     "output_type": "display_data"
    }
   ],
   "source": [
    "%%html\n",
    "<h3>Binary ufuncs</h3>\n",
    "<table>\n",
    "<thead><th width=\"20%\">Function</th><th>Description</th>\n",
    "<tr><td><code>add</code></td>\n",
    "<td>Add corresponding elements in arrays</td></tr>\n",
    "<tr><td><code>subtract</code></td>\n",
    "<td>Subtract elements in second array from first array</td></tr>\n",
    "<tr><td><code>multiply</code></td>\n",
    "<td>Multiply array elements</td></tr>\n",
    "<tr><td><code>divide, floor_divide</code></td>\n",
    "<td>Divide or floor divide (truncating the remainder)</td></tr>\n",
    "<tr><td><code>power</code></td>\n",
    "<td>Raise elements in first array to powers indicated in second array</td></tr>\n",
    "<tr><td><code>maximum, fmax</code></td>\n",
    "<td>Element-wise maximum, <code>fmax</code> ignores <code>NaN</code></td></tr>\n",
    "<tr><td><code>minimum, fmin</code></td>\n",
    "<td>Element-wise minimum, <code>fmin</code> ignores <code>NaN</code></td></tr>\n",
    "<tr><td><code>mod</code></td>\n",
    "<td>Element-wise modulus (remainder of division)</td></tr>\n",
    "<tr><td><code>copysign</code></td>\n",
    "<td>Copy sign of values in second argument to values in first argument</td></tr>\n",
    "<tr><td><code>greater, greater_equal, less, less_equal, equal, not_equal</code></td>\n",
    "<td>Perform element-wise comparison, yielding Boolean array. Equivalent to infix operators\n",
    "<code>&gt;, &gt;=, &lt;, &lt;=, ==, !=</code></td></tr>\n",
    "<tr><td><code>logical_and, logical_or, logical_xor</code></td>\n",
    "<td>Compute element-wise truth value of logical operation. Equivalent to infix operators\n",
    "<code>&amp;, |, ^</code></td></tr>\n",
    "</table>"
   ]
  },
  {
   "cell_type": "code",
   "execution_count": 154,
   "metadata": {},
   "outputs": [
    {
     "data": {
      "text/html": [
       "<h2>Data Processing Using Arrays</h2>\n",
       "<p>The <code>np.meshgrid</code> function takes two 1D arrays and produces two 2d matrices\n",
       "corresponding to all pairs of <code>(x, y)</code> in the two arrays.</p>"
      ],
      "text/plain": [
       "<IPython.core.display.HTML object>"
      ]
     },
     "metadata": {},
     "output_type": "display_data"
    }
   ],
   "source": [
    "%%html\n",
    "<h2>Data Processing Using Arrays</h2>\n",
    "<p>The <code>np.meshgrid</code> function takes two 1D arrays and produces two 2d matrices\n",
    "corresponding to all pairs of <code>(x, y)</code> in the two arrays.</p>"
   ]
  },
  {
   "cell_type": "code",
   "execution_count": 156,
   "metadata": {},
   "outputs": [
    {
     "data": {
      "text/plain": [
       "array([[-5.  , -4.99, -4.98, ...,  4.97,  4.98,  4.99],\n",
       "       [-5.  , -4.99, -4.98, ...,  4.97,  4.98,  4.99],\n",
       "       [-5.  , -4.99, -4.98, ...,  4.97,  4.98,  4.99],\n",
       "       ..., \n",
       "       [-5.  , -4.99, -4.98, ...,  4.97,  4.98,  4.99],\n",
       "       [-5.  , -4.99, -4.98, ...,  4.97,  4.98,  4.99],\n",
       "       [-5.  , -4.99, -4.98, ...,  4.97,  4.98,  4.99]])"
      ]
     },
     "execution_count": 156,
     "metadata": {},
     "output_type": "execute_result"
    }
   ],
   "source": [
    "points = np.arange(-5, 5, 0.01)\n",
    "xs, ys = np.meshgrid(points, points)\n",
    "xs"
   ]
  },
  {
   "cell_type": "code",
   "execution_count": 157,
   "metadata": {},
   "outputs": [
    {
     "data": {
      "text/plain": [
       "array([[-5.  , -5.  , -5.  , ..., -5.  , -5.  , -5.  ],\n",
       "       [-4.99, -4.99, -4.99, ..., -4.99, -4.99, -4.99],\n",
       "       [-4.98, -4.98, -4.98, ..., -4.98, -4.98, -4.98],\n",
       "       ..., \n",
       "       [ 4.97,  4.97,  4.97, ...,  4.97,  4.97,  4.97],\n",
       "       [ 4.98,  4.98,  4.98, ...,  4.98,  4.98,  4.98],\n",
       "       [ 4.99,  4.99,  4.99, ...,  4.99,  4.99,  4.99]])"
      ]
     },
     "execution_count": 157,
     "metadata": {},
     "output_type": "execute_result"
    }
   ],
   "source": [
    "ys"
   ]
  },
  {
   "cell_type": "code",
   "execution_count": 158,
   "metadata": {},
   "outputs": [
    {
     "data": {
      "text/plain": [
       "array([[ 7.07106781,  7.06400028,  7.05693985, ...,  7.04988652,\n",
       "         7.05693985,  7.06400028],\n",
       "       [ 7.06400028,  7.05692568,  7.04985815, ...,  7.04279774,\n",
       "         7.04985815,  7.05692568],\n",
       "       [ 7.05693985,  7.04985815,  7.04278354, ...,  7.03571603,\n",
       "         7.04278354,  7.04985815],\n",
       "       ..., \n",
       "       [ 7.04988652,  7.04279774,  7.03571603, ...,  7.0286414 ,\n",
       "         7.03571603,  7.04279774],\n",
       "       [ 7.05693985,  7.04985815,  7.04278354, ...,  7.03571603,\n",
       "         7.04278354,  7.04985815],\n",
       "       [ 7.06400028,  7.05692568,  7.04985815, ...,  7.04279774,\n",
       "         7.04985815,  7.05692568]])"
      ]
     },
     "execution_count": 158,
     "metadata": {},
     "output_type": "execute_result"
    }
   ],
   "source": [
    "z = np.sqrt(xs ** 2 + ys ** 2)\n",
    "z"
   ]
  },
  {
   "cell_type": "code",
   "execution_count": 161,
   "metadata": {},
   "outputs": [
    {
     "data": {
      "image/png": "[encoded data removed]",
      "text/plain": [
       "<matplotlib.figure.Figure at 0x7f17da77f358>"
      ]
     },
     "metadata": {},
     "output_type": "display_data"
    }
   ],
   "source": [
    "import matplotlib.pyplot as plt\n",
    "plt.imshow(z, cmap=plt.cm.gray)\n",
    "plt.colorbar()\n",
    "plt.title(\"Image plot of $\\sqrt{x^2 + y^2}$ for a grid of values\")\n",
    "plt.show()"
   ]
  },
  {
   "cell_type": "code",
   "execution_count": 162,
   "metadata": {},
   "outputs": [
    {
     "data": {
      "text/html": [
       "<h3>Conditional Logic as Array Operations</h3>"
      ],
      "text/plain": [
       "<IPython.core.display.HTML object>"
      ]
     },
     "metadata": {},
     "output_type": "display_data"
    }
   ],
   "source": [
    "%%html\n",
    "<h3>Conditional Logic as Array Operations</h3>"
   ]
  },
  {
   "cell_type": "code",
   "execution_count": 164,
   "metadata": {},
   "outputs": [
    {
     "data": {
      "text/plain": [
       "[1.1000000000000001, 2.2000000000000002, 1.3, 1.3999999999999999, 2.5]"
      ]
     },
     "execution_count": 164,
     "metadata": {},
     "output_type": "execute_result"
    }
   ],
   "source": [
    "xarr = np.array([1.1, 1.2, 1.3, 1.4, 1.5])\n",
    "yarr = np.array([2.1, 2.2, 2.3, 2.4, 2.5])\n",
    "cond = np.array([True, False, True, True, False])\n",
    "result = [(x if c else y) for x, y, c in zip(xarr, yarr, cond)]\n",
    "result"
   ]
  },
  {
   "cell_type": "raw",
   "metadata": {},
   "source": [
    "result = np.where(cond, xarr, yarr)\n",
    "print(result)"
   ]
  },
  {
   "cell_type": "code",
   "execution_count": 165,
   "metadata": {},
   "outputs": [
    {
     "data": {
      "text/plain": [
       "array([[-0.52649779, -1.33031169,  0.45295079,  2.48239823],\n",
       "       [ 0.86792934, -0.53153125,  0.20890102,  0.76500113],\n",
       "       [ 1.38592738,  1.13353337, -0.84193259,  1.3290102 ],\n",
       "       [ 0.37703871,  0.19080374,  1.51705715, -0.33852981]])"
      ]
     },
     "execution_count": 165,
     "metadata": {},
     "output_type": "execute_result"
    }
   ],
   "source": [
    "arr = randn(4, 4)\n",
    "arr"
   ]
  },
  {
   "cell_type": "code",
   "execution_count": 166,
   "metadata": {},
   "outputs": [
    {
     "data": {
      "text/plain": [
       "array([[-2, -2,  2,  2],\n",
       "       [ 2, -2,  2,  2],\n",
       "       [ 2,  2, -2,  2],\n",
       "       [ 2,  2,  2, -2]])"
      ]
     },
     "execution_count": 166,
     "metadata": {},
     "output_type": "execute_result"
    }
   ],
   "source": [
    "np.where(arr > 0, 2, -2)"
   ]
  },
  {
   "cell_type": "code",
   "execution_count": 167,
   "metadata": {},
   "outputs": [
    {
     "data": {
      "text/plain": [
       "array([[-0.52649779, -1.33031169,  2.        ,  2.        ],\n",
       "       [ 2.        , -0.53153125,  2.        ,  2.        ],\n",
       "       [ 2.        ,  2.        , -0.84193259,  2.        ],\n",
       "       [ 2.        ,  2.        ,  2.        , -0.33852981]])"
      ]
     },
     "execution_count": 167,
     "metadata": {},
     "output_type": "execute_result"
    }
   ],
   "source": [
    "np.where(arr > 0, 2, arr) # set only positive values to 2"
   ]
  },
  {
   "cell_type": "code",
   "execution_count": 168,
   "metadata": {},
   "outputs": [
    {
     "data": {
      "text/html": [
       "<h3>Mathematical and Statistical Methods</h3>"
      ],
      "text/plain": [
       "<IPython.core.display.HTML object>"
      ]
     },
     "metadata": {},
     "output_type": "display_data"
    }
   ],
   "source": [
    "%%html\n",
    "<h3>Mathematical and Statistical Methods</h3>"
   ]
  },
  {
   "cell_type": "code",
   "execution_count": 169,
   "metadata": {},
   "outputs": [
    {
     "data": {
      "text/plain": [
       "0.032021451073490706"
      ]
     },
     "execution_count": 169,
     "metadata": {},
     "output_type": "execute_result"
    }
   ],
   "source": [
    "arr = randn(5,4) # normally distributed data\n",
    "arr.mean()"
   ]
  },
  {
   "cell_type": "code",
   "execution_count": 170,
   "metadata": {},
   "outputs": [
    {
     "data": {
      "text/plain": [
       "0.032021451073490706"
      ]
     },
     "execution_count": 170,
     "metadata": {},
     "output_type": "execute_result"
    }
   ],
   "source": [
    "np.mean(arr)"
   ]
  },
  {
   "cell_type": "code",
   "execution_count": 171,
   "metadata": {},
   "outputs": [
    {
     "data": {
      "text/plain": [
       "0.64042902146981406"
      ]
     },
     "execution_count": 171,
     "metadata": {},
     "output_type": "execute_result"
    }
   ],
   "source": [
    "arr.sum()"
   ]
  },
  {
   "cell_type": "code",
   "execution_count": 172,
   "metadata": {},
   "outputs": [
    {
     "data": {
      "text/plain": [
       "array([ 0.1939556 , -0.0740352 ,  0.33838048, -0.43071719,  0.13252356])"
      ]
     },
     "execution_count": 172,
     "metadata": {},
     "output_type": "execute_result"
    }
   ],
   "source": [
    "arr.mean(axis=1)"
   ]
  },
  {
   "cell_type": "code",
   "execution_count": 173,
   "metadata": {},
   "outputs": [
    {
     "data": {
      "text/plain": [
       "array([-1.37334804,  2.81845949,  0.20043999, -1.00512241])"
      ]
     },
     "execution_count": 173,
     "metadata": {},
     "output_type": "execute_result"
    }
   ],
   "source": [
    "arr.sum(0)"
   ]
  },
  {
   "cell_type": "code",
   "execution_count": 176,
   "metadata": {},
   "outputs": [
    {
     "data": {
      "text/plain": [
       "array([[ 0,  1,  2],\n",
       "       [ 3,  5,  7],\n",
       "       [ 9, 12, 15]])"
      ]
     },
     "execution_count": 176,
     "metadata": {},
     "output_type": "execute_result"
    }
   ],
   "source": [
    "arr = np.array([[0, 1, 2], [3, 4, 5], [6, 7, 8]])\n",
    "arr.cumsum(0)"
   ]
  },
  {
   "cell_type": "code",
   "execution_count": 177,
   "metadata": {},
   "outputs": [
    {
     "data": {
      "text/plain": [
       "array([[  0,   0,   0],\n",
       "       [  3,  12,  60],\n",
       "       [  6,  42, 336]])"
      ]
     },
     "execution_count": 177,
     "metadata": {},
     "output_type": "execute_result"
    }
   ],
   "source": [
    "arr.cumprod(1)"
   ]
  },
  {
   "cell_type": "code",
   "execution_count": 180,
   "metadata": {},
   "outputs": [
    {
     "data": {
      "text/html": [
       "<table width=\"100%\">\n",
       "<thead><th width=\"20%\">Method</th><th>Description</th></thead>\n",
       "<tr><td><code>sum</code></td>\n",
       "<td>Sum of all the elements in the array or along an axis.</td></tr>\n",
       "<tr><td><code>mean</code></td>\n",
       "<td>Arithmetic mean.</td></tr>\n",
       "<tr><td><code>std, var</code></td>\n",
       "<td>Standard deviation and variance, respectively, with optional degrees of freedom\n",
       "adjustment (default denominator <code>n</code>).</td></tr>\n",
       "<tr><td><code>min, max</code></td>\n",
       "<td>Minimum and maximum</td></tr>\n",
       "<tr><td><code>argmin, argmax</code></td>\n",
       "<td>Indices of minimum and maximum elements, respectively.</td></tr>\n",
       "<tr><td><code>cumsum</code></td>\n",
       "<td>Cumulative sum of elements starting from 0.</td></tr>\n",
       "<tr><td><code>cumprod</code></td>\n",
       "<td>Cumulative product of elements starting from 1</td></tr>\n",
       "<tr><td><code>any, all</code></td>\n",
       "<td>Evaluate to <code>True</code> if any or all of the elements in the array are\n",
       "<code>True</code>, respectively. Otherwise return <code>False</code>.</td></tr>\n",
       "</table>"
      ],
      "text/plain": [
       "<IPython.core.display.HTML object>"
      ]
     },
     "metadata": {},
     "output_type": "display_data"
    }
   ],
   "source": [
    "%%html\n",
    "<table width=\"100%\">\n",
    "<thead><th width=\"20%\">Method</th><th>Description</th></thead>\n",
    "<tr><td><code>sum</code></td>\n",
    "<td>Sum of all the elements in the array or along an axis.</td></tr>\n",
    "<tr><td><code>mean</code></td>\n",
    "<td>Arithmetic mean.</td></tr>\n",
    "<tr><td><code>std, var</code></td>\n",
    "<td>Standard deviation and variance, respectively, with optional degrees of freedom\n",
    "adjustment (default denominator <code>n</code>).</td></tr>\n",
    "<tr><td><code>min, max</code></td>\n",
    "<td>Minimum and maximum</td></tr>\n",
    "<tr><td><code>argmin, argmax</code></td>\n",
    "<td>Indices of minimum and maximum elements, respectively.</td></tr>\n",
    "<tr><td><code>cumsum</code></td>\n",
    "<td>Cumulative sum of elements starting from 0.</td></tr>\n",
    "<tr><td><code>cumprod</code></td>\n",
    "<td>Cumulative product of elements starting from 1</td></tr>\n",
    "<tr><td><code>any, all</code></td>\n",
    "<td>Evaluate to <code>True</code> if any or all of the elements in the array are\n",
    "<code>True</code>, respectively. Otherwise return <code>False</code>.</td></tr>\n",
    "</table>"
   ]
  },
  {
   "cell_type": "code",
   "execution_count": 181,
   "metadata": {},
   "outputs": [
    {
     "data": {
      "text/plain": [
       "True"
      ]
     },
     "execution_count": 181,
     "metadata": {},
     "output_type": "execute_result"
    }
   ],
   "source": [
    "bools = np.array([False, False, True, False])\n",
    "bools.any()"
   ]
  },
  {
   "cell_type": "code",
   "execution_count": 182,
   "metadata": {},
   "outputs": [
    {
     "data": {
      "text/plain": [
       "False"
      ]
     },
     "execution_count": 182,
     "metadata": {},
     "output_type": "execute_result"
    }
   ],
   "source": [
    "bools.all()"
   ]
  },
  {
   "cell_type": "code",
   "execution_count": 183,
   "metadata": {},
   "outputs": [
    {
     "data": {
      "text/html": [
       "<h3>Sorting</h3>\n",
       "arr = randn(8)\n",
       "arr"
      ],
      "text/plain": [
       "<IPython.core.display.HTML object>"
      ]
     },
     "metadata": {},
     "output_type": "display_data"
    }
   ],
   "source": [
    "%%html\n",
    "<h3>Sorting</h3>"
   ]
  },
  {
   "cell_type": "code",
   "execution_count": 186,
   "metadata": {},
   "outputs": [
    {
     "data": {
      "text/plain": [
       "array([ 0.60112083,  1.66221495,  0.73458083, -2.07643773, -1.28189986,\n",
       "       -0.65978811, -0.36931105,  0.34337497])"
      ]
     },
     "execution_count": 186,
     "metadata": {},
     "output_type": "execute_result"
    }
   ],
   "source": [
    "arr = randn(8)\n",
    "arr"
   ]
  },
  {
   "cell_type": "code",
   "execution_count": 189,
   "metadata": {},
   "outputs": [
    {
     "data": {
      "text/plain": [
       "array([-2.07643773, -1.28189986, -0.65978811, -0.36931105,  0.34337497,\n",
       "        0.60112083,  0.73458083,  1.66221495])"
      ]
     },
     "execution_count": 189,
     "metadata": {},
     "output_type": "execute_result"
    }
   ],
   "source": [
    "arr.sort()\n",
    "arr"
   ]
  },
  {
   "cell_type": "code",
   "execution_count": 190,
   "metadata": {},
   "outputs": [
    {
     "data": {
      "text/plain": [
       "array([[-0.50499606,  0.54463151, -1.78841526],\n",
       "       [ 0.28134112, -0.52714502, -0.21362104],\n",
       "       [-0.72180313,  0.97143727, -0.44139021],\n",
       "       [ 1.19754228,  0.71192642, -0.0551654 ],\n",
       "       [-1.53634869, -0.49061907, -1.38034922]])"
      ]
     },
     "execution_count": 190,
     "metadata": {},
     "output_type": "execute_result"
    }
   ],
   "source": [
    "arr = randn(5, 3)\n",
    "arr"
   ]
  },
  {
   "cell_type": "code",
   "execution_count": 191,
   "metadata": {},
   "outputs": [
    {
     "data": {
      "text/plain": [
       "array([[-1.78841526, -0.50499606,  0.54463151],\n",
       "       [-0.52714502, -0.21362104,  0.28134112],\n",
       "       [-0.72180313, -0.44139021,  0.97143727],\n",
       "       [-0.0551654 ,  0.71192642,  1.19754228],\n",
       "       [-1.53634869, -1.38034922, -0.49061907]])"
      ]
     },
     "execution_count": 191,
     "metadata": {},
     "output_type": "execute_result"
    }
   ],
   "source": [
    "arr.sort(1)\n",
    "arr"
   ]
  },
  {
   "cell_type": "code",
   "execution_count": 192,
   "metadata": {},
   "outputs": [
    {
     "data": {
      "text/html": [
       "<p>The top-level method <code>np.sort</code> returns a sorted copy of an array instead of\n",
       "modifying it in place. A quick-and-dirty way to compute the quantiles of an array is to\n",
       "sort it and select the value at a particular rank:</p>"
      ],
      "text/plain": [
       "<IPython.core.display.HTML object>"
      ]
     },
     "metadata": {},
     "output_type": "display_data"
    }
   ],
   "source": [
    "%%html\n",
    "<p>The top-level method <code>np.sort</code> returns a sorted copy of an array instead of\n",
    "modifying it in place. A quick-and-dirty way to compute the quantiles of an array is to\n",
    "sort it and select the value at a particular rank:</p>"
   ]
  },
  {
   "cell_type": "code",
   "execution_count": 198,
   "metadata": {},
   "outputs": [
    {
     "data": {
      "text/plain": [
       "-1.6091427911559142"
      ]
     },
     "execution_count": 198,
     "metadata": {},
     "output_type": "execute_result"
    }
   ],
   "source": [
    "large_arr = randn(1000)\n",
    "large_arr.sort()\n",
    "large_arr[int(0.05 * len(large_arr))] # 5% quantile"
   ]
  },
  {
   "cell_type": "code",
   "execution_count": 200,
   "metadata": {},
   "outputs": [
    {
     "data": {
      "text/html": [
       "<h3>Unique and Other Set Logic</h3>"
      ],
      "text/plain": [
       "<IPython.core.display.HTML object>"
      ]
     },
     "metadata": {},
     "output_type": "display_data"
    }
   ],
   "source": [
    "%%html\n",
    "<h3>Unique and Other Set Logic</h3>"
   ]
  },
  {
   "cell_type": "code",
   "execution_count": 201,
   "metadata": {},
   "outputs": [
    {
     "data": {
      "text/plain": [
       "array(['Bob', 'Joe', 'Will'],\n",
       "      dtype='<U4')"
      ]
     },
     "execution_count": 201,
     "metadata": {},
     "output_type": "execute_result"
    }
   ],
   "source": [
    "np.unique(names)"
   ]
  },
  {
   "cell_type": "code",
   "execution_count": 202,
   "metadata": {},
   "outputs": [
    {
     "data": {
      "text/plain": [
       "array([1, 2, 3, 4])"
      ]
     },
     "execution_count": 202,
     "metadata": {},
     "output_type": "execute_result"
    }
   ],
   "source": [
    "ints = np.array([3, 3, 3, 2, 2, 1, 1, 4, 4])\n",
    "np.unique(ints)"
   ]
  },
  {
   "cell_type": "code",
   "execution_count": 203,
   "metadata": {},
   "outputs": [
    {
     "data": {
      "text/plain": [
       "['Bob', 'Joe', 'Will']"
      ]
     },
     "execution_count": 203,
     "metadata": {},
     "output_type": "execute_result"
    }
   ],
   "source": [
    "sorted(set(names))"
   ]
  },
  {
   "cell_type": "code",
   "execution_count": 204,
   "metadata": {},
   "outputs": [
    {
     "data": {
      "text/plain": [
       "array([ True, False, False,  True,  True, False,  True], dtype=bool)"
      ]
     },
     "execution_count": 204,
     "metadata": {},
     "output_type": "execute_result"
    }
   ],
   "source": [
    "values = np.array([6, 0, 0, 3, 2, 5, 6])\n",
    "np.in1d(values, [2, 3, 6])"
   ]
  },
  {
   "cell_type": "code",
   "execution_count": 205,
   "metadata": {},
   "outputs": [
    {
     "data": {
      "text/html": [
       "<h2>Array Set Operations</h2>\n",
       "<table width=\"100%\">\n",
       "<thead><th width=\"20%\">Method</th><th>Description</th>\n",
       "<tr><td><code>unique(x)</code></td>\n",
       "<td>Compute the sorted, unique elements in <code>x</code></td></tr>\n",
       "<tr><td><code>intersect1d(x, y)</code></td>\n",
       "<td>Compute the sorted, common elements in <code>x</code> and <code>y</code></td></tr>\n",
       "<tr><td><code>union1d(x, y)</code></td>\n",
       "<td>Compute the sorted union of elements</td></tr>\n",
       "<tr><td><code>in1d(x, y)</code></td>\n",
       "<td>Compute a Boolean array indicating whether each element of <code>x</code> is contained\n",
       "in <code>y</code></td></tr>\n",
       "<tr><td><code>setdiff1d(x, y)</code></td>\n",
       "<td>Set difference; elements in <code>x</code> that are not in <code>y</code></td></tr>\n",
       "<tr><td><code>setxorid(x, y)</code></td>\n",
       "<td>Set symmetric differences; elements that are in either of the arrays but not both</td>\n",
       "</tr>"
      ],
      "text/plain": [
       "<IPython.core.display.HTML object>"
      ]
     },
     "metadata": {},
     "output_type": "display_data"
    }
   ],
   "source": [
    "%%html\n",
    "<h2>Array Set Operations</h2>\n",
    "<table width=\"100%\">\n",
    "<thead><th width=\"20%\">Method</th><th>Description</th>\n",
    "<tr><td><code>unique(x)</code></td>\n",
    "<td>Compute the sorted, unique elements in <code>x</code></td></tr>\n",
    "<tr><td><code>intersect1d(x, y)</code></td>\n",
    "<td>Compute the sorted, common elements in <code>x</code> and <code>y</code></td></tr>\n",
    "<tr><td><code>union1d(x, y)</code></td>\n",
    "<td>Compute the sorted union of elements</td></tr>\n",
    "<tr><td><code>in1d(x, y)</code></td>\n",
    "<td>Compute a Boolean array indicating whether each element of <code>x</code> is contained\n",
    "in <code>y</code></td></tr>\n",
    "<tr><td><code>setdiff1d(x, y)</code></td>\n",
    "<td>Set difference; elements in <code>x</code> that are not in <code>y</code></td></tr>\n",
    "<tr><td><code>setxorid(x, y)</code></td>\n",
    "<td>Set symmetric differences; elements that are in either of the arrays but not both</td>\n",
    "</tr>"
   ]
  },
  {
   "cell_type": "code",
   "execution_count": 209,
   "metadata": {},
   "outputs": [
    {
     "data": {
      "text/html": [
       "<h3>Storing Arrays on Disk</h3>\n",
       "<h4>Binary Format</h4>\n",
       "<p>Arrays are saved by default in an uncompressed raw binary format with extension\n",
       "<code>.npy</code>.</p>"
      ],
      "text/plain": [
       "<IPython.core.display.HTML object>"
      ]
     },
     "metadata": {},
     "output_type": "display_data"
    }
   ],
   "source": [
    "%%html\n",
    "<h3>Storing Arrays on Disk</h3>\n",
    "<h4>Binary Format</h4>\n",
    "<p>Arrays are saved by default in an uncompressed raw binary format with extension\n",
    "<code>.npy</code>.</p>"
   ]
  },
  {
   "cell_type": "code",
   "execution_count": 208,
   "metadata": {},
   "outputs": [
    {
     "data": {
      "text/plain": [
       "array([0, 1, 2, 3, 4, 5, 6, 7, 8, 9])"
      ]
     },
     "execution_count": 208,
     "metadata": {},
     "output_type": "execute_result"
    }
   ],
   "source": [
    "arr = np.arange(10)\n",
    "ARRAY_FILE = 'data/some_array.npy'\n",
    "np.save(ARRAY_FILE, arr)\n",
    "np.load(ARRAY_FILE)"
   ]
  },
  {
   "cell_type": "code",
   "execution_count": 210,
   "metadata": {},
   "outputs": [
    {
     "data": {
      "text/html": [
       "<p><code>np.savez</code> can save multiple arrays (passed as kwargs) in a zip archive.</p>"
      ],
      "text/plain": [
       "<IPython.core.display.HTML object>"
      ]
     },
     "metadata": {},
     "output_type": "display_data"
    }
   ],
   "source": [
    "%%html\n",
    "<p><code>np.savez</code> can save multiple arrays (passed as kwargs) in a zip archive.</p>"
   ]
  },
  {
   "cell_type": "code",
   "execution_count": 213,
   "metadata": {},
   "outputs": [
    {
     "data": {
      "text/plain": [
       "array([0, 1, 2, 3, 4, 5, 6, 7, 8, 9])"
      ]
     },
     "execution_count": 213,
     "metadata": {},
     "output_type": "execute_result"
    }
   ],
   "source": [
    "ARRAY_ZIP = 'data/array_archive.npz'\n",
    "np.savez(ARRAY_ZIP, a=arr, b=arr)\n",
    "arch = np.load(ARRAY_ZIP)\n",
    "arch['b']"
   ]
  },
  {
   "cell_type": "code",
   "execution_count": 214,
   "metadata": {},
   "outputs": [
    {
     "data": {
      "text/html": [
       "</h4>Text Files</h4>"
      ],
      "text/plain": [
       "<IPython.core.display.HTML object>"
      ]
     },
     "metadata": {},
     "output_type": "display_data"
    }
   ],
   "source": [
    "%%html\n",
    "</h4>Text Files</h4>"
   ]
  },
  {
   "cell_type": "code",
   "execution_count": 218,
   "metadata": {},
   "outputs": [
    {
     "name": "stdout",
     "output_type": "stream",
     "text": [
      "0.580052,0.18673,1.040717,1.134411\n",
      "0.194163,-636917,\"-0.938659,\",0.124094\n",
      "-0.12641,0.268607,-0.695724,0.047428\n",
      "-1.484413,0.004176,0.744203,0.005487\n",
      "2.302869,0.200131,1.670238,-1.88109\n",
      "-0.19323,1.047233,0.482803,0.960334\n",
      "\n"
     ]
    }
   ],
   "source": [
    "from pathlib import Path\n",
    "ARRAY_CSV = 'data/array_ex.csv'\n",
    "print(Path(ARRAY_CSV).read_text())"
   ]
  },
  {
   "cell_type": "code",
   "execution_count": 220,
   "metadata": {},
   "outputs": [
    {
     "data": {
      "text/plain": [
       "array([[  5.80052000e-01,   1.86730000e-01,   1.04071700e+00,\n",
       "          1.13441100e+00],\n",
       "       [  1.94163000e-01,  -6.36917000e+05,  -9.38659000e-01,\n",
       "          1.24094000e-01],\n",
       "       [ -1.26410000e-01,   2.68607000e-01,  -6.95724000e-01,\n",
       "          4.74280000e-02],\n",
       "       [ -1.48441300e+00,   4.17600000e-03,   7.44203000e-01,\n",
       "          5.48700000e-03],\n",
       "       [  2.30286900e+00,   2.00131000e-01,   1.67023800e+00,\n",
       "         -1.88109000e+00],\n",
       "       [ -1.93230000e-01,   1.04723300e+00,   4.82803000e-01,\n",
       "          9.60334000e-01]])"
      ]
     },
     "execution_count": 220,
     "metadata": {},
     "output_type": "execute_result"
    }
   ],
   "source": [
    "arr = np.loadtxt(ARRAY_CSV, delimiter=',')\n",
    "arr"
   ]
  },
  {
   "cell_type": "code",
   "execution_count": 221,
   "metadata": {},
   "outputs": [
    {
     "data": {
      "text/html": [
       "<p><code>np.savetxt</code> performs the inverse operation, writing the array to a delimited\n",
       "text file.</p>\n",
       "<p><code>genfromtxt</code> is similar to <code>loadtxt</code> but is geared for structured\n",
       "arrays and missing data handling.</p>"
      ],
      "text/plain": [
       "<IPython.core.display.HTML object>"
      ]
     },
     "metadata": {},
     "output_type": "display_data"
    }
   ],
   "source": [
    "%%html\n",
    "<p><code>np.savetxt</code> performs the inverse operation, writing the array to a delimited\n",
    "text file.</p>\n",
    "<p><code>genfromtxt</code> is similar to <code>loadtxt</code> but is geared for structured\n",
    "arrays and missing data handling.</p>"
   ]
  },
  {
   "cell_type": "code",
   "execution_count": 226,
   "metadata": {},
   "outputs": [
    {
     "data": {
      "text/html": [
       "<h2>Linear Algebra</h2>\n",
       "<p>Multiplication by the <code>*</code> operator of matrices is performed element-wise.</p>"
      ],
      "text/plain": [
       "<IPython.core.display.HTML object>"
      ]
     },
     "metadata": {},
     "output_type": "display_data"
    }
   ],
   "source": [
    "%%html\n",
    "<h2>Linear Algebra</h2>\n",
    "<p>Multiplication by the <code>*</code> operator of matrices is performed element-wise.</p>"
   ]
  },
  {
   "cell_type": "code",
   "execution_count": 223,
   "metadata": {},
   "outputs": [
    {
     "data": {
      "text/plain": [
       "array([[ 1.,  2.,  3.],\n",
       "       [ 4.,  5.,  6.]])"
      ]
     },
     "execution_count": 223,
     "metadata": {},
     "output_type": "execute_result"
    }
   ],
   "source": [
    "x = np.array([[1., 2., 3.], [4., 5., 6.]])\n",
    "y = np.array([[6., 23.], [-1, 7], [8, 9]])\n",
    "x"
   ]
  },
  {
   "cell_type": "code",
   "execution_count": 224,
   "metadata": {},
   "outputs": [
    {
     "data": {
      "text/plain": [
       "array([[  6.,  23.],\n",
       "       [ -1.,   7.],\n",
       "       [  8.,   9.]])"
      ]
     },
     "execution_count": 224,
     "metadata": {},
     "output_type": "execute_result"
    }
   ],
   "source": [
    "y"
   ]
  },
  {
   "cell_type": "code",
   "execution_count": 225,
   "metadata": {},
   "outputs": [
    {
     "data": {
      "text/plain": [
       "array([[  28.,   64.],\n",
       "       [  67.,  181.]])"
      ]
     },
     "execution_count": 225,
     "metadata": {},
     "output_type": "execute_result"
    }
   ],
   "source": [
    "x.dot(y) # equivalently np.dot(x, y)"
   ]
  },
  {
   "cell_type": "code",
   "execution_count": 227,
   "metadata": {},
   "outputs": [
    {
     "data": {
      "text/plain": [
       "array([  6.,  15.])"
      ]
     },
     "execution_count": 227,
     "metadata": {},
     "output_type": "execute_result"
    }
   ],
   "source": [
    "np.dot(x, np.ones(3))"
   ]
  },
  {
   "cell_type": "code",
   "execution_count": 228,
   "metadata": {},
   "outputs": [
    {
     "data": {
      "text/plain": [
       "array([[ 1.42607145,  0.37532322,  0.6905718 , -0.33624469,  0.36066379],\n",
       "       [ 0.37532322,  0.30890781,  0.1747882 , -0.10834948,  0.02818885],\n",
       "       [ 0.6905718 ,  0.1747882 ,  0.50523886, -0.18255573,  0.43851441],\n",
       "       [-0.33624469, -0.10834948, -0.18255573,  0.14683795, -0.06454791],\n",
       "       [ 0.36066379,  0.02818885,  0.43851441, -0.06454791,  1.23695309]])"
      ]
     },
     "execution_count": 228,
     "metadata": {},
     "output_type": "execute_result"
    }
   ],
   "source": [
    "from numpy.linalg import inv, qr\n",
    "X = randn(5, 5)\n",
    "mat = X.T.dot(X)\n",
    "inv(mat)"
   ]
  },
  {
   "cell_type": "code",
   "execution_count": 230,
   "metadata": {},
   "outputs": [
    {
     "data": {
      "text/plain": [
       "array([[  1.00000000e+00,   5.65519853e-16,  -2.49800181e-16,\n",
       "         -2.42861287e-17,   1.33226763e-15],\n",
       "       [  4.99600361e-16,   1.00000000e+00,   2.91433544e-16,\n",
       "         -6.24500451e-17,   3.88578059e-16],\n",
       "       [  4.44089210e-16,  -1.11022302e-16,   1.00000000e+00,\n",
       "          2.77555756e-17,   0.00000000e+00],\n",
       "       [ -1.66533454e-16,   3.29597460e-16,  -9.99200722e-16,\n",
       "          1.00000000e+00,   2.22044605e-16],\n",
       "       [  1.11022302e-16,   2.77555756e-17,   1.11022302e-16,\n",
       "         -4.16333634e-17,   1.00000000e+00]])"
      ]
     },
     "execution_count": 230,
     "metadata": {},
     "output_type": "execute_result"
    }
   ],
   "source": [
    "mat.dot(inv(mat))\n",
    "# TODO: Have the output formatted with approximations"
   ]
  },
  {
   "cell_type": "code",
   "execution_count": 231,
   "metadata": {},
   "outputs": [
    {
     "data": {
      "text/plain": [
       "array([[ -5.04286926,   0.97461944,   7.20117467,  -5.32471939,\n",
       "         -1.45464239],\n",
       "       [  0.        ,  -5.17281792,   0.12013195,  -6.11021623,\n",
       "         -0.30148987],\n",
       "       [  0.        ,   0.        ,  -8.6740699 , -14.87550197,\n",
       "          2.45678646],\n",
       "       [  0.        ,   0.        ,   0.        ,  -2.69765103,\n",
       "         -0.42656651],\n",
       "       [  0.        ,   0.        ,   0.        ,   0.        ,\n",
       "          0.73375111]])"
      ]
     },
     "execution_count": 231,
     "metadata": {},
     "output_type": "execute_result"
    }
   ],
   "source": [
    "q, r = qr(mat)\n",
    "r"
   ]
  },
  {
   "cell_type": "code",
   "execution_count": 1,
   "metadata": {},
   "outputs": [
    {
     "data": {
      "text/html": [
       "<table width=\"100%\">\n",
       "<caption>Commonly Used <code>numpy.linalg</code> Functions</caption>\n",
       "<thead><th width=\"20%\">Function</th><th>Description</th></thead>\n",
       "<tr><td><code>diag</code></td>\n",
       "<td>Return the diagonal (or off-diagonal) elements of a square matrix as a 1D array, or\n",
       "convert a 1D arry into a square matrix with zeros on the off-diagonal</td></tr>\n",
       "<tr><td><code>dot</code></td>\n",
       "<td>Matrix multiplication</td></tr>\n",
       "<tr><td><code>trace</code></td>\n",
       "<td>Compute the sum of the diagonal elements</td></tr>\n",
       "<tr><td><code>det</code></td>\n",
       "<td>Compute the matrix determinant</td></tr>\n",
       "<tr><td><code>eig</code></td>\n",
       "<td>Compute the eigenvalues and eigenvectors of a square matrix</td></tr>\n",
       "<tr><td><code>inv</code></td>\n",
       "<td>Compute the inverse of a square matrix</td></tr>\n",
       "<tr><td><code>pinv</code></td>\n",
       "<td>Compute the Moore-Penrose pseudo-inverse inverse of a square matrix</td></tr>\n",
       "<tr><td><code>qr</code></td>\n",
       "<td>Compute the $QR$ decomposition</td></tr>\n",
       "<tr><td><code>svd</code></td>\n",
       "<td>Compute the singular value decomposition($SVD$)</td></tr>\n",
       "<tr><td><code>solve</code></td>\n",
       "<td>Solve the linear system $Ax=b$ for $x$, where $A$ is a square matrix</td></tr>\n",
       "<tr><td><code>lstsq</code></td>\n",
       "<td>Compute the least-squares solution to y=Xb</td></tr>\n",
       "</table>"
      ],
      "text/plain": [
       "<IPython.core.display.HTML object>"
      ]
     },
     "metadata": {},
     "output_type": "display_data"
    }
   ],
   "source": [
    "%%html\n",
    "<table width=\"100%\">\n",
    "<caption>Commonly Used <code>numpy.linalg</code> Functions</caption>\n",
    "<thead><th width=\"20%\">Function</th><th>Description</th></thead>\n",
    "<tr><td><code>diag</code></td>\n",
    "<td>Return the diagonal (or off-diagonal) elements of a square matrix as a 1D array, or\n",
    "convert a 1D arry into a square matrix with zeros on the off-diagonal</td></tr>\n",
    "<tr><td><code>dot</code></td>\n",
    "<td>Matrix multiplication</td></tr>\n",
    "<tr><td><code>trace</code></td>\n",
    "<td>Compute the sum of the diagonal elements</td></tr>\n",
    "<tr><td><code>det</code></td>\n",
    "<td>Compute the matrix determinant</td></tr>\n",
    "<tr><td><code>eig</code></td>\n",
    "<td>Compute the eigenvalues and eigenvectors of a square matrix</td></tr>\n",
    "<tr><td><code>inv</code></td>\n",
    "<td>Compute the inverse of a square matrix</td></tr>\n",
    "<tr><td><code>pinv</code></td>\n",
    "<td>Compute the Moore-Penrose pseudo-inverse inverse of a square matrix</td></tr>\n",
    "<tr><td><code>qr</code></td>\n",
    "<td>Compute the $QR$ decomposition</td></tr>\n",
    "<tr><td><code>svd</code></td>\n",
    "<td>Compute the singular value decomposition($SVD$)</td></tr>\n",
    "<tr><td><code>solve</code></td>\n",
    "<td>Solve the linear system $Ax=b$ for $x$, where $A$ is a square matrix</td></tr>\n",
    "<tr><td><code>lstsq</code></td>\n",
    "<td>Compute the least-squares solution to y=Xb</td></tr>\n",
    "</table>"
   ]
  },
  {
   "cell_type": "code",
   "execution_count": 233,
   "metadata": {},
   "outputs": [
    {
     "data": {
      "text/html": [
       "<h2>Random Numbers</h2>"
      ],
      "text/plain": [
       "<IPython.core.display.HTML object>"
      ]
     },
     "metadata": {},
     "output_type": "display_data"
    }
   ],
   "source": [
    "%%html\n",
    "<h2>Random Numbers</h2>"
   ]
  },
  {
   "cell_type": "code",
   "execution_count": 234,
   "metadata": {},
   "outputs": [
    {
     "data": {
      "text/plain": [
       "array([[-0.83504805, -0.62355058,  0.27357055,  1.81981342],\n",
       "       [ 1.45077343, -0.09552434,  0.16918973, -0.7904814 ],\n",
       "       [-0.26911445, -0.0391174 ,  0.52968494,  0.76584641],\n",
       "       [-1.42852692,  1.01131255,  0.50179341,  0.20313401]])"
      ]
     },
     "execution_count": 234,
     "metadata": {},
     "output_type": "execute_result"
    }
   ],
   "source": [
    "samples = np.random.normal(size=(4, 4)) # 4 x 4 array of samples from the standard normal distribution\n",
    "samples"
   ]
  },
  {
   "cell_type": "code",
   "execution_count": 238,
   "metadata": {},
   "outputs": [
    {
     "name": "stdout",
     "output_type": "stream",
     "text": [
      "1.46 s ± 31.3 ms per loop (mean ± std. dev. of 7 runs, 1 loop each)\n"
     ]
    }
   ],
   "source": [
    "from random import normalvariate\n",
    "N= 1000000\n",
    "%timeit samples = [normalvariate(0, 1) for _ in range(N)]"
   ]
  },
  {
   "cell_type": "code",
   "execution_count": 239,
   "metadata": {},
   "outputs": [
    {
     "name": "stdout",
     "output_type": "stream",
     "text": [
      "80.6 ms ± 779 µs per loop (mean ± std. dev. of 7 runs, 10 loops each)\n"
     ]
    }
   ],
   "source": [
    "%timeit np.random.normal(size=N)"
   ]
  },
  {
   "cell_type": "code",
   "execution_count": 240,
   "metadata": {},
   "outputs": [
    {
     "data": {
      "text/html": [
       "<table width=\"100%\">\n",
       "<thead><th width=\"20%\">Function</th><th>Description</th></thead>\n",
       "<tr><td><code>seed</code></td>\n",
       "<td>Return a random permutation of a sequence, or return a permuted range</td></tr>\n",
       "<tr><td><code>permutation</code></td>\n",
       "<td>Return a random permutation of a sequence, or return a permuted range</td></tr>\n",
       "<tr><td><code>shuffle</code></td>\n",
       "<td>Randomly permute a sequence in place</td></tr>\n",
       "<tr><td><code>rand</code></td>\n",
       "<td>Draw samples from a uniform distribution</td></tr>\n",
       "<tr><td><code>randint</code></td>\n",
       "<td>Draw random integers from a given low-to-high range</td></tr>\n",
       "<tr><td><code>randn</code></td>\n",
       "<td>Draw samples from a normal distribution with mean $0$ and standard deviation $1$\n",
       "(MATLAB-like interface)</td></tr>\n",
       "<tr><td><code>binomial</code></td>\n",
       "<td>Draw samples from a binomial distribution</td></tr>\n",
       "<tr><td><code>normal</code></td>\n",
       "<td>Draw samples from a normal (Gaussian) distribution</td></tr>\n",
       "<tr><td><code>beta</code></td>\n",
       "<td>Draw samples from a beta distribution</td></tr>\n",
       "<tr><td><code>chisquare</code></td>\n",
       "<td>Draw samples from a chi-square distribution</td></tr>\n",
       "<tr><td><code>gamma</code></td>\n",
       "<td>Draw samples from a gamma distribution</td></tr>\n",
       "<tr><td><code>uniform</code></td>\n",
       "<td>Draw samples from a uniform $[0,1)$ distribution</td></tr>\n",
       "</table>"
      ],
      "text/plain": [
       "<IPython.core.display.HTML object>"
      ]
     },
     "metadata": {},
     "output_type": "display_data"
    }
   ],
   "source": [
    "%%html\n",
    "<table width=\"100%\">\n",
    "<thead><th width=\"20%\">Function</th><th>Description</th></thead>\n",
    "<tr><td><code>seed</code></td>\n",
    "<td>Return a random permutation of a sequence, or return a permuted range</td></tr>\n",
    "<tr><td><code>permutation</code></td>\n",
    "<td>Return a random permutation of a sequence, or return a permuted range</td></tr>\n",
    "<tr><td><code>shuffle</code></td>\n",
    "<td>Randomly permute a sequence in place</td></tr>\n",
    "<tr><td><code>rand</code></td>\n",
    "<td>Draw samples from a uniform distribution</td></tr>\n",
    "<tr><td><code>randint</code></td>\n",
    "<td>Draw random integers from a given low-to-high range</td></tr>\n",
    "<tr><td><code>randn</code></td>\n",
    "<td>Draw samples from a normal distribution with mean $0$ and standard deviation $1$\n",
    "(MATLAB-like interface)</td></tr>\n",
    "<tr><td><code>binomial</code></td>\n",
    "<td>Draw samples from a binomial distribution</td></tr>\n",
    "<tr><td><code>normal</code></td>\n",
    "<td>Draw samples from a normal (Gaussian) distribution</td></tr>\n",
    "<tr><td><code>beta</code></td>\n",
    "<td>Draw samples from a beta distribution</td></tr>\n",
    "<tr><td><code>chisquare</code></td>\n",
    "<td>Draw samples from a chi-square distribution</td></tr>\n",
    "<tr><td><code>gamma</code></td>\n",
    "<td>Draw samples from a gamma distribution</td></tr>\n",
    "<tr><td><code>uniform</code></td>\n",
    "<td>Draw samples from a uniform $[0,1)$ distribution</td></tr>\n",
    "</table>"
   ]
  },
  {
   "cell_type": "code",
   "execution_count": 241,
   "metadata": {},
   "outputs": [
    {
     "data": {
      "text/html": [
       "<h3>Random Walks</h3>"
      ],
      "text/plain": [
       "<IPython.core.display.HTML object>"
      ]
     },
     "metadata": {},
     "output_type": "display_data"
    }
   ],
   "source": [
    "%%html\n",
    "<h3>Random Walks</h3>"
   ]
  },
  {
   "cell_type": "code",
   "execution_count": 245,
   "metadata": {},
   "outputs": [],
   "source": [
    "import random\n",
    "position = 0\n",
    "walk = [position]\n",
    "steps = 1000\n",
    "for i in np.arange(steps):\n",
    "    step = 1 if random.randint(0, 1) else -1\n",
    "    position += step\n",
    "    walk.append(position)"
   ]
  },
  {
   "cell_type": "code",
   "execution_count": 249,
   "metadata": {},
   "outputs": [
    {
     "data": {
      "text/plain": [
       "Text(0.5,1,'Random walk with -1 | 1 steps')"
      ]
     },
     "execution_count": 249,
     "metadata": {},
     "output_type": "execute_result"
    },
    {
     "data": {
      "image/png": "[encoded data removed]",
      "text/plain": [
       "<matplotlib.figure.Figure at 0x7f17d87a0208>"
      ]
     },
     "metadata": {},
     "output_type": "display_data"
    }
   ],
   "source": [
    "D = range(100)\n",
    "X = [x for x in D]\n",
    "Y = [walk[i] for i in D]\n",
    "plt.plot(X, Y)\n",
    "plt.title(\"Random walk with -1 | 1 steps\")"
   ]
  },
  {
   "cell_type": "code",
   "execution_count": 250,
   "metadata": {},
   "outputs": [
    {
     "data": {
      "text/plain": [
       "-47"
      ]
     },
     "execution_count": 250,
     "metadata": {},
     "output_type": "execute_result"
    }
   ],
   "source": [
    "n = 1000\n",
    "draws = np.random.randint(0, 2, size=n)\n",
    "steps = np.where(draws > 0, 1, -1)\n",
    "walk = steps.cumsum()\n",
    "walk.min()"
   ]
  },
  {
   "cell_type": "code",
   "execution_count": 251,
   "metadata": {},
   "outputs": [
    {
     "data": {
      "text/plain": [
       "7"
      ]
     },
     "execution_count": 251,
     "metadata": {},
     "output_type": "execute_result"
    }
   ],
   "source": [
    "walk.max()"
   ]
  },
  {
   "cell_type": "code",
   "execution_count": 252,
   "metadata": {},
   "outputs": [
    {
     "data": {
      "text/plain": [
       "233"
      ]
     },
     "execution_count": 252,
     "metadata": {},
     "output_type": "execute_result"
    }
   ],
   "source": [
    "(np.abs(walk) >= 10).argmax()"
   ]
  },
  {
   "cell_type": "code",
   "execution_count": 253,
   "metadata": {},
   "outputs": [
    {
     "data": {
      "text/html": [
       "<h3>Simulating Many Random Walks at Once</h3>"
      ],
      "text/plain": [
       "<IPython.core.display.HTML object>"
      ]
     },
     "metadata": {},
     "output_type": "display_data"
    }
   ],
   "source": [
    "%%html\n",
    "<h3>Simulating Many Random Walks at Once</h3>"
   ]
  },
  {
   "cell_type": "code",
   "execution_count": 254,
   "metadata": {},
   "outputs": [
    {
     "data": {
      "text/plain": [
       "array([[  1,   0,   1, ..., -22, -21, -22],\n",
       "       [  1,   0,  -1, ...,  62,  63,  64],\n",
       "       [ -1,  -2,  -3, ...,  18,  17,  16],\n",
       "       ..., \n",
       "       [ -1,  -2,  -1, ...,  28,  29,  30],\n",
       "       [  1,   2,   1, ...,  -6,  -5,  -6],\n",
       "       [  1,   0,   1, ..., -28, -29, -28]])"
      ]
     },
     "execution_count": 254,
     "metadata": {},
     "output_type": "execute_result"
    }
   ],
   "source": [
    "nwalks = 5000\n",
    "nsteps = 1000\n",
    "draws = np.random.randint(0, 2, size=(nwalks, nsteps)) # 0 or 1\n",
    "steps = np.where(draws > 0, 1, -1)\n",
    "walks = steps.cumsum(1)\n",
    "walks"
   ]
  },
  {
   "cell_type": "code",
   "execution_count": 255,
   "metadata": {},
   "outputs": [
    {
     "data": {
      "text/plain": [
       "117"
      ]
     },
     "execution_count": 255,
     "metadata": {},
     "output_type": "execute_result"
    }
   ],
   "source": [
    "walks.max()"
   ]
  },
  {
   "cell_type": "code",
   "execution_count": 256,
   "metadata": {},
   "outputs": [
    {
     "data": {
      "text/plain": [
       "-134"
      ]
     },
     "execution_count": 256,
     "metadata": {},
     "output_type": "execute_result"
    }
   ],
   "source": [
    "walks.min()"
   ]
  },
  {
   "cell_type": "code",
   "execution_count": 257,
   "metadata": {},
   "outputs": [
    {
     "data": {
      "text/plain": [
       "array([ True,  True,  True, ...,  True,  True,  True], dtype=bool)"
      ]
     },
     "execution_count": 257,
     "metadata": {},
     "output_type": "execute_result"
    }
   ],
   "source": [
    "hits30 = (np.abs(walks) >= 30).any(1)\n",
    "hits30"
   ]
  },
  {
   "cell_type": "code",
   "execution_count": 258,
   "metadata": {},
   "outputs": [
    {
     "data": {
      "text/plain": [
       "3317"
      ]
     },
     "execution_count": 258,
     "metadata": {},
     "output_type": "execute_result"
    }
   ],
   "source": [
    "hits30.sum() # Number that hit 30 or -30"
   ]
  },
  {
   "cell_type": "code",
   "execution_count": 259,
   "metadata": {},
   "outputs": [
    {
     "data": {
      "text/plain": [
       "501.93940307506784"
      ]
     },
     "execution_count": 259,
     "metadata": {},
     "output_type": "execute_result"
    }
   ],
   "source": [
    "crossing_times = (np.abs(walks[hits30]) >= 30).argmax(1)\n",
    "crossing_times.mean()"
   ]
  },
  {
   "cell_type": "code",
   "execution_count": 261,
   "metadata": {},
   "outputs": [
    {
     "data": {
      "text/plain": [
       "array([[ -3.72368864e-02,  -1.13356214e-01,   5.41201216e-02, ...,\n",
       "         -2.49844713e-01,   3.86504209e-02,  -1.17217958e-01],\n",
       "       [ -2.27101194e-01,  -2.50968415e-01,  -2.10892473e-01, ...,\n",
       "         -2.08736243e-01,   3.35459697e-01,   4.23795169e-01],\n",
       "       [  9.64234476e-02,   2.22879975e-01,   3.20931824e-01, ...,\n",
       "          2.97116743e-04,  -1.70961756e-01,  -4.36575354e-01],\n",
       "       ..., \n",
       "       [  6.72012985e-02,  -1.28133113e-02,   1.41401160e-01, ...,\n",
       "         -4.61110390e-01,   1.15109253e-01,   2.85052921e-01],\n",
       "       [  3.02626701e-01,  -1.69969786e-01,   9.25376518e-03, ...,\n",
       "          3.75223903e-01,   1.82908380e-02,   2.04298794e-01],\n",
       "       [ -5.18184337e-02,   1.27194473e-01,  -2.18254884e-01, ...,\n",
       "         -1.55907123e-01,  -5.14193971e-01,  -1.77671111e-01]])"
      ]
     },
     "execution_count": 261,
     "metadata": {},
     "output_type": "execute_result"
    }
   ],
   "source": [
    "steps = np.random.normal(loc=0, scale=0.25, size=(nwalks, nsteps))\n",
    "steps"
   ]
  },
  {
   "cell_type": "code",
   "execution_count": 3,
   "metadata": {},
   "outputs": [
    {
     "data": {
      "text/plain": [
       "array([0, 1, 2, 3, 4, 5, 6, 7])"
      ]
     },
     "execution_count": 3,
     "metadata": {},
     "output_type": "execute_result"
    }
   ],
   "source": [
    "arr = np.arange(8)\n",
    "arr"
   ]
  },
  {
   "cell_type": "code",
   "execution_count": 5,
   "metadata": {},
   "outputs": [
    {
     "data": {
      "text/plain": [
       "array([[0, 1],\n",
       "       [2, 3],\n",
       "       [4, 5],\n",
       "       [6, 7]])"
      ]
     },
     "execution_count": 5,
     "metadata": {},
     "output_type": "execute_result"
    }
   ],
   "source": [
    "arr.reshape((4, 2))"
   ]
  },
  {
   "cell_type": "code",
   "execution_count": 6,
   "metadata": {},
   "outputs": [
    {
     "data": {
      "text/plain": [
       "array([[0, 1, 2, 3],\n",
       "       [4, 5, 6, 7]])"
      ]
     },
     "execution_count": 6,
     "metadata": {},
     "output_type": "execute_result"
    }
   ],
   "source": [
    "arr.reshape((4, 2)).reshape((2, 4))"
   ]
  },
  {
   "cell_type": "code",
   "execution_count": 7,
   "metadata": {},
   "outputs": [
    {
     "data": {
      "text/plain": [
       "array([[ 0,  1,  2],\n",
       "       [ 3,  4,  5],\n",
       "       [ 6,  7,  8],\n",
       "       [ 9, 10, 11],\n",
       "       [12, 13, 14]])"
      ]
     },
     "execution_count": 7,
     "metadata": {},
     "output_type": "execute_result"
    }
   ],
   "source": [
    "arr = np.arange(15)\n",
    "arr.reshape((5, -1))"
   ]
  },
  {
   "cell_type": "code",
   "execution_count": 8,
   "metadata": {},
   "outputs": [
    {
     "data": {
      "text/plain": [
       "(3, 5)"
      ]
     },
     "execution_count": 8,
     "metadata": {},
     "output_type": "execute_result"
    }
   ],
   "source": [
    "other_arr = np.ones((3, 5))\n",
    "other_arr.shape"
   ]
  },
  {
   "cell_type": "code",
   "execution_count": 9,
   "metadata": {},
   "outputs": [
    {
     "data": {
      "text/plain": [
       "array([[ 0,  1,  2,  3,  4],\n",
       "       [ 5,  6,  7,  8,  9],\n",
       "       [10, 11, 12, 13, 14]])"
      ]
     },
     "execution_count": 9,
     "metadata": {},
     "output_type": "execute_result"
    }
   ],
   "source": [
    "arr.reshape(other_arr.shape)"
   ]
  },
  {
   "cell_type": "code",
   "execution_count": 10,
   "metadata": {},
   "outputs": [
    {
     "data": {
      "text/plain": [
       "array([[ 0,  1,  2],\n",
       "       [ 3,  4,  5],\n",
       "       [ 6,  7,  8],\n",
       "       [ 9, 10, 11],\n",
       "       [12, 13, 14]])"
      ]
     },
     "execution_count": 10,
     "metadata": {},
     "output_type": "execute_result"
    }
   ],
   "source": [
    "arr = np.arange(15).reshape((5, 3))\n",
    "arr"
   ]
  },
  {
   "cell_type": "code",
   "execution_count": 11,
   "metadata": {},
   "outputs": [
    {
     "data": {
      "text/plain": [
       "array([ 0,  1,  2,  3,  4,  5,  6,  7,  8,  9, 10, 11, 12, 13, 14])"
      ]
     },
     "execution_count": 11,
     "metadata": {},
     "output_type": "execute_result"
    }
   ],
   "source": [
    "arr.ravel() # Does not copy the data"
   ]
  },
  {
   "cell_type": "code",
   "execution_count": 12,
   "metadata": {},
   "outputs": [
    {
     "data": {
      "text/plain": [
       "array([ 0,  1,  2,  3,  4,  5,  6,  7,  8,  9, 10, 11, 12, 13, 14])"
      ]
     },
     "execution_count": 12,
     "metadata": {},
     "output_type": "execute_result"
    }
   ],
   "source": [
    "arr.flatten() # Copies the data"
   ]
  },
  {
   "cell_type": "code",
   "execution_count": 13,
   "metadata": {},
   "outputs": [
    {
     "data": {
      "text/plain": [
       "array([[ 1,  2,  3],\n",
       "       [ 4,  5,  6],\n",
       "       [ 7,  8,  9],\n",
       "       [10, 11, 12]])"
      ]
     },
     "execution_count": 13,
     "metadata": {},
     "output_type": "execute_result"
    }
   ],
   "source": [
    "arr1 = np.array([[1, 2, 3], [4, 5, 6]])\n",
    "arr2 = np.array([[7, 8, 9], [10, 11, 12]])\n",
    "np.concatenate([arr1, arr2], axis=0)"
   ]
  },
  {
   "cell_type": "code",
   "execution_count": 14,
   "metadata": {},
   "outputs": [
    {
     "data": {
      "text/plain": [
       "array([[ 1,  2,  3,  7,  8,  9],\n",
       "       [ 4,  5,  6, 10, 11, 12]])"
      ]
     },
     "execution_count": 14,
     "metadata": {},
     "output_type": "execute_result"
    }
   ],
   "source": [
    "np.concatenate([arr1, arr2], axis=1)"
   ]
  },
  {
   "cell_type": "code",
   "execution_count": 15,
   "metadata": {},
   "outputs": [
    {
     "data": {
      "text/plain": [
       "array([[ 1,  2,  3],\n",
       "       [ 4,  5,  6],\n",
       "       [ 7,  8,  9],\n",
       "       [10, 11, 12]])"
      ]
     },
     "execution_count": 15,
     "metadata": {},
     "output_type": "execute_result"
    }
   ],
   "source": [
    "np.vstack((arr1, arr2))"
   ]
  },
  {
   "cell_type": "code",
   "execution_count": 16,
   "metadata": {},
   "outputs": [
    {
     "data": {
      "text/plain": [
       "array([[ 1,  2,  3,  7,  8,  9],\n",
       "       [ 4,  5,  6, 10, 11, 12]])"
      ]
     },
     "execution_count": 16,
     "metadata": {},
     "output_type": "execute_result"
    }
   ],
   "source": [
    "np.hstack((arr1, arr2))"
   ]
  },
  {
   "cell_type": "code",
   "execution_count": 17,
   "metadata": {},
   "outputs": [
    {
     "data": {
      "text/plain": [
       "array([[ 0.3675846 ,  1.8324874 ],\n",
       "       [ 0.346299  ,  0.5632076 ],\n",
       "       [ 0.98791231, -0.642578  ],\n",
       "       [ 0.07489878,  1.9568014 ],\n",
       "       [-0.27400183, -0.33492646]])"
      ]
     },
     "execution_count": 17,
     "metadata": {},
     "output_type": "execute_result"
    }
   ],
   "source": [
    "arr = np.random.randn(5, 2)\n",
    "arr"
   ]
  },
  {
   "cell_type": "code",
   "execution_count": 18,
   "metadata": {},
   "outputs": [
    {
     "data": {
      "text/plain": [
       "array([[ 0.3675846,  1.8324874]])"
      ]
     },
     "execution_count": 18,
     "metadata": {},
     "output_type": "execute_result"
    }
   ],
   "source": [
    "first, second, third = np.split(arr, [1, 3])\n",
    "first"
   ]
  },
  {
   "cell_type": "code",
   "execution_count": 19,
   "metadata": {},
   "outputs": [
    {
     "data": {
      "text/plain": [
       "array([[ 0.346299  ,  0.5632076 ],\n",
       "       [ 0.98791231, -0.642578  ]])"
      ]
     },
     "execution_count": 19,
     "metadata": {},
     "output_type": "execute_result"
    }
   ],
   "source": [
    "second"
   ]
  },
  {
   "cell_type": "code",
   "execution_count": 20,
   "metadata": {},
   "outputs": [
    {
     "data": {
      "text/plain": [
       "array([[ 0.07489878,  1.9568014 ],\n",
       "       [-0.27400183, -0.33492646]])"
      ]
     },
     "execution_count": 20,
     "metadata": {},
     "output_type": "execute_result"
    }
   ],
   "source": [
    "third"
   ]
  },
  {
   "cell_type": "code",
   "execution_count": 28,
   "metadata": {},
   "outputs": [
    {
     "data": {
      "text/html": [
       "<table width=\"80%\">\n",
       "<caption>Array Concatenation Functions</caption>\n",
       "<thead><th width=\"15%\">Function</th><th>Description</th></thead>\n",
       "\n",
       "<tr><td><code>concatenate</code></td><td>Most general function&#44; concatenates collection of arrays along one axis</td></tr>\n",
       "<tr><td><code>vstack&#44; row_stack</code></td><td>Stack arrays row-wise (along axis 0)</td></tr>\n",
       "<tr><td><code>hstack</code></td><td>Stack arrays column-wise (along axis 1)</td></tr>\n",
       "<tr><td><code>column_stack</code></td><td>Like hstack&#44;  but converts 1D arrays to 2D column vectors first</td></tr>\n",
       "<tr><td><code>dstack</code></td><td>Stack arrays “depth”-wise (along axis 2)</td></tr>\n",
       "<tr><td><code>split</code></td><td>Split array at passed locations along a particular axis</td></tr>\n",
       "<tr><td><code>hsplit / vsplit / dsplit</code></td><td>Convenience functions for splitting on axis 0&#44; 1&#44; and 2&#44; respectively.</td></tr>\n",
       "</table>\n"
      ],
      "text/plain": [
       "<IPython.core.display.HTML object>"
      ]
     },
     "execution_count": 28,
     "metadata": {},
     "output_type": "execute_result"
    }
   ],
   "source": [
    "HTML(Path('data/array_concat_funcs.html').read_text())"
   ]
  },
  {
   "cell_type": "code",
   "execution_count": 32,
   "metadata": {},
   "outputs": [
    {
     "data": {
      "text/plain": [
       "array([[ 0.        ,  1.        ],\n",
       "       [ 2.        ,  3.        ],\n",
       "       [ 4.        ,  5.        ],\n",
       "       [ 0.38952467,  1.98990243],\n",
       "       [ 1.3874005 , -1.74624521],\n",
       "       [-0.55350221, -0.45592378]])"
      ]
     },
     "execution_count": 32,
     "metadata": {},
     "output_type": "execute_result"
    }
   ],
   "source": [
    "arr = np.arange(6)\n",
    "arr1 = arr.reshape((3, 2))\n",
    "arr2 = randn(3, 2)\n",
    "np.r_[arr1, arr2]"
   ]
  },
  {
   "cell_type": "code",
   "execution_count": 34,
   "metadata": {},
   "outputs": [
    {
     "data": {
      "text/plain": [
       "array([[ 0.        ,  1.        ,  0.        ],\n",
       "       [ 2.        ,  3.        ,  1.        ],\n",
       "       [ 4.        ,  5.        ,  2.        ],\n",
       "       [ 0.38952467,  1.98990243,  3.        ],\n",
       "       [ 1.3874005 , -1.74624521,  4.        ],\n",
       "       [-0.55350221, -0.45592378,  5.        ]])"
      ]
     },
     "execution_count": 34,
     "metadata": {},
     "output_type": "execute_result"
    }
   ],
   "source": [
    "np.c_[np.r_[arr1, arr2], arr]"
   ]
  },
  {
   "cell_type": "code",
   "execution_count": 36,
   "metadata": {},
   "outputs": [
    {
     "data": {
      "text/plain": [
       "array([[  1, -10],\n",
       "       [  2,  -9],\n",
       "       [  3,  -8],\n",
       "       [  4,  -7],\n",
       "       [  5,  -6]])"
      ]
     },
     "execution_count": 36,
     "metadata": {},
     "output_type": "execute_result"
    }
   ],
   "source": [
    "np.c_[1:6, -10:-5]"
   ]
  },
  {
   "cell_type": "code",
   "execution_count": null,
   "metadata": {},
   "outputs": [],
   "source": []
  }
 ],
 "metadata": {
  "kernelspec": {
   "display_name": "Python 3",
   "language": "python",
   "name": "python3"
  },
  "language_info": {
   "codemirror_mode": {
    "name": "ipython",
    "version": 3
   },
   "file_extension": ".py",
   "mimetype": "text/x-python",
   "name": "python",
   "nbconvert_exporter": "python",
   "pygments_lexer": "ipython3",
   "version": "3.6.3"
  }
 },
 "nbformat": 4,
 "nbformat_minor": 2
}
