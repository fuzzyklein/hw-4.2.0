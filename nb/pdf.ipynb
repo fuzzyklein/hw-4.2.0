{
 "cells": [
  {
   "cell_type": "code",
   "execution_count": 1,
   "id": "d8759ac8-7113-4bba-8665-7c8a7eba4b0d",
   "metadata": {},
   "outputs": [],
   "source": [
    "import json\n",
    "import os\n",
    "from pathlib import Path\n",
    "import site\n",
    "import subprocess\n",
    "from warnings import warn"
   ]
  },
  {
   "cell_type": "code",
   "execution_count": 2,
   "id": "8404853b-5eca-49c5-b52f-3d76b38a4b53",
   "metadata": {},
   "outputs": [],
   "source": [
    "from bs4 import BeautifulSoup\n",
    "import isbnlib\n",
    "import mysql.connector\n",
    "import pdfminer\n",
    "import requests"
   ]
  },
  {
   "cell_type": "code",
   "execution_count": 3,
   "id": "5653d809-a1cc-48d7-9a2f-102f465a17c4",
   "metadata": {
    "tags": []
   },
   "outputs": [],
   "source": [
    "BASEDIR = Path.home() / 'Development/hw-4.2.0'\n",
    "site.addsitedir(str(BASEDIR / 'hw'))"
   ]
  },
  {
   "cell_type": "code",
   "execution_count": 4,
   "id": "9dd8e5bc-159a-425e-8ea1-74f04179ea89",
   "metadata": {},
   "outputs": [],
   "source": [
    "from tools import *\n",
    "from program import Program"
   ]
  },
  {
   "cell_type": "code",
   "execution_count": 5,
   "id": "6f8a9f80-54ec-4a8a-8614-d320aba06da6",
   "metadata": {},
   "outputs": [],
   "source": [
    "os.chdir(BASEDIR)"
   ]
  },
  {
   "cell_type": "code",
   "execution_count": 12,
   "id": "1ffe3c6e-4f41-4bc4-862c-9292c6cdf8a5",
   "metadata": {},
   "outputs": [],
   "source": [
    "cnf = configure('etc/config.ini')"
   ]
  },
  {
   "cell_type": "code",
   "execution_count": 20,
   "id": "51e83347-682a-48db-b6bb-b1d32204909a",
   "metadata": {},
   "outputs": [
    {
     "data": {
      "text/plain": [
       "'pq4nkb3f&zz^m^sql\\n'"
      ]
     },
     "execution_count": 20,
     "metadata": {},
     "output_type": "execute_result"
    }
   ],
   "source": [
    "(Path.home()/cnf['DATABASE']['pass_file']).read_text()"
   ]
  },
  {
   "cell_type": "code",
   "execution_count": 28,
   "id": "5931a347-91df-4550-8330-eae5048f9872",
   "metadata": {},
   "outputs": [],
   "source": [
    "cnx = mysql.connector.connect(user='fuzzy', password=(Path.home()/cnf['DATABASE']['pass_file']).read_text(),\n",
    "                              host='192.168.254.71',\n",
    "                              database='library')\n",
    "cnx.close()"
   ]
  },
  {
   "cell_type": "code",
   "execution_count": null,
   "id": "b4645ae7-d47b-4028-9f26-09a3067be914",
   "metadata": {
    "scrolled": true,
    "tags": []
   },
   "outputs": [],
   "source": [
    "public(mysql.connector.connection)"
   ]
  },
  {
   "cell_type": "code",
   "execution_count": null,
   "id": "2bdbc7f1-0fc5-4f50-8e90-d7f7fd0f436e",
   "metadata": {},
   "outputs": [],
   "source": [
    "l = list(map(lambda s: str(s).lstrip('b').strip(\"'\"), [s for s in check_output('pdf2txt.py /home/fuzzy/Library/Python/Zed_Shaw_-_Learn_Python_the_Hard_Way_3rd.pdf'.split()).split(b'\\n') if s.startswith(b'ISBN')]))"
   ]
  },
  {
   "cell_type": "code",
   "execution_count": null,
   "id": "10328b3b-b8d7-4e27-af53-702823b5dea4",
   "metadata": {},
   "outputs": [],
   "source": [
    "isbnlib.meta(l[0].split()[-1])"
   ]
  },
  {
   "cell_type": "code",
   "execution_count": null,
   "id": "7e64803b-0362-4386-aa2c-0213a6b85aa3",
   "metadata": {},
   "outputs": [],
   "source": [
    "args = [ str((Path.home() / 'Library').absolute()) ]"
   ]
  },
  {
   "cell_type": "code",
   "execution_count": null,
   "id": "a404128b-f494-4c5b-97a5-f8b4da7e613c",
   "metadata": {},
   "outputs": [],
   "source": [
    "settings = {'logfile': 'log/pdf.log',\n",
    " 'program': 'get_info',\n",
    " 'version': '4.2.0',\n",
    " 'packages_dir': \"'Development/hw-4.2.0'\",\n",
    " 'args_json_file': 'etc/arguments.json',\n",
    " 'epilog': 'USAGE: None',\n",
    " 'verbose': True,\n",
    " 'debug': True,\n",
    " 'args': args,\n",
    " 'testing': True,\n",
    " 'recursive': True}"
   ]
  },
  {
   "cell_type": "code",
   "execution_count": null,
   "id": "a237ebc4-4c65-497c-9e20-0e09258b6aa7",
   "metadata": {},
   "outputs": [],
   "source": [
    "class GetPDFInfo(Program):\n",
    "    def __init__(self, settings):\n",
    "        super().__init__(settings)\n",
    "        self.results = list()\n",
    "        self.process_args()\n",
    "        \n",
    "    def process_file(self, p:Path):\n",
    "        if p.name.endswith('.pdf'):\n",
    "            l = list()\n",
    "            try:\n",
    "                l = list(map(lambda s: str(s).lstrip('b').strip(\"'\"),\n",
    "                             [s for s in run(['pdf2txt.py', str(p)]).split('\\n') if s.startswith('ISBN')]))\n",
    "            except subprocess.CalledProcessError:\n",
    "                warn('pdf2txt.py returned an error code!')\n",
    "            if l:\n",
    "                info = dict()\n",
    "                try:\n",
    "                    info = isbnlib.meta(l[0].split()[-1])\n",
    "                except isbnlib.NotValidISBNError as e:\n",
    "                    warn(f'Invalid ISBN in file {p.name} : {l[0].split()[-1]}')\n",
    "                if info:\n",
    "                    self.results.append(info)\n",
    "                else:\n",
    "                    warn(f'Failed to get info for {p.name}')\n",
    "            else:\n",
    "                warn(f'Failed to get ISBN for {p.name}')"
   ]
  },
  {
   "cell_type": "code",
   "execution_count": null,
   "id": "8b0b7f0f-b822-4d1b-a9ce-8e0d182df487",
   "metadata": {
    "scrolled": true,
    "tags": []
   },
   "outputs": [],
   "source": [
    "results = GetPDFInfo(settings).results"
   ]
  },
  {
   "cell_type": "code",
   "execution_count": null,
   "id": "333986c0-271b-419e-a9ad-3c5431bdb5ae",
   "metadata": {},
   "outputs": [],
   "source": [
    "results[0]"
   ]
  },
  {
   "cell_type": "code",
   "execution_count": null,
   "id": "e65beec7-1c79-43cd-a490-05673be30e32",
   "metadata": {},
   "outputs": [],
   "source": [
    "RESULTS_FILE = BASEDIR / 'data/info4pybooks.json'\n",
    "with RESULTS_FILE.open('w') as f:\n",
    "    json.dump(results, f)"
   ]
  },
  {
   "cell_type": "code",
   "execution_count": null,
   "id": "68b30bed-5d34-4205-a077-bf922b45f7f9",
   "metadata": {},
   "outputs": [],
   "source": [
    "help(json.dump)"
   ]
  },
  {
   "cell_type": "code",
   "execution_count": null,
   "id": "ff210efe-8794-41d6-a474-e98a7380de83",
   "metadata": {},
   "outputs": [],
   "source": [
    "link = f'http://classify.oclc.org/classify2/ClassifyDemo?search-standnum-txt={results[0][\"ISBN-13\"]}&startRec=0'"
   ]
  },
  {
   "cell_type": "code",
   "execution_count": null,
   "id": "d20910e1-96f3-4639-842f-b1009a22a14c",
   "metadata": {},
   "outputs": [],
   "source": [
    "response = requests.get(link)"
   ]
  },
  {
   "cell_type": "code",
   "execution_count": null,
   "id": "709942c4-bc62-4129-9838-c2ea39795a55",
   "metadata": {},
   "outputs": [],
   "source": [
    "soup = BeautifulSoup(response.text)"
   ]
  },
  {
   "cell_type": "code",
   "execution_count": null,
   "id": "86515e41-17fc-4cdb-8128-8182cb2f7c36",
   "metadata": {},
   "outputs": [],
   "source": [
    "soup.find('tbody').find('td').find('a')#['href']"
   ]
  },
  {
   "cell_type": "code",
   "execution_count": null,
   "id": "7b0da6ab-0bd5-4aa6-baa3-64b06eedad4b",
   "metadata": {},
   "outputs": [],
   "source": [
    "OCLC = 'http://classify.oclc.org'"
   ]
  },
  {
   "cell_type": "code",
   "execution_count": null,
   "id": "14f5448f-1c3d-47be-9c81-5cd097c9b13f",
   "metadata": {},
   "outputs": [],
   "source": [
    "link = f\"{OCLC}{soup.find('tbody').find('td').find('a')['href']}\""
   ]
  },
  {
   "cell_type": "code",
   "execution_count": null,
   "id": "1b6f3351-ce97-4bc6-b38c-cef068bd43ae",
   "metadata": {},
   "outputs": [],
   "source": [
    "response = requests.get(link)"
   ]
  },
  {
   "cell_type": "code",
   "execution_count": null,
   "id": "37a348be-3d5e-4128-999e-ed9a29b137fa",
   "metadata": {},
   "outputs": [],
   "source": [
    "soup = BeautifulSoup(response.text)"
   ]
  },
  {
   "cell_type": "code",
   "execution_count": null,
   "id": "57b767da-741e-4bbd-8718-ffce38a1fda7",
   "metadata": {},
   "outputs": [],
   "source": [
    "ddc = soup.find('tbody').find('tr').find_all('td')[1].text"
   ]
  },
  {
   "cell_type": "code",
   "execution_count": null,
   "id": "c5ee57e3-3ed8-4205-9da7-75a5e8aa44ce",
   "metadata": {},
   "outputs": [],
   "source": [
    "DDC_FILE = (BASEDIR / 'data/deweysummaries.txt').read_text().split('\\n')"
   ]
  },
  {
   "cell_type": "code",
   "execution_count": null,
   "id": "2c79105c-5272-48c3-a5e8-12564425e57c",
   "metadata": {},
   "outputs": [],
   "source": [
    "numbers = [ddc[0] + '00', ddc[:2] + '0', ddc[:3]]"
   ]
  },
  {
   "cell_type": "code",
   "execution_count": null,
   "id": "c36edc92-7ffb-4ec9-9486-61b6b2f8d102",
   "metadata": {},
   "outputs": [],
   "source": [
    "numbers"
   ]
  },
  {
   "cell_type": "code",
   "execution_count": null,
   "id": "a7489e50-303a-4e31-9cb5-e669a61be727",
   "metadata": {},
   "outputs": [],
   "source": [
    "classes = list()\n",
    "for i, n in enumerate(numbers):\n",
    "    classes.extend([' '.join(s.split()[1:]) for s in DDC_FILE if s.startswith(numbers[i])])"
   ]
  },
  {
   "cell_type": "code",
   "execution_count": null,
   "id": "5805f5d6-1add-483e-bfe5-c76eb5018b73",
   "metadata": {},
   "outputs": [],
   "source": [
    "classes = [s for s in classes if len(s)]\n",
    "classes = [numbers[i] + ' ' + classes[i] for i in range(3)]"
   ]
  },
  {
   "cell_type": "code",
   "execution_count": null,
   "id": "5cb9e9b5-354d-40ba-94ec-6ee3c894766f",
   "metadata": {},
   "outputs": [],
   "source": [
    "classes"
   ]
  },
  {
   "cell_type": "code",
   "execution_count": null,
   "id": "ac9a3b3c-4187-4e1f-9edf-43b84c887aef",
   "metadata": {},
   "outputs": [],
   "source": [
    "BOOKS_DIR = BASEDIR / 'tests/library/books'"
   ]
  },
  {
   "cell_type": "code",
   "execution_count": null,
   "id": "8a4327a2-90eb-48ce-912a-042b86bc5310",
   "metadata": {},
   "outputs": [],
   "source": [
    "classdir = BOOKS_DIR / classes[0] / classes [1] / classes[2]"
   ]
  },
  {
   "cell_type": "code",
   "execution_count": null,
   "id": "08d765f3-f35c-480c-a7c3-345b2c513dd7",
   "metadata": {},
   "outputs": [],
   "source": [
    "str(classdir)"
   ]
  },
  {
   "cell_type": "code",
   "execution_count": null,
   "id": "7910f717-f4b5-4f79-bd57-6cb272b946f9",
   "metadata": {},
   "outputs": [],
   "source": [
    "if not classdir.exists():\n",
    "    os.makedirs(classdir)"
   ]
  },
  {
   "cell_type": "code",
   "execution_count": null,
   "id": "0566f4b8-5b1b-4271-83cc-833f00fa0040",
   "metadata": {},
   "outputs": [],
   "source": [
    "cnx = mysql.connector.connect(user='fuzzy', password='pq4nkb3f&zz^m^sql',\n",
    "                              host='192.168.254.71',\n",
    "                              database='library')"
   ]
  },
  {
   "cell_type": "code",
   "execution_count": null,
   "id": "fae688be-2f80-49d6-986e-185e146fa4f9",
   "metadata": {},
   "outputs": [],
   "source": [
    "cnx.close()"
   ]
  },
  {
   "cell_type": "code",
   "execution_count": 30,
   "id": "5f1167e5-0426-438e-b074-d6b3e2021145",
   "metadata": {},
   "outputs": [
    {
     "name": "stdout",
     "output_type": "stream",
     "text": [
      "autocommit            cmd_stmt_reset           isset_client_flag    \n",
      "can_consume_results   cmd_stmt_send_long_data  ping                 \n",
      "charset               collation                python_charset       \n",
      "close                 commit                   raise_on_warnings    \n",
      "cmd_change_user       config                   reconnect            \n",
      "cmd_debug             connect                  reset_session        \n",
      "cmd_init_db           connection_id            rollback             \n",
      "cmd_ping              consume_results          server_host          \n",
      "cmd_process_info      converter                server_port          \n",
      "cmd_process_kill      cursor                   set_charset_collation\n",
      "cmd_query             database                 set_client_flags     \n",
      "cmd_query_iter        disconnect               set_converter_class  \n",
      "cmd_quit              get_row                  set_login            \n",
      "cmd_refresh           get_rows                 set_unicode          \n",
      "cmd_reset_connection  get_server_info          shutdown             \n",
      "cmd_shutdown          get_server_version       sql_mode             \n",
      "cmd_statistics        get_warnings             start_transaction    \n",
      "cmd_stmt_close        handle_unread_result     time_zone            \n",
      "cmd_stmt_execute      in_transaction           unix_socket          \n",
      "cmd_stmt_fetch        info_query               unread_result        \n",
      "cmd_stmt_prepare      is_connected             user                 \n"
     ]
    }
   ],
   "source": [
    "public(cnx)"
   ]
  },
  {
   "cell_type": "code",
   "execution_count": 31,
   "id": "05e073fe-b467-4a96-82fb-390e8c830b70",
   "metadata": {},
   "outputs": [
    {
     "name": "stdout",
     "output_type": "stream",
     "text": [
      "Help on method cmd_query in module mysql.connector.connection:\n",
      "\n",
      "cmd_query(query, raw=False, buffered=False, raw_as_string=False) method of mysql.connector.connection.MySQLConnection instance\n",
      "    Send a query to the MySQL server\n",
      "    \n",
      "    This method send the query to the MySQL server and returns the result.\n",
      "    \n",
      "    If there was a text result, a tuple will be returned consisting of\n",
      "    the number of columns and a list containing information about these\n",
      "    columns.\n",
      "    \n",
      "    When the query doesn't return a text result, the OK or EOF packet\n",
      "    information as dictionary will be returned. In case the result was\n",
      "    an error, exception errors.Error will be raised.\n",
      "    \n",
      "    Returns a tuple()\n",
      "\n"
     ]
    }
   ],
   "source": [
    "help(cnx.cmd_query)"
   ]
  },
  {
   "cell_type": "code",
   "execution_count": null,
   "id": "3d1a9d8c-18fb-4ed7-a660-fe41f5487415",
   "metadata": {},
   "outputs": [],
   "source": []
  }
 ],
 "metadata": {
  "kernelspec": {
   "display_name": "Python 3 (ipykernel)",
   "language": "python",
   "name": "python3"
  },
  "language_info": {
   "codemirror_mode": {
    "name": "ipython",
    "version": 3
   },
   "file_extension": ".py",
   "mimetype": "text/x-python",
   "name": "python",
   "nbconvert_exporter": "python",
   "pygments_lexer": "ipython3",
   "version": "3.8.10"
  }
 },
 "nbformat": 4,
 "nbformat_minor": 5
}
