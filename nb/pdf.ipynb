{
 "cells": [
  {
   "cell_type": "code",
   "execution_count": 3,
   "id": "d8759ac8-7113-4bba-8665-7c8a7eba4b0d",
   "metadata": {},
   "outputs": [],
   "source": [
    "from pathlib import Path\n",
    "import site\n",
    "import subprocess\n",
    "from warnings import warn"
   ]
  },
  {
   "cell_type": "code",
   "execution_count": 4,
   "id": "24123819-62ea-46aa-b0fc-1092ca0987fe",
   "metadata": {},
   "outputs": [],
   "source": [
    "BASEDIR = Path.home() / 'Development/hw-4.2.0'\n",
    "site.addsitedir(str(BASEDIR / 'hw'))\n",
    "from tools import *\n",
    "from program import Program"
   ]
  },
  {
   "cell_type": "code",
   "execution_count": 5,
   "id": "deb00d9b-e4cc-4c70-bfe4-32099e2774b9",
   "metadata": {},
   "outputs": [],
   "source": [
    "import isbnlib\n",
    "import mysql.connector\n",
    "import pdfminer"
   ]
  },
  {
   "cell_type": "code",
   "execution_count": null,
   "id": "6f8a9f80-54ec-4a8a-8614-d320aba06da6",
   "metadata": {},
   "outputs": [],
   "source": []
  },
  {
   "cell_type": "code",
   "execution_count": 6,
   "id": "5931a347-91df-4550-8330-eae5048f9872",
   "metadata": {},
   "outputs": [],
   "source": [
    "cnx = mysql.connector.connect(user='fuzzy', password='pq4nkb3f&zz^m^sql',\n",
    "                              host='192.168.254.71',\n",
    "                              database='library')\n",
    "cnx.close()"
   ]
  },
  {
   "cell_type": "code",
   "execution_count": 7,
   "id": "b4645ae7-d47b-4028-9f26-09a3067be914",
   "metadata": {
    "scrolled": true,
    "tags": []
   },
   "outputs": [
    {
     "name": "stdout",
     "output_type": "stream",
     "text": [
      "ClientFlag                     MySQLCursorBufferedRaw  ServerCmd        time\n",
      "CursorBase                     MySQLCursorDict         ServerFlag     \n",
      "IOBase                         MySQLCursorNamedTuple   ShutdownType   \n",
      "MySQLConnection                MySQLCursorPrepared     UNICODE_TYPES  \n",
      "MySQLConnectionAbstract        MySQLCursorRaw          errors         \n",
      "MySQLConverter                 MySQLProtocol           flag_is_set    \n",
      "MySQLCursor                    MySQLTCPSocket          get_auth_plugin\n",
      "MySQLCursorBuffered            MySQLUnixSocket         int4store      \n",
      "MySQLCursorBufferedDict        NET_BUFFER_LENGTH       isstr          \n",
      "MySQLCursorBufferedNamedTuple  PY2                     os             \n"
     ]
    }
   ],
   "source": [
    "public(mysql.connector.connection)"
   ]
  },
  {
   "cell_type": "code",
   "execution_count": 5,
   "id": "2bdbc7f1-0fc5-4f50-8e90-d7f7fd0f436e",
   "metadata": {},
   "outputs": [],
   "source": [
    "l = list(map(lambda s: str(s).lstrip('b').strip(\"'\"), [s for s in check_output('pdf2txt.py /home/fuzzy/Library/Python/Zed_Shaw_-_Learn_Python_the_Hard_Way_3rd.pdf'.split()).split(b'\\n') if s.startswith(b'ISBN')]))"
   ]
  },
  {
   "cell_type": "code",
   "execution_count": 6,
   "id": "10328b3b-b8d7-4e27-af53-702823b5dea4",
   "metadata": {},
   "outputs": [
    {
     "data": {
      "text/plain": [
       "{'ISBN-13': '9780321884916',\n",
       " 'Title': 'Learn Python The Hard Way - A Very Simple Introduction To The Terrifyingly Beautiful World Of Computers And Code',\n",
       " 'Authors': ['Zed Shaw'],\n",
       " 'Publisher': 'Pearson Education',\n",
       " 'Year': '2014',\n",
       " 'Language': 'en'}"
      ]
     },
     "execution_count": 6,
     "metadata": {},
     "output_type": "execute_result"
    }
   ],
   "source": [
    "isbnlib.meta(l[0].split()[-1])"
   ]
  },
  {
   "cell_type": "code",
   "execution_count": 8,
   "id": "7e64803b-0362-4386-aa2c-0213a6b85aa3",
   "metadata": {},
   "outputs": [],
   "source": [
    "args = [ str((Path.home() / 'Library').absolute()) ]"
   ]
  },
  {
   "cell_type": "code",
   "execution_count": 9,
   "id": "a404128b-f494-4c5b-97a5-f8b4da7e613c",
   "metadata": {},
   "outputs": [],
   "source": [
    "settings = {'logfile': 'log/pdf.log',\n",
    " 'program': 'get_info',\n",
    " 'version': '4.2.0',\n",
    " 'packages_dir': \"'Development/hw-4.2.0'\",\n",
    " 'args_json_file': 'etc/arguments.json',\n",
    " 'epilog': 'USAGE: None',\n",
    " 'verbose': True,\n",
    " 'debug': True,\n",
    " 'args': args,\n",
    " 'testing': True,\n",
    " 'recursive': True}"
   ]
  },
  {
   "cell_type": "code",
   "execution_count": 19,
   "id": "a237ebc4-4c65-497c-9e20-0e09258b6aa7",
   "metadata": {},
   "outputs": [],
   "source": [
    "class GetPDFInfo(Program):\n",
    "    def __init__(self, settings):\n",
    "        super().__init__(settings)\n",
    "        self.results = list()\n",
    "        self.process_args()\n",
    "        \n",
    "    def process_file(self, p:Path):\n",
    "        if p.name.endswith('.pdf'):\n",
    "            l = list()\n",
    "            try:\n",
    "                l = list(map(lambda s: str(s).lstrip('b').strip(\"'\"),\n",
    "                             [s for s in run(['pdf2txt.py', str(p)]).split('\\n') if s.startswith('ISBN')]))\n",
    "            except subprocess.CalledProcessError:\n",
    "                warn('pdf2txt.py returned an error code!')\n",
    "            if l:\n",
    "                info = dict()\n",
    "                try:\n",
    "                    info = isbnlib.meta(l[0].split()[-1])\n",
    "                except isbnlib.NotValidISBNError as e:\n",
    "                    warn(f'Invalid ISBN in file {p.name} : {l[0].split()[-1]}')\n",
    "                if info:\n",
    "                    self.results.append(info)\n",
    "                else:\n",
    "                    warn(f'Failed to get info for {p.name}')\n",
    "            else:\n",
    "                warn(f'Failed to get ISBN for {p.name}')"
   ]
  },
  {
   "cell_type": "code",
   "execution_count": 20,
   "id": "8b0b7f0f-b822-4d1b-a9ce-8e0d182df487",
   "metadata": {},
   "outputs": [
    {
     "name": "stdout",
     "output_type": "stream",
     "text": [
      "Base directory: /home/fuzzy/Development/hw-4.2.0\n",
      "Program name: hw\n",
      " Initializing program...\n",
      "Program settings:\n",
      "\n",
      "{'args': ['/home/fuzzy/Library'],\n",
      " 'args_json_file': 'etc/arguments.json',\n",
      " 'debug': True,\n",
      " 'epilog': 'USAGE: None',\n",
      " 'logfile': 'log/pdf.log',\n",
      " 'packages_dir': \"'Development/hw-4.2.0'\",\n",
      " 'program': 'get_info',\n",
      " 'recursive': True,\n",
      " 'testing': True,\n",
      " 'verbose': True,\n",
      " 'version': '4.2.0'}\n",
      "\n",
      "\n",
      "Program initialized.\n",
      "Arguments detected:\n",
      "\n",
      "['/home/fuzzy/Library']\n",
      "\n",
      " Processing /home/fuzzy/Library...\n",
      "Processing /home/fuzzy/Library...\n",
      "Processing directory /home/fuzzy/Library\n",
      "Processing /home/fuzzy/Library/Python...\n",
      "Processing directory /home/fuzzy/Library/Python\n",
      "Processing /home/fuzzy/Library/Python/Real World Instrumentation with Python - Automated Data Acquisition and Control Systems (2010).pdf...\n",
      "Processing /home/fuzzy/Library/Python/Doing Math With Python Use Programming To Explore Algebra, Statistics, Calculus, And More!.pdf...\n"
     ]
    },
    {
     "name": "stderr",
     "output_type": "stream",
     "text": [
      "/tmp/ipykernel_50381/4229102636.py:26: UserWarning: Failed to get ISBN for Doing Math With Python Use Programming To Explore Algebra, Statistics, Calculus, And More!.pdf\n",
      "  warn(f'Failed to get ISBN for {p.name}')\n"
     ]
    },
    {
     "name": "stdout",
     "output_type": "stream",
     "text": [
      "Processing /home/fuzzy/Library/Python/Learning Python Networking (2nd Ed)...\n",
      "Processing directory /home/fuzzy/Library/Python/Learning Python Networking (2nd Ed)\n",
      "Processing /home/fuzzy/Library/Python/Learning Python Networking (2nd Ed)/Learning Python Networking (2nd Ed)M. O. Faruque Sarker.epub...\n",
      "Processing /home/fuzzy/Library/Python/Mark_Lutz_-_Programming_Python_4th_Edition.pdf...\n"
     ]
    },
    {
     "name": "stderr",
     "output_type": "stream",
     "text": [
      "/tmp/ipykernel_50381/4229102636.py:24: UserWarning: Failed to get info for Mark_Lutz_-_Programming_Python_4th_Edition.pdf\n",
      "  warn(f'Failed to get info for {p.name}')\n"
     ]
    },
    {
     "name": "stdout",
     "output_type": "stream",
     "text": [
      "Processing /home/fuzzy/Library/Python/Mark_Lutz_-_Learning_Python_5th.pdf...\n"
     ]
    },
    {
     "name": "stderr",
     "output_type": "stream",
     "text": [
      "/tmp/ipykernel_50381/4229102636.py:24: UserWarning: Failed to get info for Mark_Lutz_-_Learning_Python_5th.pdf\n",
      "  warn(f'Failed to get info for {p.name}')\n"
     ]
    },
    {
     "name": "stdout",
     "output_type": "stream",
     "text": [
      "Processing /home/fuzzy/Library/Python/Clean Code In Python Second Edition Develop Maintainable And Efficient Code 2nd Edition 2021...\n",
      "Processing directory /home/fuzzy/Library/Python/Clean Code In Python Second Edition Develop Maintainable And Efficient Code 2nd Edition 2021\n",
      "Processing /home/fuzzy/Library/Python/Clean Code In Python Second Edition Develop Maintainable And Efficient Code 2nd Edition 2021/Clean Code In Python Second Edition Develop Maintainable And Efficient Code 2nd Edition 2021.epub...\n",
      "Processing /home/fuzzy/Library/Python/Clean Code In Python Second Edition Develop Maintainable And Efficient Code 2nd Edition 2021/Clean Code In Python Second Edition Develop Maintainable And Efficient Code 2nd Edition 2021.jpg...\n",
      "Processing /home/fuzzy/Library/Python/Learning Python Network Programming (2015) (Pdf, Epub & Mobi) Gooner...\n",
      "Processing directory /home/fuzzy/Library/Python/Learning Python Network Programming (2015) (Pdf, Epub & Mobi) Gooner\n",
      "Processing /home/fuzzy/Library/Python/Learning Python Network Programming (2015) (Pdf, Epub & Mobi) Gooner/Learning Python Network Programming (2015).pdf...\n",
      "Processing /home/fuzzy/Library/Python/Learning Python Network Programming (2015) (Pdf, Epub & Mobi) Gooner/Learning Python Network Programming (2015).mobi...\n",
      "Processing /home/fuzzy/Library/Python/Learning Python Network Programming (2015) (Pdf, Epub & Mobi) Gooner/Learning Python Network Programming (2015).epub...\n",
      "Processing /home/fuzzy/Library/Python/Python Testing - Beginner's Guide (2010).pdf...\n",
      "Processing /home/fuzzy/Library/Python/Introduction to Computation and Programming Using Python, Revised - Guttag, John V..pdf...\n"
     ]
    },
    {
     "name": "stderr",
     "output_type": "stream",
     "text": [
      "/tmp/ipykernel_50381/4229102636.py:20: UserWarning: Invalid ISBN in file Introduction to Computation and Programming Using Python, Revised - Guttag, John V..pdf : ISBN\n",
      "  warn(f'Invalid ISBN in file {p.name} : {l[0].split()[-1]}')\n",
      "/tmp/ipykernel_50381/4229102636.py:24: UserWarning: Failed to get info for Introduction to Computation and Programming Using Python, Revised - Guttag, John V..pdf\n",
      "  warn(f'Failed to get info for {p.name}')\n"
     ]
    },
    {
     "name": "stdout",
     "output_type": "stream",
     "text": [
      "Processing /home/fuzzy/Library/Python/Pro Python System Administration (2010).pdf...\n",
      "Processing /home/fuzzy/Library/Python/Statistics and Machine Learning in Python.pdf...\n"
     ]
    },
    {
     "name": "stderr",
     "output_type": "stream",
     "text": [
      "/tmp/ipykernel_50381/4229102636.py:26: UserWarning: Failed to get ISBN for Statistics and Machine Learning in Python.pdf\n",
      "  warn(f'Failed to get ISBN for {p.name}')\n"
     ]
    },
    {
     "name": "stdout",
     "output_type": "stream",
     "text": [
      "Processing /home/fuzzy/Library/Python/Allen_B._Downey_-_Think_Python.pdf...\n",
      "Processing /home/fuzzy/Library/Python/Eli_Bressert_-_SciPy_and_NumPy.pdf...\n",
      "Processing /home/fuzzy/Library/Python/Zed_Shaw_-_Learn_Python_the_Hard_Way_3rd.pdf...\n",
      "Processing /home/fuzzy/Library/Python/Python in a Nutshell. A Desktop Quick Reference-O’Reilly (2017).pdf...\n"
     ]
    },
    {
     "name": "stderr",
     "output_type": "stream",
     "text": [
      "/tmp/ipykernel_50381/4229102636.py:26: UserWarning: Failed to get ISBN for Python in a Nutshell. A Desktop Quick Reference-O’Reilly (2017).pdf\n",
      "  warn(f'Failed to get ISBN for {p.name}')\n"
     ]
    },
    {
     "name": "stdout",
     "output_type": "stream",
     "text": [
      "Processing /home/fuzzy/Library/Python/Fluent Python (2015).pdf...\n",
      "Processing /home/fuzzy/Library/Python/Foundations of Python Network Programming Second Edition.pdf...\n"
     ]
    },
    {
     "name": "stderr",
     "output_type": "stream",
     "text": [
      "/tmp/ipykernel_50381/4229102636.py:24: UserWarning: Failed to get info for Foundations of Python Network Programming Second Edition.pdf\n",
      "  warn(f'Failed to get info for {p.name}')\n"
     ]
    },
    {
     "name": "stdout",
     "output_type": "stream",
     "text": [
      "Processing /home/fuzzy/Library/Python/Python Debugging Handbook...\n",
      "Processing directory /home/fuzzy/Library/Python/Python Debugging Handbook\n",
      "Processing /home/fuzzy/Library/Python/Python Debugging Handbook/Python Debugging Handbook.epub...\n",
      "Processing /home/fuzzy/Library/Python/Python Debugging Handbook/Python Debugging Handbook.jpg...\n",
      "Processing /home/fuzzy/Library/Python/Hello World - Computer Programming for Kids and Other Beginners, Fourth printing (2009).pdf...\n",
      "Processing /home/fuzzy/Library/Python/Regular Expressions Cookbook (OReilly 2009).pdf...\n",
      "Processing /home/fuzzy/Library/Python/Mark_Lutz_-_Python_Pocket_Reference_2014.pdf...\n",
      "Processing /home/fuzzy/Library/Python/Python Cookbook 3rd Edition 2013.pdf...\n"
     ]
    },
    {
     "name": "stderr",
     "output_type": "stream",
     "text": [
      "/tmp/ipykernel_50381/4229102636.py:24: UserWarning: Failed to get info for Python Cookbook 3rd Edition 2013.pdf\n",
      "  warn(f'Failed to get info for {p.name}')\n"
     ]
    },
    {
     "name": "stdout",
     "output_type": "stream",
     "text": [
      "Processing /home/fuzzy/Library/Python/Advanced Data Science And Analytics With Python...\n",
      "Processing directory /home/fuzzy/Library/Python/Advanced Data Science And Analytics With Python\n",
      "Processing /home/fuzzy/Library/Python/Advanced Data Science And Analytics With Python/Advanced Data Science And Analytics With Python.jpg...\n",
      "Processing /home/fuzzy/Library/Python/Advanced Data Science And Analytics With Python/Advanced Data Science And Analytics With Python.pdf...\n"
     ]
    },
    {
     "name": "stderr",
     "output_type": "stream",
     "text": [
      "/tmp/ipykernel_50381/4229102636.py:20: UserWarning: Invalid ISBN in file Advanced Data Science And Analytics With Python.pdf : (hbk)\n",
      "  warn(f'Invalid ISBN in file {p.name} : {l[0].split()[-1]}')\n",
      "/tmp/ipykernel_50381/4229102636.py:24: UserWarning: Failed to get info for Advanced Data Science And Analytics With Python.pdf\n",
      "  warn(f'Failed to get info for {p.name}')\n"
     ]
    },
    {
     "name": "stdout",
     "output_type": "stream",
     "text": [
      "Processing /home/fuzzy/Library/Python/Sage - Beginner's Guide (2011).pdf...\n",
      "Processing /home/fuzzy/Library/Python/learn-more-python-3-hard-way.pdf...\n"
     ]
    },
    {
     "name": "stderr",
     "output_type": "stream",
     "text": [
      "Traceback (most recent call last):\n",
      "  File \"/home/fuzzy/Projects/develop-4.2.0/hw-4.2.0/.venv/bin/pdf2txt.py\", line 204, in <module>\n",
      "    sys.exit(main())\n",
      "  File \"/home/fuzzy/Projects/develop-4.2.0/hw-4.2.0/.venv/bin/pdf2txt.py\", line 198, in main\n",
      "    outfp = extract_text(**vars(A))\n",
      "  File \"/home/fuzzy/Projects/develop-4.2.0/hw-4.2.0/.venv/bin/pdf2txt.py\", line 66, in extract_text\n",
      "    pdfminer.high_level.extract_text_to_fp(fp, **locals())\n",
      "  File \"/home/fuzzy/Projects/develop-4.2.0/hw-4.2.0/.venv/lib/python3.9/site-packages/pdfminer/high_level.py\", line 79, in extract_text_to_fp\n",
      "    for page in PDFPage.get_pages(inf,\n",
      "  File \"/home/fuzzy/Projects/develop-4.2.0/hw-4.2.0/.venv/lib/python3.9/site-packages/pdfminer/pdfpage.py\", line 128, in get_pages\n",
      "    doc = PDFDocument(parser, password=password, caching=caching)\n",
      "  File \"/home/fuzzy/Projects/develop-4.2.0/hw-4.2.0/.venv/lib/python3.9/site-packages/pdfminer/pdfdocument.py\", line 578, in __init__\n",
      "    xref.load(parser)\n",
      "  File \"/home/fuzzy/Projects/develop-4.2.0/hw-4.2.0/.venv/lib/python3.9/site-packages/pdfminer/pdfdocument.py\", line 190, in load\n",
      "    (_, obj) = parser.nextobject()\n",
      "  File \"/home/fuzzy/Projects/develop-4.2.0/hw-4.2.0/.venv/lib/python3.9/site-packages/pdfminer/psparser.py\", line 610, in nextobject\n",
      "    self.do_keyword(pos, token)\n",
      "  File \"/home/fuzzy/Projects/develop-4.2.0/hw-4.2.0/.venv/lib/python3.9/site-packages/pdfminer/pdfparser.py\", line 73, in do_keyword\n",
      "    (objid, genno) = (int(objid), int(genno))\n",
      "TypeError: int() argument must be a string, a bytes-like object or a number, not 'PSLiteral'\n",
      "/tmp/ipykernel_50381/4229102636.py:14: UserWarning: pdf2txt.py returned an error code!\n",
      "  warn('pdf2txt.py returned an error code!')\n",
      "/tmp/ipykernel_50381/4229102636.py:26: UserWarning: Failed to get ISBN for learn-more-python-3-hard-way.pdf\n",
      "  warn(f'Failed to get ISBN for {p.name}')\n"
     ]
    },
    {
     "name": "stdout",
     "output_type": "stream",
     "text": [
      "Processing /home/fuzzy/Library/Python/Python for Unix and Linux System Administration (2008).pdf...\n",
      "Processing /home/fuzzy/Library/Python/Mastering Python Networking...\n",
      "Processing directory /home/fuzzy/Library/Python/Mastering Python Networking\n",
      "Processing /home/fuzzy/Library/Python/Mastering Python Networking/Mastering Python Networking.jpg...\n",
      "Processing /home/fuzzy/Library/Python/Mastering Python Networking/Mastering Python Networking.epub...\n",
      "Processing /home/fuzzy/Library/Jupyter...\n",
      "Processing directory /home/fuzzy/Library/Jupyter\n",
      "Processing /home/fuzzy/Library/Bash...\n",
      "Processing directory /home/fuzzy/Library/Bash\n",
      "Processing /home/fuzzy/Library/Bash/Apress - Pro Bash Programming Scripting the GNULinux Shell (10-2009) (ATTiCA).pdf...\n",
      "Processing /home/fuzzy/Library/Bash/bash_shell_cheat_sheetV2.pdf...\n"
     ]
    },
    {
     "name": "stderr",
     "output_type": "stream",
     "text": [
      "/tmp/ipykernel_50381/4229102636.py:26: UserWarning: Failed to get ISBN for bash_shell_cheat_sheetV2.pdf\n",
      "  warn(f'Failed to get ISBN for {p.name}')\n"
     ]
    },
    {
     "name": "stdout",
     "output_type": "stream",
     "text": [
      "Processing /home/fuzzy/Library/Bash/linux - Advanced Bash Shell Scripting Guide.pdf...\n"
     ]
    },
    {
     "name": "stderr",
     "output_type": "stream",
     "text": [
      "/tmp/ipykernel_50381/4229102636.py:20: UserWarning: Invalid ISBN in file linux - Advanced Bash Shell Scripting Guide.pdf : a\n",
      "  warn(f'Invalid ISBN in file {p.name} : {l[0].split()[-1]}')\n",
      "/tmp/ipykernel_50381/4229102636.py:24: UserWarning: Failed to get info for linux - Advanced Bash Shell Scripting Guide.pdf\n",
      "  warn(f'Failed to get info for {p.name}')\n"
     ]
    },
    {
     "name": "stdout",
     "output_type": "stream",
     "text": [
      "Processing /home/fuzzy/Library/Linux...\n",
      "Processing directory /home/fuzzy/Library/Linux\n",
      "Processing /home/fuzzy/Library/Linux/How Linux Works - What Every Superuser Should Know, Brian Ward, 2014.pdf...\n",
      "Processing /home/fuzzy/Library/git...\n",
      "Processing directory /home/fuzzy/Library/git\n",
      "Processing /home/fuzzy/Library/git/Version Control With Git 2nd Edition V413HAV.pdf...\n",
      "Processing /home/fuzzy/Library/git/salesforce_git_developer_cheatsheet.pdf...\n"
     ]
    },
    {
     "name": "stderr",
     "output_type": "stream",
     "text": [
      "/tmp/ipykernel_50381/4229102636.py:26: UserWarning: Failed to get ISBN for salesforce_git_developer_cheatsheet.pdf\n",
      "  warn(f'Failed to get ISBN for {p.name}')\n"
     ]
    },
    {
     "name": "stdout",
     "output_type": "stream",
     "text": [
      "Processing /home/fuzzy/Library/git/progit.en.pdf...\n"
     ]
    },
    {
     "name": "stderr",
     "output_type": "stream",
     "text": [
      "/tmp/ipykernel_50381/4229102636.py:26: UserWarning: Failed to get ISBN for progit.en.pdf\n",
      "  warn(f'Failed to get ISBN for {p.name}')\n"
     ]
    }
   ],
   "source": [
    "results = GetPDFInfo(settings).results"
   ]
  },
  {
   "cell_type": "code",
   "execution_count": 21,
   "id": "333986c0-271b-419e-a9ad-3c5431bdb5ae",
   "metadata": {},
   "outputs": [
    {
     "data": {
      "text/plain": [
       "{'ISBN-13': '9780596809560',\n",
       " 'Title': 'Real World Instrumentation With Python - Automated Data Acquisition And Control Systems',\n",
       " 'Authors': ['John Hughes'],\n",
       " 'Publisher': \"O'Reilly Media\",\n",
       " 'Year': '2010',\n",
       " 'Language': 'en'}"
      ]
     },
     "execution_count": 21,
     "metadata": {},
     "output_type": "execute_result"
    }
   ],
   "source": [
    "results[0]"
   ]
  },
  {
   "cell_type": "code",
   "execution_count": null,
   "id": "ff210efe-8794-41d6-a474-e98a7380de83",
   "metadata": {},
   "outputs": [],
   "source": []
  }
 ],
 "metadata": {
  "kernelspec": {
   "display_name": "Python 3 (ipykernel)",
   "language": "python",
   "name": "python3"
  },
  "language_info": {
   "codemirror_mode": {
    "name": "ipython",
    "version": 3
   },
   "file_extension": ".py",
   "mimetype": "text/x-python",
   "name": "python",
   "nbconvert_exporter": "python",
   "pygments_lexer": "ipython3",
   "version": "3.8.10"
  }
 },
 "nbformat": 4,
 "nbformat_minor": 5
}
