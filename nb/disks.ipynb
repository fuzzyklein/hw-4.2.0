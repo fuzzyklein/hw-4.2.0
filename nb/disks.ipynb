{
 "cells": [
  {
   "cell_type": "markdown",
   "id": "8f2a56d5-0718-432c-aa51-b13600852b03",
   "metadata": {},
   "source": [
    "# Disks"
   ]
  },
  {
   "cell_type": "code",
   "execution_count": 3,
   "id": "75c074ee-1675-4164-97da-843e39e4b0e0",
   "metadata": {},
   "outputs": [
    {
     "name": "stdout",
     "output_type": "stream",
     "text": [
      "Current working directory: /home/fuzzy/Projects/develop-4.2.0/hw-4.2.0\n"
     ]
    }
   ],
   "source": [
    "with open('startup.py') as f:\n",
    "    exec(f.read())"
   ]
  },
  {
   "cell_type": "code",
   "execution_count": 1,
   "id": "392d6998-3696-42dc-bce1-0b5234422870",
   "metadata": {},
   "outputs": [],
   "source": [
    "! parted -l"
   ]
  },
  {
   "cell_type": "code",
   "execution_count": 2,
   "id": "2134b202-2a01-4006-8ba9-7a88c0fc17f3",
   "metadata": {},
   "outputs": [
    {
     "name": "stdout",
     "output_type": "stream",
     "text": [
      "/dev/sda6: UUID=\"1f481d6f-8a2b-4ddc-bcce-c7a3cbcf81d1\" TYPE=\"ext4\" PARTUUID=\"0df86b92-06\"\n"
     ]
    }
   ],
   "source": [
    "! blkid"
   ]
  },
  {
   "cell_type": "code",
   "execution_count": null,
   "id": "4dfedf70-4bff-4fbb-9a2f-db48e1bf80f5",
   "metadata": {},
   "outputs": [],
   "source": [
    "Path"
   ]
  },
  {
   "cell_type": "markdown",
   "id": "176db15c-1bb8-497b-9e9b-01438019645a",
   "metadata": {},
   "source": [
    "## Display the File Systems Table"
   ]
  },
  {
   "cell_type": "code",
   "execution_count": 5,
   "id": "de00eb92-a2ad-4911-890b-b853bb346360",
   "metadata": {},
   "outputs": [
    {
     "data": {
      "text/html": [
       "<div>\n",
       "<style scoped>\n",
       "    .dataframe tbody tr th:only-of-type {\n",
       "        vertical-align: middle;\n",
       "    }\n",
       "\n",
       "    .dataframe tbody tr th {\n",
       "        vertical-align: top;\n",
       "    }\n",
       "\n",
       "    .dataframe thead th {\n",
       "        text-align: right;\n",
       "    }\n",
       "</style>\n",
       "<table border=\"1\" class=\"dataframe\">\n",
       "  <thead>\n",
       "    <tr style=\"text-align: right;\">\n",
       "      <th></th>\n",
       "      <th>Device</th>\n",
       "      <th>Mount Point</th>\n",
       "      <th>FS Type</th>\n",
       "      <th>Options</th>\n",
       "      <th>Dump</th>\n",
       "      <th>Order</th>\n",
       "    </tr>\n",
       "  </thead>\n",
       "  <tbody>\n",
       "    <tr>\n",
       "      <th>0</th>\n",
       "      <td>UUID=1f481d6f-8a2b-4ddc-bcce-c7a3cbcf81d1</td>\n",
       "      <td>/</td>\n",
       "      <td>ext4</td>\n",
       "      <td>errors=remount-ro</td>\n",
       "      <td>0</td>\n",
       "      <td>1</td>\n",
       "    </tr>\n",
       "    <tr>\n",
       "      <th>1</th>\n",
       "      <td>UUID=C806-E443</td>\n",
       "      <td>/boot/efi</td>\n",
       "      <td>vfat</td>\n",
       "      <td>umask=0077</td>\n",
       "      <td>0</td>\n",
       "      <td>1</td>\n",
       "    </tr>\n",
       "    <tr>\n",
       "      <th>2</th>\n",
       "      <td>/swapfile</td>\n",
       "      <td>none</td>\n",
       "      <td>swap</td>\n",
       "      <td>sw</td>\n",
       "      <td>0</td>\n",
       "      <td>0</td>\n",
       "    </tr>\n",
       "  </tbody>\n",
       "</table>\n",
       "</div>"
      ],
      "text/plain": [
       "                                      Device Mount Point FS Type  \\\n",
       "0  UUID=1f481d6f-8a2b-4ddc-bcce-c7a3cbcf81d1           /    ext4   \n",
       "1                             UUID=C806-E443   /boot/efi    vfat   \n",
       "2                                  /swapfile        none    swap   \n",
       "\n",
       "             Options  Dump  Order  \n",
       "0  errors=remount-ro     0      1  \n",
       "1         umask=0077     0      1  \n",
       "2                 sw     0      0  "
      ]
     },
     "execution_count": 5,
     "metadata": {},
     "output_type": "execute_result"
    }
   ],
   "source": [
    "FSTAB_LOCATION = '/etc/fstab'\n",
    "s = list(map(lambda t: re.sub(r'\\s+', ' ', t),\n",
    "             filter(lambda s: not s.startswith('#'),\n",
    "                    Path(FSTAB_LOCATION).read_text().split('\\n'))))\n",
    "tf = TempFile()\n",
    "p = Path(tf.name)\n",
    "p.write_text('\\n'.join(s))\n",
    "\n",
    "df = read_table(tf.name, header=None, sep=' ', engine='python', # usecols=[0,6,7],\n",
    "                      names=[\"Device\", \"Mount Point\", \"FS Type\", \"Options\", \"Dump\", \"Order\"])\n",
    "\n",
    "tf.close()    \n",
    "df"
   ]
  },
  {
   "cell_type": "code",
   "execution_count": 6,
   "id": "fabde516-44e3-486a-875a-d880925c2d7e",
   "metadata": {},
   "outputs": [
    {
     "name": "stdout",
     "output_type": "stream",
     "text": [
      "3415424 bin   3412311 hw\t3424305 md\t   3412395 sh\t    3424285 www\n",
      "3412306 data  3412012 index.md\t3412011 nb\t   3424281 sql\n",
      "3803126 etc   3412304 LICENSE\t3412305 README.md  3417161 tests\n",
      "3412355 html  3412342 log\t3412398 run\t   3417155 TODO.md\n"
     ]
    }
   ],
   "source": [
    "! ls -i"
   ]
  },
  {
   "cell_type": "code",
   "execution_count": null,
   "id": "b04bf8a4-7336-45b5-adfe-f5a4431f52e7",
   "metadata": {},
   "outputs": [],
   "source": []
  }
 ],
 "metadata": {
  "kernelspec": {
   "display_name": "Python 3 (ipykernel)",
   "language": "python",
   "name": "python3"
  },
  "language_info": {
   "codemirror_mode": {
    "name": "ipython",
    "version": 3
   },
   "file_extension": ".py",
   "mimetype": "text/x-python",
   "name": "python",
   "nbconvert_exporter": "python",
   "pygments_lexer": "ipython3",
   "version": "3.8.10"
  }
 },
 "nbformat": 4,
 "nbformat_minor": 5
}
