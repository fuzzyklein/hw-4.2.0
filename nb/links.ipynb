{
 "cells": [
  {
   "cell_type": "code",
   "execution_count": 1,
   "id": "d0f8fb55-34b2-4dfb-be6f-9af199e3ad84",
   "metadata": {},
   "outputs": [],
   "source": [
    "from IPython.display import Markdown"
   ]
  },
  {
   "cell_type": "code",
   "execution_count": 3,
   "id": "58d36b44-3d38-4515-9672-2c1dae3bda5b",
   "metadata": {},
   "outputs": [
    {
     "data": {
      "text/markdown": [
       "# Links\n",
       "\n",
       "## [Python](http://www.python.org)\n",
       "\n",
       "* [Documentation](http://docs.python.org)\n",
       "\n",
       "## "
      ],
      "text/plain": [
       "<IPython.core.display.Markdown object>"
      ]
     },
     "execution_count": 3,
     "metadata": {},
     "output_type": "execute_result"
    }
   ],
   "source": [
    "Markdown('links.md')"
   ]
  },
  {
   "cell_type": "code",
   "execution_count": null,
   "id": "60e93fe6-8987-465d-90e2-41b9ac7a4f5e",
   "metadata": {},
   "outputs": [],
   "source": []
  }
 ],
 "metadata": {
  "kernelspec": {
   "display_name": "Python 3 (ipykernel)",
   "language": "python",
   "name": "python3"
  },
  "language_info": {
   "codemirror_mode": {
    "name": "ipython",
    "version": 3
   },
   "file_extension": ".py",
   "mimetype": "text/x-python",
   "name": "python",
   "nbconvert_exporter": "python",
   "pygments_lexer": "ipython3",
   "version": "3.8.10"
  }
 },
 "nbformat": 4,
 "nbformat_minor": 5
}
