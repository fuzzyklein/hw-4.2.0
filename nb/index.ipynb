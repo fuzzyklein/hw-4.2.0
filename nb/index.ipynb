{
 "cells": [
  {
   "cell_type": "markdown",
   "id": "a2935890-3f66-453d-9132-6dbed28f565d",
   "metadata": {},
   "source": [
    "# Hello, World!"
   ]
  },
  {
   "cell_type": "markdown",
   "id": "ebfc3225-948d-4f5b-8fd1-c26a185d7976",
   "metadata": {},
   "source": [
    "An introduction to various programming languages and environments through the development of a simple but useful project."
   ]
  },
  {
   "cell_type": "markdown",
   "id": "f241f4fa-ebb3-43b1-8ea7-f0eb712d1e5a",
   "metadata": {},
   "source": [
    "## [Python](python.ipynb)"
   ]
  },
  {
   "cell_type": "markdown",
   "id": "e838d07f-d256-4d21-938b-f4b4b437741b",
   "metadata": {},
   "source": [
    "## [Linux](linux.ipynb)"
   ]
  },
  {
   "cell_type": "markdown",
   "id": "539a1779-bef4-474a-ba2a-2b7b63e7438a",
   "metadata": {},
   "source": []
  }
 ],
 "metadata": {
  "kernelspec": {
   "display_name": "Python 3 (ipykernel)",
   "language": "python",
   "name": "python3"
  },
  "language_info": {
   "codemirror_mode": {
    "name": "ipython",
    "version": 3
   },
   "file_extension": ".py",
   "mimetype": "text/x-python",
   "name": "python",
   "nbconvert_exporter": "python",
   "pygments_lexer": "ipython3",
   "version": "3.8.10"
  }
 },
 "nbformat": 4,
 "nbformat_minor": 5
}
