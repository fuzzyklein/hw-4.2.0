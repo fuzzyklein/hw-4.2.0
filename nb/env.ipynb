{
 "cells": [
  {
   "cell_type": "code",
   "execution_count": 1,
   "id": "d095a84e-e2b6-4383-a01f-2d4c521fe41f",
   "metadata": {},
   "outputs": [
    {
     "name": "stdout",
     "output_type": "stream",
     "text": [
      "\n"
     ]
    }
   ],
   "source": [
    "!echo $PYTHONSTARTUP"
   ]
  },
  {
   "cell_type": "code",
   "execution_count": 2,
   "id": "380ac946-7bc6-4bf7-85db-578321bf8d88",
   "metadata": {},
   "outputs": [],
   "source": [
    "from os import environ"
   ]
  },
  {
   "cell_type": "code",
   "execution_count": 3,
   "id": "a22c1f7e-214b-4024-a8d8-0915a41f00c4",
   "metadata": {},
   "outputs": [
    {
     "data": {
      "text/plain": [
       "False"
      ]
     },
     "execution_count": 3,
     "metadata": {},
     "output_type": "execute_result"
    }
   ],
   "source": [
    "'PYTHONSTARTUP' in environ.keys()"
   ]
  },
  {
   "cell_type": "code",
   "execution_count": 4,
   "id": "832945fe-0aa3-4a3d-9f30-a1c67bebdf22",
   "metadata": {},
   "outputs": [
    {
     "data": {
      "text/plain": [
       "['/home/fuzzy/Projects/develop-4.2.0/hw-4.2.0/nb',\n",
       " '/usr/lib/python38.zip',\n",
       " '/usr/lib/python3.8',\n",
       " '/usr/lib/python3.8/lib-dynload',\n",
       " '',\n",
       " '/home/fuzzy/.local/lib/python3.8/site-packages',\n",
       " '/usr/local/lib/python3.8/dist-packages',\n",
       " '/usr/lib/python3/dist-packages',\n",
       " '/home/fuzzy/.local/lib/python3.8/site-packages/IPython/extensions',\n",
       " '/home/fuzzy/.ipython']"
      ]
     },
     "execution_count": 4,
     "metadata": {},
     "output_type": "execute_result"
    }
   ],
   "source": [
    "import sys\n",
    "sys.path"
   ]
  },
  {
   "cell_type": "code",
   "execution_count": 7,
   "id": "ad6f05ce-3459-45b2-b3fb-30081cd73726",
   "metadata": {},
   "outputs": [
    {
     "data": {
      "text/plain": [
       "['XDG_CONFIG_DIRS',\n",
       " 'XDG_SESSION_PATH',\n",
       " 'XDG_MENU_PREFIX',\n",
       " 'XDG_SEAT',\n",
       " 'XDG_SESSION_DESKTOP',\n",
       " 'XDG_SESSION_TYPE',\n",
       " 'XDG_GREETER_DATA_DIR',\n",
       " 'XDG_CURRENT_DESKTOP',\n",
       " 'XDG_SEAT_PATH',\n",
       " 'XDG_SESSION_CLASS',\n",
       " 'XDG_VTNR',\n",
       " 'XDG_SESSION_ID',\n",
       " 'XDG_RUNTIME_DIR',\n",
       " 'XDG_DATA_DIRS']"
      ]
     },
     "execution_count": 7,
     "metadata": {},
     "output_type": "execute_result"
    }
   ],
   "source": [
    "[s for s in environ.keys() if s.startswith('XDG')]"
   ]
  },
  {
   "cell_type": "code",
   "execution_count": null,
   "id": "78fc41ba-12a8-49f7-a8a6-c64d5aea2cfd",
   "metadata": {},
   "outputs": [],
   "source": []
  }
 ],
 "metadata": {
  "kernelspec": {
   "display_name": "Python 3 (ipykernel)",
   "language": "python",
   "name": "python3"
  },
  "language_info": {
   "codemirror_mode": {
    "name": "ipython",
    "version": 3
   },
   "file_extension": ".py",
   "mimetype": "text/x-python",
   "name": "python",
   "nbconvert_exporter": "python",
   "pygments_lexer": "ipython3",
   "version": "3.8.10"
  }
 },
 "nbformat": 4,
 "nbformat_minor": 5
}
