{
 "cells": [
  {
   "cell_type": "code",
   "execution_count": 2,
   "id": "d095a84e-e2b6-4383-a01f-2d4c521fe41f",
   "metadata": {},
   "outputs": [
    {
     "name": "stdout",
     "output_type": "stream",
     "text": [
      "\n"
     ]
    }
   ],
   "source": [
    "!echo $PYTHONSTARTUP"
   ]
  },
  {
   "cell_type": "code",
   "execution_count": 3,
   "id": "380ac946-7bc6-4bf7-85db-578321bf8d88",
   "metadata": {},
   "outputs": [],
   "source": [
    "from os import environ"
   ]
  },
  {
   "cell_type": "code",
   "execution_count": 4,
   "id": "a22c1f7e-214b-4024-a8d8-0915a41f00c4",
   "metadata": {},
   "outputs": [
    {
     "data": {
      "text/plain": [
       "False"
      ]
     },
     "execution_count": 4,
     "metadata": {},
     "output_type": "execute_result"
    }
   ],
   "source": [
    "'PYTHONSTARTUP' in environ.keys()"
   ]
  },
  {
   "cell_type": "code",
   "execution_count": null,
   "id": "832945fe-0aa3-4a3d-9f30-a1c67bebdf22",
   "metadata": {},
   "outputs": [],
   "source": []
  }
 ],
 "metadata": {
  "kernelspec": {
   "display_name": "Python 3 (ipykernel)",
   "language": "python",
   "name": "python3"
  },
  "language_info": {
   "codemirror_mode": {
    "name": "ipython",
    "version": 3
   },
   "file_extension": ".py",
   "mimetype": "text/x-python",
   "name": "python",
   "nbconvert_exporter": "python",
   "pygments_lexer": "ipython3",
   "version": "3.8.10"
  }
 },
 "nbformat": 4,
 "nbformat_minor": 5
}
