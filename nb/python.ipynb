{
 "cells": [
  {
   "cell_type": "markdown",
   "id": "4df33644-c08c-4dda-a7bf-5fc87a2e1344",
   "metadata": {},
   "source": [
    "# [Python](http://www.python.org)"
   ]
  },
  {
   "cell_type": "code",
   "execution_count": null,
   "id": "ba24367c-9a82-4762-a89c-117627159260",
   "metadata": {},
   "outputs": [],
   "source": []
  }
 ],
 "metadata": {
  "kernelspec": {
   "display_name": "Python 3 (ipykernel)",
   "language": "python",
   "name": "python3"
  },
  "language_info": {
   "codemirror_mode": {
    "name": "ipython",
    "version": 3
   },
   "file_extension": ".py",
   "mimetype": "text/x-python",
   "name": "python",
   "nbconvert_exporter": "python",
   "pygments_lexer": "ipython3",
   "version": "3.8.10"
  }
 },
 "nbformat": 4,
 "nbformat_minor": 5
}
