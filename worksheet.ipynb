{
 "cells": [
  {
   "cell_type": "code",
   "execution_count": 3,
   "id": "9dcedb29-7ceb-44d1-97ca-afbc4f4be1e1",
   "metadata": {},
   "outputs": [
    {
     "data": {
      "text/plain": [
       "['__class__',\n",
       " '__delattr__',\n",
       " '__dict__',\n",
       " '__dir__',\n",
       " '__doc__',\n",
       " '__eq__',\n",
       " '__format__',\n",
       " '__ge__',\n",
       " '__getattribute__',\n",
       " '__gt__',\n",
       " '__hash__',\n",
       " '__init__',\n",
       " '__init_subclass__',\n",
       " '__le__',\n",
       " '__lt__',\n",
       " '__module__',\n",
       " '__ne__',\n",
       " '__new__',\n",
       " '__reduce__',\n",
       " '__reduce_ex__',\n",
       " '__repr__',\n",
       " '__setattr__',\n",
       " '__sizeof__',\n",
       " '__str__',\n",
       " '__subclasshook__',\n",
       " '__weakref__',\n",
       " 'cmdloop',\n",
       " 'columnize',\n",
       " 'complete',\n",
       " 'complete_help',\n",
       " 'completedefault',\n",
       " 'completenames',\n",
       " 'default',\n",
       " 'do_help',\n",
       " 'doc_header',\n",
       " 'doc_leader',\n",
       " 'emptyline',\n",
       " 'get_names',\n",
       " 'identchars',\n",
       " 'intro',\n",
       " 'lastcmd',\n",
       " 'misc_header',\n",
       " 'nohelp',\n",
       " 'onecmd',\n",
       " 'parseline',\n",
       " 'postcmd',\n",
       " 'postloop',\n",
       " 'precmd',\n",
       " 'preloop',\n",
       " 'print_topics',\n",
       " 'prompt',\n",
       " 'ruler',\n",
       " 'undoc_header',\n",
       " 'use_rawinput']"
      ]
     },
     "execution_count": 3,
     "metadata": {},
     "output_type": "execute_result"
    }
   ],
   "source": [
    "import cmd\n",
    "dir(cmd.Cmd)"
   ]
  }
 ],
 "metadata": {
  "kernelspec": {
   "display_name": "Python 3 (ipykernel)",
   "language": "python",
   "name": "python3"
  },
  "language_info": {
   "codemirror_mode": {
    "name": "ipython",
    "version": 3
   },
   "file_extension": ".py",
   "mimetype": "text/x-python",
   "name": "python",
   "nbconvert_exporter": "python",
   "pygments_lexer": "ipython3",
   "version": "3.8.10"
  }
 },
 "nbformat": 4,
 "nbformat_minor": 5
}
